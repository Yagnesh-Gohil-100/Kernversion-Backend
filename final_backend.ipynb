{
 "cells": [
  {
   "cell_type": "markdown",
   "metadata": {},
   "source": [
    "#### Initial Segmentation and Mapping\n",
    "- Segments images, enlarges them, and enhances their quality.\n",
    "- Generates a **row mapping list** and **coordinates list** for all segmented images.\n",
    "- Assigns a **row number** to each segmented image based on its position on the page for further processing."
   ]
  },
  {
   "cell_type": "code",
   "execution_count": 21,
   "metadata": {},
   "outputs": [
    {
     "data": {
      "text/plain": [
       "<module 'config' from 'c:\\\\Users\\\\Admin\\\\Desktop\\\\Kernversion Backend\\\\config.py'>"
      ]
     },
     "execution_count": 21,
     "metadata": {},
     "output_type": "execute_result"
    }
   ],
   "source": [
    "import importlib as lib\n",
    "\n",
    "import segmentation, save_and_load, mapping, identifications, modifications, generators, config\n",
    "\n",
    "lib.reload(segmentation)\n",
    "lib.reload(save_and_load)\n",
    "lib.reload(mapping)\n",
    "lib.reload(identifications)\n",
    "lib.reload(modifications)\n",
    "lib.reload(generators)\n",
    "lib.reload(config)"
   ]
  },
  {
   "cell_type": "code",
   "execution_count": 2,
   "metadata": {},
   "outputs": [
    {
     "name": "stdout",
     "output_type": "stream",
     "text": [
      "Page 0 Row Mapping: [(1, 60, 68), (2, 95, 104), (3, 116, 125), (4, 145, 150), (5, 162, 169), (6, 187, 195), (7, 211, 238), (8, 252, 266), (9, 279, 285), (10, 294, 300), (11, 305, 320), (12, 325, 327), (13, 337, 350), (14, 355, 357), (15, 361, 367), (16, 374, 382), (17, 385, 387), (18, 391, 402), (19, 417, 431), (20, 444, 449), (21, 461, 467), (22, 477, 486), (23, 493, 505), (24, 522, 534), (25, 547, 552), (26, 558, 587), (27, 603, 617), (28, 629, 635), (29, 645, 651), (30, 657, 669), (31, 675, 678), (32, 688, 698), (33, 700, 707), (34, 712, 717), (35, 734, 736)]\n",
      "Page 0 Coordinates: [(265, 734, 64, 5), (301, 713, 7, 7), (117, 713, 9, 9), (235, 712, 7, 9), (137, 705, 15, 5), (265, 704, 14, 5), (313, 700, 5, 8), (207, 692, 10, 12), (185, 692, 12, 13), (167, 692, 7, 12), (371, 691, 8, 12), (334, 691, 14, 13), (304, 691, 8, 12), (238, 691, 15, 13), (138, 691, 13, 11), (270, 690, 13, 11), (113, 688, 15, 16), (268, 676, 14, 4), (135, 675, 18, 6), (370, 667, 10, 4), (239, 663, 10, 12), (113, 663, 11, 12), (336, 662, 11, 14), (303, 662, 10, 13), (265, 658, 19, 14), (203, 658, 15, 17), (181, 658, 15, 17), (133, 658, 21, 12), (163, 657, 8, 19), (332, 646, 9, 10), (298, 646, 7, 10), (233, 645, 10, 9), (112, 645, 10, 10), (302, 631, 7, 7), (119, 630, 8, 9), (402, 629, 5, 12), (237, 629, 6, 10), (186, 610, 9, 12), (446, 609, 9, 13), (427, 609, 7, 12), (372, 609, 7, 12), (341, 609, 8, 12), (304, 609, 9, 13), (274, 609, 10, 17), (238, 609, 8, 11), (210, 609, 8, 12), (142, 609, 8, 11), (470, 608, 8, 14), (160, 608, 8, 13), (114, 604, 13, 17), (402, 603, 10, 18), (368, 585, 12, 4), (337, 585, 10, 4), (238, 585, 10, 5), (208, 585, 10, 4), (161, 585, 9, 4), (274, 577, 10, 16), (114, 577, 15, 16), (463, 576, 15, 17), (402, 576, 15, 17), (185, 576, 10, 18), (140, 576, 10, 17), (441, 575, 15, 18), (424, 575, 7, 18), (300, 561, 12, 31), (397, 560, 12, 13), (113, 560, 13, 13), (179, 558, 8, 16), (303, 549, 6, 6), (119, 549, 8, 7), (237, 548, 6, 8), (403, 547, 5, 9), (449, 527, 10, 13), (369, 527, 11, 15), (337, 527, 8, 11), (304, 527, 12, 12), (238, 527, 14, 12), (209, 527, 9, 13), (185, 527, 10, 12), (115, 527, 13, 12), (471, 526, 8, 12), (423, 526, 7, 13), (274, 526, 8, 13), (164, 526, 8, 13), (143, 526, 8, 13), (403, 522, 9, 21), (336, 503, 9, 4), (467, 502, 12, 4), (275, 502, 9, 5), (158, 502, 10, 5), (137, 502, 10, 5), (115, 495, 14, 15), (403, 494, 15, 16), (364, 494, 15, 16), (239, 494, 15, 16), (179, 494, 14, 16), (442, 493, 15, 17), (424, 493, 8, 18), (306, 493, 15, 17), (204, 493, 14, 17), (224, 482, 6, 240), (194, 481, 9, 10), (289, 479, 6, 238), (389, 478, 4, 242), (173, 478, 13, 12), (397, 477, 12, 13), (114, 477, 12, 14), (278, 461, 38, 12), (402, 446, 7, 7), (218, 445, 8, 8), (336, 444, 7, 11), (118, 444, 6, 11), (367, 424, 13, 11), (288, 424, 9, 14), (183, 424, 11, 11), (478, 423, 5, 14), (463, 423, 8, 13), (432, 423, 13, 13), (338, 423, 7, 12), (310, 423, 8, 12), (263, 423, 7, 12), (237, 423, 8, 12), (165, 423, 8, 13), (141, 423, 7, 13), (214, 420, 9, 16), (115, 418, 15, 18), (402, 417, 13, 22), (162, 400, 11, 4), (142, 400, 10, 4), (468, 399, 12, 4), (308, 399, 9, 5), (263, 399, 10, 5), (284, 395, 10, 12), (183, 395, 15, 12), (116, 395, 15, 12), (437, 394, 10, 13), (404, 394, 10, 13), (372, 394, 9, 13), (215, 392, 14, 15), (338, 391, 13, 19), (239, 391, 15, 16), (229, 385, 12, 5), (438, 377, 9, 10), (399, 377, 6, 10), (273, 376, 14, 12), (213, 374, 12, 14), (403, 363, 6, 7), (220, 363, 8, 7), (120, 362, 5, 10), (337, 361, 6, 11), (256, 355, 14, 5), (138, 355, 14, 5), (117, 343, 11, 14), (338, 342, 11, 11), (282, 342, 15, 11), (234, 342, 9, 12), (215, 342, 10, 11), (190, 342, 8, 12), (165, 342, 15, 14), (436, 341, 9, 12), (405, 341, 9, 13), (311, 341, 7, 12), (256, 341, 13, 10), (473, 340, 7, 12), (367, 340, 15, 19), (137, 337, 20, 15), (369, 325, 14, 5), (255, 325, 15, 5), (189, 318, 9, 4), (471, 316, 10, 4), (117, 314, 10, 12), (235, 313, 10, 12), (169, 313, 8, 13), (405, 312, 10, 13), (338, 312, 9, 12), (309, 312, 9, 12), (285, 312, 10, 13), (215, 312, 10, 13), (367, 311, 18, 9), (137, 309, 22, 23), (255, 307, 15, 14), (437, 305, 8, 19), (232, 296, 7, 9), (213, 296, 6, 9), (278, 295, 9, 9), (116, 294, 14, 13), (404, 281, 6, 6), (220, 281, 8, 8), (120, 280, 6, 10), (338, 279, 6, 9), (184, 260, 11, 12), (163, 260, 9, 13), (141, 260, 8, 12), (310, 259, 9, 12), (263, 259, 8, 12), (242, 259, 8, 12), (215, 259, 13, 12), (441, 258, 10, 13), (406, 258, 8, 14), (375, 258, 8, 12), (285, 258, 10, 13), (473, 257, 7, 13), (118, 256, 12, 17), (339, 252, 14, 19), (139, 236, 9, 4), (376, 235, 9, 4), (260, 235, 11, 5), (240, 235, 10, 5), (470, 234, 10, 4), (118, 231, 9, 13), (339, 227, 15, 15), (215, 227, 15, 16), (159, 227, 14, 16), (434, 226, 15, 15), (304, 226, 14, 16), (281, 226, 14, 17), (405, 225, 7, 17), (181, 214, 17, 29), (303, 213, 8, 8), (401, 211, 13, 10), (390, 211, 6, 244), (324, 211, 6, 242), (203, 211, 6, 242), (156, 211, 14, 12), (436, 188, 14, 12), (405, 188, 11, 15), (473, 187, 8, 12), (472, 166, 9, 5), (439, 162, 10, 14), (406, 162, 10, 12), (434, 145, 9, 10), (400, 145, 7, 10), (282, 116, 40, 18), (372, 97, 9, 14), (305, 96, 5, 15), (318, 95, 48, 14), (212, 95, 87, 17), (294, 62, 22, 12), (332, 61, 5, 15), (271, 60, 6, 16)]\n"
     ]
    }
   ],
   "source": [
    "from segmentation import extract_alphabets\n",
    "from config import PATHS\n",
    "\n",
    "pdf_path = PATHS['pdf_path']\n",
    "initial_segmentation_folder = PATHS['initial_segmentation']\n",
    "all_coordinates, all_row_mappings = extract_alphabets(pdf_path, initial_segmentation_folder)"
   ]
  },
  {
   "cell_type": "markdown",
   "metadata": {},
   "source": [
    "#### User Input: Select Range of Row Numbers\n",
    "- Accepts user input to specify the range of row numbers containing the **full composition**.\n",
    "- Processes only the selected rows for further analysis and conversion."
   ]
  },
  {
   "cell_type": "code",
   "execution_count": 3,
   "metadata": {},
   "outputs": [],
   "source": [
    "# multiple_page.pdf\n",
    "# first_row = 24\n",
    "# last_row = 72\n",
    "\n",
    "# # with_sanchari.pdf\n",
    "# first_row = 16\n",
    "# last_row = 73\n",
    "\n",
    "# bilawal_dhamar.pdf\n",
    "first_row = 2\n",
    "last_row = 35"
   ]
  },
  {
   "cell_type": "code",
   "execution_count": 4,
   "metadata": {},
   "outputs": [],
   "source": [
    "from generators import copy_images_in_row_range\n",
    "\n",
    "working_composition_folder = PATHS['working_composition']\n",
    "\n",
    "copy_images_in_row_range(initial_segmentation_folder, working_composition_folder, first_row, last_row)"
   ]
  },
  {
   "cell_type": "markdown",
   "metadata": {},
   "source": [
    "#### Select the metadata (Raag, Taal, Lay etc.)"
   ]
  },
  {
   "cell_type": "code",
   "execution_count": 5,
   "metadata": {},
   "outputs": [],
   "source": [
    "# raag_name = \"Yaman\"\n",
    "# taal_name = \"Ektaal\"\n",
    "# lay = \"Vilambit\"\n",
    "# source_name = \"hindustani-sangeet-paddhati-kramik-pustak-malika-part-2\"\n",
    "\n",
    "\n",
    "# raag_name = \"Khamaj\"\n",
    "# taal_name = \"Chautaal\"\n",
    "# lay = \"Vilambit\"\n",
    "# source_name = \"hindustani-sangeet-paddhati-kramik-pustak-malika-part-2\"\n",
    "# page_number = 147\n",
    "\n",
    "raag_name = \"Bilawal\"\n",
    "taal_name = \"Dhamaar\"\n",
    "lay = \"Vilambit\"\n",
    "source_name = \"hindustani-sangeet-paddhati-kramik-pustak-malika-part-2\"\n",
    "page_number = 120"
   ]
  },
  {
   "cell_type": "markdown",
   "metadata": {},
   "source": [
    "#### Show valid positions for the sam beat and take the input from user for sam beat"
   ]
  },
  {
   "cell_type": "code",
   "execution_count": 17,
   "metadata": {},
   "outputs": [],
   "source": [
    "# from identifications import calculate_valid_sam_positions\n",
    "\n",
    "# valid_positions = calculate_valid_sam_positions(taal_name)\n",
    "# print(f\"Valid Sam positions for {taal_name}: {valid_positions}\")"
   ]
  },
  {
   "cell_type": "code",
   "execution_count": null,
   "metadata": {},
   "outputs": [],
   "source": [
    "# sthayee_sam = 5\n",
    "# antara_sam = 5"
   ]
  },
  {
   "cell_type": "code",
   "execution_count": 6,
   "metadata": {},
   "outputs": [],
   "source": [
    "from save_and_load import save_composition_metadata\n",
    "\n",
    "save_composition_metadata(raag_name, taal_name, lay, source_name=source_name, page_number=page_number)"
   ]
  },
  {
   "cell_type": "code",
   "execution_count": null,
   "metadata": {},
   "outputs": [],
   "source": [
    "# from save_and_load import update_composition_metadata\n",
    "\n",
    "# aabhog_sam = 7\n",
    "# update_composition_metadata(aabhog_sam=aabhog_sam) "
   ]
  },
  {
   "cell_type": "code",
   "execution_count": null,
   "metadata": {},
   "outputs": [
    {
     "name": "stdout",
     "output_type": "stream",
     "text": [
      "Taal name: Ektaal\n",
      "First sam beat in Sthayee: 5\n"
     ]
    }
   ],
   "source": [
    "# from save_and_load import get_metadata_field\n",
    "\n",
    "# taal = get_metadata_field(field=\"taal_name\")\n",
    "# sthayee_sam_beat = get_metadata_field(field=\"sthayee.sam_beat\")\n",
    "\n",
    "# print(f\"Taal name: {taal}\")\n",
    "# print(f\"First sam beat in Sthayee: {sthayee_sam_beat}\")"
   ]
  },
  {
   "cell_type": "code",
   "execution_count": null,
   "metadata": {},
   "outputs": [
    {
     "name": "stdout",
     "output_type": "stream",
     "text": [
      "Beat Count: 12\n",
      "{'beat_count': 12, 'divisions': [2, 2, 2, 2, 2, 2], 'vibhaag': ['X', '0', '2', '0', '3', '4'], 'time_signature': '12/8'}\n"
     ]
    }
   ],
   "source": [
    "# from save_and_load import get_taal_data, get_taal_field\n",
    "\n",
    "# taal_data = get_taal_data(taal)\n",
    "# beat = get_taal_field(taal_name=taal, field_name=\"beat_count\")\n",
    "\n",
    "# print(f\"Beat Count: {beat}\")\n",
    "# print(taal_data)"
   ]
  },
  {
   "cell_type": "code",
   "execution_count": null,
   "metadata": {},
   "outputs": [
    {
     "name": "stdout",
     "output_type": "stream",
     "text": [
      "\n",
      "Taal: Ektaal\n",
      "Total number of beats: 12\n",
      "Sam (X) at beat: 5\n",
      "New Divisions: [2, 2, 2, 2, 2, 2]\n",
      "New Vibhaag: ['3', '4', 'X', '0', '2', '0']\n"
     ]
    }
   ],
   "source": [
    "# from identifications import calculate_divisions_and_vibhaag\n",
    "\n",
    "# # Calculate divisions and vibhaag\n",
    "# new_divisions, new_vibhaag = calculate_divisions_and_vibhaag(taal, sthayee_sam_beat)\n",
    "\n",
    "# # Define the beat count (size of the lists) from taal information\n",
    "# beat_count = get_taal_field(taal_name=taal, field_name=\"beat_count\")\n",
    "\n",
    "# # Print the results\n",
    "# print(f\"\\nTaal: {taal}\")\n",
    "# print(f\"Total number of beats: {beat_count}\")\n",
    "# print(f\"Sam (X) at beat: {sthayee_sam_beat}\")\n",
    "# print(f\"New Divisions: {new_divisions}\")\n",
    "# print(f\"New Vibhaag: {new_vibhaag}\")"
   ]
  },
  {
   "cell_type": "markdown",
   "metadata": {},
   "source": [
    "#### Calculate Image Count for Each Row\n",
    "- Counts the number of images in each row by processing the segmented image files."
   ]
  },
  {
   "cell_type": "code",
   "execution_count": 7,
   "metadata": {},
   "outputs": [],
   "source": [
    "from mapping import get_row_image_counts\n",
    "\n",
    "# Get image counts for all rows\n",
    "row_image_count = get_row_image_counts(working_composition_folder)"
   ]
  },
  {
   "cell_type": "markdown",
   "metadata": {},
   "source": [
    "#### Identify Rows with Sam, Taalis, and Khali\n",
    "- Creates a list of rows that could represent Sam, Taalis, and Khali based on the number of images in each row.\n",
    "- Uses the given taal information to determine the expected number of images for these rows."
   ]
  },
  {
   "cell_type": "code",
   "execution_count": 8,
   "metadata": {},
   "outputs": [
    {
     "name": "stdout",
     "output_type": "stream",
     "text": [
      "Rows with sam and taalis:  [10, 15, 16, 20, 22, 25, 28, 29, 2, 9]\n"
     ]
    }
   ],
   "source": [
    "from identifications import get_sam_and_taalis_rows\n",
    "from save_and_load import get_metadata_field\n",
    "\n",
    "taal = get_metadata_field(field=\"taal_name\")\n",
    "\n",
    "sam_and_taalis_rows = get_sam_and_taalis_rows(row_image_count, taal_name=taal)\n",
    "print(f\"Rows with sam and taalis: \",sam_and_taalis_rows)"
   ]
  },
  {
   "cell_type": "markdown",
   "metadata": {},
   "source": [
    "#### User Correction: Update Identified Rows\n",
    "- Allows the user to review and correct the automatically identified rows for Sam, Taalis, and Khali.\n",
    "- Users can:\n",
    "  - Add missing rows.\n",
    "  - Remove incorrectly identified rows.\n",
    "  - Update the list to ensure accuracy.\n",
    "- Uses the corrected row numbers to create **subgroups**, where each subgroup includes:\n",
    "  - A **swar row**.\n",
    "  - Optional **kann swar**, **lyrics**, and **articulation rows**."
   ]
  },
  {
   "cell_type": "code",
   "execution_count": 9,
   "metadata": {},
   "outputs": [],
   "source": [
    "# sam_and_taalis_rows = [32, 38, 44, 52, 58, 65, 71] # multiple pages full composition - yaman-ektaal-vilambit\n",
    "\n",
    "# sam_and_taalis_rows = [21, 26, 29, 35, 40, 44, 49, 53, 59, 64, 68, 72] # with_sanchari -> khamaj\n",
    "\n",
    "sam_and_taalis_rows = [9, 15, 20, 25, 28, 34] # bilawal dhamaar "
   ]
  },
  {
   "cell_type": "markdown",
   "metadata": {},
   "source": [
    "#### Initial Subgroup Creation and Assigning Column Numbers\n",
    "- Finds the first valid row in each subgroup.\n",
    "- Assigns `extra` for images that are not part of the composition (noise and metadata).\n",
    "- Assigns `column numbers` for valid images that are part of the composition."
   ]
  },
  {
   "cell_type": "code",
   "execution_count": 10,
   "metadata": {},
   "outputs": [
    {
     "name": "stdout",
     "output_type": "stream",
     "text": [
      "Subgroup range: [2, 9]\n",
      "First valid row in subgroup:  4\n",
      "Subgroup range: [10, 15]\n",
      "First valid row in subgroup:  10\n",
      "Subgroup range: [16, 20]\n",
      "First valid row in subgroup:  16\n",
      "Subgroup range: [21, 25]\n",
      "First valid row in subgroup:  22\n",
      "Subgroup range: [26, 28]\n",
      "First valid row in subgroup:  26\n",
      "Subgroup range: [29, 34]\n",
      "First valid row in subgroup:  29\n",
      "Subgroup Ranges: [(4, 8), (10, 14), (16, 19), (22, 24), (26, 27), (29, 33)]\n"
     ]
    }
   ],
   "source": [
    "from mapping import assign_column_numbers\n",
    "\n",
    "subgroup_ranges = assign_column_numbers(all_row_mappings, first_row, sam_and_taalis_rows)\n",
    "print(\"Subgroup Ranges:\", subgroup_ranges)"
   ]
  },
  {
   "cell_type": "markdown",
   "metadata": {},
   "source": [
    "#### Update the subgroup if required\n",
    "- When there is subgroup not having corresponding sam and taalis row (1st subgroup in most of the case)"
   ]
  },
  {
   "cell_type": "code",
   "execution_count": 11,
   "metadata": {},
   "outputs": [
    {
     "name": "stdout",
     "output_type": "stream",
     "text": [
      "Updated Subgroup range: [4, 7]\n",
      "Updated Subgroup range: [7, 8]\n",
      "Updated Subgroup range: [10, 14]\n",
      "Updated Subgroup range: [16, 19]\n",
      "Updated Subgroup range: [22, 24]\n",
      "Updated Subgroup range: [26, 27]\n",
      "Updated Subgroup range: [29, 33]\n"
     ]
    }
   ],
   "source": [
    "from modifications import update_subgroups\n",
    "\n",
    "updated_subgroups = update_subgroups(subgroup_ranges)\n",
    "\n",
    "for start, end in updated_subgroups:\n",
    "    print(f\"Updated Subgroup range: [{start}, {end}]\")"
   ]
  },
  {
   "cell_type": "code",
   "execution_count": 12,
   "metadata": {},
   "outputs": [
    {
     "name": "stdout",
     "output_type": "stream",
     "text": [
      "Updated Subgroup range: [4, 7]\n",
      "Updated Subgroup range: [7, 8]\n",
      "Updated Subgroup range: [10, 14]\n",
      "Updated Subgroup range: [16, 19]\n",
      "Updated Subgroup range: [22, 24]\n",
      "Updated Subgroup range: [26, 27]\n",
      "Updated Subgroup range: [29, 33]\n"
     ]
    }
   ],
   "source": [
    "# Assign back the updated subgroups\n",
    "subgroup_ranges = updated_subgroups\n",
    "\n",
    "for start, end in subgroup_ranges:\n",
    "    print(f\"Updated Subgroup range: [{start}, {end}]\")"
   ]
  },
  {
   "cell_type": "markdown",
   "metadata": {},
   "source": [
    "#### Section Identification\n",
    "- Identifies row numbers belonging to specific sections:\n",
    "  - **Kann Swar**\n",
    "  - **Swar**\n",
    "  - **Lyrics**\n",
    "  - **Articulation**\n",
    "- Organizes rows into their respective sections for further processing."
   ]
  },
  {
   "cell_type": "code",
   "execution_count": 13,
   "metadata": {},
   "outputs": [
    {
     "name": "stdout",
     "output_type": "stream",
     "text": [
      "Articulation Rows:  [12, 14, 17]\n",
      "Kann Swar Rows:  [10, 16, 22]\n",
      "Swar Rows:  [7, 11, 18, 23, 26]\n",
      "Lyrics Rows:  [8, 13, 19, 24, 27]\n"
     ]
    }
   ],
   "source": [
    "from identifications import classify_rows_in_subgroups\n",
    "from save_and_load import save_row_categories\n",
    "\n",
    "row_categories = classify_rows_in_subgroups(subgroup_ranges)\n",
    "\n",
    "# save the row numbers category wise\n",
    "save_row_categories(row_categories)"
   ]
  },
  {
   "cell_type": "markdown",
   "metadata": {},
   "source": [
    "#### User Correction and Selection\n",
    "- Allows user to **correct** identified sections (**Kann Swar**, **Swar**, **Lyrics**, **Articulation**).\n",
    "- Enables selection of **Sthayee**, **Antara**, **Sanchari** and **Aabhog** rows.\n",
    "- Ensures accurate grouping and processing of rows based on user input."
   ]
  },
  {
   "cell_type": "code",
   "execution_count": null,
   "metadata": {},
   "outputs": [],
   "source": [
    "# row_categories = {\n",
    "#     \"articulation\": [29, 31, 35, 37, 49, 51, 55, 57, 61, 64, 68, 70],\n",
    "#     \"kann_swar\": [27, 33, 40, 47, 53, 59, 66],\n",
    "#     \"swar\": [28, 34, 41, 48, 54, 60, 67],\n",
    "#     \"lyrics\": [30, 36, 43, 50, 56, 62, 69],\n",
    "#     \"sthayee\": 25,\n",
    "#     \"antara\": 46\n",
    "# }\n",
    "\n",
    "# row_categories = {\n",
    "#     \"articulation\": [],\n",
    "#     \"kann_swar\": [18, 23, 31, 32, 41, 45, 46, 50, 56, 61, 65, 69],\n",
    "#     \"swar\": [19, 24, 27, 33, 38, 42, 47, 51, 57, 62, 66, 70],\n",
    "#     \"lyrics\": [20, 25, 28, 34, 39, 43, 48, 52, 58, 63, 67, 71],\n",
    "#     \"sthayee\": 17,\n",
    "#     \"antara\": 37,\n",
    "#     \"sanchari\": 55\n",
    "# }\n",
    "\n",
    "\n",
    "# bilawal dhamaar\n",
    "row_categories = {\n",
    "    \"articulation\": [12, 14, 31, 33],\n",
    "    \"kann_swar\": [4, 10, 16, 22, 29],\n",
    "    \"swar\": [5, 7, 11, 18, 23, 26, 30],\n",
    "    \"lyrics\": [6, 8, 13, 19, 24, 27, 32],\n",
    "    \"sthayee\": 3,\n",
    "    \"antara\": 21\n",
    "}\n",
    "\n",
    "# sanchari\n",
    "# aabhog"
   ]
  },
  {
   "cell_type": "code",
   "execution_count": 15,
   "metadata": {},
   "outputs": [],
   "source": [
    "from save_and_load import save_row_categories\n",
    "\n",
    "save_row_categories(row_categories)"
   ]
  },
  {
   "cell_type": "code",
   "execution_count": 16,
   "metadata": {},
   "outputs": [
    {
     "name": "stdout",
     "output_type": "stream",
     "text": [
      "Articulation Rows:  [12, 14, 31, 33]\n",
      "Kann Swar Rows:  [4, 10, 16, 22, 29]\n",
      "Swar Rows:  [5, 7, 11, 18, 23, 26, 30]\n",
      "Lyrics Rows:  [6, 8, 13, 19, 24, 27, 32]\n"
     ]
    }
   ],
   "source": [
    "from save_and_load import load_row_categories\n",
    "\n",
    "row_categories = load_row_categories()\n",
    "\n",
    "# Extract specific row categories\n",
    "articulation_rows = row_categories.get(\"articulation\", [])\n",
    "kann_swar_rows = row_categories.get(\"kann_swar\", [])\n",
    "swar_rows = row_categories.get(\"swar\", [])\n",
    "lyrics_rows = row_categories.get(\"lyrics\", [])\n",
    "\n",
    "# Print the results\n",
    "print(\"Articulation Rows: \", articulation_rows)\n",
    "print(\"Kann Swar Rows: \", kann_swar_rows)\n",
    "print(\"Swar Rows: \", swar_rows)\n",
    "print(\"Lyrics Rows: \", lyrics_rows)"
   ]
  },
  {
   "cell_type": "markdown",
   "metadata": {},
   "source": [
    "#### Get input for first sam beat of Sthayee, Antara, Sanchari and Aabhog (if applicable)"
   ]
  },
  {
   "cell_type": "code",
   "execution_count": 17,
   "metadata": {},
   "outputs": [],
   "source": [
    "from save_and_load import load_row_categories\n",
    "\n",
    "row_categories = load_row_categories()\n",
    "\n",
    "sthayee = row_categories.get(\"sthayee\")\n",
    "antara = row_categories.get(\"antara\")\n",
    "sanchari = row_categories.get(\"sanchari\")\n",
    "aabhog = row_categories.get(\"aabhog\")\n",
    "\n",
    "\n",
    "from save_and_load import update_composition_metadata\n",
    "\n",
    "# Dictionary to store section beats (only for sections that exist)\n",
    "section_beats = {}\n",
    "if sthayee is not None:\n",
    "    section_beats['sthayee_sam_beat'] = 5\n",
    "if antara is not None:\n",
    "    section_beats['antara_sam_beat'] = 1\n",
    "if sanchari is not None:\n",
    "    section_beats['sanchari_sam_beat'] = -1\n",
    "if aabhog is not None:\n",
    "    section_beats['aabhog_sam_beat'] = -1\n",
    "\n",
    "# Single update call with all non-None sections\n",
    "if section_beats:\n",
    "    update_composition_metadata(**section_beats)"
   ]
  },
  {
   "cell_type": "markdown",
   "metadata": {},
   "source": [
    "#### Initial List Creation and Mapping\n",
    "- Creates lists for each subgroup:\n",
    "  - **Kann Swar**\n",
    "  - **Swar**\n",
    "  - **Swar Articulation Checks**\n",
    "  - **Lyrics**\n",
    "  - **Lyrics Articulation Checks**\n",
    "- Stores image file paths in the respective lists.\n",
    "\n",
    "#### Kann Swar and Swar Mapping\n",
    "- **Case 1: Explicit Kann Swar Row**  \n",
    "  - Maps **Kann Swar** to its corresponding **Swar** directly.\n",
    "- **Case 2: Hidden Kann Swar in Swar Row**  \n",
    "  - Identifies **Kann Swar** images present in the **Swar** row and moves them to the **Kann Swar** list.\n",
    "  - Detects and segments composite images containing both **Kann Swar** and **Swar**.\n",
    "  - Stores the segmented **Kann Swar** image path in the **Kann Swar** list.\n",
    "  - Stores the segmented **Swar** image path in the **Swar** list.\n",
    "\n",
    "#### Articulation Mapping\n",
    "- Maps **Swar Articulation** rows to their corresponding **Swar**.\n",
    "- Maps **Lyrics Articulation** rows to their corresponding **Lyrics**."
   ]
  },
  {
   "cell_type": "code",
   "execution_count": 22,
   "metadata": {},
   "outputs": [],
   "source": [
    "from generators import generate_lists_in_subgroups\n",
    "import os\n",
    "from filename_utils import get_image_details_with_path\n",
    "from collections import defaultdict\n",
    "from save_and_load import get_taal_field\n",
    "\n",
    "# Load all image filenames and extract their information\n",
    "image_files = os.listdir(working_composition_folder)\n",
    "image_info = [get_image_details_with_path(f, working_composition_folder) for f in image_files]\n",
    "image_info = [info for info in image_info if info is not None]\n",
    "\n",
    "# Organize images by row and column\n",
    "row_col_images = defaultdict(lambda: defaultdict(list))\n",
    "for info in image_info:\n",
    "    page_num, row_num, col_num, x, y, width, height, image_path = info\n",
    "    row_col_images[row_num][col_num].append((x, y, width, height, image_path))\n",
    "\n",
    "# get beat count for given taal\n",
    "beat_count = get_taal_field(taal, field_name=\"beat_count\")\n",
    "\n",
    "# Function to generate list of lists for all sections in each subgroup\n",
    "subgroups = generate_lists_in_subgroups(subgroup_ranges, row_col_images, beat_count)"
   ]
  },
  {
   "cell_type": "code",
   "execution_count": 23,
   "metadata": {},
   "outputs": [],
   "source": [
    "from save_and_load import save_lists_in_subgroups\n",
    "\n",
    "save_lists_in_subgroups(subgroups)"
   ]
  },
  {
   "cell_type": "code",
   "execution_count": 24,
   "metadata": {},
   "outputs": [
    {
     "name": "stdout",
     "output_type": "stream",
     "text": [
      "Subgroup Range: (4, 7)\n",
      "Kann Swar List: [[], [], [], [], [], [], [], [], [], [], [], ['Analysis\\\\bilawal_dhamaar_2\\\\working_composition\\\\0_row4_col12_x400_y145_w7_h10.png'], ['Analysis\\\\bilawal_dhamaar_2\\\\working_composition\\\\0_row4_col13_x434_y145_w9_h10.png'], []]\n",
      "Swar List: [[], [], [], [], [], [], [], [], [], [], [], ['Analysis\\\\bilawal_dhamaar_2\\\\working_composition\\\\0_row5_col12_x406_y162_w10_h12.png'], ['Analysis\\\\bilawal_dhamaar_2\\\\working_composition\\\\0_row5_col13_x439_y162_w10_h14.png'], ['Analysis\\\\bilawal_dhamaar_2\\\\working_composition\\\\0_row5_col14_x472_y166_w9_h5.png']]\n",
      "Swar Articulation Checks: [[], [], [], [], [], [], [], [], [], [], [], False, False, False]\n",
      "Lyrics List: [[], [], [], [], [], [], [], [], [], [], [], ['Analysis\\\\bilawal_dhamaar_2\\\\working_composition\\\\0_row6_col12_x405_y188_w11_h15.png'], ['Analysis\\\\bilawal_dhamaar_2\\\\working_composition\\\\0_row6_col13_x436_y188_w14_h12.png'], ['Analysis\\\\bilawal_dhamaar_2\\\\working_composition\\\\0_row6_col14_x473_y187_w8_h12.png']]\n",
      "Lyrics Articulation Checks: [[], [], [], [], [], [], [], [], [], [], [], False, False, False]\n",
      "--------------------------------------------------------------------------------\n",
      "Subgroup Range: (7, 8)\n",
      "Kann Swar List: [[], [], ['Analysis\\\\bilawal_dhamaar_2\\\\working_composition\\\\0_row7_col3_x156_y211_w14_h12.png'], ['Analysis\\\\bilawal_dhamaar_2\\\\working_composition_segmented\\\\0_row7_col4_x181_y214_w17_h9_upper.png'], [], [], [], [], ['Analysis\\\\bilawal_dhamaar_2\\\\working_composition\\\\0_row7_col9_x303_y213_w8_h8.png'], [], [], ['Analysis\\\\bilawal_dhamaar_2\\\\working_composition\\\\0_row7_col12_x401_y211_w13_h10.png'], [], []]\n",
      "Swar List: [['Analysis\\\\bilawal_dhamaar_2\\\\working_composition\\\\0_row7_col1_x118_y231_w9_h13.png'], ['Analysis\\\\bilawal_dhamaar_2\\\\working_composition\\\\0_row7_col2_x139_y236_w9_h4.png'], ['Analysis\\\\bilawal_dhamaar_2\\\\working_composition\\\\0_row7_col3_x159_y227_w14_h16.png'], ['Analysis\\\\bilawal_dhamaar_2\\\\working_composition_segmented\\\\0_row7_col4_x181_y227_w17_h16_lower.png'], ['Analysis\\\\bilawal_dhamaar_2\\\\working_composition\\\\0_row7_col5_x215_y227_w15_h16.png'], ['Analysis\\\\bilawal_dhamaar_2\\\\working_composition\\\\0_row7_col6_x240_y235_w10_h5.png'], ['Analysis\\\\bilawal_dhamaar_2\\\\working_composition\\\\0_row7_col7_x260_y235_w11_h5.png'], ['Analysis\\\\bilawal_dhamaar_2\\\\working_composition\\\\0_row7_col8_x281_y226_w14_h17.png'], ['Analysis\\\\bilawal_dhamaar_2\\\\working_composition\\\\0_row7_col9_x304_y226_w14_h16.png'], ['Analysis\\\\bilawal_dhamaar_2\\\\working_composition\\\\0_row7_col10_x339_y227_w15_h15.png'], ['Analysis\\\\bilawal_dhamaar_2\\\\working_composition\\\\0_row7_col11_x376_y235_w9_h4.png'], ['Analysis\\\\bilawal_dhamaar_2\\\\working_composition\\\\0_row7_col12_x405_y225_w7_h17.png'], ['Analysis\\\\bilawal_dhamaar_2\\\\working_composition\\\\0_row7_col13_x434_y226_w15_h15.png'], ['Analysis\\\\bilawal_dhamaar_2\\\\working_composition\\\\0_row7_col14_x470_y234_w10_h4.png']]\n",
      "Swar Articulation Checks: [False, False, False, False, False, False, False, False, False, False, False, False, False, False]\n",
      "Lyrics List: [['Analysis\\\\bilawal_dhamaar_2\\\\working_composition\\\\0_row8_col1_x118_y256_w12_h17.png'], ['Analysis\\\\bilawal_dhamaar_2\\\\working_composition\\\\0_row8_col2_x141_y260_w8_h12.png'], ['Analysis\\\\bilawal_dhamaar_2\\\\working_composition\\\\0_row8_col3_x163_y260_w9_h13.png'], ['Analysis\\\\bilawal_dhamaar_2\\\\working_composition\\\\0_row8_col4_x184_y260_w11_h12.png'], ['Analysis\\\\bilawal_dhamaar_2\\\\working_composition\\\\0_row8_col5_x215_y259_w13_h12.png'], ['Analysis\\\\bilawal_dhamaar_2\\\\working_composition\\\\0_row8_col6_x242_y259_w8_h12.png'], ['Analysis\\\\bilawal_dhamaar_2\\\\working_composition\\\\0_row8_col7_x263_y259_w8_h12.png'], ['Analysis\\\\bilawal_dhamaar_2\\\\working_composition\\\\0_row8_col8_x285_y258_w10_h13.png'], ['Analysis\\\\bilawal_dhamaar_2\\\\working_composition\\\\0_row8_col9_x310_y259_w9_h12.png'], ['Analysis\\\\bilawal_dhamaar_2\\\\working_composition\\\\0_row8_col10_x339_y252_w14_h19.png'], ['Analysis\\\\bilawal_dhamaar_2\\\\working_composition\\\\0_row8_col11_x375_y258_w8_h12.png'], ['Analysis\\\\bilawal_dhamaar_2\\\\working_composition\\\\0_row8_col12_x406_y258_w8_h14.png'], ['Analysis\\\\bilawal_dhamaar_2\\\\working_composition\\\\0_row8_col13_x441_y258_w10_h13.png'], ['Analysis\\\\bilawal_dhamaar_2\\\\working_composition\\\\0_row8_col14_x473_y257_w7_h13.png']]\n",
      "Lyrics Articulation Checks: [False, False, False, False, False, False, False, False, False, False, False, False, False, False]\n",
      "--------------------------------------------------------------------------------\n",
      "Subgroup Range: (10, 14)\n",
      "Kann Swar List: [['Analysis\\\\bilawal_dhamaar_2\\\\working_composition\\\\0_row10_col1_x116_y294_w14_h13.png'], [], [], [], ['Analysis\\\\bilawal_dhamaar_2\\\\working_composition\\\\0_row10_col5_x213_y296_w6_h9.png'], ['Analysis\\\\bilawal_dhamaar_2\\\\working_composition\\\\0_row10_col6_x232_y296_w7_h9.png'], [], ['Analysis\\\\bilawal_dhamaar_2\\\\working_composition\\\\0_row10_col8_x278_y295_w9_h9.png'], [], [], [], [], [], []]\n",
      "Swar List: [['Analysis\\\\bilawal_dhamaar_2\\\\working_composition\\\\0_row11_col1_x117_y314_w10_h12.png'], ['Analysis\\\\bilawal_dhamaar_2\\\\working_composition\\\\0_row11_col2_x137_y309_w22_h23.png'], ['Analysis\\\\bilawal_dhamaar_2\\\\working_composition\\\\0_row11_col3_x169_y313_w8_h13.png'], ['Analysis\\\\bilawal_dhamaar_2\\\\working_composition\\\\0_row11_col4_x189_y318_w9_h4.png'], ['Analysis\\\\bilawal_dhamaar_2\\\\working_composition\\\\0_row11_col5_x215_y312_w10_h13.png'], ['Analysis\\\\bilawal_dhamaar_2\\\\working_composition\\\\0_row11_col6_x235_y313_w10_h12.png'], ['Analysis\\\\bilawal_dhamaar_2\\\\working_composition\\\\0_row11_col7_x255_y307_w15_h14.png'], ['Analysis\\\\bilawal_dhamaar_2\\\\working_composition\\\\0_row11_col8_x285_y312_w10_h13.png'], ['Analysis\\\\bilawal_dhamaar_2\\\\working_composition\\\\0_row11_col9_x309_y312_w9_h12.png'], ['Analysis\\\\bilawal_dhamaar_2\\\\working_composition\\\\0_row11_col10_x338_y312_w9_h12.png'], ['Analysis\\\\bilawal_dhamaar_2\\\\working_composition\\\\0_row11_col11_x367_y311_w18_h9.png'], ['Analysis\\\\bilawal_dhamaar_2\\\\working_composition\\\\0_row11_col12_x405_y312_w10_h13.png'], ['Analysis\\\\bilawal_dhamaar_2\\\\working_composition\\\\0_row11_col13_x437_y305_w8_h19.png'], ['Analysis\\\\bilawal_dhamaar_2\\\\working_composition\\\\0_row11_col14_x471_y316_w10_h4.png']]\n",
      "Swar Articulation Checks: [False, False, False, False, False, False, True, False, False, False, True, False, False, False]\n",
      "Lyrics List: [['Analysis\\\\bilawal_dhamaar_2\\\\working_composition\\\\0_row13_col1_x117_y343_w11_h14.png'], ['Analysis\\\\bilawal_dhamaar_2\\\\working_composition\\\\0_row13_col2_x137_y337_w20_h15.png'], ['Analysis\\\\bilawal_dhamaar_2\\\\working_composition\\\\0_row13_col3_x165_y342_w15_h14.png'], ['Analysis\\\\bilawal_dhamaar_2\\\\working_composition\\\\0_row13_col4_x190_y342_w8_h12.png'], ['Analysis\\\\bilawal_dhamaar_2\\\\working_composition\\\\0_row13_col5_x215_y342_w10_h11.png'], ['Analysis\\\\bilawal_dhamaar_2\\\\working_composition\\\\0_row13_col6_x234_y342_w9_h12.png'], ['Analysis\\\\bilawal_dhamaar_2\\\\working_composition\\\\0_row13_col7_x256_y341_w13_h10.png'], ['Analysis\\\\bilawal_dhamaar_2\\\\working_composition\\\\0_row13_col8_x282_y342_w15_h11.png'], ['Analysis\\\\bilawal_dhamaar_2\\\\working_composition\\\\0_row13_col9_x311_y341_w7_h12.png'], ['Analysis\\\\bilawal_dhamaar_2\\\\working_composition\\\\0_row13_col10_x338_y342_w11_h11.png'], ['Analysis\\\\bilawal_dhamaar_2\\\\working_composition\\\\0_row13_col11_x367_y340_w15_h19.png'], ['Analysis\\\\bilawal_dhamaar_2\\\\working_composition\\\\0_row13_col12_x405_y341_w9_h13.png'], ['Analysis\\\\bilawal_dhamaar_2\\\\working_composition\\\\0_row13_col13_x436_y341_w9_h12.png'], ['Analysis\\\\bilawal_dhamaar_2\\\\working_composition\\\\0_row13_col14_x473_y340_w7_h12.png']]\n",
      "Lyrics Articulation Checks: [False, True, False, False, False, False, True, False, False, False, False, False, False, False]\n",
      "--------------------------------------------------------------------------------\n",
      "Subgroup Range: (16, 19)\n",
      "Kann Swar List: [[], [], [], [], ['Analysis\\\\bilawal_dhamaar_2\\\\working_composition\\\\0_row16_col5_x213_y374_w12_h14.png'], [], [], ['Analysis\\\\bilawal_dhamaar_2\\\\working_composition\\\\0_row16_col9_x273_y376_w14_h12.png'], [], [], [], ['Analysis\\\\bilawal_dhamaar_2\\\\working_composition\\\\0_row16_col14_x399_y377_w6_h10.png'], ['Analysis\\\\bilawal_dhamaar_2\\\\working_composition\\\\0_row16_col15_x438_y377_w9_h10.png'], []]\n",
      "Swar List: [['Analysis\\\\bilawal_dhamaar_2\\\\working_composition\\\\0_row18_col1_x116_y395_w15_h12.png'], ['Analysis\\\\bilawal_dhamaar_2\\\\working_composition\\\\0_row18_col2_x142_y400_w10_h4.png'], ['Analysis\\\\bilawal_dhamaar_2\\\\working_composition\\\\0_row18_col3_x162_y400_w11_h4.png'], ['Analysis\\\\bilawal_dhamaar_2\\\\working_composition\\\\0_row18_col4_x183_y395_w15_h12.png'], ['Analysis\\\\bilawal_dhamaar_2\\\\working_composition\\\\0_row18_col5_x215_y392_w14_h15.png'], ['Analysis\\\\bilawal_dhamaar_2\\\\working_composition\\\\0_row18_col7_x239_y391_w15_h16.png'], ['Analysis\\\\bilawal_dhamaar_2\\\\working_composition\\\\0_row18_col8_x263_y399_w10_h5.png'], ['Analysis\\\\bilawal_dhamaar_2\\\\working_composition\\\\0_row18_col10_x284_y395_w10_h12.png'], ['Analysis\\\\bilawal_dhamaar_2\\\\working_composition\\\\0_row18_col11_x308_y399_w9_h5.png'], ['Analysis\\\\bilawal_dhamaar_2\\\\working_composition\\\\0_row18_col12_x338_y391_w13_h19.png'], ['Analysis\\\\bilawal_dhamaar_2\\\\working_composition\\\\0_row18_col13_x372_y394_w9_h13.png'], ['Analysis\\\\bilawal_dhamaar_2\\\\working_composition\\\\0_row18_col14_x404_y394_w10_h13.png'], ['Analysis\\\\bilawal_dhamaar_2\\\\working_composition\\\\0_row18_col15_x437_y394_w10_h13.png'], ['Analysis\\\\bilawal_dhamaar_2\\\\working_composition\\\\0_row18_col17_x468_y399_w12_h4.png']]\n",
      "Swar Articulation Checks: [False, False, False, False, False, False, False, False, False, False, False, False, False, False]\n",
      "Lyrics List: [['Analysis\\\\bilawal_dhamaar_2\\\\working_composition\\\\0_row19_col1_x115_y418_w15_h18.png'], ['Analysis\\\\bilawal_dhamaar_2\\\\working_composition\\\\0_row19_col2_x141_y423_w7_h13.png'], ['Analysis\\\\bilawal_dhamaar_2\\\\working_composition\\\\0_row19_col3_x165_y423_w8_h13.png'], ['Analysis\\\\bilawal_dhamaar_2\\\\working_composition\\\\0_row19_col4_x183_y424_w11_h11.png'], ['Analysis\\\\bilawal_dhamaar_2\\\\working_composition\\\\0_row19_col5_x214_y420_w9_h16.png'], ['Analysis\\\\bilawal_dhamaar_2\\\\working_composition\\\\0_row19_col7_x237_y423_w8_h12.png'], ['Analysis\\\\bilawal_dhamaar_2\\\\working_composition\\\\0_row19_col8_x263_y423_w7_h12.png'], ['Analysis\\\\bilawal_dhamaar_2\\\\working_composition\\\\0_row19_col10_x288_y424_w9_h14.png'], ['Analysis\\\\bilawal_dhamaar_2\\\\working_composition\\\\0_row19_col11_x310_y423_w8_h12.png'], ['Analysis\\\\bilawal_dhamaar_2\\\\working_composition\\\\0_row19_col12_x338_y423_w7_h12.png'], ['Analysis\\\\bilawal_dhamaar_2\\\\working_composition\\\\0_row19_col13_x367_y424_w13_h11.png'], ['Analysis\\\\bilawal_dhamaar_2\\\\working_composition\\\\0_row19_col14_x402_y417_w13_h22.png'], ['Analysis\\\\bilawal_dhamaar_2\\\\working_composition\\\\0_row19_col15_x432_y423_w13_h13.png'], ['Analysis\\\\bilawal_dhamaar_2\\\\working_composition\\\\0_row19_col16_x463_y423_w8_h13.png'], ['Analysis\\\\bilawal_dhamaar_2\\\\working_composition\\\\0_row19_col18_x478_y423_w5_h14.png']]\n",
      "Lyrics Articulation Checks: [False, False, False, False, False, False, False, False, False, False, False, False, False, False, False]\n",
      "--------------------------------------------------------------------------------\n",
      "Subgroup Range: (22, 24)\n",
      "Kann Swar List: [['Analysis\\\\bilawal_dhamaar_2\\\\working_composition\\\\0_row22_col1_x114_y477_w12_h14.png'], [], [], ['Analysis\\\\bilawal_dhamaar_2\\\\working_composition\\\\0_row22_col6_x173_y478_w13_h12.png'], ['Analysis\\\\bilawal_dhamaar_2\\\\working_composition\\\\0_row22_col7_x194_y481_w9_h10.png'], [], [], [], [], [], ['Analysis\\\\bilawal_dhamaar_2\\\\working_composition\\\\0_row22_col14_x397_y477_w12_h13.png'], [], [], []]\n",
      "Swar List: [['Analysis\\\\bilawal_dhamaar_2\\\\working_composition\\\\0_row23_col1_x115_y495_w14_h15.png'], ['Analysis\\\\bilawal_dhamaar_2\\\\working_composition\\\\0_row23_col2_x137_y502_w10_h5.png'], ['Analysis\\\\bilawal_dhamaar_2\\\\working_composition\\\\0_row23_col4_x158_y502_w10_h5.png'], ['Analysis\\\\bilawal_dhamaar_2\\\\working_composition\\\\0_row23_col6_x179_y494_w14_h16.png'], ['Analysis\\\\bilawal_dhamaar_2\\\\working_composition\\\\0_row23_col8_x204_y493_w14_h17.png'], ['Analysis\\\\bilawal_dhamaar_2\\\\working_composition\\\\0_row23_col9_x239_y494_w15_h16.png'], ['Analysis\\\\bilawal_dhamaar_2\\\\working_composition\\\\0_row23_col10_x275_y502_w9_h5.png'], ['Analysis\\\\bilawal_dhamaar_2\\\\working_composition\\\\0_row23_col11_x306_y493_w15_h17.png'], ['Analysis\\\\bilawal_dhamaar_2\\\\working_composition\\\\0_row23_col12_x336_y503_w9_h4.png'], ['Analysis\\\\bilawal_dhamaar_2\\\\working_composition\\\\0_row23_col13_x364_y494_w15_h16.png'], ['Analysis\\\\bilawal_dhamaar_2\\\\working_composition\\\\0_row23_col14_x403_y494_w15_h16.png'], ['Analysis\\\\bilawal_dhamaar_2\\\\working_composition\\\\0_row23_col15_x424_y493_w8_h18.png'], ['Analysis\\\\bilawal_dhamaar_2\\\\working_composition\\\\0_row23_col16_x442_y493_w15_h17.png'], ['Analysis\\\\bilawal_dhamaar_2\\\\working_composition\\\\0_row23_col17_x467_y502_w12_h4.png']]\n",
      "Swar Articulation Checks: [False, False, False, False, False, False, False, False, False, False, False, False, False, False]\n",
      "Lyrics List: [['Analysis\\\\bilawal_dhamaar_2\\\\working_composition\\\\0_row24_col1_x115_y527_w13_h12.png'], ['Analysis\\\\bilawal_dhamaar_2\\\\working_composition\\\\0_row24_col3_x143_y526_w8_h13.png'], ['Analysis\\\\bilawal_dhamaar_2\\\\working_composition\\\\0_row24_col5_x164_y526_w8_h13.png'], ['Analysis\\\\bilawal_dhamaar_2\\\\working_composition\\\\0_row24_col6_x185_y527_w10_h12.png'], ['Analysis\\\\bilawal_dhamaar_2\\\\working_composition\\\\0_row24_col8_x209_y527_w9_h13.png'], ['Analysis\\\\bilawal_dhamaar_2\\\\working_composition\\\\0_row24_col9_x238_y527_w14_h12.png'], ['Analysis\\\\bilawal_dhamaar_2\\\\working_composition\\\\0_row24_col10_x274_y526_w8_h13.png'], ['Analysis\\\\bilawal_dhamaar_2\\\\working_composition\\\\0_row24_col11_x304_y527_w12_h12.png'], ['Analysis\\\\bilawal_dhamaar_2\\\\working_composition\\\\0_row24_col12_x337_y527_w8_h11.png'], ['Analysis\\\\bilawal_dhamaar_2\\\\working_composition\\\\0_row24_col13_x369_y527_w11_h15.png'], ['Analysis\\\\bilawal_dhamaar_2\\\\working_composition\\\\0_row24_col14_x403_y522_w9_h21.png'], ['Analysis\\\\bilawal_dhamaar_2\\\\working_composition\\\\0_row24_col15_x423_y526_w7_h13.png'], ['Analysis\\\\bilawal_dhamaar_2\\\\working_composition\\\\0_row24_col16_x449_y527_w10_h13.png'], ['Analysis\\\\bilawal_dhamaar_2\\\\working_composition\\\\0_row24_col17_x471_y526_w8_h12.png']]\n",
      "Lyrics Articulation Checks: [False, False, False, False, False, False, False, False, False, False, False, False, False, False]\n",
      "--------------------------------------------------------------------------------\n",
      "Subgroup Range: (26, 27)\n",
      "Kann Swar List: [['Analysis\\\\bilawal_dhamaar_2\\\\working_composition\\\\0_row26_col1_x113_y560_w13_h13.png'], [], [], [], [], [], [], [], ['Analysis\\\\bilawal_dhamaar_2\\\\working_composition_segmented\\\\0_row26_col9_x300_y561_w12_h12_upper.png'], [], [], ['Analysis\\\\bilawal_dhamaar_2\\\\working_composition\\\\0_row26_col12_x397_y560_w12_h13.png'], [], [], []]\n",
      "Swar List: [['Analysis\\\\bilawal_dhamaar_2\\\\working_composition\\\\0_row26_col1_x114_y577_w15_h16.png'], ['Analysis\\\\bilawal_dhamaar_2\\\\working_composition\\\\0_row26_col2_x140_y576_w10_h17.png'], ['Analysis\\\\bilawal_dhamaar_2\\\\working_composition\\\\0_row26_col3_x161_y585_w9_h4.png'], ['Analysis\\\\bilawal_dhamaar_2\\\\working_composition\\\\0_row26_col4_x179_y558_w8_h16.png'], ['Analysis\\\\bilawal_dhamaar_2\\\\working_composition\\\\0_row26_col5_x185_y576_w10_h18.png'], ['Analysis\\\\bilawal_dhamaar_2\\\\working_composition\\\\0_row26_col6_x208_y585_w10_h4.png'], ['Analysis\\\\bilawal_dhamaar_2\\\\working_composition\\\\0_row26_col7_x238_y585_w10_h5.png'], ['Analysis\\\\bilawal_dhamaar_2\\\\working_composition\\\\0_row26_col8_x274_y577_w10_h16.png'], ['Analysis\\\\bilawal_dhamaar_2\\\\working_composition_segmented\\\\0_row26_col9_x300_y575_w12_h17_lower.png'], ['Analysis\\\\bilawal_dhamaar_2\\\\working_composition\\\\0_row26_col10_x337_y585_w10_h4.png'], ['Analysis\\\\bilawal_dhamaar_2\\\\working_composition\\\\0_row26_col11_x368_y585_w12_h4.png'], ['Analysis\\\\bilawal_dhamaar_2\\\\working_composition\\\\0_row26_col12_x402_y576_w15_h17.png'], ['Analysis\\\\bilawal_dhamaar_2\\\\working_composition\\\\0_row26_col13_x424_y575_w7_h18.png'], ['Analysis\\\\bilawal_dhamaar_2\\\\working_composition\\\\0_row26_col14_x441_y575_w15_h18.png'], ['Analysis\\\\bilawal_dhamaar_2\\\\working_composition\\\\0_row26_col15_x463_y576_w15_h17.png']]\n",
      "Swar Articulation Checks: [False, False, False, False, False, False, False, False, False, False, False, False, False, False, False]\n",
      "Lyrics List: [['Analysis\\\\bilawal_dhamaar_2\\\\working_composition\\\\0_row27_col1_x114_y604_w13_h17.png'], ['Analysis\\\\bilawal_dhamaar_2\\\\working_composition\\\\0_row27_col2_x142_y609_w8_h11.png'], ['Analysis\\\\bilawal_dhamaar_2\\\\working_composition\\\\0_row27_col3_x160_y608_w8_h13.png'], ['Analysis\\\\bilawal_dhamaar_2\\\\working_composition\\\\0_row27_col5_x186_y610_w9_h12.png'], ['Analysis\\\\bilawal_dhamaar_2\\\\working_composition\\\\0_row27_col6_x210_y609_w8_h12.png'], ['Analysis\\\\bilawal_dhamaar_2\\\\working_composition\\\\0_row27_col7_x238_y609_w8_h11.png'], ['Analysis\\\\bilawal_dhamaar_2\\\\working_composition\\\\0_row27_col8_x274_y609_w10_h17.png'], ['Analysis\\\\bilawal_dhamaar_2\\\\working_composition\\\\0_row27_col9_x304_y609_w9_h13.png'], ['Analysis\\\\bilawal_dhamaar_2\\\\working_composition\\\\0_row27_col10_x341_y609_w8_h12.png'], ['Analysis\\\\bilawal_dhamaar_2\\\\working_composition\\\\0_row27_col11_x372_y609_w7_h12.png'], ['Analysis\\\\bilawal_dhamaar_2\\\\working_composition\\\\0_row27_col12_x402_y603_w10_h18.png'], ['Analysis\\\\bilawal_dhamaar_2\\\\working_composition\\\\0_row27_col13_x427_y609_w7_h12.png'], ['Analysis\\\\bilawal_dhamaar_2\\\\working_composition\\\\0_row27_col14_x446_y609_w9_h13.png'], ['Analysis\\\\bilawal_dhamaar_2\\\\working_composition\\\\0_row27_col15_x470_y608_w8_h14.png']]\n",
      "Lyrics Articulation Checks: [False, False, False, False, False, False, False, False, False, False, False, False, False, False]\n",
      "--------------------------------------------------------------------------------\n",
      "Subgroup Range: (29, 33)\n",
      "Kann Swar List: [['Analysis\\\\bilawal_dhamaar_2\\\\working_composition\\\\0_row29_col1_x112_y645_w10_h10.png'], [], [], [], [], ['Analysis\\\\bilawal_dhamaar_2\\\\working_composition\\\\0_row29_col6_x233_y645_w10_h9.png'], [], ['Analysis\\\\bilawal_dhamaar_2\\\\working_composition\\\\0_row29_col8_x298_y646_w7_h10.png'], ['Analysis\\\\bilawal_dhamaar_2\\\\working_composition\\\\0_row29_col10_x332_y646_w9_h10.png'], [], [], [], [], []]\n",
      "Swar List: [['Analysis\\\\bilawal_dhamaar_2\\\\working_composition\\\\0_row30_col1_x113_y663_w11_h12.png'], ['Analysis\\\\bilawal_dhamaar_2\\\\working_composition\\\\0_row30_col2_x133_y658_w21_h12.png'], ['Analysis\\\\bilawal_dhamaar_2\\\\working_composition\\\\0_row30_col3_x163_y657_w8_h19.png'], ['Analysis\\\\bilawal_dhamaar_2\\\\working_composition\\\\0_row30_col4_x181_y658_w15_h17.png'], ['Analysis\\\\bilawal_dhamaar_2\\\\working_composition\\\\0_row30_col5_x203_y658_w15_h17.png'], ['Analysis\\\\bilawal_dhamaar_2\\\\working_composition\\\\0_row30_col6_x239_y663_w10_h12.png'], ['Analysis\\\\bilawal_dhamaar_2\\\\working_composition\\\\0_row30_col7_x265_y658_w19_h14.png'], ['Analysis\\\\bilawal_dhamaar_2\\\\working_composition\\\\0_row30_col8_x303_y662_w10_h13.png'], ['Analysis\\\\bilawal_dhamaar_2\\\\working_composition\\\\0_row30_col10_x336_y662_w11_h14.png'], ['Analysis\\\\bilawal_dhamaar_2\\\\working_composition\\\\0_row30_col11_x370_y667_w10_h4.png'], [], [], [], []]\n",
      "Swar Articulation Checks: [False, True, False, False, False, False, True, False, False, False, False, False, False, False]\n",
      "Lyrics List: [['Analysis\\\\bilawal_dhamaar_2\\\\working_composition\\\\0_row32_col1_x113_y688_w15_h16.png'], ['Analysis\\\\bilawal_dhamaar_2\\\\working_composition\\\\0_row32_col2_x138_y691_w13_h11.png'], ['Analysis\\\\bilawal_dhamaar_2\\\\working_composition\\\\0_row32_col3_x167_y692_w7_h12.png'], ['Analysis\\\\bilawal_dhamaar_2\\\\working_composition\\\\0_row32_col4_x185_y692_w12_h13.png'], ['Analysis\\\\bilawal_dhamaar_2\\\\working_composition\\\\0_row32_col5_x207_y692_w10_h12.png'], ['Analysis\\\\bilawal_dhamaar_2\\\\working_composition\\\\0_row32_col6_x238_y691_w15_h13.png'], ['Analysis\\\\bilawal_dhamaar_2\\\\working_composition\\\\0_row32_col7_x270_y690_w13_h11.png'], ['Analysis\\\\bilawal_dhamaar_2\\\\working_composition\\\\0_row32_col8_x304_y691_w8_h12.png'], ['Analysis\\\\bilawal_dhamaar_2\\\\working_composition\\\\0_row32_col10_x334_y691_w14_h13.png'], ['Analysis\\\\bilawal_dhamaar_2\\\\working_composition\\\\0_row32_col11_x371_y691_w8_h12.png'], [], [], [], []]\n",
      "Lyrics Articulation Checks: [False, True, False, False, False, False, True, False, False, False, False, False, False, False]\n",
      "--------------------------------------------------------------------------------\n"
     ]
    }
   ],
   "source": [
    "from save_and_load import load_lists_in_subgroups\n",
    "\n",
    "subgroups = load_lists_in_subgroups()\n",
    "\n",
    "# Print the results for each subgroup\n",
    "for subgroup_range, results in subgroups.items():\n",
    "    print(f\"Subgroup Range: {subgroup_range}\")\n",
    "    print(f\"Kann Swar List: {results['kann_swar_list']}\")\n",
    "    print(f\"Swar List: {results['swar_list']}\")\n",
    "    print(f\"Swar Articulation Checks: {results['swar_articulation_checks']}\")\n",
    "    print(f\"Lyrics List: {results['lyrics_list']}\")\n",
    "    print(f\"Lyrics Articulation Checks: {results['lyrics_articulation_checks']}\")\n",
    "    print(\"-\" * 80)"
   ]
  },
  {
   "cell_type": "markdown",
   "metadata": {},
   "source": [
    "#### Meend Segmentation and List Creation\n",
    "- Segments composite **Meend** and **Kann Swar** images.\n",
    "- Stores the **Kann Swar** image in its correct position in the **Kann Swar List** based on coordinates.\n",
    "- Creates a separate **Meend List** to store:\n",
    "  - **Start** and **end positions** of each **Meend** corresponding to the **Swar** row.\n",
    "- Detects **Meend** in the **Kann Swar** row.\n",
    "- If **Meend** is present:\n",
    "    - Update the **Meend List**\n",
    "    - Remove the image path from **Kann Swar List**"
   ]
  },
  {
   "cell_type": "code",
   "execution_count": 25,
   "metadata": {},
   "outputs": [],
   "source": [
    "from generators import update_kann_swar_and_generate_meend_lists\n",
    "\n",
    "update_kann_swar_and_generate_meend_lists()"
   ]
  },
  {
   "cell_type": "code",
   "execution_count": 26,
   "metadata": {},
   "outputs": [
    {
     "name": "stdout",
     "output_type": "stream",
     "text": [
      "Subgroup Range: (4, 7)\n",
      "Kann Swar List: [[], [], [], [], [], [], [], [], [], [], [], ['Analysis\\\\bilawal_dhamaar_2\\\\working_composition\\\\0_row4_col12_x400_y145_w7_h10.png'], ['Analysis\\\\bilawal_dhamaar_2\\\\working_composition\\\\0_row4_col13_x434_y145_w9_h10.png'], []]\n",
      "Meend List: ['', '', '', '', '', '', '', '', '', '', '', '', '', '']\n",
      "Swar List: [[], [], [], [], [], [], [], [], [], [], [], ['Analysis\\\\bilawal_dhamaar_2\\\\working_composition\\\\0_row5_col12_x406_y162_w10_h12.png'], ['Analysis\\\\bilawal_dhamaar_2\\\\working_composition\\\\0_row5_col13_x439_y162_w10_h14.png'], ['Analysis\\\\bilawal_dhamaar_2\\\\working_composition\\\\0_row5_col14_x472_y166_w9_h5.png']]\n",
      "Lyrics List: [[], [], [], [], [], [], [], [], [], [], [], ['Analysis\\\\bilawal_dhamaar_2\\\\working_composition\\\\0_row6_col12_x405_y188_w11_h15.png'], ['Analysis\\\\bilawal_dhamaar_2\\\\working_composition\\\\0_row6_col13_x436_y188_w14_h12.png'], ['Analysis\\\\bilawal_dhamaar_2\\\\working_composition\\\\0_row6_col14_x473_y187_w8_h12.png']]\n",
      "Swar Articulation Checks: [[], [], [], [], [], [], [], [], [], [], [], False, False, False]\n",
      "Lyrics Articulation Checks: [[], [], [], [], [], [], [], [], [], [], [], False, False, False]\n",
      "--------------------------------------------------------------------------------\n",
      "Subgroup Range: (7, 8)\n",
      "Kann Swar List: [[], [], ['Analysis\\\\bilawal_dhamaar_2\\\\working_composition\\\\0_row7_col3_x156_y211_w14_h12.png'], ['Analysis\\\\bilawal_dhamaar_2\\\\working_composition_segmented\\\\0_row7_col4_x181_y214_w17_h9_upper.png'], [], [], [], [], ['Analysis\\\\bilawal_dhamaar_2\\\\working_composition\\\\0_row7_col9_x303_y213_w8_h8.png'], [], [], ['Analysis\\\\bilawal_dhamaar_2\\\\working_composition\\\\0_row7_col12_x401_y211_w13_h10.png'], [], []]\n",
      "Meend List: ['', '', '', '', '', '', '', '', '', '', '', '', '', '']\n",
      "Swar List: [['Analysis\\\\bilawal_dhamaar_2\\\\working_composition\\\\0_row7_col1_x118_y231_w9_h13.png'], ['Analysis\\\\bilawal_dhamaar_2\\\\working_composition\\\\0_row7_col2_x139_y236_w9_h4.png'], ['Analysis\\\\bilawal_dhamaar_2\\\\working_composition\\\\0_row7_col3_x159_y227_w14_h16.png'], ['Analysis\\\\bilawal_dhamaar_2\\\\working_composition_segmented\\\\0_row7_col4_x181_y227_w17_h16_lower.png'], ['Analysis\\\\bilawal_dhamaar_2\\\\working_composition\\\\0_row7_col5_x215_y227_w15_h16.png'], ['Analysis\\\\bilawal_dhamaar_2\\\\working_composition\\\\0_row7_col6_x240_y235_w10_h5.png'], ['Analysis\\\\bilawal_dhamaar_2\\\\working_composition\\\\0_row7_col7_x260_y235_w11_h5.png'], ['Analysis\\\\bilawal_dhamaar_2\\\\working_composition\\\\0_row7_col8_x281_y226_w14_h17.png'], ['Analysis\\\\bilawal_dhamaar_2\\\\working_composition\\\\0_row7_col9_x304_y226_w14_h16.png'], ['Analysis\\\\bilawal_dhamaar_2\\\\working_composition\\\\0_row7_col10_x339_y227_w15_h15.png'], ['Analysis\\\\bilawal_dhamaar_2\\\\working_composition\\\\0_row7_col11_x376_y235_w9_h4.png'], ['Analysis\\\\bilawal_dhamaar_2\\\\working_composition\\\\0_row7_col12_x405_y225_w7_h17.png'], ['Analysis\\\\bilawal_dhamaar_2\\\\working_composition\\\\0_row7_col13_x434_y226_w15_h15.png'], ['Analysis\\\\bilawal_dhamaar_2\\\\working_composition\\\\0_row7_col14_x470_y234_w10_h4.png']]\n",
      "Lyrics List: [['Analysis\\\\bilawal_dhamaar_2\\\\working_composition\\\\0_row8_col1_x118_y256_w12_h17.png'], ['Analysis\\\\bilawal_dhamaar_2\\\\working_composition\\\\0_row8_col2_x141_y260_w8_h12.png'], ['Analysis\\\\bilawal_dhamaar_2\\\\working_composition\\\\0_row8_col3_x163_y260_w9_h13.png'], ['Analysis\\\\bilawal_dhamaar_2\\\\working_composition\\\\0_row8_col4_x184_y260_w11_h12.png'], ['Analysis\\\\bilawal_dhamaar_2\\\\working_composition\\\\0_row8_col5_x215_y259_w13_h12.png'], ['Analysis\\\\bilawal_dhamaar_2\\\\working_composition\\\\0_row8_col6_x242_y259_w8_h12.png'], ['Analysis\\\\bilawal_dhamaar_2\\\\working_composition\\\\0_row8_col7_x263_y259_w8_h12.png'], ['Analysis\\\\bilawal_dhamaar_2\\\\working_composition\\\\0_row8_col8_x285_y258_w10_h13.png'], ['Analysis\\\\bilawal_dhamaar_2\\\\working_composition\\\\0_row8_col9_x310_y259_w9_h12.png'], ['Analysis\\\\bilawal_dhamaar_2\\\\working_composition\\\\0_row8_col10_x339_y252_w14_h19.png'], ['Analysis\\\\bilawal_dhamaar_2\\\\working_composition\\\\0_row8_col11_x375_y258_w8_h12.png'], ['Analysis\\\\bilawal_dhamaar_2\\\\working_composition\\\\0_row8_col12_x406_y258_w8_h14.png'], ['Analysis\\\\bilawal_dhamaar_2\\\\working_composition\\\\0_row8_col13_x441_y258_w10_h13.png'], ['Analysis\\\\bilawal_dhamaar_2\\\\working_composition\\\\0_row8_col14_x473_y257_w7_h13.png']]\n",
      "Swar Articulation Checks: [False, False, False, False, False, False, False, False, False, False, False, False, False, False]\n",
      "Lyrics Articulation Checks: [False, False, False, False, False, False, False, False, False, False, False, False, False, False]\n",
      "--------------------------------------------------------------------------------\n",
      "Subgroup Range: (10, 14)\n",
      "Kann Swar List: [['Analysis\\\\bilawal_dhamaar_2\\\\working_composition\\\\0_row10_col1_x116_y294_w14_h13.png'], [], [], [], ['Analysis\\\\bilawal_dhamaar_2\\\\working_composition\\\\0_row10_col5_x213_y296_w6_h9.png'], ['Analysis\\\\bilawal_dhamaar_2\\\\working_composition\\\\0_row10_col6_x232_y296_w7_h9.png'], [], ['Analysis\\\\bilawal_dhamaar_2\\\\working_composition\\\\0_row10_col8_x278_y295_w9_h9.png'], [], [], [], [], [], []]\n",
      "Meend List: ['', '', '', '', '', '', '', '', '', '', '', '', '', '']\n",
      "Swar List: [['Analysis\\\\bilawal_dhamaar_2\\\\working_composition\\\\0_row11_col1_x117_y314_w10_h12.png'], ['Analysis\\\\bilawal_dhamaar_2\\\\working_composition\\\\0_row11_col2_x137_y309_w22_h23.png'], ['Analysis\\\\bilawal_dhamaar_2\\\\working_composition\\\\0_row11_col3_x169_y313_w8_h13.png'], ['Analysis\\\\bilawal_dhamaar_2\\\\working_composition\\\\0_row11_col4_x189_y318_w9_h4.png'], ['Analysis\\\\bilawal_dhamaar_2\\\\working_composition\\\\0_row11_col5_x215_y312_w10_h13.png'], ['Analysis\\\\bilawal_dhamaar_2\\\\working_composition\\\\0_row11_col6_x235_y313_w10_h12.png'], ['Analysis\\\\bilawal_dhamaar_2\\\\working_composition\\\\0_row11_col7_x255_y307_w15_h14.png'], ['Analysis\\\\bilawal_dhamaar_2\\\\working_composition\\\\0_row11_col8_x285_y312_w10_h13.png'], ['Analysis\\\\bilawal_dhamaar_2\\\\working_composition\\\\0_row11_col9_x309_y312_w9_h12.png'], ['Analysis\\\\bilawal_dhamaar_2\\\\working_composition\\\\0_row11_col10_x338_y312_w9_h12.png'], ['Analysis\\\\bilawal_dhamaar_2\\\\working_composition\\\\0_row11_col11_x367_y311_w18_h9.png'], ['Analysis\\\\bilawal_dhamaar_2\\\\working_composition\\\\0_row11_col12_x405_y312_w10_h13.png'], ['Analysis\\\\bilawal_dhamaar_2\\\\working_composition\\\\0_row11_col13_x437_y305_w8_h19.png'], ['Analysis\\\\bilawal_dhamaar_2\\\\working_composition\\\\0_row11_col14_x471_y316_w10_h4.png']]\n",
      "Lyrics List: [['Analysis\\\\bilawal_dhamaar_2\\\\working_composition\\\\0_row13_col1_x117_y343_w11_h14.png'], ['Analysis\\\\bilawal_dhamaar_2\\\\working_composition\\\\0_row13_col2_x137_y337_w20_h15.png'], ['Analysis\\\\bilawal_dhamaar_2\\\\working_composition\\\\0_row13_col3_x165_y342_w15_h14.png'], ['Analysis\\\\bilawal_dhamaar_2\\\\working_composition\\\\0_row13_col4_x190_y342_w8_h12.png'], ['Analysis\\\\bilawal_dhamaar_2\\\\working_composition\\\\0_row13_col5_x215_y342_w10_h11.png'], ['Analysis\\\\bilawal_dhamaar_2\\\\working_composition\\\\0_row13_col6_x234_y342_w9_h12.png'], ['Analysis\\\\bilawal_dhamaar_2\\\\working_composition\\\\0_row13_col7_x256_y341_w13_h10.png'], ['Analysis\\\\bilawal_dhamaar_2\\\\working_composition\\\\0_row13_col8_x282_y342_w15_h11.png'], ['Analysis\\\\bilawal_dhamaar_2\\\\working_composition\\\\0_row13_col9_x311_y341_w7_h12.png'], ['Analysis\\\\bilawal_dhamaar_2\\\\working_composition\\\\0_row13_col10_x338_y342_w11_h11.png'], ['Analysis\\\\bilawal_dhamaar_2\\\\working_composition\\\\0_row13_col11_x367_y340_w15_h19.png'], ['Analysis\\\\bilawal_dhamaar_2\\\\working_composition\\\\0_row13_col12_x405_y341_w9_h13.png'], ['Analysis\\\\bilawal_dhamaar_2\\\\working_composition\\\\0_row13_col13_x436_y341_w9_h12.png'], ['Analysis\\\\bilawal_dhamaar_2\\\\working_composition\\\\0_row13_col14_x473_y340_w7_h12.png']]\n",
      "Swar Articulation Checks: [False, False, False, False, False, False, True, False, False, False, True, False, False, False]\n",
      "Lyrics Articulation Checks: [False, True, False, False, False, False, True, False, False, False, False, False, False, False]\n",
      "--------------------------------------------------------------------------------\n",
      "Subgroup Range: (16, 19)\n",
      "Kann Swar List: [[], [], [], [], ['Analysis\\\\bilawal_dhamaar_2\\\\working_composition\\\\0_row16_col5_x213_y374_w12_h14.png'], [], [], ['Analysis\\\\bilawal_dhamaar_2\\\\working_composition\\\\0_row16_col9_x273_y376_w14_h12.png'], [], [], [], ['Analysis\\\\bilawal_dhamaar_2\\\\working_composition\\\\0_row16_col14_x399_y377_w6_h10.png'], ['Analysis\\\\bilawal_dhamaar_2\\\\working_composition\\\\0_row16_col15_x438_y377_w9_h10.png'], []]\n",
      "Meend List: ['', '', '', '', '', '', '', '', '', '', '', '', '', '']\n",
      "Swar List: [['Analysis\\\\bilawal_dhamaar_2\\\\working_composition\\\\0_row18_col1_x116_y395_w15_h12.png'], ['Analysis\\\\bilawal_dhamaar_2\\\\working_composition\\\\0_row18_col2_x142_y400_w10_h4.png'], ['Analysis\\\\bilawal_dhamaar_2\\\\working_composition\\\\0_row18_col3_x162_y400_w11_h4.png'], ['Analysis\\\\bilawal_dhamaar_2\\\\working_composition\\\\0_row18_col4_x183_y395_w15_h12.png'], ['Analysis\\\\bilawal_dhamaar_2\\\\working_composition\\\\0_row18_col5_x215_y392_w14_h15.png'], ['Analysis\\\\bilawal_dhamaar_2\\\\working_composition\\\\0_row18_col7_x239_y391_w15_h16.png'], ['Analysis\\\\bilawal_dhamaar_2\\\\working_composition\\\\0_row18_col8_x263_y399_w10_h5.png'], ['Analysis\\\\bilawal_dhamaar_2\\\\working_composition\\\\0_row18_col10_x284_y395_w10_h12.png'], ['Analysis\\\\bilawal_dhamaar_2\\\\working_composition\\\\0_row18_col11_x308_y399_w9_h5.png'], ['Analysis\\\\bilawal_dhamaar_2\\\\working_composition\\\\0_row18_col12_x338_y391_w13_h19.png'], ['Analysis\\\\bilawal_dhamaar_2\\\\working_composition\\\\0_row18_col13_x372_y394_w9_h13.png'], ['Analysis\\\\bilawal_dhamaar_2\\\\working_composition\\\\0_row18_col14_x404_y394_w10_h13.png'], ['Analysis\\\\bilawal_dhamaar_2\\\\working_composition\\\\0_row18_col15_x437_y394_w10_h13.png'], ['Analysis\\\\bilawal_dhamaar_2\\\\working_composition\\\\0_row18_col17_x468_y399_w12_h4.png']]\n",
      "Lyrics List: [['Analysis\\\\bilawal_dhamaar_2\\\\working_composition\\\\0_row19_col1_x115_y418_w15_h18.png'], ['Analysis\\\\bilawal_dhamaar_2\\\\working_composition\\\\0_row19_col2_x141_y423_w7_h13.png'], ['Analysis\\\\bilawal_dhamaar_2\\\\working_composition\\\\0_row19_col3_x165_y423_w8_h13.png'], ['Analysis\\\\bilawal_dhamaar_2\\\\working_composition\\\\0_row19_col4_x183_y424_w11_h11.png'], ['Analysis\\\\bilawal_dhamaar_2\\\\working_composition\\\\0_row19_col5_x214_y420_w9_h16.png'], ['Analysis\\\\bilawal_dhamaar_2\\\\working_composition\\\\0_row19_col7_x237_y423_w8_h12.png'], ['Analysis\\\\bilawal_dhamaar_2\\\\working_composition\\\\0_row19_col8_x263_y423_w7_h12.png'], ['Analysis\\\\bilawal_dhamaar_2\\\\working_composition\\\\0_row19_col10_x288_y424_w9_h14.png'], ['Analysis\\\\bilawal_dhamaar_2\\\\working_composition\\\\0_row19_col11_x310_y423_w8_h12.png'], ['Analysis\\\\bilawal_dhamaar_2\\\\working_composition\\\\0_row19_col12_x338_y423_w7_h12.png'], ['Analysis\\\\bilawal_dhamaar_2\\\\working_composition\\\\0_row19_col13_x367_y424_w13_h11.png'], ['Analysis\\\\bilawal_dhamaar_2\\\\working_composition\\\\0_row19_col14_x402_y417_w13_h22.png'], ['Analysis\\\\bilawal_dhamaar_2\\\\working_composition\\\\0_row19_col15_x432_y423_w13_h13.png'], ['Analysis\\\\bilawal_dhamaar_2\\\\working_composition\\\\0_row19_col16_x463_y423_w8_h13.png'], ['Analysis\\\\bilawal_dhamaar_2\\\\working_composition\\\\0_row19_col18_x478_y423_w5_h14.png']]\n",
      "Swar Articulation Checks: [False, False, False, False, False, False, False, False, False, False, False, False, False, False]\n",
      "Lyrics Articulation Checks: [False, False, False, False, False, False, False, False, False, False, False, False, False, False, False]\n",
      "--------------------------------------------------------------------------------\n",
      "Subgroup Range: (22, 24)\n",
      "Kann Swar List: [['Analysis\\\\bilawal_dhamaar_2\\\\working_composition\\\\0_row22_col1_x114_y477_w12_h14.png'], [], [], ['Analysis\\\\bilawal_dhamaar_2\\\\working_composition\\\\0_row22_col6_x173_y478_w13_h12.png'], ['Analysis\\\\bilawal_dhamaar_2\\\\working_composition\\\\0_row22_col7_x194_y481_w9_h10.png'], [], [], [], [], [], ['Analysis\\\\bilawal_dhamaar_2\\\\working_composition\\\\0_row22_col14_x397_y477_w12_h13.png'], [], [], []]\n",
      "Meend List: ['', '', '', '', '', '', '', '', '', '', '', '', '', '']\n",
      "Swar List: [['Analysis\\\\bilawal_dhamaar_2\\\\working_composition\\\\0_row23_col1_x115_y495_w14_h15.png'], ['Analysis\\\\bilawal_dhamaar_2\\\\working_composition\\\\0_row23_col2_x137_y502_w10_h5.png'], ['Analysis\\\\bilawal_dhamaar_2\\\\working_composition\\\\0_row23_col4_x158_y502_w10_h5.png'], ['Analysis\\\\bilawal_dhamaar_2\\\\working_composition\\\\0_row23_col6_x179_y494_w14_h16.png'], ['Analysis\\\\bilawal_dhamaar_2\\\\working_composition\\\\0_row23_col8_x204_y493_w14_h17.png'], ['Analysis\\\\bilawal_dhamaar_2\\\\working_composition\\\\0_row23_col9_x239_y494_w15_h16.png'], ['Analysis\\\\bilawal_dhamaar_2\\\\working_composition\\\\0_row23_col10_x275_y502_w9_h5.png'], ['Analysis\\\\bilawal_dhamaar_2\\\\working_composition\\\\0_row23_col11_x306_y493_w15_h17.png'], ['Analysis\\\\bilawal_dhamaar_2\\\\working_composition\\\\0_row23_col12_x336_y503_w9_h4.png'], ['Analysis\\\\bilawal_dhamaar_2\\\\working_composition\\\\0_row23_col13_x364_y494_w15_h16.png'], ['Analysis\\\\bilawal_dhamaar_2\\\\working_composition\\\\0_row23_col14_x403_y494_w15_h16.png'], ['Analysis\\\\bilawal_dhamaar_2\\\\working_composition\\\\0_row23_col15_x424_y493_w8_h18.png'], ['Analysis\\\\bilawal_dhamaar_2\\\\working_composition\\\\0_row23_col16_x442_y493_w15_h17.png'], ['Analysis\\\\bilawal_dhamaar_2\\\\working_composition\\\\0_row23_col17_x467_y502_w12_h4.png']]\n",
      "Lyrics List: [['Analysis\\\\bilawal_dhamaar_2\\\\working_composition\\\\0_row24_col1_x115_y527_w13_h12.png'], ['Analysis\\\\bilawal_dhamaar_2\\\\working_composition\\\\0_row24_col3_x143_y526_w8_h13.png'], ['Analysis\\\\bilawal_dhamaar_2\\\\working_composition\\\\0_row24_col5_x164_y526_w8_h13.png'], ['Analysis\\\\bilawal_dhamaar_2\\\\working_composition\\\\0_row24_col6_x185_y527_w10_h12.png'], ['Analysis\\\\bilawal_dhamaar_2\\\\working_composition\\\\0_row24_col8_x209_y527_w9_h13.png'], ['Analysis\\\\bilawal_dhamaar_2\\\\working_composition\\\\0_row24_col9_x238_y527_w14_h12.png'], ['Analysis\\\\bilawal_dhamaar_2\\\\working_composition\\\\0_row24_col10_x274_y526_w8_h13.png'], ['Analysis\\\\bilawal_dhamaar_2\\\\working_composition\\\\0_row24_col11_x304_y527_w12_h12.png'], ['Analysis\\\\bilawal_dhamaar_2\\\\working_composition\\\\0_row24_col12_x337_y527_w8_h11.png'], ['Analysis\\\\bilawal_dhamaar_2\\\\working_composition\\\\0_row24_col13_x369_y527_w11_h15.png'], ['Analysis\\\\bilawal_dhamaar_2\\\\working_composition\\\\0_row24_col14_x403_y522_w9_h21.png'], ['Analysis\\\\bilawal_dhamaar_2\\\\working_composition\\\\0_row24_col15_x423_y526_w7_h13.png'], ['Analysis\\\\bilawal_dhamaar_2\\\\working_composition\\\\0_row24_col16_x449_y527_w10_h13.png'], ['Analysis\\\\bilawal_dhamaar_2\\\\working_composition\\\\0_row24_col17_x471_y526_w8_h12.png']]\n",
      "Swar Articulation Checks: [False, False, False, False, False, False, False, False, False, False, False, False, False, False]\n",
      "Lyrics Articulation Checks: [False, False, False, False, False, False, False, False, False, False, False, False, False, False]\n",
      "--------------------------------------------------------------------------------\n",
      "Subgroup Range: (26, 27)\n",
      "Kann Swar List: [['Analysis\\\\bilawal_dhamaar_2\\\\working_composition\\\\0_row26_col1_x113_y560_w13_h13.png'], [], [], [], [], [], [], [], ['Analysis\\\\bilawal_dhamaar_2\\\\working_composition_segmented\\\\0_row26_col9_x300_y561_w12_h12_upper.png'], [], [], ['Analysis\\\\bilawal_dhamaar_2\\\\working_composition\\\\0_row26_col12_x397_y560_w12_h13.png'], [], [], []]\n",
      "Meend List: ['', '', '', '', '', '', '', '', '', '', '', '', '', '', '']\n",
      "Swar List: [['Analysis\\\\bilawal_dhamaar_2\\\\working_composition\\\\0_row26_col1_x114_y577_w15_h16.png'], ['Analysis\\\\bilawal_dhamaar_2\\\\working_composition\\\\0_row26_col2_x140_y576_w10_h17.png'], ['Analysis\\\\bilawal_dhamaar_2\\\\working_composition\\\\0_row26_col3_x161_y585_w9_h4.png'], ['Analysis\\\\bilawal_dhamaar_2\\\\working_composition\\\\0_row26_col4_x179_y558_w8_h16.png'], ['Analysis\\\\bilawal_dhamaar_2\\\\working_composition\\\\0_row26_col5_x185_y576_w10_h18.png'], ['Analysis\\\\bilawal_dhamaar_2\\\\working_composition\\\\0_row26_col6_x208_y585_w10_h4.png'], ['Analysis\\\\bilawal_dhamaar_2\\\\working_composition\\\\0_row26_col7_x238_y585_w10_h5.png'], ['Analysis\\\\bilawal_dhamaar_2\\\\working_composition\\\\0_row26_col8_x274_y577_w10_h16.png'], ['Analysis\\\\bilawal_dhamaar_2\\\\working_composition_segmented\\\\0_row26_col9_x300_y575_w12_h17_lower.png'], ['Analysis\\\\bilawal_dhamaar_2\\\\working_composition\\\\0_row26_col10_x337_y585_w10_h4.png'], ['Analysis\\\\bilawal_dhamaar_2\\\\working_composition\\\\0_row26_col11_x368_y585_w12_h4.png'], ['Analysis\\\\bilawal_dhamaar_2\\\\working_composition\\\\0_row26_col12_x402_y576_w15_h17.png'], ['Analysis\\\\bilawal_dhamaar_2\\\\working_composition\\\\0_row26_col13_x424_y575_w7_h18.png'], ['Analysis\\\\bilawal_dhamaar_2\\\\working_composition\\\\0_row26_col14_x441_y575_w15_h18.png'], ['Analysis\\\\bilawal_dhamaar_2\\\\working_composition\\\\0_row26_col15_x463_y576_w15_h17.png']]\n",
      "Lyrics List: [['Analysis\\\\bilawal_dhamaar_2\\\\working_composition\\\\0_row27_col1_x114_y604_w13_h17.png'], ['Analysis\\\\bilawal_dhamaar_2\\\\working_composition\\\\0_row27_col2_x142_y609_w8_h11.png'], ['Analysis\\\\bilawal_dhamaar_2\\\\working_composition\\\\0_row27_col3_x160_y608_w8_h13.png'], ['Analysis\\\\bilawal_dhamaar_2\\\\working_composition\\\\0_row27_col5_x186_y610_w9_h12.png'], ['Analysis\\\\bilawal_dhamaar_2\\\\working_composition\\\\0_row27_col6_x210_y609_w8_h12.png'], ['Analysis\\\\bilawal_dhamaar_2\\\\working_composition\\\\0_row27_col7_x238_y609_w8_h11.png'], ['Analysis\\\\bilawal_dhamaar_2\\\\working_composition\\\\0_row27_col8_x274_y609_w10_h17.png'], ['Analysis\\\\bilawal_dhamaar_2\\\\working_composition\\\\0_row27_col9_x304_y609_w9_h13.png'], ['Analysis\\\\bilawal_dhamaar_2\\\\working_composition\\\\0_row27_col10_x341_y609_w8_h12.png'], ['Analysis\\\\bilawal_dhamaar_2\\\\working_composition\\\\0_row27_col11_x372_y609_w7_h12.png'], ['Analysis\\\\bilawal_dhamaar_2\\\\working_composition\\\\0_row27_col12_x402_y603_w10_h18.png'], ['Analysis\\\\bilawal_dhamaar_2\\\\working_composition\\\\0_row27_col13_x427_y609_w7_h12.png'], ['Analysis\\\\bilawal_dhamaar_2\\\\working_composition\\\\0_row27_col14_x446_y609_w9_h13.png'], ['Analysis\\\\bilawal_dhamaar_2\\\\working_composition\\\\0_row27_col15_x470_y608_w8_h14.png']]\n",
      "Swar Articulation Checks: [False, False, False, False, False, False, False, False, False, False, False, False, False, False, False]\n",
      "Lyrics Articulation Checks: [False, False, False, False, False, False, False, False, False, False, False, False, False, False]\n",
      "--------------------------------------------------------------------------------\n",
      "Subgroup Range: (29, 33)\n",
      "Kann Swar List: [['Analysis\\\\bilawal_dhamaar_2\\\\working_composition\\\\0_row29_col1_x112_y645_w10_h10.png'], [], [], [], [], ['Analysis\\\\bilawal_dhamaar_2\\\\working_composition\\\\0_row29_col6_x233_y645_w10_h9.png'], [], ['Analysis\\\\bilawal_dhamaar_2\\\\working_composition\\\\0_row29_col8_x298_y646_w7_h10.png'], ['Analysis\\\\bilawal_dhamaar_2\\\\working_composition\\\\0_row29_col10_x332_y646_w9_h10.png'], [], [], [], [], []]\n",
      "Meend List: ['', '', '', '', '', '', '', '', '', '', '', '', '', '']\n",
      "Swar List: [['Analysis\\\\bilawal_dhamaar_2\\\\working_composition\\\\0_row30_col1_x113_y663_w11_h12.png'], ['Analysis\\\\bilawal_dhamaar_2\\\\working_composition\\\\0_row30_col2_x133_y658_w21_h12.png'], ['Analysis\\\\bilawal_dhamaar_2\\\\working_composition\\\\0_row30_col3_x163_y657_w8_h19.png'], ['Analysis\\\\bilawal_dhamaar_2\\\\working_composition\\\\0_row30_col4_x181_y658_w15_h17.png'], ['Analysis\\\\bilawal_dhamaar_2\\\\working_composition\\\\0_row30_col5_x203_y658_w15_h17.png'], ['Analysis\\\\bilawal_dhamaar_2\\\\working_composition\\\\0_row30_col6_x239_y663_w10_h12.png'], ['Analysis\\\\bilawal_dhamaar_2\\\\working_composition\\\\0_row30_col7_x265_y658_w19_h14.png'], ['Analysis\\\\bilawal_dhamaar_2\\\\working_composition\\\\0_row30_col8_x303_y662_w10_h13.png'], ['Analysis\\\\bilawal_dhamaar_2\\\\working_composition\\\\0_row30_col10_x336_y662_w11_h14.png'], ['Analysis\\\\bilawal_dhamaar_2\\\\working_composition\\\\0_row30_col11_x370_y667_w10_h4.png'], [], [], [], []]\n",
      "Lyrics List: [['Analysis\\\\bilawal_dhamaar_2\\\\working_composition\\\\0_row32_col1_x113_y688_w15_h16.png'], ['Analysis\\\\bilawal_dhamaar_2\\\\working_composition\\\\0_row32_col2_x138_y691_w13_h11.png'], ['Analysis\\\\bilawal_dhamaar_2\\\\working_composition\\\\0_row32_col3_x167_y692_w7_h12.png'], ['Analysis\\\\bilawal_dhamaar_2\\\\working_composition\\\\0_row32_col4_x185_y692_w12_h13.png'], ['Analysis\\\\bilawal_dhamaar_2\\\\working_composition\\\\0_row32_col5_x207_y692_w10_h12.png'], ['Analysis\\\\bilawal_dhamaar_2\\\\working_composition\\\\0_row32_col6_x238_y691_w15_h13.png'], ['Analysis\\\\bilawal_dhamaar_2\\\\working_composition\\\\0_row32_col7_x270_y690_w13_h11.png'], ['Analysis\\\\bilawal_dhamaar_2\\\\working_composition\\\\0_row32_col8_x304_y691_w8_h12.png'], ['Analysis\\\\bilawal_dhamaar_2\\\\working_composition\\\\0_row32_col10_x334_y691_w14_h13.png'], ['Analysis\\\\bilawal_dhamaar_2\\\\working_composition\\\\0_row32_col11_x371_y691_w8_h12.png'], [], [], [], []]\n",
      "Swar Articulation Checks: [False, True, False, False, False, False, True, False, False, False, False, False, False, False]\n",
      "Lyrics Articulation Checks: [False, True, False, False, False, False, True, False, False, False, False, False, False, False]\n",
      "--------------------------------------------------------------------------------\n"
     ]
    }
   ],
   "source": [
    "subgroups = load_lists_in_subgroups()\n",
    "\n",
    "# Print the updated results for each subgroup\n",
    "for subgroup_range, results in subgroups.items():\n",
    "    print(f\"Subgroup Range: {subgroup_range}\")\n",
    "    print(f\"Kann Swar List: {results['kann_swar_list']}\")\n",
    "    print(f\"Meend List: {results['meend_list']}\")\n",
    "    print(f\"Swar List: {results['swar_list']}\")\n",
    "    print(f\"Lyrics List: {results['lyrics_list']}\")\n",
    "    print(f\"Swar Articulation Checks: {results['swar_articulation_checks']}\")\n",
    "    print(f\"Lyrics Articulation Checks: {results['lyrics_articulation_checks']}\")\n",
    "    print(\"-\" * 80)"
   ]
  },
  {
   "cell_type": "markdown",
   "metadata": {},
   "source": [
    "#### Final Segmentation and List Finalization\n",
    "- Performs further segmentation to finalize lists for each subgroup.\n",
    "\n",
    "#### Articulation Detection and Segmentation\n",
    "- Detects and segments **articulation** from:\n",
    "  - **Swar Row**: Updates the **Swar Articulation Checks** list.\n",
    "  - **Lyrics Row**: Updates the **Lyrics Articulation Checks** list.\n",
    "\n",
    "#### Word Segmentation\n",
    "- Applies **word segmentation** to:\n",
    "  - **Swar Row**: For images corresponding to **Swar Articulation Checks**.\n",
    "  - **Lyrics Row**: For images corresponding to **Lyrics Articulation Checks**."
   ]
  },
  {
   "cell_type": "code",
   "execution_count": 27,
   "metadata": {},
   "outputs": [],
   "source": [
    "from modifications import finalize_segmentation_and_lists\n",
    "\n",
    "finalize_segmentation_and_lists()"
   ]
  },
  {
   "cell_type": "code",
   "execution_count": 28,
   "metadata": {},
   "outputs": [
    {
     "name": "stdout",
     "output_type": "stream",
     "text": [
      "Subgroup Range: (4, 7)\n",
      "Kann Swar List: [[], [], [], [], [], [], [], [], [], [], [], ['Analysis\\\\bilawal_dhamaar_2\\\\working_composition\\\\0_row4_col12_x400_y145_w7_h10.png'], ['Analysis\\\\bilawal_dhamaar_2\\\\working_composition\\\\0_row4_col13_x434_y145_w9_h10.png'], []]\n",
      "Meend List: ['', '', '', '', '', '', '', '', '', '', '', '', '', '']\n",
      "Swar List: [[], [], [], [], [], [], [], [], [], [], [], ['Analysis\\\\bilawal_dhamaar_2\\\\working_composition\\\\0_row5_col12_x406_y162_w10_h12.png'], ['Analysis\\\\bilawal_dhamaar_2\\\\working_composition\\\\0_row5_col13_x439_y162_w10_h14.png'], ['Analysis\\\\bilawal_dhamaar_2\\\\working_composition\\\\0_row5_col14_x472_y166_w9_h5.png']]\n",
      "Lyrics List: [[], [], [], [], [], [], [], [], [], [], [], ['Analysis\\\\bilawal_dhamaar_2\\\\working_composition\\\\0_row6_col12_x405_y188_w11_h15.png'], ['Analysis\\\\bilawal_dhamaar_2\\\\working_composition\\\\0_row6_col13_x436_y188_w14_h12.png'], ['Analysis\\\\bilawal_dhamaar_2\\\\working_composition\\\\0_row6_col14_x473_y187_w8_h12.png']]\n",
      "Swar Articulation Checks: [[], [], [], [], [], [], [], [], [], [], [], False, False, False]\n",
      "Lyrics Articulation Checks: [[], [], [], [], [], [], [], [], [], [], [], False, False, False]\n",
      "--------------------------------------------------------------------------------\n",
      "Subgroup Range: (7, 8)\n",
      "Kann Swar List: [[], [], ['Analysis\\\\bilawal_dhamaar_2\\\\working_composition\\\\0_row7_col3_x156_y211_w14_h12.png'], ['Analysis\\\\bilawal_dhamaar_2\\\\working_composition_segmented\\\\0_row7_col4_x181_y214_w17_h9_upper.png'], [], [], [], [], ['Analysis\\\\bilawal_dhamaar_2\\\\working_composition\\\\0_row7_col9_x303_y213_w8_h8.png'], [], [], ['Analysis\\\\bilawal_dhamaar_2\\\\working_composition\\\\0_row7_col12_x401_y211_w13_h10.png'], [], []]\n",
      "Meend List: ['', '', '', '', '', '', '', '', '', '', '', '', '', '']\n",
      "Swar List: [['Analysis\\\\bilawal_dhamaar_2\\\\working_composition\\\\0_row7_col1_x118_y231_w9_h13.png'], ['Analysis\\\\bilawal_dhamaar_2\\\\working_composition\\\\0_row7_col2_x139_y236_w9_h4.png'], ['Analysis\\\\bilawal_dhamaar_2\\\\working_composition\\\\0_row7_col3_x159_y227_w14_h16.png'], ['Analysis\\\\bilawal_dhamaar_2\\\\working_composition_segmented\\\\0_row7_col4_x181_y227_w17_h16_lower.png'], ['Analysis\\\\bilawal_dhamaar_2\\\\working_composition\\\\0_row7_col5_x215_y227_w15_h16.png'], ['Analysis\\\\bilawal_dhamaar_2\\\\working_composition\\\\0_row7_col6_x240_y235_w10_h5.png'], ['Analysis\\\\bilawal_dhamaar_2\\\\working_composition\\\\0_row7_col7_x260_y235_w11_h5.png'], ['Analysis\\\\bilawal_dhamaar_2\\\\working_composition\\\\0_row7_col8_x281_y226_w14_h17.png'], ['Analysis\\\\bilawal_dhamaar_2\\\\working_composition\\\\0_row7_col9_x304_y226_w14_h16.png'], ['Analysis\\\\bilawal_dhamaar_2\\\\working_composition\\\\0_row7_col10_x339_y227_w15_h15.png'], ['Analysis\\\\bilawal_dhamaar_2\\\\working_composition\\\\0_row7_col11_x376_y235_w9_h4.png'], ['Analysis\\\\bilawal_dhamaar_2\\\\working_composition\\\\0_row7_col12_x405_y225_w7_h17.png'], ['Analysis\\\\bilawal_dhamaar_2\\\\working_composition\\\\0_row7_col13_x434_y226_w15_h15.png'], ['Analysis\\\\bilawal_dhamaar_2\\\\working_composition\\\\0_row7_col14_x470_y234_w10_h4.png']]\n",
      "Lyrics List: [['Analysis\\\\bilawal_dhamaar_2\\\\working_composition\\\\0_row8_col1_x118_y256_w12_h17.png'], ['Analysis\\\\bilawal_dhamaar_2\\\\working_composition\\\\0_row8_col2_x141_y260_w8_h12.png'], ['Analysis\\\\bilawal_dhamaar_2\\\\working_composition\\\\0_row8_col3_x163_y260_w9_h13.png'], ['Analysis\\\\bilawal_dhamaar_2\\\\working_composition\\\\0_row8_col4_x184_y260_w11_h12.png'], ['Analysis\\\\bilawal_dhamaar_2\\\\working_composition\\\\0_row8_col5_x215_y259_w13_h12.png'], ['Analysis\\\\bilawal_dhamaar_2\\\\working_composition\\\\0_row8_col6_x242_y259_w8_h12.png'], ['Analysis\\\\bilawal_dhamaar_2\\\\working_composition\\\\0_row8_col7_x263_y259_w8_h12.png'], ['Analysis\\\\bilawal_dhamaar_2\\\\working_composition\\\\0_row8_col8_x285_y258_w10_h13.png'], ['Analysis\\\\bilawal_dhamaar_2\\\\working_composition\\\\0_row8_col9_x310_y259_w9_h12.png'], ['Analysis\\\\bilawal_dhamaar_2\\\\working_composition\\\\0_row8_col10_x339_y252_w14_h19.png'], ['Analysis\\\\bilawal_dhamaar_2\\\\working_composition\\\\0_row8_col11_x375_y258_w8_h12.png'], ['Analysis\\\\bilawal_dhamaar_2\\\\working_composition\\\\0_row8_col12_x406_y258_w8_h14.png'], ['Analysis\\\\bilawal_dhamaar_2\\\\working_composition\\\\0_row8_col13_x441_y258_w10_h13.png'], ['Analysis\\\\bilawal_dhamaar_2\\\\working_composition\\\\0_row8_col14_x473_y257_w7_h13.png']]\n",
      "Swar Articulation Checks: [False, False, False, False, False, False, False, False, False, False, False, False, False, False]\n",
      "Lyrics Articulation Checks: [False, False, False, False, False, False, False, False, False, False, False, False, False, False]\n",
      "--------------------------------------------------------------------------------\n",
      "Subgroup Range: (10, 14)\n",
      "Kann Swar List: [['Analysis\\\\bilawal_dhamaar_2\\\\working_composition\\\\0_row10_col1_x116_y294_w14_h13.png'], [], [], [], ['Analysis\\\\bilawal_dhamaar_2\\\\working_composition\\\\0_row10_col5_x213_y296_w6_h9.png'], ['Analysis\\\\bilawal_dhamaar_2\\\\working_composition\\\\0_row10_col6_x232_y296_w7_h9.png'], [], ['Analysis\\\\bilawal_dhamaar_2\\\\working_composition\\\\0_row10_col8_x278_y295_w9_h9.png'], [], [], [], [], [], []]\n",
      "Meend List: ['', '', '', '', '', '', '', '', '', '', '', '', '', '']\n",
      "Swar List: [['Analysis\\\\bilawal_dhamaar_2\\\\working_composition\\\\0_row11_col1_x117_y314_w10_h12.png'], ['Analysis\\\\bilawal_dhamaar_2\\\\working_composition_segmented\\\\0_row11_col2_x137_y309_w22_h23_seg1.png', 'Analysis\\\\bilawal_dhamaar_2\\\\working_composition_segmented\\\\0_row11_col2_x137_y309_w22_h23_seg2.png'], ['Analysis\\\\bilawal_dhamaar_2\\\\working_composition\\\\0_row11_col3_x169_y313_w8_h13.png'], ['Analysis\\\\bilawal_dhamaar_2\\\\working_composition\\\\0_row11_col4_x189_y318_w9_h4.png'], ['Analysis\\\\bilawal_dhamaar_2\\\\working_composition\\\\0_row11_col5_x215_y312_w10_h13.png'], ['Analysis\\\\bilawal_dhamaar_2\\\\working_composition\\\\0_row11_col6_x235_y313_w10_h12.png'], ['Analysis\\\\bilawal_dhamaar_2\\\\working_composition_segmented\\\\0_row11_col7_x255_y307_w15_h14_seg1.png', 'Analysis\\\\bilawal_dhamaar_2\\\\working_composition_segmented\\\\0_row11_col7_x255_y307_w15_h14_seg2.png'], ['Analysis\\\\bilawal_dhamaar_2\\\\working_composition\\\\0_row11_col8_x285_y312_w10_h13.png'], ['Analysis\\\\bilawal_dhamaar_2\\\\working_composition\\\\0_row11_col9_x309_y312_w9_h12.png'], ['Analysis\\\\bilawal_dhamaar_2\\\\working_composition\\\\0_row11_col10_x338_y312_w9_h12.png'], ['Analysis\\\\bilawal_dhamaar_2\\\\working_composition_segmented\\\\0_row11_col11_x367_y311_w18_h9_seg1.png', 'Analysis\\\\bilawal_dhamaar_2\\\\working_composition_segmented\\\\0_row11_col11_x367_y311_w18_h9_seg2.png'], ['Analysis\\\\bilawal_dhamaar_2\\\\working_composition\\\\0_row11_col12_x405_y312_w10_h13.png'], ['Analysis\\\\bilawal_dhamaar_2\\\\working_composition\\\\0_row11_col13_x437_y305_w8_h19.png'], ['Analysis\\\\bilawal_dhamaar_2\\\\working_composition\\\\0_row11_col14_x471_y316_w10_h4.png']]\n",
      "Lyrics List: [['Analysis\\\\bilawal_dhamaar_2\\\\working_composition\\\\0_row13_col1_x117_y343_w11_h14.png'], ['Analysis\\\\bilawal_dhamaar_2\\\\working_composition_segmented\\\\0_row13_col2_x137_y337_w20_h15_seg1.png', 'Analysis\\\\bilawal_dhamaar_2\\\\working_composition_segmented\\\\0_row13_col2_x137_y337_w20_h15_seg2.png'], ['Analysis\\\\bilawal_dhamaar_2\\\\working_composition\\\\0_row13_col3_x165_y342_w15_h14.png'], ['Analysis\\\\bilawal_dhamaar_2\\\\working_composition\\\\0_row13_col4_x190_y342_w8_h12.png'], ['Analysis\\\\bilawal_dhamaar_2\\\\working_composition\\\\0_row13_col5_x215_y342_w10_h11.png'], ['Analysis\\\\bilawal_dhamaar_2\\\\working_composition\\\\0_row13_col6_x234_y342_w9_h12.png'], ['Analysis\\\\bilawal_dhamaar_2\\\\working_composition_segmented\\\\0_row13_col7_x256_y341_w13_h10_seg1.png'], ['Analysis\\\\bilawal_dhamaar_2\\\\working_composition\\\\0_row13_col8_x282_y342_w15_h11.png'], ['Analysis\\\\bilawal_dhamaar_2\\\\working_composition\\\\0_row13_col9_x311_y341_w7_h12.png'], ['Analysis\\\\bilawal_dhamaar_2\\\\working_composition\\\\0_row13_col10_x338_y342_w11_h11.png'], ['Analysis\\\\bilawal_dhamaar_2\\\\working_composition_segmented\\\\0_row13_col11_x367_y340_w15_h19_seg1.png', 'Analysis\\\\bilawal_dhamaar_2\\\\working_composition_segmented\\\\0_row13_col11_x367_y340_w15_h19_seg2.png'], ['Analysis\\\\bilawal_dhamaar_2\\\\working_composition\\\\0_row13_col12_x405_y341_w9_h13.png'], ['Analysis\\\\bilawal_dhamaar_2\\\\working_composition\\\\0_row13_col13_x436_y341_w9_h12.png'], ['Analysis\\\\bilawal_dhamaar_2\\\\working_composition\\\\0_row13_col14_x473_y340_w7_h12.png']]\n",
      "Swar Articulation Checks: [False, True, False, False, False, False, True, False, False, False, True, False, False, False]\n",
      "Lyrics Articulation Checks: [False, True, False, False, False, False, True, False, False, False, True, False, False, False]\n",
      "--------------------------------------------------------------------------------\n",
      "Subgroup Range: (16, 19)\n",
      "Kann Swar List: [[], [], [], [], ['Analysis\\\\bilawal_dhamaar_2\\\\working_composition\\\\0_row16_col5_x213_y374_w12_h14.png'], [], [], ['Analysis\\\\bilawal_dhamaar_2\\\\working_composition\\\\0_row16_col9_x273_y376_w14_h12.png'], [], [], [], ['Analysis\\\\bilawal_dhamaar_2\\\\working_composition\\\\0_row16_col14_x399_y377_w6_h10.png'], ['Analysis\\\\bilawal_dhamaar_2\\\\working_composition\\\\0_row16_col15_x438_y377_w9_h10.png'], []]\n",
      "Meend List: ['', '', '', '', '', '', '', '', '', '', '', '', '', '']\n",
      "Swar List: [['Analysis\\\\bilawal_dhamaar_2\\\\working_composition\\\\0_row18_col1_x116_y395_w15_h12.png'], ['Analysis\\\\bilawal_dhamaar_2\\\\working_composition\\\\0_row18_col2_x142_y400_w10_h4.png'], ['Analysis\\\\bilawal_dhamaar_2\\\\working_composition\\\\0_row18_col3_x162_y400_w11_h4.png'], ['Analysis\\\\bilawal_dhamaar_2\\\\working_composition\\\\0_row18_col4_x183_y395_w15_h12.png'], ['Analysis\\\\bilawal_dhamaar_2\\\\working_composition\\\\0_row18_col5_x215_y392_w14_h15.png'], ['Analysis\\\\bilawal_dhamaar_2\\\\working_composition\\\\0_row18_col7_x239_y391_w15_h16.png'], ['Analysis\\\\bilawal_dhamaar_2\\\\working_composition\\\\0_row18_col8_x263_y399_w10_h5.png'], ['Analysis\\\\bilawal_dhamaar_2\\\\working_composition\\\\0_row18_col10_x284_y395_w10_h12.png'], ['Analysis\\\\bilawal_dhamaar_2\\\\working_composition\\\\0_row18_col11_x308_y399_w9_h5.png'], ['Analysis\\\\bilawal_dhamaar_2\\\\working_composition\\\\0_row18_col12_x338_y391_w13_h19.png'], ['Analysis\\\\bilawal_dhamaar_2\\\\working_composition\\\\0_row18_col13_x372_y394_w9_h13.png'], ['Analysis\\\\bilawal_dhamaar_2\\\\working_composition\\\\0_row18_col14_x404_y394_w10_h13.png'], ['Analysis\\\\bilawal_dhamaar_2\\\\working_composition\\\\0_row18_col15_x437_y394_w10_h13.png'], ['Analysis\\\\bilawal_dhamaar_2\\\\working_composition\\\\0_row18_col17_x468_y399_w12_h4.png']]\n",
      "Lyrics List: [['Analysis\\\\bilawal_dhamaar_2\\\\working_composition\\\\0_row19_col1_x115_y418_w15_h18.png'], ['Analysis\\\\bilawal_dhamaar_2\\\\working_composition\\\\0_row19_col2_x141_y423_w7_h13.png'], ['Analysis\\\\bilawal_dhamaar_2\\\\working_composition\\\\0_row19_col3_x165_y423_w8_h13.png'], ['Analysis\\\\bilawal_dhamaar_2\\\\working_composition\\\\0_row19_col4_x183_y424_w11_h11.png'], ['Analysis\\\\bilawal_dhamaar_2\\\\working_composition\\\\0_row19_col5_x214_y420_w9_h16.png'], ['Analysis\\\\bilawal_dhamaar_2\\\\working_composition\\\\0_row19_col7_x237_y423_w8_h12.png'], ['Analysis\\\\bilawal_dhamaar_2\\\\working_composition\\\\0_row19_col8_x263_y423_w7_h12.png'], ['Analysis\\\\bilawal_dhamaar_2\\\\working_composition\\\\0_row19_col10_x288_y424_w9_h14.png'], ['Analysis\\\\bilawal_dhamaar_2\\\\working_composition\\\\0_row19_col11_x310_y423_w8_h12.png'], ['Analysis\\\\bilawal_dhamaar_2\\\\working_composition\\\\0_row19_col12_x338_y423_w7_h12.png'], ['Analysis\\\\bilawal_dhamaar_2\\\\working_composition\\\\0_row19_col13_x367_y424_w13_h11.png'], ['Analysis\\\\bilawal_dhamaar_2\\\\working_composition\\\\0_row19_col14_x402_y417_w13_h22.png'], ['Analysis\\\\bilawal_dhamaar_2\\\\working_composition\\\\0_row19_col15_x432_y423_w13_h13.png'], ['Analysis\\\\bilawal_dhamaar_2\\\\working_composition\\\\0_row19_col16_x463_y423_w8_h13.png'], ['Analysis\\\\bilawal_dhamaar_2\\\\working_composition\\\\0_row19_col18_x478_y423_w5_h14.png']]\n",
      "Swar Articulation Checks: [False, False, False, False, False, False, False, False, False, False, False, False, False, False]\n",
      "Lyrics Articulation Checks: [False, False, False, False, False, False, False, False, False, False, False, False, False, False, False]\n",
      "--------------------------------------------------------------------------------\n",
      "Subgroup Range: (22, 24)\n",
      "Kann Swar List: [['Analysis\\\\bilawal_dhamaar_2\\\\working_composition\\\\0_row22_col1_x114_y477_w12_h14.png'], [], [], ['Analysis\\\\bilawal_dhamaar_2\\\\working_composition\\\\0_row22_col6_x173_y478_w13_h12.png'], ['Analysis\\\\bilawal_dhamaar_2\\\\working_composition\\\\0_row22_col7_x194_y481_w9_h10.png'], [], [], [], [], [], ['Analysis\\\\bilawal_dhamaar_2\\\\working_composition\\\\0_row22_col14_x397_y477_w12_h13.png'], [], [], []]\n",
      "Meend List: ['', '', '', '', '', '', '', '', '', '', '', '', '', '']\n",
      "Swar List: [['Analysis\\\\bilawal_dhamaar_2\\\\working_composition\\\\0_row23_col1_x115_y495_w14_h15.png'], ['Analysis\\\\bilawal_dhamaar_2\\\\working_composition\\\\0_row23_col2_x137_y502_w10_h5.png'], ['Analysis\\\\bilawal_dhamaar_2\\\\working_composition\\\\0_row23_col4_x158_y502_w10_h5.png'], ['Analysis\\\\bilawal_dhamaar_2\\\\working_composition\\\\0_row23_col6_x179_y494_w14_h16.png'], ['Analysis\\\\bilawal_dhamaar_2\\\\working_composition\\\\0_row23_col8_x204_y493_w14_h17.png'], ['Analysis\\\\bilawal_dhamaar_2\\\\working_composition\\\\0_row23_col9_x239_y494_w15_h16.png'], ['Analysis\\\\bilawal_dhamaar_2\\\\working_composition\\\\0_row23_col10_x275_y502_w9_h5.png'], ['Analysis\\\\bilawal_dhamaar_2\\\\working_composition\\\\0_row23_col11_x306_y493_w15_h17.png'], ['Analysis\\\\bilawal_dhamaar_2\\\\working_composition\\\\0_row23_col12_x336_y503_w9_h4.png'], ['Analysis\\\\bilawal_dhamaar_2\\\\working_composition\\\\0_row23_col13_x364_y494_w15_h16.png'], ['Analysis\\\\bilawal_dhamaar_2\\\\working_composition\\\\0_row23_col14_x403_y494_w15_h16.png'], ['Analysis\\\\bilawal_dhamaar_2\\\\working_composition\\\\0_row23_col15_x424_y493_w8_h18.png'], ['Analysis\\\\bilawal_dhamaar_2\\\\working_composition\\\\0_row23_col16_x442_y493_w15_h17.png'], ['Analysis\\\\bilawal_dhamaar_2\\\\working_composition\\\\0_row23_col17_x467_y502_w12_h4.png']]\n",
      "Lyrics List: [['Analysis\\\\bilawal_dhamaar_2\\\\working_composition\\\\0_row24_col1_x115_y527_w13_h12.png'], ['Analysis\\\\bilawal_dhamaar_2\\\\working_composition\\\\0_row24_col3_x143_y526_w8_h13.png'], ['Analysis\\\\bilawal_dhamaar_2\\\\working_composition\\\\0_row24_col5_x164_y526_w8_h13.png'], ['Analysis\\\\bilawal_dhamaar_2\\\\working_composition\\\\0_row24_col6_x185_y527_w10_h12.png'], ['Analysis\\\\bilawal_dhamaar_2\\\\working_composition\\\\0_row24_col8_x209_y527_w9_h13.png'], ['Analysis\\\\bilawal_dhamaar_2\\\\working_composition\\\\0_row24_col9_x238_y527_w14_h12.png'], ['Analysis\\\\bilawal_dhamaar_2\\\\working_composition\\\\0_row24_col10_x274_y526_w8_h13.png'], ['Analysis\\\\bilawal_dhamaar_2\\\\working_composition\\\\0_row24_col11_x304_y527_w12_h12.png'], ['Analysis\\\\bilawal_dhamaar_2\\\\working_composition\\\\0_row24_col12_x337_y527_w8_h11.png'], ['Analysis\\\\bilawal_dhamaar_2\\\\working_composition\\\\0_row24_col13_x369_y527_w11_h15.png'], ['Analysis\\\\bilawal_dhamaar_2\\\\working_composition\\\\0_row24_col14_x403_y522_w9_h21.png'], ['Analysis\\\\bilawal_dhamaar_2\\\\working_composition\\\\0_row24_col15_x423_y526_w7_h13.png'], ['Analysis\\\\bilawal_dhamaar_2\\\\working_composition\\\\0_row24_col16_x449_y527_w10_h13.png'], ['Analysis\\\\bilawal_dhamaar_2\\\\working_composition\\\\0_row24_col17_x471_y526_w8_h12.png']]\n",
      "Swar Articulation Checks: [False, False, False, False, False, False, False, False, False, False, False, False, False, False]\n",
      "Lyrics Articulation Checks: [False, False, False, False, False, False, False, False, False, False, False, False, False, False]\n",
      "--------------------------------------------------------------------------------\n",
      "Subgroup Range: (26, 27)\n",
      "Kann Swar List: [['Analysis\\\\bilawal_dhamaar_2\\\\working_composition\\\\0_row26_col1_x113_y560_w13_h13.png'], [], [], [], [], [], [], [], ['Analysis\\\\bilawal_dhamaar_2\\\\working_composition_segmented\\\\0_row26_col9_x300_y561_w12_h12_upper.png'], [], [], ['Analysis\\\\bilawal_dhamaar_2\\\\working_composition\\\\0_row26_col12_x397_y560_w12_h13.png'], [], [], []]\n",
      "Meend List: ['', '', '', '', '', '', '', '', '', '', '', '', '', '', '']\n",
      "Swar List: [['Analysis\\\\bilawal_dhamaar_2\\\\working_composition\\\\0_row26_col1_x114_y577_w15_h16.png'], ['Analysis\\\\bilawal_dhamaar_2\\\\working_composition\\\\0_row26_col2_x140_y576_w10_h17.png'], ['Analysis\\\\bilawal_dhamaar_2\\\\working_composition\\\\0_row26_col3_x161_y585_w9_h4.png'], ['Analysis\\\\bilawal_dhamaar_2\\\\working_composition\\\\0_row26_col4_x179_y558_w8_h16.png'], ['Analysis\\\\bilawal_dhamaar_2\\\\working_composition\\\\0_row26_col5_x185_y576_w10_h18.png'], ['Analysis\\\\bilawal_dhamaar_2\\\\working_composition\\\\0_row26_col6_x208_y585_w10_h4.png'], ['Analysis\\\\bilawal_dhamaar_2\\\\working_composition\\\\0_row26_col7_x238_y585_w10_h5.png'], ['Analysis\\\\bilawal_dhamaar_2\\\\working_composition\\\\0_row26_col8_x274_y577_w10_h16.png'], ['Analysis\\\\bilawal_dhamaar_2\\\\working_composition_segmented\\\\0_row26_col9_x300_y575_w12_h17_lower.png'], ['Analysis\\\\bilawal_dhamaar_2\\\\working_composition\\\\0_row26_col10_x337_y585_w10_h4.png'], ['Analysis\\\\bilawal_dhamaar_2\\\\working_composition\\\\0_row26_col11_x368_y585_w12_h4.png'], ['Analysis\\\\bilawal_dhamaar_2\\\\working_composition\\\\0_row26_col12_x402_y576_w15_h17.png'], ['Analysis\\\\bilawal_dhamaar_2\\\\working_composition\\\\0_row26_col13_x424_y575_w7_h18.png'], ['Analysis\\\\bilawal_dhamaar_2\\\\working_composition\\\\0_row26_col14_x441_y575_w15_h18.png'], ['Analysis\\\\bilawal_dhamaar_2\\\\working_composition\\\\0_row26_col15_x463_y576_w15_h17.png']]\n",
      "Lyrics List: [['Analysis\\\\bilawal_dhamaar_2\\\\working_composition\\\\0_row27_col1_x114_y604_w13_h17.png'], ['Analysis\\\\bilawal_dhamaar_2\\\\working_composition\\\\0_row27_col2_x142_y609_w8_h11.png'], ['Analysis\\\\bilawal_dhamaar_2\\\\working_composition\\\\0_row27_col3_x160_y608_w8_h13.png'], ['Analysis\\\\bilawal_dhamaar_2\\\\working_composition\\\\0_row27_col5_x186_y610_w9_h12.png'], ['Analysis\\\\bilawal_dhamaar_2\\\\working_composition\\\\0_row27_col6_x210_y609_w8_h12.png'], ['Analysis\\\\bilawal_dhamaar_2\\\\working_composition\\\\0_row27_col7_x238_y609_w8_h11.png'], ['Analysis\\\\bilawal_dhamaar_2\\\\working_composition\\\\0_row27_col8_x274_y609_w10_h17.png'], ['Analysis\\\\bilawal_dhamaar_2\\\\working_composition\\\\0_row27_col9_x304_y609_w9_h13.png'], ['Analysis\\\\bilawal_dhamaar_2\\\\working_composition\\\\0_row27_col10_x341_y609_w8_h12.png'], ['Analysis\\\\bilawal_dhamaar_2\\\\working_composition\\\\0_row27_col11_x372_y609_w7_h12.png'], ['Analysis\\\\bilawal_dhamaar_2\\\\working_composition\\\\0_row27_col12_x402_y603_w10_h18.png'], ['Analysis\\\\bilawal_dhamaar_2\\\\working_composition\\\\0_row27_col13_x427_y609_w7_h12.png'], ['Analysis\\\\bilawal_dhamaar_2\\\\working_composition\\\\0_row27_col14_x446_y609_w9_h13.png'], ['Analysis\\\\bilawal_dhamaar_2\\\\working_composition\\\\0_row27_col15_x470_y608_w8_h14.png']]\n",
      "Swar Articulation Checks: [False, False, False, False, False, False, False, False, False, False, False, False, False, False, False]\n",
      "Lyrics Articulation Checks: [False, False, False, False, False, False, False, False, False, False, False, False, False, False]\n",
      "--------------------------------------------------------------------------------\n",
      "Subgroup Range: (29, 33)\n",
      "Kann Swar List: [['Analysis\\\\bilawal_dhamaar_2\\\\working_composition\\\\0_row29_col1_x112_y645_w10_h10.png'], [], [], [], [], ['Analysis\\\\bilawal_dhamaar_2\\\\working_composition\\\\0_row29_col6_x233_y645_w10_h9.png'], [], ['Analysis\\\\bilawal_dhamaar_2\\\\working_composition\\\\0_row29_col8_x298_y646_w7_h10.png'], ['Analysis\\\\bilawal_dhamaar_2\\\\working_composition\\\\0_row29_col10_x332_y646_w9_h10.png'], [], [], [], [], []]\n",
      "Meend List: ['', '', '', '', '', '', '', '', '', '', '', '', '', '']\n",
      "Swar List: [['Analysis\\\\bilawal_dhamaar_2\\\\working_composition\\\\0_row30_col1_x113_y663_w11_h12.png'], ['Analysis\\\\bilawal_dhamaar_2\\\\working_composition_segmented\\\\0_row30_col2_x133_y658_w21_h12_seg1.png', 'Analysis\\\\bilawal_dhamaar_2\\\\working_composition_segmented\\\\0_row30_col2_x133_y658_w21_h12_seg2.png'], ['Analysis\\\\bilawal_dhamaar_2\\\\working_composition\\\\0_row30_col3_x163_y657_w8_h19.png'], ['Analysis\\\\bilawal_dhamaar_2\\\\working_composition\\\\0_row30_col4_x181_y658_w15_h17.png'], ['Analysis\\\\bilawal_dhamaar_2\\\\working_composition\\\\0_row30_col5_x203_y658_w15_h17.png'], ['Analysis\\\\bilawal_dhamaar_2\\\\working_composition\\\\0_row30_col6_x239_y663_w10_h12.png'], ['Analysis\\\\bilawal_dhamaar_2\\\\working_composition_segmented\\\\0_row30_col7_x265_y658_w19_h14_seg1.png', 'Analysis\\\\bilawal_dhamaar_2\\\\working_composition_segmented\\\\0_row30_col7_x265_y658_w19_h14_seg2.png'], ['Analysis\\\\bilawal_dhamaar_2\\\\working_composition\\\\0_row30_col8_x303_y662_w10_h13.png'], ['Analysis\\\\bilawal_dhamaar_2\\\\working_composition\\\\0_row30_col10_x336_y662_w11_h14.png'], ['Analysis\\\\bilawal_dhamaar_2\\\\working_composition\\\\0_row30_col11_x370_y667_w10_h4.png'], [], [], [], []]\n",
      "Lyrics List: [['Analysis\\\\bilawal_dhamaar_2\\\\working_composition\\\\0_row32_col1_x113_y688_w15_h16.png'], ['Analysis\\\\bilawal_dhamaar_2\\\\working_composition_segmented\\\\0_row32_col2_x138_y691_w13_h11_seg1.png'], ['Analysis\\\\bilawal_dhamaar_2\\\\working_composition\\\\0_row32_col3_x167_y692_w7_h12.png'], ['Analysis\\\\bilawal_dhamaar_2\\\\working_composition\\\\0_row32_col4_x185_y692_w12_h13.png'], ['Analysis\\\\bilawal_dhamaar_2\\\\working_composition\\\\0_row32_col5_x207_y692_w10_h12.png'], ['Analysis\\\\bilawal_dhamaar_2\\\\working_composition\\\\0_row32_col6_x238_y691_w15_h13.png'], ['Analysis\\\\bilawal_dhamaar_2\\\\working_composition_segmented\\\\0_row32_col7_x270_y690_w13_h11_seg1.png'], ['Analysis\\\\bilawal_dhamaar_2\\\\working_composition\\\\0_row32_col8_x304_y691_w8_h12.png'], ['Analysis\\\\bilawal_dhamaar_2\\\\working_composition\\\\0_row32_col10_x334_y691_w14_h13.png'], ['Analysis\\\\bilawal_dhamaar_2\\\\working_composition\\\\0_row32_col11_x371_y691_w8_h12.png'], [], [], [], []]\n",
      "Swar Articulation Checks: [False, True, False, False, False, False, True, False, False, False, False, False, False, False]\n",
      "Lyrics Articulation Checks: [False, True, False, False, False, False, True, False, False, False, False, False, False, False]\n",
      "--------------------------------------------------------------------------------\n"
     ]
    }
   ],
   "source": [
    "subgroups = load_lists_in_subgroups()\n",
    "\n",
    "# Print the updated results for each subgroup\n",
    "for subgroup_range, results in subgroups.items():\n",
    "    print(f\"Subgroup Range: {subgroup_range}\")\n",
    "    print(f\"Kann Swar List: {results['kann_swar_list']}\")\n",
    "    print(f\"Meend List: {results['meend_list']}\")\n",
    "    print(f\"Swar List: {results['swar_list']}\")\n",
    "    print(f\"Lyrics List: {results['lyrics_list']}\")\n",
    "    print(f\"Swar Articulation Checks: {results['swar_articulation_checks']}\")\n",
    "    print(f\"Lyrics Articulation Checks: {results['lyrics_articulation_checks']}\")\n",
    "    print(\"-\" * 80)"
   ]
  },
  {
   "cell_type": "markdown",
   "metadata": {},
   "source": [
    "#### Prediction for Kann Swar and Swar Rows\n",
    "- Predicts results for:\n",
    "  - **Kann Swar Row Images**: Uses the **Kann Swar List** for predictions.\n",
    "  - **Swar Row Images**: Uses the **Swar List** for predictions.\n",
    "- Generates predictions for each subgroup based on the respective lists."
   ]
  },
  {
   "cell_type": "code",
   "execution_count": null,
   "metadata": {},
   "outputs": [
    {
     "name": "stdout",
     "output_type": "stream",
     "text": [
      "saa\n"
     ]
    }
   ],
   "source": [
    "# from save_and_load import load_classes\n",
    "\n",
    "# classes = load_classes()\n",
    "\n",
    "# print(classes[0])"
   ]
  },
  {
   "cell_type": "code",
   "execution_count": 29,
   "metadata": {},
   "outputs": [
    {
     "name": "stderr",
     "output_type": "stream",
     "text": [
      "WARNING:absl:Compiled the loaded model, but the compiled metrics have yet to be built. `model.compile_metrics` will be empty until you train or evaluate the model.\n"
     ]
    },
    {
     "name": "stdout",
     "output_type": "stream",
     "text": [
      "\u001b[1m1/1\u001b[0m \u001b[32m━━━━━━━━━━━━━━━━━━━━\u001b[0m\u001b[37m\u001b[0m \u001b[1m0s\u001b[0m 357ms/step\n"
     ]
    },
    {
     "name": "stderr",
     "output_type": "stream",
     "text": [
      "WARNING:absl:Compiled the loaded model, but the compiled metrics have yet to be built. `model.compile_metrics` will be empty until you train or evaluate the model.\n"
     ]
    },
    {
     "name": "stdout",
     "output_type": "stream",
     "text": [
      "\u001b[1m1/1\u001b[0m \u001b[32m━━━━━━━━━━━━━━━━━━━━\u001b[0m\u001b[37m\u001b[0m \u001b[1m0s\u001b[0m 151ms/step\n"
     ]
    },
    {
     "name": "stderr",
     "output_type": "stream",
     "text": [
      "WARNING:absl:Compiled the loaded model, but the compiled metrics have yet to be built. `model.compile_metrics` will be empty until you train or evaluate the model.\n"
     ]
    },
    {
     "name": "stdout",
     "output_type": "stream",
     "text": [
      "\u001b[1m1/1\u001b[0m \u001b[32m━━━━━━━━━━━━━━━━━━━━\u001b[0m\u001b[37m\u001b[0m \u001b[1m0s\u001b[0m 152ms/step\n"
     ]
    },
    {
     "name": "stderr",
     "output_type": "stream",
     "text": [
      "WARNING:absl:Compiled the loaded model, but the compiled metrics have yet to be built. `model.compile_metrics` will be empty until you train or evaluate the model.\n"
     ]
    },
    {
     "name": "stdout",
     "output_type": "stream",
     "text": [
      "\u001b[1m1/1\u001b[0m \u001b[32m━━━━━━━━━━━━━━━━━━━━\u001b[0m\u001b[37m\u001b[0m \u001b[1m0s\u001b[0m 171ms/step\n"
     ]
    },
    {
     "name": "stderr",
     "output_type": "stream",
     "text": [
      "WARNING:absl:Compiled the loaded model, but the compiled metrics have yet to be built. `model.compile_metrics` will be empty until you train or evaluate the model.\n"
     ]
    },
    {
     "name": "stdout",
     "output_type": "stream",
     "text": [
      "WARNING:tensorflow:5 out of the last 5 calls to <function TensorFlowTrainer.make_predict_function.<locals>.one_step_on_data_distributed at 0x0000029E14C32CA0> triggered tf.function retracing. Tracing is expensive and the excessive number of tracings could be due to (1) creating @tf.function repeatedly in a loop, (2) passing tensors with different shapes, (3) passing Python objects instead of tensors. For (1), please define your @tf.function outside of the loop. For (2), @tf.function has reduce_retracing=True option that can avoid unnecessary retracing. For (3), please refer to https://www.tensorflow.org/guide/function#controlling_retracing and https://www.tensorflow.org/api_docs/python/tf/function for  more details.\n"
     ]
    },
    {
     "name": "stderr",
     "output_type": "stream",
     "text": [
      "WARNING:tensorflow:5 out of the last 5 calls to <function TensorFlowTrainer.make_predict_function.<locals>.one_step_on_data_distributed at 0x0000029E14C32CA0> triggered tf.function retracing. Tracing is expensive and the excessive number of tracings could be due to (1) creating @tf.function repeatedly in a loop, (2) passing tensors with different shapes, (3) passing Python objects instead of tensors. For (1), please define your @tf.function outside of the loop. For (2), @tf.function has reduce_retracing=True option that can avoid unnecessary retracing. For (3), please refer to https://www.tensorflow.org/guide/function#controlling_retracing and https://www.tensorflow.org/api_docs/python/tf/function for  more details.\n"
     ]
    },
    {
     "name": "stdout",
     "output_type": "stream",
     "text": [
      "\u001b[1m1/1\u001b[0m \u001b[32m━━━━━━━━━━━━━━━━━━━━\u001b[0m\u001b[37m\u001b[0m \u001b[1m0s\u001b[0m 154ms/step\n"
     ]
    },
    {
     "name": "stderr",
     "output_type": "stream",
     "text": [
      "WARNING:absl:Compiled the loaded model, but the compiled metrics have yet to be built. `model.compile_metrics` will be empty until you train or evaluate the model.\n"
     ]
    },
    {
     "name": "stdout",
     "output_type": "stream",
     "text": [
      "WARNING:tensorflow:6 out of the last 6 calls to <function TensorFlowTrainer.make_predict_function.<locals>.one_step_on_data_distributed at 0x0000029E177B6D40> triggered tf.function retracing. Tracing is expensive and the excessive number of tracings could be due to (1) creating @tf.function repeatedly in a loop, (2) passing tensors with different shapes, (3) passing Python objects instead of tensors. For (1), please define your @tf.function outside of the loop. For (2), @tf.function has reduce_retracing=True option that can avoid unnecessary retracing. For (3), please refer to https://www.tensorflow.org/guide/function#controlling_retracing and https://www.tensorflow.org/api_docs/python/tf/function for  more details.\n"
     ]
    },
    {
     "name": "stderr",
     "output_type": "stream",
     "text": [
      "WARNING:tensorflow:6 out of the last 6 calls to <function TensorFlowTrainer.make_predict_function.<locals>.one_step_on_data_distributed at 0x0000029E177B6D40> triggered tf.function retracing. Tracing is expensive and the excessive number of tracings could be due to (1) creating @tf.function repeatedly in a loop, (2) passing tensors with different shapes, (3) passing Python objects instead of tensors. For (1), please define your @tf.function outside of the loop. For (2), @tf.function has reduce_retracing=True option that can avoid unnecessary retracing. For (3), please refer to https://www.tensorflow.org/guide/function#controlling_retracing and https://www.tensorflow.org/api_docs/python/tf/function for  more details.\n"
     ]
    },
    {
     "name": "stdout",
     "output_type": "stream",
     "text": [
      "\u001b[1m1/1\u001b[0m \u001b[32m━━━━━━━━━━━━━━━━━━━━\u001b[0m\u001b[37m\u001b[0m \u001b[1m0s\u001b[0m 144ms/step\n"
     ]
    },
    {
     "name": "stderr",
     "output_type": "stream",
     "text": [
      "WARNING:absl:Compiled the loaded model, but the compiled metrics have yet to be built. `model.compile_metrics` will be empty until you train or evaluate the model.\n"
     ]
    },
    {
     "name": "stdout",
     "output_type": "stream",
     "text": [
      "\u001b[1m1/1\u001b[0m \u001b[32m━━━━━━━━━━━━━━━━━━━━\u001b[0m\u001b[37m\u001b[0m \u001b[1m0s\u001b[0m 153ms/step\n"
     ]
    },
    {
     "name": "stderr",
     "output_type": "stream",
     "text": [
      "WARNING:absl:Compiled the loaded model, but the compiled metrics have yet to be built. `model.compile_metrics` will be empty until you train or evaluate the model.\n"
     ]
    },
    {
     "name": "stdout",
     "output_type": "stream",
     "text": [
      "\u001b[1m1/1\u001b[0m \u001b[32m━━━━━━━━━━━━━━━━━━━━\u001b[0m\u001b[37m\u001b[0m \u001b[1m0s\u001b[0m 144ms/step\n"
     ]
    },
    {
     "name": "stderr",
     "output_type": "stream",
     "text": [
      "WARNING:absl:Compiled the loaded model, but the compiled metrics have yet to be built. `model.compile_metrics` will be empty until you train or evaluate the model.\n"
     ]
    },
    {
     "name": "stdout",
     "output_type": "stream",
     "text": [
      "\u001b[1m1/1\u001b[0m \u001b[32m━━━━━━━━━━━━━━━━━━━━\u001b[0m\u001b[37m\u001b[0m \u001b[1m0s\u001b[0m 160ms/step\n"
     ]
    },
    {
     "name": "stderr",
     "output_type": "stream",
     "text": [
      "WARNING:absl:Compiled the loaded model, but the compiled metrics have yet to be built. `model.compile_metrics` will be empty until you train or evaluate the model.\n"
     ]
    },
    {
     "name": "stdout",
     "output_type": "stream",
     "text": [
      "\u001b[1m1/1\u001b[0m \u001b[32m━━━━━━━━━━━━━━━━━━━━\u001b[0m\u001b[37m\u001b[0m \u001b[1m0s\u001b[0m 166ms/step\n"
     ]
    },
    {
     "name": "stderr",
     "output_type": "stream",
     "text": [
      "WARNING:absl:Compiled the loaded model, but the compiled metrics have yet to be built. `model.compile_metrics` will be empty until you train or evaluate the model.\n"
     ]
    },
    {
     "name": "stdout",
     "output_type": "stream",
     "text": [
      "\u001b[1m1/1\u001b[0m \u001b[32m━━━━━━━━━━━━━━━━━━━━\u001b[0m\u001b[37m\u001b[0m \u001b[1m0s\u001b[0m 156ms/step\n"
     ]
    },
    {
     "name": "stderr",
     "output_type": "stream",
     "text": [
      "WARNING:absl:Compiled the loaded model, but the compiled metrics have yet to be built. `model.compile_metrics` will be empty until you train or evaluate the model.\n"
     ]
    },
    {
     "name": "stdout",
     "output_type": "stream",
     "text": [
      "\u001b[1m1/1\u001b[0m \u001b[32m━━━━━━━━━━━━━━━━━━━━\u001b[0m\u001b[37m\u001b[0m \u001b[1m0s\u001b[0m 158ms/step\n"
     ]
    },
    {
     "name": "stderr",
     "output_type": "stream",
     "text": [
      "WARNING:absl:Compiled the loaded model, but the compiled metrics have yet to be built. `model.compile_metrics` will be empty until you train or evaluate the model.\n"
     ]
    },
    {
     "name": "stdout",
     "output_type": "stream",
     "text": [
      "\u001b[1m1/1\u001b[0m \u001b[32m━━━━━━━━━━━━━━━━━━━━\u001b[0m\u001b[37m\u001b[0m \u001b[1m0s\u001b[0m 159ms/step\n"
     ]
    },
    {
     "name": "stderr",
     "output_type": "stream",
     "text": [
      "WARNING:absl:Compiled the loaded model, but the compiled metrics have yet to be built. `model.compile_metrics` will be empty until you train or evaluate the model.\n"
     ]
    },
    {
     "name": "stdout",
     "output_type": "stream",
     "text": [
      "\u001b[1m1/1\u001b[0m \u001b[32m━━━━━━━━━━━━━━━━━━━━\u001b[0m\u001b[37m\u001b[0m \u001b[1m0s\u001b[0m 147ms/step\n"
     ]
    },
    {
     "name": "stderr",
     "output_type": "stream",
     "text": [
      "WARNING:absl:Compiled the loaded model, but the compiled metrics have yet to be built. `model.compile_metrics` will be empty until you train or evaluate the model.\n"
     ]
    },
    {
     "name": "stdout",
     "output_type": "stream",
     "text": [
      "\u001b[1m1/1\u001b[0m \u001b[32m━━━━━━━━━━━━━━━━━━━━\u001b[0m\u001b[37m\u001b[0m \u001b[1m0s\u001b[0m 158ms/step\n"
     ]
    },
    {
     "name": "stderr",
     "output_type": "stream",
     "text": [
      "WARNING:absl:Compiled the loaded model, but the compiled metrics have yet to be built. `model.compile_metrics` will be empty until you train or evaluate the model.\n"
     ]
    },
    {
     "name": "stdout",
     "output_type": "stream",
     "text": [
      "\u001b[1m1/1\u001b[0m \u001b[32m━━━━━━━━━━━━━━━━━━━━\u001b[0m\u001b[37m\u001b[0m \u001b[1m0s\u001b[0m 177ms/step\n"
     ]
    },
    {
     "name": "stderr",
     "output_type": "stream",
     "text": [
      "WARNING:absl:Compiled the loaded model, but the compiled metrics have yet to be built. `model.compile_metrics` will be empty until you train or evaluate the model.\n"
     ]
    },
    {
     "name": "stdout",
     "output_type": "stream",
     "text": [
      "\u001b[1m1/1\u001b[0m \u001b[32m━━━━━━━━━━━━━━━━━━━━\u001b[0m\u001b[37m\u001b[0m \u001b[1m0s\u001b[0m 357ms/step\n"
     ]
    },
    {
     "name": "stderr",
     "output_type": "stream",
     "text": [
      "WARNING:absl:Compiled the loaded model, but the compiled metrics have yet to be built. `model.compile_metrics` will be empty until you train or evaluate the model.\n"
     ]
    },
    {
     "name": "stdout",
     "output_type": "stream",
     "text": [
      "\u001b[1m1/1\u001b[0m \u001b[32m━━━━━━━━━━━━━━━━━━━━\u001b[0m\u001b[37m\u001b[0m \u001b[1m0s\u001b[0m 156ms/step\n"
     ]
    },
    {
     "name": "stderr",
     "output_type": "stream",
     "text": [
      "WARNING:absl:Compiled the loaded model, but the compiled metrics have yet to be built. `model.compile_metrics` will be empty until you train or evaluate the model.\n"
     ]
    },
    {
     "name": "stdout",
     "output_type": "stream",
     "text": [
      "\u001b[1m1/1\u001b[0m \u001b[32m━━━━━━━━━━━━━━━━━━━━\u001b[0m\u001b[37m\u001b[0m \u001b[1m0s\u001b[0m 181ms/step\n"
     ]
    },
    {
     "name": "stderr",
     "output_type": "stream",
     "text": [
      "WARNING:absl:Compiled the loaded model, but the compiled metrics have yet to be built. `model.compile_metrics` will be empty until you train or evaluate the model.\n"
     ]
    },
    {
     "name": "stdout",
     "output_type": "stream",
     "text": [
      "\u001b[1m1/1\u001b[0m \u001b[32m━━━━━━━━━━━━━━━━━━━━\u001b[0m\u001b[37m\u001b[0m \u001b[1m0s\u001b[0m 184ms/step\n"
     ]
    },
    {
     "name": "stderr",
     "output_type": "stream",
     "text": [
      "WARNING:absl:Compiled the loaded model, but the compiled metrics have yet to be built. `model.compile_metrics` will be empty until you train or evaluate the model.\n"
     ]
    },
    {
     "name": "stdout",
     "output_type": "stream",
     "text": [
      "\u001b[1m1/1\u001b[0m \u001b[32m━━━━━━━━━━━━━━━━━━━━\u001b[0m\u001b[37m\u001b[0m \u001b[1m0s\u001b[0m 193ms/step\n"
     ]
    },
    {
     "name": "stderr",
     "output_type": "stream",
     "text": [
      "WARNING:absl:Compiled the loaded model, but the compiled metrics have yet to be built. `model.compile_metrics` will be empty until you train or evaluate the model.\n"
     ]
    },
    {
     "name": "stdout",
     "output_type": "stream",
     "text": [
      "\u001b[1m1/1\u001b[0m \u001b[32m━━━━━━━━━━━━━━━━━━━━\u001b[0m\u001b[37m\u001b[0m \u001b[1m0s\u001b[0m 214ms/step\n"
     ]
    },
    {
     "name": "stderr",
     "output_type": "stream",
     "text": [
      "WARNING:absl:Compiled the loaded model, but the compiled metrics have yet to be built. `model.compile_metrics` will be empty until you train or evaluate the model.\n"
     ]
    },
    {
     "name": "stdout",
     "output_type": "stream",
     "text": [
      "\u001b[1m1/1\u001b[0m \u001b[32m━━━━━━━━━━━━━━━━━━━━\u001b[0m\u001b[37m\u001b[0m \u001b[1m0s\u001b[0m 252ms/step\n"
     ]
    },
    {
     "name": "stderr",
     "output_type": "stream",
     "text": [
      "WARNING:absl:Compiled the loaded model, but the compiled metrics have yet to be built. `model.compile_metrics` will be empty until you train or evaluate the model.\n"
     ]
    },
    {
     "name": "stdout",
     "output_type": "stream",
     "text": [
      "\u001b[1m1/1\u001b[0m \u001b[32m━━━━━━━━━━━━━━━━━━━━\u001b[0m\u001b[37m\u001b[0m \u001b[1m0s\u001b[0m 193ms/step\n"
     ]
    },
    {
     "name": "stderr",
     "output_type": "stream",
     "text": [
      "WARNING:absl:Compiled the loaded model, but the compiled metrics have yet to be built. `model.compile_metrics` will be empty until you train or evaluate the model.\n"
     ]
    },
    {
     "name": "stdout",
     "output_type": "stream",
     "text": [
      "\u001b[1m1/1\u001b[0m \u001b[32m━━━━━━━━━━━━━━━━━━━━\u001b[0m\u001b[37m\u001b[0m \u001b[1m1s\u001b[0m 513ms/step\n"
     ]
    },
    {
     "name": "stderr",
     "output_type": "stream",
     "text": [
      "WARNING:absl:Compiled the loaded model, but the compiled metrics have yet to be built. `model.compile_metrics` will be empty until you train or evaluate the model.\n"
     ]
    },
    {
     "name": "stdout",
     "output_type": "stream",
     "text": [
      "\u001b[1m1/1\u001b[0m \u001b[32m━━━━━━━━━━━━━━━━━━━━\u001b[0m\u001b[37m\u001b[0m \u001b[1m0s\u001b[0m 255ms/step\n"
     ]
    },
    {
     "name": "stderr",
     "output_type": "stream",
     "text": [
      "WARNING:absl:Compiled the loaded model, but the compiled metrics have yet to be built. `model.compile_metrics` will be empty until you train or evaluate the model.\n"
     ]
    },
    {
     "name": "stdout",
     "output_type": "stream",
     "text": [
      "\u001b[1m1/1\u001b[0m \u001b[32m━━━━━━━━━━━━━━━━━━━━\u001b[0m\u001b[37m\u001b[0m \u001b[1m0s\u001b[0m 218ms/step\n"
     ]
    },
    {
     "name": "stderr",
     "output_type": "stream",
     "text": [
      "WARNING:absl:Compiled the loaded model, but the compiled metrics have yet to be built. `model.compile_metrics` will be empty until you train or evaluate the model.\n"
     ]
    },
    {
     "name": "stdout",
     "output_type": "stream",
     "text": [
      "\u001b[1m1/1\u001b[0m \u001b[32m━━━━━━━━━━━━━━━━━━━━\u001b[0m\u001b[37m\u001b[0m \u001b[1m0s\u001b[0m 261ms/step\n"
     ]
    },
    {
     "name": "stderr",
     "output_type": "stream",
     "text": [
      "WARNING:absl:Compiled the loaded model, but the compiled metrics have yet to be built. `model.compile_metrics` will be empty until you train or evaluate the model.\n"
     ]
    },
    {
     "name": "stdout",
     "output_type": "stream",
     "text": [
      "\u001b[1m1/1\u001b[0m \u001b[32m━━━━━━━━━━━━━━━━━━━━\u001b[0m\u001b[37m\u001b[0m \u001b[1m0s\u001b[0m 242ms/step\n"
     ]
    },
    {
     "name": "stderr",
     "output_type": "stream",
     "text": [
      "WARNING:absl:Compiled the loaded model, but the compiled metrics have yet to be built. `model.compile_metrics` will be empty until you train or evaluate the model.\n"
     ]
    },
    {
     "name": "stdout",
     "output_type": "stream",
     "text": [
      "\u001b[1m1/1\u001b[0m \u001b[32m━━━━━━━━━━━━━━━━━━━━\u001b[0m\u001b[37m\u001b[0m \u001b[1m0s\u001b[0m 190ms/step\n"
     ]
    },
    {
     "name": "stderr",
     "output_type": "stream",
     "text": [
      "WARNING:absl:Compiled the loaded model, but the compiled metrics have yet to be built. `model.compile_metrics` will be empty until you train or evaluate the model.\n"
     ]
    },
    {
     "name": "stdout",
     "output_type": "stream",
     "text": [
      "\u001b[1m1/1\u001b[0m \u001b[32m━━━━━━━━━━━━━━━━━━━━\u001b[0m\u001b[37m\u001b[0m \u001b[1m0s\u001b[0m 258ms/step\n"
     ]
    },
    {
     "name": "stderr",
     "output_type": "stream",
     "text": [
      "WARNING:absl:Compiled the loaded model, but the compiled metrics have yet to be built. `model.compile_metrics` will be empty until you train or evaluate the model.\n"
     ]
    },
    {
     "name": "stdout",
     "output_type": "stream",
     "text": [
      "\u001b[1m1/1\u001b[0m \u001b[32m━━━━━━━━━━━━━━━━━━━━\u001b[0m\u001b[37m\u001b[0m \u001b[1m0s\u001b[0m 224ms/step\n"
     ]
    },
    {
     "name": "stderr",
     "output_type": "stream",
     "text": [
      "WARNING:absl:Compiled the loaded model, but the compiled metrics have yet to be built. `model.compile_metrics` will be empty until you train or evaluate the model.\n"
     ]
    },
    {
     "name": "stdout",
     "output_type": "stream",
     "text": [
      "\u001b[1m1/1\u001b[0m \u001b[32m━━━━━━━━━━━━━━━━━━━━\u001b[0m\u001b[37m\u001b[0m \u001b[1m1s\u001b[0m 522ms/step\n"
     ]
    },
    {
     "name": "stderr",
     "output_type": "stream",
     "text": [
      "WARNING:absl:Compiled the loaded model, but the compiled metrics have yet to be built. `model.compile_metrics` will be empty until you train or evaluate the model.\n"
     ]
    },
    {
     "name": "stdout",
     "output_type": "stream",
     "text": [
      "\u001b[1m1/1\u001b[0m \u001b[32m━━━━━━━━━━━━━━━━━━━━\u001b[0m\u001b[37m\u001b[0m \u001b[1m0s\u001b[0m 224ms/step\n"
     ]
    },
    {
     "name": "stderr",
     "output_type": "stream",
     "text": [
      "WARNING:absl:Compiled the loaded model, but the compiled metrics have yet to be built. `model.compile_metrics` will be empty until you train or evaluate the model.\n"
     ]
    },
    {
     "name": "stdout",
     "output_type": "stream",
     "text": [
      "\u001b[1m1/1\u001b[0m \u001b[32m━━━━━━━━━━━━━━━━━━━━\u001b[0m\u001b[37m\u001b[0m \u001b[1m0s\u001b[0m 284ms/step\n"
     ]
    },
    {
     "name": "stderr",
     "output_type": "stream",
     "text": [
      "WARNING:absl:Compiled the loaded model, but the compiled metrics have yet to be built. `model.compile_metrics` will be empty until you train or evaluate the model.\n"
     ]
    },
    {
     "name": "stdout",
     "output_type": "stream",
     "text": [
      "\u001b[1m1/1\u001b[0m \u001b[32m━━━━━━━━━━━━━━━━━━━━\u001b[0m\u001b[37m\u001b[0m \u001b[1m0s\u001b[0m 288ms/step\n"
     ]
    },
    {
     "name": "stderr",
     "output_type": "stream",
     "text": [
      "WARNING:absl:Compiled the loaded model, but the compiled metrics have yet to be built. `model.compile_metrics` will be empty until you train or evaluate the model.\n"
     ]
    },
    {
     "name": "stdout",
     "output_type": "stream",
     "text": [
      "\u001b[1m1/1\u001b[0m \u001b[32m━━━━━━━━━━━━━━━━━━━━\u001b[0m\u001b[37m\u001b[0m \u001b[1m0s\u001b[0m 233ms/step\n"
     ]
    },
    {
     "name": "stderr",
     "output_type": "stream",
     "text": [
      "WARNING:absl:Compiled the loaded model, but the compiled metrics have yet to be built. `model.compile_metrics` will be empty until you train or evaluate the model.\n"
     ]
    },
    {
     "name": "stdout",
     "output_type": "stream",
     "text": [
      "\u001b[1m1/1\u001b[0m \u001b[32m━━━━━━━━━━━━━━━━━━━━\u001b[0m\u001b[37m\u001b[0m \u001b[1m0s\u001b[0m 269ms/step\n"
     ]
    },
    {
     "name": "stderr",
     "output_type": "stream",
     "text": [
      "WARNING:absl:Compiled the loaded model, but the compiled metrics have yet to be built. `model.compile_metrics` will be empty until you train or evaluate the model.\n"
     ]
    },
    {
     "name": "stdout",
     "output_type": "stream",
     "text": [
      "\u001b[1m1/1\u001b[0m \u001b[32m━━━━━━━━━━━━━━━━━━━━\u001b[0m\u001b[37m\u001b[0m \u001b[1m0s\u001b[0m 280ms/step\n"
     ]
    },
    {
     "name": "stderr",
     "output_type": "stream",
     "text": [
      "WARNING:absl:Compiled the loaded model, but the compiled metrics have yet to be built. `model.compile_metrics` will be empty until you train or evaluate the model.\n"
     ]
    },
    {
     "name": "stdout",
     "output_type": "stream",
     "text": [
      "\u001b[1m1/1\u001b[0m \u001b[32m━━━━━━━━━━━━━━━━━━━━\u001b[0m\u001b[37m\u001b[0m \u001b[1m0s\u001b[0m 237ms/step\n"
     ]
    },
    {
     "name": "stderr",
     "output_type": "stream",
     "text": [
      "WARNING:absl:Compiled the loaded model, but the compiled metrics have yet to be built. `model.compile_metrics` will be empty until you train or evaluate the model.\n"
     ]
    },
    {
     "name": "stdout",
     "output_type": "stream",
     "text": [
      "\u001b[1m1/1\u001b[0m \u001b[32m━━━━━━━━━━━━━━━━━━━━\u001b[0m\u001b[37m\u001b[0m \u001b[1m0s\u001b[0m 213ms/step\n"
     ]
    },
    {
     "name": "stderr",
     "output_type": "stream",
     "text": [
      "WARNING:absl:Compiled the loaded model, but the compiled metrics have yet to be built. `model.compile_metrics` will be empty until you train or evaluate the model.\n"
     ]
    },
    {
     "name": "stdout",
     "output_type": "stream",
     "text": [
      "\u001b[1m1/1\u001b[0m \u001b[32m━━━━━━━━━━━━━━━━━━━━\u001b[0m\u001b[37m\u001b[0m \u001b[1m0s\u001b[0m 296ms/step\n"
     ]
    },
    {
     "name": "stderr",
     "output_type": "stream",
     "text": [
      "WARNING:absl:Compiled the loaded model, but the compiled metrics have yet to be built. `model.compile_metrics` will be empty until you train or evaluate the model.\n"
     ]
    },
    {
     "name": "stdout",
     "output_type": "stream",
     "text": [
      "\u001b[1m1/1\u001b[0m \u001b[32m━━━━━━━━━━━━━━━━━━━━\u001b[0m\u001b[37m\u001b[0m \u001b[1m0s\u001b[0m 233ms/step\n"
     ]
    },
    {
     "name": "stderr",
     "output_type": "stream",
     "text": [
      "WARNING:absl:Compiled the loaded model, but the compiled metrics have yet to be built. `model.compile_metrics` will be empty until you train or evaluate the model.\n"
     ]
    },
    {
     "name": "stdout",
     "output_type": "stream",
     "text": [
      "\u001b[1m1/1\u001b[0m \u001b[32m━━━━━━━━━━━━━━━━━━━━\u001b[0m\u001b[37m\u001b[0m \u001b[1m0s\u001b[0m 270ms/step\n"
     ]
    },
    {
     "name": "stderr",
     "output_type": "stream",
     "text": [
      "WARNING:absl:Compiled the loaded model, but the compiled metrics have yet to be built. `model.compile_metrics` will be empty until you train or evaluate the model.\n"
     ]
    },
    {
     "name": "stdout",
     "output_type": "stream",
     "text": [
      "\u001b[1m1/1\u001b[0m \u001b[32m━━━━━━━━━━━━━━━━━━━━\u001b[0m\u001b[37m\u001b[0m \u001b[1m0s\u001b[0m 227ms/step\n"
     ]
    },
    {
     "name": "stderr",
     "output_type": "stream",
     "text": [
      "WARNING:absl:Compiled the loaded model, but the compiled metrics have yet to be built. `model.compile_metrics` will be empty until you train or evaluate the model.\n"
     ]
    },
    {
     "name": "stdout",
     "output_type": "stream",
     "text": [
      "\u001b[1m1/1\u001b[0m \u001b[32m━━━━━━━━━━━━━━━━━━━━\u001b[0m\u001b[37m\u001b[0m \u001b[1m0s\u001b[0m 262ms/step\n"
     ]
    },
    {
     "name": "stderr",
     "output_type": "stream",
     "text": [
      "WARNING:absl:Compiled the loaded model, but the compiled metrics have yet to be built. `model.compile_metrics` will be empty until you train or evaluate the model.\n"
     ]
    },
    {
     "name": "stdout",
     "output_type": "stream",
     "text": [
      "\u001b[1m1/1\u001b[0m \u001b[32m━━━━━━━━━━━━━━━━━━━━\u001b[0m\u001b[37m\u001b[0m \u001b[1m0s\u001b[0m 216ms/step\n"
     ]
    },
    {
     "name": "stderr",
     "output_type": "stream",
     "text": [
      "WARNING:absl:Compiled the loaded model, but the compiled metrics have yet to be built. `model.compile_metrics` will be empty until you train or evaluate the model.\n"
     ]
    },
    {
     "name": "stdout",
     "output_type": "stream",
     "text": [
      "\u001b[1m1/1\u001b[0m \u001b[32m━━━━━━━━━━━━━━━━━━━━\u001b[0m\u001b[37m\u001b[0m \u001b[1m0s\u001b[0m 219ms/step\n"
     ]
    },
    {
     "name": "stderr",
     "output_type": "stream",
     "text": [
      "WARNING:absl:Compiled the loaded model, but the compiled metrics have yet to be built. `model.compile_metrics` will be empty until you train or evaluate the model.\n"
     ]
    },
    {
     "name": "stdout",
     "output_type": "stream",
     "text": [
      "\u001b[1m1/1\u001b[0m \u001b[32m━━━━━━━━━━━━━━━━━━━━\u001b[0m\u001b[37m\u001b[0m \u001b[1m0s\u001b[0m 198ms/step\n"
     ]
    },
    {
     "name": "stderr",
     "output_type": "stream",
     "text": [
      "WARNING:absl:Compiled the loaded model, but the compiled metrics have yet to be built. `model.compile_metrics` will be empty until you train or evaluate the model.\n"
     ]
    },
    {
     "name": "stdout",
     "output_type": "stream",
     "text": [
      "\u001b[1m1/1\u001b[0m \u001b[32m━━━━━━━━━━━━━━━━━━━━\u001b[0m\u001b[37m\u001b[0m \u001b[1m0s\u001b[0m 236ms/step\n"
     ]
    },
    {
     "name": "stderr",
     "output_type": "stream",
     "text": [
      "WARNING:absl:Compiled the loaded model, but the compiled metrics have yet to be built. `model.compile_metrics` will be empty until you train or evaluate the model.\n"
     ]
    },
    {
     "name": "stdout",
     "output_type": "stream",
     "text": [
      "\u001b[1m1/1\u001b[0m \u001b[32m━━━━━━━━━━━━━━━━━━━━\u001b[0m\u001b[37m\u001b[0m \u001b[1m0s\u001b[0m 258ms/step\n"
     ]
    },
    {
     "name": "stderr",
     "output_type": "stream",
     "text": [
      "WARNING:absl:Compiled the loaded model, but the compiled metrics have yet to be built. `model.compile_metrics` will be empty until you train or evaluate the model.\n"
     ]
    },
    {
     "name": "stdout",
     "output_type": "stream",
     "text": [
      "\u001b[1m1/1\u001b[0m \u001b[32m━━━━━━━━━━━━━━━━━━━━\u001b[0m\u001b[37m\u001b[0m \u001b[1m0s\u001b[0m 264ms/step\n"
     ]
    },
    {
     "name": "stderr",
     "output_type": "stream",
     "text": [
      "WARNING:absl:Compiled the loaded model, but the compiled metrics have yet to be built. `model.compile_metrics` will be empty until you train or evaluate the model.\n"
     ]
    },
    {
     "name": "stdout",
     "output_type": "stream",
     "text": [
      "\u001b[1m1/1\u001b[0m \u001b[32m━━━━━━━━━━━━━━━━━━━━\u001b[0m\u001b[37m\u001b[0m \u001b[1m0s\u001b[0m 255ms/step\n"
     ]
    },
    {
     "name": "stderr",
     "output_type": "stream",
     "text": [
      "WARNING:absl:Compiled the loaded model, but the compiled metrics have yet to be built. `model.compile_metrics` will be empty until you train or evaluate the model.\n"
     ]
    },
    {
     "name": "stdout",
     "output_type": "stream",
     "text": [
      "\u001b[1m1/1\u001b[0m \u001b[32m━━━━━━━━━━━━━━━━━━━━\u001b[0m\u001b[37m\u001b[0m \u001b[1m0s\u001b[0m 251ms/step\n"
     ]
    },
    {
     "name": "stderr",
     "output_type": "stream",
     "text": [
      "WARNING:absl:Compiled the loaded model, but the compiled metrics have yet to be built. `model.compile_metrics` will be empty until you train or evaluate the model.\n"
     ]
    },
    {
     "name": "stdout",
     "output_type": "stream",
     "text": [
      "\u001b[1m1/1\u001b[0m \u001b[32m━━━━━━━━━━━━━━━━━━━━\u001b[0m\u001b[37m\u001b[0m \u001b[1m0s\u001b[0m 265ms/step\n"
     ]
    },
    {
     "name": "stderr",
     "output_type": "stream",
     "text": [
      "WARNING:absl:Compiled the loaded model, but the compiled metrics have yet to be built. `model.compile_metrics` will be empty until you train or evaluate the model.\n"
     ]
    },
    {
     "name": "stdout",
     "output_type": "stream",
     "text": [
      "\u001b[1m1/1\u001b[0m \u001b[32m━━━━━━━━━━━━━━━━━━━━\u001b[0m\u001b[37m\u001b[0m \u001b[1m0s\u001b[0m 240ms/step\n"
     ]
    },
    {
     "name": "stderr",
     "output_type": "stream",
     "text": [
      "WARNING:absl:Compiled the loaded model, but the compiled metrics have yet to be built. `model.compile_metrics` will be empty until you train or evaluate the model.\n"
     ]
    },
    {
     "name": "stdout",
     "output_type": "stream",
     "text": [
      "\u001b[1m1/1\u001b[0m \u001b[32m━━━━━━━━━━━━━━━━━━━━\u001b[0m\u001b[37m\u001b[0m \u001b[1m0s\u001b[0m 259ms/step\n"
     ]
    },
    {
     "name": "stderr",
     "output_type": "stream",
     "text": [
      "WARNING:absl:Compiled the loaded model, but the compiled metrics have yet to be built. `model.compile_metrics` will be empty until you train or evaluate the model.\n"
     ]
    },
    {
     "name": "stdout",
     "output_type": "stream",
     "text": [
      "\u001b[1m1/1\u001b[0m \u001b[32m━━━━━━━━━━━━━━━━━━━━\u001b[0m\u001b[37m\u001b[0m \u001b[1m0s\u001b[0m 200ms/step\n"
     ]
    },
    {
     "name": "stderr",
     "output_type": "stream",
     "text": [
      "WARNING:absl:Compiled the loaded model, but the compiled metrics have yet to be built. `model.compile_metrics` will be empty until you train or evaluate the model.\n"
     ]
    },
    {
     "name": "stdout",
     "output_type": "stream",
     "text": [
      "\u001b[1m1/1\u001b[0m \u001b[32m━━━━━━━━━━━━━━━━━━━━\u001b[0m\u001b[37m\u001b[0m \u001b[1m0s\u001b[0m 202ms/step\n"
     ]
    },
    {
     "name": "stderr",
     "output_type": "stream",
     "text": [
      "WARNING:absl:Compiled the loaded model, but the compiled metrics have yet to be built. `model.compile_metrics` will be empty until you train or evaluate the model.\n"
     ]
    },
    {
     "name": "stdout",
     "output_type": "stream",
     "text": [
      "\u001b[1m1/1\u001b[0m \u001b[32m━━━━━━━━━━━━━━━━━━━━\u001b[0m\u001b[37m\u001b[0m \u001b[1m0s\u001b[0m 278ms/step\n"
     ]
    },
    {
     "name": "stderr",
     "output_type": "stream",
     "text": [
      "WARNING:absl:Compiled the loaded model, but the compiled metrics have yet to be built. `model.compile_metrics` will be empty until you train or evaluate the model.\n"
     ]
    },
    {
     "name": "stdout",
     "output_type": "stream",
     "text": [
      "\u001b[1m1/1\u001b[0m \u001b[32m━━━━━━━━━━━━━━━━━━━━\u001b[0m\u001b[37m\u001b[0m \u001b[1m0s\u001b[0m 237ms/step\n"
     ]
    },
    {
     "name": "stderr",
     "output_type": "stream",
     "text": [
      "WARNING:absl:Compiled the loaded model, but the compiled metrics have yet to be built. `model.compile_metrics` will be empty until you train or evaluate the model.\n"
     ]
    },
    {
     "name": "stdout",
     "output_type": "stream",
     "text": [
      "\u001b[1m1/1\u001b[0m \u001b[32m━━━━━━━━━━━━━━━━━━━━\u001b[0m\u001b[37m\u001b[0m \u001b[1m0s\u001b[0m 271ms/step\n"
     ]
    },
    {
     "name": "stderr",
     "output_type": "stream",
     "text": [
      "WARNING:absl:Compiled the loaded model, but the compiled metrics have yet to be built. `model.compile_metrics` will be empty until you train or evaluate the model.\n"
     ]
    },
    {
     "name": "stdout",
     "output_type": "stream",
     "text": [
      "\u001b[1m1/1\u001b[0m \u001b[32m━━━━━━━━━━━━━━━━━━━━\u001b[0m\u001b[37m\u001b[0m \u001b[1m0s\u001b[0m 246ms/step\n"
     ]
    },
    {
     "name": "stderr",
     "output_type": "stream",
     "text": [
      "WARNING:absl:Compiled the loaded model, but the compiled metrics have yet to be built. `model.compile_metrics` will be empty until you train or evaluate the model.\n"
     ]
    },
    {
     "name": "stdout",
     "output_type": "stream",
     "text": [
      "\u001b[1m1/1\u001b[0m \u001b[32m━━━━━━━━━━━━━━━━━━━━\u001b[0m\u001b[37m\u001b[0m \u001b[1m0s\u001b[0m 233ms/step\n"
     ]
    },
    {
     "name": "stderr",
     "output_type": "stream",
     "text": [
      "WARNING:absl:Compiled the loaded model, but the compiled metrics have yet to be built. `model.compile_metrics` will be empty until you train or evaluate the model.\n"
     ]
    },
    {
     "name": "stdout",
     "output_type": "stream",
     "text": [
      "\u001b[1m1/1\u001b[0m \u001b[32m━━━━━━━━━━━━━━━━━━━━\u001b[0m\u001b[37m\u001b[0m \u001b[1m0s\u001b[0m 256ms/step\n"
     ]
    },
    {
     "name": "stderr",
     "output_type": "stream",
     "text": [
      "WARNING:absl:Compiled the loaded model, but the compiled metrics have yet to be built. `model.compile_metrics` will be empty until you train or evaluate the model.\n"
     ]
    },
    {
     "name": "stdout",
     "output_type": "stream",
     "text": [
      "\u001b[1m1/1\u001b[0m \u001b[32m━━━━━━━━━━━━━━━━━━━━\u001b[0m\u001b[37m\u001b[0m \u001b[1m0s\u001b[0m 171ms/step\n"
     ]
    },
    {
     "name": "stderr",
     "output_type": "stream",
     "text": [
      "WARNING:absl:Compiled the loaded model, but the compiled metrics have yet to be built. `model.compile_metrics` will be empty until you train or evaluate the model.\n"
     ]
    },
    {
     "name": "stdout",
     "output_type": "stream",
     "text": [
      "\u001b[1m1/1\u001b[0m \u001b[32m━━━━━━━━━━━━━━━━━━━━\u001b[0m\u001b[37m\u001b[0m \u001b[1m0s\u001b[0m 254ms/step\n"
     ]
    },
    {
     "name": "stderr",
     "output_type": "stream",
     "text": [
      "WARNING:absl:Compiled the loaded model, but the compiled metrics have yet to be built. `model.compile_metrics` will be empty until you train or evaluate the model.\n"
     ]
    },
    {
     "name": "stdout",
     "output_type": "stream",
     "text": [
      "\u001b[1m1/1\u001b[0m \u001b[32m━━━━━━━━━━━━━━━━━━━━\u001b[0m\u001b[37m\u001b[0m \u001b[1m0s\u001b[0m 212ms/step\n"
     ]
    },
    {
     "name": "stderr",
     "output_type": "stream",
     "text": [
      "WARNING:absl:Compiled the loaded model, but the compiled metrics have yet to be built. `model.compile_metrics` will be empty until you train or evaluate the model.\n"
     ]
    },
    {
     "name": "stdout",
     "output_type": "stream",
     "text": [
      "\u001b[1m1/1\u001b[0m \u001b[32m━━━━━━━━━━━━━━━━━━━━\u001b[0m\u001b[37m\u001b[0m \u001b[1m0s\u001b[0m 202ms/step\n"
     ]
    },
    {
     "name": "stderr",
     "output_type": "stream",
     "text": [
      "WARNING:absl:Compiled the loaded model, but the compiled metrics have yet to be built. `model.compile_metrics` will be empty until you train or evaluate the model.\n"
     ]
    },
    {
     "name": "stdout",
     "output_type": "stream",
     "text": [
      "\u001b[1m1/1\u001b[0m \u001b[32m━━━━━━━━━━━━━━━━━━━━\u001b[0m\u001b[37m\u001b[0m \u001b[1m0s\u001b[0m 249ms/step\n"
     ]
    },
    {
     "name": "stderr",
     "output_type": "stream",
     "text": [
      "WARNING:absl:Compiled the loaded model, but the compiled metrics have yet to be built. `model.compile_metrics` will be empty until you train or evaluate the model.\n"
     ]
    },
    {
     "name": "stdout",
     "output_type": "stream",
     "text": [
      "\u001b[1m1/1\u001b[0m \u001b[32m━━━━━━━━━━━━━━━━━━━━\u001b[0m\u001b[37m\u001b[0m \u001b[1m0s\u001b[0m 248ms/step\n"
     ]
    },
    {
     "name": "stderr",
     "output_type": "stream",
     "text": [
      "WARNING:absl:Compiled the loaded model, but the compiled metrics have yet to be built. `model.compile_metrics` will be empty until you train or evaluate the model.\n"
     ]
    },
    {
     "name": "stdout",
     "output_type": "stream",
     "text": [
      "\u001b[1m1/1\u001b[0m \u001b[32m━━━━━━━━━━━━━━━━━━━━\u001b[0m\u001b[37m\u001b[0m \u001b[1m0s\u001b[0m 238ms/step\n"
     ]
    },
    {
     "name": "stderr",
     "output_type": "stream",
     "text": [
      "WARNING:absl:Compiled the loaded model, but the compiled metrics have yet to be built. `model.compile_metrics` will be empty until you train or evaluate the model.\n"
     ]
    },
    {
     "name": "stdout",
     "output_type": "stream",
     "text": [
      "\u001b[1m1/1\u001b[0m \u001b[32m━━━━━━━━━━━━━━━━━━━━\u001b[0m\u001b[37m\u001b[0m \u001b[1m0s\u001b[0m 217ms/step\n"
     ]
    },
    {
     "name": "stderr",
     "output_type": "stream",
     "text": [
      "WARNING:absl:Compiled the loaded model, but the compiled metrics have yet to be built. `model.compile_metrics` will be empty until you train or evaluate the model.\n"
     ]
    },
    {
     "name": "stdout",
     "output_type": "stream",
     "text": [
      "\u001b[1m1/1\u001b[0m \u001b[32m━━━━━━━━━━━━━━━━━━━━\u001b[0m\u001b[37m\u001b[0m \u001b[1m0s\u001b[0m 198ms/step\n"
     ]
    },
    {
     "name": "stderr",
     "output_type": "stream",
     "text": [
      "WARNING:absl:Compiled the loaded model, but the compiled metrics have yet to be built. `model.compile_metrics` will be empty until you train or evaluate the model.\n"
     ]
    },
    {
     "name": "stdout",
     "output_type": "stream",
     "text": [
      "\u001b[1m1/1\u001b[0m \u001b[32m━━━━━━━━━━━━━━━━━━━━\u001b[0m\u001b[37m\u001b[0m \u001b[1m0s\u001b[0m 239ms/step\n"
     ]
    },
    {
     "name": "stderr",
     "output_type": "stream",
     "text": [
      "WARNING:absl:Compiled the loaded model, but the compiled metrics have yet to be built. `model.compile_metrics` will be empty until you train or evaluate the model.\n"
     ]
    },
    {
     "name": "stdout",
     "output_type": "stream",
     "text": [
      "\u001b[1m1/1\u001b[0m \u001b[32m━━━━━━━━━━━━━━━━━━━━\u001b[0m\u001b[37m\u001b[0m \u001b[1m0s\u001b[0m 264ms/step\n"
     ]
    },
    {
     "name": "stderr",
     "output_type": "stream",
     "text": [
      "WARNING:absl:Compiled the loaded model, but the compiled metrics have yet to be built. `model.compile_metrics` will be empty until you train or evaluate the model.\n"
     ]
    },
    {
     "name": "stdout",
     "output_type": "stream",
     "text": [
      "\u001b[1m1/1\u001b[0m \u001b[32m━━━━━━━━━━━━━━━━━━━━\u001b[0m\u001b[37m\u001b[0m \u001b[1m0s\u001b[0m 238ms/step\n"
     ]
    },
    {
     "name": "stderr",
     "output_type": "stream",
     "text": [
      "WARNING:absl:Compiled the loaded model, but the compiled metrics have yet to be built. `model.compile_metrics` will be empty until you train or evaluate the model.\n"
     ]
    },
    {
     "name": "stdout",
     "output_type": "stream",
     "text": [
      "\u001b[1m1/1\u001b[0m \u001b[32m━━━━━━━━━━━━━━━━━━━━\u001b[0m\u001b[37m\u001b[0m \u001b[1m0s\u001b[0m 231ms/step\n"
     ]
    },
    {
     "name": "stderr",
     "output_type": "stream",
     "text": [
      "WARNING:absl:Compiled the loaded model, but the compiled metrics have yet to be built. `model.compile_metrics` will be empty until you train or evaluate the model.\n"
     ]
    },
    {
     "name": "stdout",
     "output_type": "stream",
     "text": [
      "\u001b[1m1/1\u001b[0m \u001b[32m━━━━━━━━━━━━━━━━━━━━\u001b[0m\u001b[37m\u001b[0m \u001b[1m0s\u001b[0m 222ms/step\n"
     ]
    },
    {
     "name": "stderr",
     "output_type": "stream",
     "text": [
      "WARNING:absl:Compiled the loaded model, but the compiled metrics have yet to be built. `model.compile_metrics` will be empty until you train or evaluate the model.\n"
     ]
    },
    {
     "name": "stdout",
     "output_type": "stream",
     "text": [
      "\u001b[1m1/1\u001b[0m \u001b[32m━━━━━━━━━━━━━━━━━━━━\u001b[0m\u001b[37m\u001b[0m \u001b[1m0s\u001b[0m 259ms/step\n"
     ]
    },
    {
     "name": "stderr",
     "output_type": "stream",
     "text": [
      "WARNING:absl:Compiled the loaded model, but the compiled metrics have yet to be built. `model.compile_metrics` will be empty until you train or evaluate the model.\n"
     ]
    },
    {
     "name": "stdout",
     "output_type": "stream",
     "text": [
      "\u001b[1m1/1\u001b[0m \u001b[32m━━━━━━━━━━━━━━━━━━━━\u001b[0m\u001b[37m\u001b[0m \u001b[1m0s\u001b[0m 239ms/step\n"
     ]
    },
    {
     "name": "stderr",
     "output_type": "stream",
     "text": [
      "WARNING:absl:Compiled the loaded model, but the compiled metrics have yet to be built. `model.compile_metrics` will be empty until you train or evaluate the model.\n"
     ]
    },
    {
     "name": "stdout",
     "output_type": "stream",
     "text": [
      "\u001b[1m1/1\u001b[0m \u001b[32m━━━━━━━━━━━━━━━━━━━━\u001b[0m\u001b[37m\u001b[0m \u001b[1m1s\u001b[0m 544ms/step\n"
     ]
    },
    {
     "name": "stderr",
     "output_type": "stream",
     "text": [
      "WARNING:absl:Compiled the loaded model, but the compiled metrics have yet to be built. `model.compile_metrics` will be empty until you train or evaluate the model.\n"
     ]
    },
    {
     "name": "stdout",
     "output_type": "stream",
     "text": [
      "\u001b[1m1/1\u001b[0m \u001b[32m━━━━━━━━━━━━━━━━━━━━\u001b[0m\u001b[37m\u001b[0m \u001b[1m0s\u001b[0m 224ms/step\n"
     ]
    },
    {
     "name": "stderr",
     "output_type": "stream",
     "text": [
      "WARNING:absl:Compiled the loaded model, but the compiled metrics have yet to be built. `model.compile_metrics` will be empty until you train or evaluate the model.\n"
     ]
    },
    {
     "name": "stdout",
     "output_type": "stream",
     "text": [
      "\u001b[1m1/1\u001b[0m \u001b[32m━━━━━━━━━━━━━━━━━━━━\u001b[0m\u001b[37m\u001b[0m \u001b[1m0s\u001b[0m 225ms/step\n"
     ]
    },
    {
     "name": "stderr",
     "output_type": "stream",
     "text": [
      "WARNING:absl:Compiled the loaded model, but the compiled metrics have yet to be built. `model.compile_metrics` will be empty until you train or evaluate the model.\n"
     ]
    },
    {
     "name": "stdout",
     "output_type": "stream",
     "text": [
      "\u001b[1m1/1\u001b[0m \u001b[32m━━━━━━━━━━━━━━━━━━━━\u001b[0m\u001b[37m\u001b[0m \u001b[1m0s\u001b[0m 194ms/step\n"
     ]
    },
    {
     "name": "stderr",
     "output_type": "stream",
     "text": [
      "WARNING:absl:Compiled the loaded model, but the compiled metrics have yet to be built. `model.compile_metrics` will be empty until you train or evaluate the model.\n"
     ]
    },
    {
     "name": "stdout",
     "output_type": "stream",
     "text": [
      "\u001b[1m1/1\u001b[0m \u001b[32m━━━━━━━━━━━━━━━━━━━━\u001b[0m\u001b[37m\u001b[0m \u001b[1m0s\u001b[0m 200ms/step\n"
     ]
    },
    {
     "name": "stderr",
     "output_type": "stream",
     "text": [
      "WARNING:absl:Compiled the loaded model, but the compiled metrics have yet to be built. `model.compile_metrics` will be empty until you train or evaluate the model.\n"
     ]
    },
    {
     "name": "stdout",
     "output_type": "stream",
     "text": [
      "\u001b[1m1/1\u001b[0m \u001b[32m━━━━━━━━━━━━━━━━━━━━\u001b[0m\u001b[37m\u001b[0m \u001b[1m0s\u001b[0m 245ms/step\n"
     ]
    },
    {
     "name": "stderr",
     "output_type": "stream",
     "text": [
      "WARNING:absl:Compiled the loaded model, but the compiled metrics have yet to be built. `model.compile_metrics` will be empty until you train or evaluate the model.\n"
     ]
    },
    {
     "name": "stdout",
     "output_type": "stream",
     "text": [
      "\u001b[1m1/1\u001b[0m \u001b[32m━━━━━━━━━━━━━━━━━━━━\u001b[0m\u001b[37m\u001b[0m \u001b[1m0s\u001b[0m 217ms/step\n"
     ]
    },
    {
     "name": "stderr",
     "output_type": "stream",
     "text": [
      "WARNING:absl:Compiled the loaded model, but the compiled metrics have yet to be built. `model.compile_metrics` will be empty until you train or evaluate the model.\n"
     ]
    },
    {
     "name": "stdout",
     "output_type": "stream",
     "text": [
      "\u001b[1m1/1\u001b[0m \u001b[32m━━━━━━━━━━━━━━━━━━━━\u001b[0m\u001b[37m\u001b[0m \u001b[1m0s\u001b[0m 236ms/step\n"
     ]
    },
    {
     "name": "stderr",
     "output_type": "stream",
     "text": [
      "WARNING:absl:Compiled the loaded model, but the compiled metrics have yet to be built. `model.compile_metrics` will be empty until you train or evaluate the model.\n"
     ]
    },
    {
     "name": "stdout",
     "output_type": "stream",
     "text": [
      "\u001b[1m1/1\u001b[0m \u001b[32m━━━━━━━━━━━━━━━━━━━━\u001b[0m\u001b[37m\u001b[0m \u001b[1m0s\u001b[0m 425ms/step\n"
     ]
    },
    {
     "name": "stderr",
     "output_type": "stream",
     "text": [
      "WARNING:absl:Compiled the loaded model, but the compiled metrics have yet to be built. `model.compile_metrics` will be empty until you train or evaluate the model.\n"
     ]
    },
    {
     "name": "stdout",
     "output_type": "stream",
     "text": [
      "\u001b[1m1/1\u001b[0m \u001b[32m━━━━━━━━━━━━━━━━━━━━\u001b[0m\u001b[37m\u001b[0m \u001b[1m0s\u001b[0m 230ms/step\n"
     ]
    },
    {
     "name": "stderr",
     "output_type": "stream",
     "text": [
      "WARNING:absl:Compiled the loaded model, but the compiled metrics have yet to be built. `model.compile_metrics` will be empty until you train or evaluate the model.\n"
     ]
    },
    {
     "name": "stdout",
     "output_type": "stream",
     "text": [
      "\u001b[1m1/1\u001b[0m \u001b[32m━━━━━━━━━━━━━━━━━━━━\u001b[0m\u001b[37m\u001b[0m \u001b[1m0s\u001b[0m 228ms/step\n"
     ]
    },
    {
     "name": "stderr",
     "output_type": "stream",
     "text": [
      "WARNING:absl:Compiled the loaded model, but the compiled metrics have yet to be built. `model.compile_metrics` will be empty until you train or evaluate the model.\n"
     ]
    },
    {
     "name": "stdout",
     "output_type": "stream",
     "text": [
      "\u001b[1m1/1\u001b[0m \u001b[32m━━━━━━━━━━━━━━━━━━━━\u001b[0m\u001b[37m\u001b[0m \u001b[1m0s\u001b[0m 251ms/step\n"
     ]
    },
    {
     "name": "stderr",
     "output_type": "stream",
     "text": [
      "WARNING:absl:Compiled the loaded model, but the compiled metrics have yet to be built. `model.compile_metrics` will be empty until you train or evaluate the model.\n"
     ]
    },
    {
     "name": "stdout",
     "output_type": "stream",
     "text": [
      "\u001b[1m1/1\u001b[0m \u001b[32m━━━━━━━━━━━━━━━━━━━━\u001b[0m\u001b[37m\u001b[0m \u001b[1m0s\u001b[0m 230ms/step\n"
     ]
    },
    {
     "name": "stderr",
     "output_type": "stream",
     "text": [
      "WARNING:absl:Compiled the loaded model, but the compiled metrics have yet to be built. `model.compile_metrics` will be empty until you train or evaluate the model.\n"
     ]
    },
    {
     "name": "stdout",
     "output_type": "stream",
     "text": [
      "\u001b[1m1/1\u001b[0m \u001b[32m━━━━━━━━━━━━━━━━━━━━\u001b[0m\u001b[37m\u001b[0m \u001b[1m0s\u001b[0m 212ms/step\n"
     ]
    },
    {
     "name": "stderr",
     "output_type": "stream",
     "text": [
      "WARNING:absl:Compiled the loaded model, but the compiled metrics have yet to be built. `model.compile_metrics` will be empty until you train or evaluate the model.\n"
     ]
    },
    {
     "name": "stdout",
     "output_type": "stream",
     "text": [
      "\u001b[1m1/1\u001b[0m \u001b[32m━━━━━━━━━━━━━━━━━━━━\u001b[0m\u001b[37m\u001b[0m \u001b[1m0s\u001b[0m 221ms/step\n"
     ]
    },
    {
     "name": "stderr",
     "output_type": "stream",
     "text": [
      "WARNING:absl:Compiled the loaded model, but the compiled metrics have yet to be built. `model.compile_metrics` will be empty until you train or evaluate the model.\n"
     ]
    },
    {
     "name": "stdout",
     "output_type": "stream",
     "text": [
      "\u001b[1m1/1\u001b[0m \u001b[32m━━━━━━━━━━━━━━━━━━━━\u001b[0m\u001b[37m\u001b[0m \u001b[1m0s\u001b[0m 252ms/step\n"
     ]
    },
    {
     "name": "stderr",
     "output_type": "stream",
     "text": [
      "WARNING:absl:Compiled the loaded model, but the compiled metrics have yet to be built. `model.compile_metrics` will be empty until you train or evaluate the model.\n"
     ]
    },
    {
     "name": "stdout",
     "output_type": "stream",
     "text": [
      "\u001b[1m1/1\u001b[0m \u001b[32m━━━━━━━━━━━━━━━━━━━━\u001b[0m\u001b[37m\u001b[0m \u001b[1m0s\u001b[0m 499ms/step\n"
     ]
    },
    {
     "name": "stderr",
     "output_type": "stream",
     "text": [
      "WARNING:absl:Compiled the loaded model, but the compiled metrics have yet to be built. `model.compile_metrics` will be empty until you train or evaluate the model.\n"
     ]
    },
    {
     "name": "stdout",
     "output_type": "stream",
     "text": [
      "\u001b[1m1/1\u001b[0m \u001b[32m━━━━━━━━━━━━━━━━━━━━\u001b[0m\u001b[37m\u001b[0m \u001b[1m0s\u001b[0m 241ms/step\n"
     ]
    },
    {
     "name": "stderr",
     "output_type": "stream",
     "text": [
      "WARNING:absl:Compiled the loaded model, but the compiled metrics have yet to be built. `model.compile_metrics` will be empty until you train or evaluate the model.\n"
     ]
    },
    {
     "name": "stdout",
     "output_type": "stream",
     "text": [
      "\u001b[1m1/1\u001b[0m \u001b[32m━━━━━━━━━━━━━━━━━━━━\u001b[0m\u001b[37m\u001b[0m \u001b[1m0s\u001b[0m 251ms/step\n"
     ]
    },
    {
     "name": "stderr",
     "output_type": "stream",
     "text": [
      "WARNING:absl:Compiled the loaded model, but the compiled metrics have yet to be built. `model.compile_metrics` will be empty until you train or evaluate the model.\n"
     ]
    },
    {
     "name": "stdout",
     "output_type": "stream",
     "text": [
      "\u001b[1m1/1\u001b[0m \u001b[32m━━━━━━━━━━━━━━━━━━━━\u001b[0m\u001b[37m\u001b[0m \u001b[1m0s\u001b[0m 188ms/step\n"
     ]
    },
    {
     "name": "stderr",
     "output_type": "stream",
     "text": [
      "WARNING:absl:Compiled the loaded model, but the compiled metrics have yet to be built. `model.compile_metrics` will be empty until you train or evaluate the model.\n"
     ]
    },
    {
     "name": "stdout",
     "output_type": "stream",
     "text": [
      "\u001b[1m1/1\u001b[0m \u001b[32m━━━━━━━━━━━━━━━━━━━━\u001b[0m\u001b[37m\u001b[0m \u001b[1m0s\u001b[0m 247ms/step\n"
     ]
    },
    {
     "name": "stderr",
     "output_type": "stream",
     "text": [
      "WARNING:absl:Compiled the loaded model, but the compiled metrics have yet to be built. `model.compile_metrics` will be empty until you train or evaluate the model.\n"
     ]
    },
    {
     "name": "stdout",
     "output_type": "stream",
     "text": [
      "\u001b[1m1/1\u001b[0m \u001b[32m━━━━━━━━━━━━━━━━━━━━\u001b[0m\u001b[37m\u001b[0m \u001b[1m0s\u001b[0m 257ms/step\n"
     ]
    },
    {
     "name": "stderr",
     "output_type": "stream",
     "text": [
      "WARNING:absl:Compiled the loaded model, but the compiled metrics have yet to be built. `model.compile_metrics` will be empty until you train or evaluate the model.\n"
     ]
    },
    {
     "name": "stdout",
     "output_type": "stream",
     "text": [
      "\u001b[1m1/1\u001b[0m \u001b[32m━━━━━━━━━━━━━━━━━━━━\u001b[0m\u001b[37m\u001b[0m \u001b[1m0s\u001b[0m 211ms/step\n"
     ]
    },
    {
     "name": "stderr",
     "output_type": "stream",
     "text": [
      "WARNING:absl:Compiled the loaded model, but the compiled metrics have yet to be built. `model.compile_metrics` will be empty until you train or evaluate the model.\n"
     ]
    },
    {
     "name": "stdout",
     "output_type": "stream",
     "text": [
      "\u001b[1m1/1\u001b[0m \u001b[32m━━━━━━━━━━━━━━━━━━━━\u001b[0m\u001b[37m\u001b[0m \u001b[1m0s\u001b[0m 284ms/step\n"
     ]
    },
    {
     "name": "stderr",
     "output_type": "stream",
     "text": [
      "WARNING:absl:Compiled the loaded model, but the compiled metrics have yet to be built. `model.compile_metrics` will be empty until you train or evaluate the model.\n"
     ]
    },
    {
     "name": "stdout",
     "output_type": "stream",
     "text": [
      "\u001b[1m1/1\u001b[0m \u001b[32m━━━━━━━━━━━━━━━━━━━━\u001b[0m\u001b[37m\u001b[0m \u001b[1m1s\u001b[0m 517ms/step\n"
     ]
    },
    {
     "name": "stderr",
     "output_type": "stream",
     "text": [
      "WARNING:absl:Compiled the loaded model, but the compiled metrics have yet to be built. `model.compile_metrics` will be empty until you train or evaluate the model.\n"
     ]
    },
    {
     "name": "stdout",
     "output_type": "stream",
     "text": [
      "\u001b[1m1/1\u001b[0m \u001b[32m━━━━━━━━━━━━━━━━━━━━\u001b[0m\u001b[37m\u001b[0m \u001b[1m0s\u001b[0m 284ms/step\n"
     ]
    },
    {
     "name": "stderr",
     "output_type": "stream",
     "text": [
      "WARNING:absl:Compiled the loaded model, but the compiled metrics have yet to be built. `model.compile_metrics` will be empty until you train or evaluate the model.\n"
     ]
    },
    {
     "name": "stdout",
     "output_type": "stream",
     "text": [
      "\u001b[1m1/1\u001b[0m \u001b[32m━━━━━━━━━━━━━━━━━━━━\u001b[0m\u001b[37m\u001b[0m \u001b[1m0s\u001b[0m 234ms/step\n"
     ]
    },
    {
     "name": "stderr",
     "output_type": "stream",
     "text": [
      "WARNING:absl:Compiled the loaded model, but the compiled metrics have yet to be built. `model.compile_metrics` will be empty until you train or evaluate the model.\n"
     ]
    },
    {
     "name": "stdout",
     "output_type": "stream",
     "text": [
      "\u001b[1m1/1\u001b[0m \u001b[32m━━━━━━━━━━━━━━━━━━━━\u001b[0m\u001b[37m\u001b[0m \u001b[1m0s\u001b[0m 250ms/step\n"
     ]
    },
    {
     "name": "stderr",
     "output_type": "stream",
     "text": [
      "WARNING:absl:Compiled the loaded model, but the compiled metrics have yet to be built. `model.compile_metrics` will be empty until you train or evaluate the model.\n"
     ]
    },
    {
     "name": "stdout",
     "output_type": "stream",
     "text": [
      "\u001b[1m1/1\u001b[0m \u001b[32m━━━━━━━━━━━━━━━━━━━━\u001b[0m\u001b[37m\u001b[0m \u001b[1m0s\u001b[0m 227ms/step\n"
     ]
    },
    {
     "name": "stderr",
     "output_type": "stream",
     "text": [
      "WARNING:absl:Compiled the loaded model, but the compiled metrics have yet to be built. `model.compile_metrics` will be empty until you train or evaluate the model.\n"
     ]
    },
    {
     "name": "stdout",
     "output_type": "stream",
     "text": [
      "\u001b[1m1/1\u001b[0m \u001b[32m━━━━━━━━━━━━━━━━━━━━\u001b[0m\u001b[37m\u001b[0m \u001b[1m0s\u001b[0m 256ms/step\n"
     ]
    },
    {
     "name": "stderr",
     "output_type": "stream",
     "text": [
      "WARNING:absl:Compiled the loaded model, but the compiled metrics have yet to be built. `model.compile_metrics` will be empty until you train or evaluate the model.\n"
     ]
    },
    {
     "name": "stdout",
     "output_type": "stream",
     "text": [
      "\u001b[1m1/1\u001b[0m \u001b[32m━━━━━━━━━━━━━━━━━━━━\u001b[0m\u001b[37m\u001b[0m \u001b[1m0s\u001b[0m 243ms/step\n"
     ]
    },
    {
     "name": "stderr",
     "output_type": "stream",
     "text": [
      "WARNING:absl:Compiled the loaded model, but the compiled metrics have yet to be built. `model.compile_metrics` will be empty until you train or evaluate the model.\n"
     ]
    },
    {
     "name": "stdout",
     "output_type": "stream",
     "text": [
      "\u001b[1m1/1\u001b[0m \u001b[32m━━━━━━━━━━━━━━━━━━━━\u001b[0m\u001b[37m\u001b[0m \u001b[1m0s\u001b[0m 263ms/step\n"
     ]
    },
    {
     "name": "stderr",
     "output_type": "stream",
     "text": [
      "WARNING:absl:Compiled the loaded model, but the compiled metrics have yet to be built. `model.compile_metrics` will be empty until you train or evaluate the model.\n"
     ]
    },
    {
     "name": "stdout",
     "output_type": "stream",
     "text": [
      "\u001b[1m1/1\u001b[0m \u001b[32m━━━━━━━━━━━━━━━━━━━━\u001b[0m\u001b[37m\u001b[0m \u001b[1m0s\u001b[0m 281ms/step\n"
     ]
    }
   ],
   "source": [
    "from generators import generate_predictions\n",
    "\n",
    "subgroups = load_lists_in_subgroups()\n",
    "predicted_results = generate_predictions(subgroups)"
   ]
  },
  {
   "cell_type": "code",
   "execution_count": 30,
   "metadata": {},
   "outputs": [],
   "source": [
    "from save_and_load import save_predictions\n",
    "\n",
    "save_predictions(predicted_results)"
   ]
  },
  {
   "cell_type": "code",
   "execution_count": 31,
   "metadata": {},
   "outputs": [
    {
     "name": "stdout",
     "output_type": "stream",
     "text": [
      "\n",
      "Subgroup Range: (4, 7)\n",
      "Predicted Kann Swar List: [[], [], [], [], [], [], [], [], [], [], [], ['pa'], ['dha'], []]\n",
      "Predicted Swar List: [[], [], [], [], [], [], [], [], [], [], [], ['dha'], ['ga'], ['-']]\n",
      "--------------------------------------------------------------------------------\n",
      "\n",
      "Subgroup Range: (7, 8)\n",
      "Predicted Kann Swar List: [[], [], [\"saa'\"], ['dha'], [], [], [], [], ['dha'], [], [], [\"saa'\"], [], []]\n",
      "Predicted Swar List: [['pa'], ['-'], ['ni'], ['ni'], [\"saa'\"], ['-'], ['-'], ['ni'], ['ni'], [\"saa'\"], ['-'], [\"re'\"], [\"saa'\"], ['-']]\n",
      "--------------------------------------------------------------------------------\n",
      "\n",
      "Subgroup Range: (10, 14)\n",
      "Predicted Kann Swar List: [[\"saa'\"], [], [], [], ['pa'], ['pa'], [], ['ma'], [], [], [], [], [], []]\n",
      "Predicted Swar List: [['dha'], ['dha,', 'ni-'], ['pa'], ['-'], ['ga'], ['ga'], ['ma#', 're'], ['ga'], ['ma'], ['pa'], ['saa', 'saa'], ['ga'], ['re'], ['-']]\n",
      "--------------------------------------------------------------------------------\n",
      "\n",
      "Subgroup Range: (16, 19)\n",
      "Predicted Kann Swar List: [[], [], [], [], ['ni'], [], [], [\"saa'\"], [], [], [], ['pa'], ['dha'], []]\n",
      "Predicted Swar List: [['saa'], ['-'], ['-'], ['saa'], [\"saa'\"], [\"saa'\"], ['-'], ['dha'], ['-'], ['ni-'], ['pa'], ['dha'], ['ga'], ['-']]\n",
      "--------------------------------------------------------------------------------\n",
      "\n",
      "Subgroup Range: (22, 24)\n",
      "Predicted Kann Swar List: [['ni'], [], [], [\"saa'\"], ['dha'], [], [], [], [], [], ['ni'], [], [], []]\n",
      "Predicted Swar List: [[\"saa'\"], ['-'], ['-'], ['ni'], ['ni'], [\"saa'\"], ['-'], [\"saa'\"], ['-'], [\"saa'\"], [\"saa'\"], [\"re'\"], [\"saa'\"], ['-']]\n",
      "--------------------------------------------------------------------------------\n",
      "\n",
      "Subgroup Range: (26, 27)\n",
      "Predicted Kann Swar List: [['ni'], [], [], [], [], [], [], [], [\"ma#'\"], [], [], ['ni'], [], [], []]\n",
      "Predicted Swar List: [[\"saa'\"], [\"ga'\"], ['-'], [\"re'\"], [\"ga'\"], ['-'], ['-'], [\"ma'\"], [\"re'\"], ['-'], ['-'], [\"saa'\"], [\"re'\"], [\"saa'\"], [\"saa'\"]]\n",
      "--------------------------------------------------------------------------------\n",
      "\n",
      "Subgroup Range: (29, 33)\n",
      "Predicted Kann Swar List: [['saa'], [], [], [], [], ['saa'], [], ['pa'], ['dha'], [], [], [], [], []]\n",
      "Predicted Swar List: [['dha'], [\"saa'\", 'ni'], [\"re'\"], [\"saa'\"], [\"saa'\"], ['dha'], ['ni-', \"pa'\"], ['dha'], ['ga'], ['-'], [], [], [], []]\n",
      "--------------------------------------------------------------------------------\n"
     ]
    }
   ],
   "source": [
    "from save_and_load import load_predictions\n",
    "\n",
    "def print_predictions(predictions):\n",
    "    \"\"\"Prints results with original formatting\"\"\"\n",
    "    for subgroup_range, results in predictions.items():\n",
    "        print(f\"\\nSubgroup Range: {subgroup_range}\")\n",
    "        print(f\"Predicted Kann Swar List: {results['kann_swar']}\")\n",
    "        print(f\"Predicted Swar List: {results['swar']}\") \n",
    "        print(\"-\" * 80)\n",
    "\n",
    "predictions = load_predictions()\n",
    "\n",
    "if predictions:\n",
    "    print_predictions(predictions)"
   ]
  },
  {
   "cell_type": "code",
   "execution_count": null,
   "metadata": {},
   "outputs": [
    {
     "name": "stdout",
     "output_type": "stream",
     "text": [
      "\n",
      "Taal: Ektaal\n",
      "Total number of beats: 12\n",
      "Sam (X) at beat: 7\n",
      "New Divisions: [2, 2, 2, 2, 2, 2]\n",
      "New Vibhaag: ['0', '3', '4', 'X', '0', '2']\n"
     ]
    }
   ],
   "source": [
    "# from identifications import calculate_divisions_and_vibhaag\n",
    "# from save_and_load import get_metadata_field, get_taal_field\n",
    "\n",
    "# # taal = get_metadata_field(field='taal_name')\n",
    "# # sthayee_sam = get_metadata_field(field='sthayee.sam_beat')\n",
    "\n",
    "# taal = \"Ektaal\"\n",
    "# sthayee_sam_beat = 7\n",
    "\n",
    "# # Calculate divisions and vibhaag\n",
    "# new_divisions, new_vibhaag = calculate_divisions_and_vibhaag(taal, sthayee_sam_beat)\n",
    "\n",
    "# # Define the beat count (size of the lists) from taal information\n",
    "# beat_count = get_taal_field(taal, field_name=\"beat_count\")\n",
    "\n",
    "# # Print the results\n",
    "# print(f\"\\nTaal: {taal}\")\n",
    "# print(f\"Total number of beats: {beat_count}\")\n",
    "# print(f\"Sam (X) at beat: {sthayee_sam_beat}\")\n",
    "# print(f\"New Divisions: {new_divisions}\")\n",
    "# print(f\"New Vibhaag: {new_vibhaag}\")\n"
   ]
  },
  {
   "cell_type": "markdown",
   "metadata": {},
   "source": [
    "#### Separate Prediction for Sthayee, Antara, Sanchari and Aabhog\n",
    "- Processes musical predictions separately for each raga section:\n",
    "  - **Sthayee**\n",
    "  - **Antara**  \n",
    "  - **Sanchari** \n",
    "  - **Aabhog** \n",
    "\n",
    "#### Flattening Process\n",
    "- Converts different beat cycles into linear sequences:\n",
    "  - **Swar List**: \n",
    "  - **Kann Swar List**: \n",
    "- Maintains synchronization between swar and kann_swar sequences"
   ]
  },
  {
   "cell_type": "code",
   "execution_count": 32,
   "metadata": {},
   "outputs": [],
   "source": [
    "from save_and_load import load_predictions\n",
    "from save_and_load import load_row_categories\n",
    "from modifications import categorize_flatten_predictions\n",
    "\n",
    "# def print_categorized_predictions(categorized):\n",
    "#     \"\"\"Prints the categorized predictions\"\"\"\n",
    "#     for category, data in categorized.items():\n",
    "#         if data:  # Only print if category exists\n",
    "#             print(f\"\\n{category.upper()}:\")\n",
    "#             print(\"Swar:\", data[\"swar\"])\n",
    "#             print(\"Kann Swar:\", data[\"kann_swar\"])\n",
    "\n",
    "\n",
    "predictions = load_predictions()\n",
    "row_categories = load_row_categories()\n",
    "\n",
    "if predictions:\n",
    "        categorized_flatten = categorize_flatten_predictions(predictions, row_categories)\n",
    "        # print_categorized_predictions(categorized_flatten)"
   ]
  },
  {
   "cell_type": "code",
   "execution_count": 33,
   "metadata": {},
   "outputs": [],
   "source": [
    "from save_and_load import save_categorized_flatten_predictions\n",
    "\n",
    "save_categorized_flatten_predictions(categorized_flatten)"
   ]
  },
  {
   "cell_type": "markdown",
   "metadata": {},
   "source": [
    "#### Generate metadata header for the kern"
   ]
  },
  {
   "cell_type": "code",
   "execution_count": 34,
   "metadata": {},
   "outputs": [],
   "source": [
    "from save_and_load import get_metadata_field\n",
    "from generators import generate_metadata_header\n",
    "\n",
    "raag = get_metadata_field(field='raag_name')\n",
    "taal = get_metadata_field(field='taal_name')\n",
    "lay = get_metadata_field(field='lay')\n",
    "\n",
    "metadata_header_text, metadata_header_kern = generate_metadata_header(raag, taal, lay)\n",
    "\n",
    "# print(metadata_header_text)"
   ]
  },
  {
   "cell_type": "markdown",
   "metadata": {},
   "source": [
    "#### Sthayee Conversion"
   ]
  },
  {
   "cell_type": "code",
   "execution_count": 35,
   "metadata": {},
   "outputs": [],
   "source": [
    "from generators import generate_kern\n",
    "from save_and_load import load_categorized_flatten_predictions\n",
    "from identifications import calculate_divisions_and_vibhaag\n",
    "from save_and_load import get_metadata_field, get_taal_field\n",
    "\n",
    "taal = get_metadata_field(field='taal_name')\n",
    "sthayee_sam_beat = get_metadata_field(field='sthayee.sam_beat')\n",
    "\n",
    "# Calculate divisions and vibhaag for sthayee\n",
    "sthayee_division, sthayee_vibhaag = calculate_divisions_and_vibhaag(taal, sthayee_sam_beat)\n",
    "\n",
    "# Number of beats in one cycle of given taal\n",
    "beat_count = get_taal_field(taal, field_name=\"beat_count\")\n",
    "\n",
    "sthayee_predictions = load_categorized_flatten_predictions(\"sthayee\")\n",
    "sthayee_kann_swar = sthayee_predictions[\"kann_swar\"]\n",
    "sthayee_swar = sthayee_predictions[\"swar\"]\n",
    "\n",
    "sthayee_kern_text, sthayee_kern = generate_kern(sthayee_kann_swar, sthayee_swar, sthayee_division, beat_count)\n",
    "\n",
    "sthayee_header = \"!! Sthayee\"\n",
    "\n",
    "# print(metadata_header_text)\n",
    "# print(sthayee_header)\n",
    "# print(sthayee_kern_text)"
   ]
  },
  {
   "cell_type": "markdown",
   "metadata": {},
   "source": [
    "#### Sthayee to Antara Transition"
   ]
  },
  {
   "cell_type": "code",
   "execution_count": 36,
   "metadata": {},
   "outputs": [],
   "source": [
    "from generators import generate_transition\n",
    "\n",
    "# get sam beat for antara\n",
    "antara_sam_beat = get_metadata_field(field='antara.sam_beat')\n",
    "\n",
    "if antara_sam_beat is not None:\n",
    "\n",
    "    # Calculate divisions and vibhaag for antara\n",
    "    antara_division, antara_vibhaag = calculate_divisions_and_vibhaag(taal, antara_sam_beat)\n",
    "\n",
    "    # Generate transition from sthayee to antara\n",
    "    sthayee_antara_transition_text, sthayee_antara_transition_kern = generate_transition(sthayee_kern, sthayee_vibhaag, antara_vibhaag)\n",
    "\n",
    "    sthayee_antara_transition_header = \"!! Sthayee to Antara Transition\"\n",
    "\n",
    "    # print(sthayee_kern_text)\n",
    "    # print(sthayee_antara_transition_text)"
   ]
  },
  {
   "cell_type": "markdown",
   "metadata": {},
   "source": [
    "#### Antara Conversion"
   ]
  },
  {
   "cell_type": "code",
   "execution_count": 37,
   "metadata": {},
   "outputs": [],
   "source": [
    "from generators import generate_kern\n",
    "from save_and_load import load_categorized_flatten_predictions\n",
    "\n",
    "if antara_sam_beat is not None:\n",
    "\n",
    "    antara_predictions = load_categorized_flatten_predictions(\"antara\")\n",
    "    antara_kann_swar = antara_predictions[\"kann_swar\"]\n",
    "    antara_swar = antara_predictions[\"swar\"]\n",
    "\n",
    "    antara_kern_text, antara_kern = generate_kern(antara_kann_swar, antara_swar, antara_division, beat_count)\n",
    "\n",
    "    antara_header = \"!! Antara\"\n",
    "    # print(antara_kern_text)"
   ]
  },
  {
   "cell_type": "markdown",
   "metadata": {},
   "source": [
    "#### Antara to Sanchari Transition (if exists)"
   ]
  },
  {
   "cell_type": "code",
   "execution_count": 38,
   "metadata": {},
   "outputs": [],
   "source": [
    "from generators import generate_transition\n",
    "\n",
    "# get sam beat for antara\n",
    "sanchari_sam_beat = get_metadata_field(field='sanchari.sam_beat')\n",
    "\n",
    "if sanchari_sam_beat is not None:\n",
    "\n",
    "    # Calculate divisions and vibhaag for sanchari\n",
    "    sanchari_division, sanchari_vibhaag = calculate_divisions_and_vibhaag(taal, sanchari_sam_beat)\n",
    "\n",
    "    # Generate transition from sthayee to antara\n",
    "    antara_sanchari_transition_text, antara_sanchari_transition_kern = generate_transition(antara_kern, antara_vibhaag, sanchari_vibhaag)\n",
    "\n",
    "    antara_sanchari_transition_header = \"!! Antara to Sanchari Transition\"\n",
    "    # print(sthayee_antara_transition_text)"
   ]
  },
  {
   "cell_type": "markdown",
   "metadata": {},
   "source": [
    "#### Sanchari Conversion"
   ]
  },
  {
   "cell_type": "code",
   "execution_count": 39,
   "metadata": {},
   "outputs": [],
   "source": [
    "from generators import generate_kern\n",
    "from save_and_load import load_categorized_flatten_predictions\n",
    "\n",
    "if sanchari_sam_beat is not None:\n",
    "\n",
    "    sanchari_predictions = load_categorized_flatten_predictions(\"sanchari\")\n",
    "    sanchari_kann_swar = sanchari_predictions[\"kann_swar\"]\n",
    "    sanchari_swar = sanchari_predictions[\"swar\"]\n",
    "\n",
    "    sanchari_kern_text, sanchari_kern = generate_kern(sanchari_kann_swar, sanchari_swar, sanchari_division, beat_count)\n",
    "\n",
    "    sanchari_header = \"!! Sanchari\"\n",
    "    # print(sanchari_kern_text)"
   ]
  },
  {
   "cell_type": "markdown",
   "metadata": {},
   "source": [
    "#### Sanchari to Aabhog Transition (if exists)"
   ]
  },
  {
   "cell_type": "code",
   "execution_count": 40,
   "metadata": {},
   "outputs": [],
   "source": [
    "from generators import generate_transition\n",
    "\n",
    "# get sam beat for antara\n",
    "aabhog_sam_beat = get_metadata_field(field='aabhog.sam_beat')\n",
    "\n",
    "if aabhog_sam_beat is not None:\n",
    "\n",
    "    # Calculate divisions and vibhaag for sanchari\n",
    "    aabhog_division, aabhog_vibhaag = calculate_divisions_and_vibhaag(taal, aabhog_sam_beat)\n",
    "\n",
    "    # Generate transition from sthayee to antara\n",
    "    sanchari_aabhog_transition_text, sanchari_aabhog_transition_kern = generate_transition(sanchari_kern, sanchari_vibhaag, aabhog_vibhaag)\n",
    "\n",
    "    sanchari_aabhog_transition_header = \"!! Sanchari to Aabhog Transition\"\n",
    "    # print(sanchari_aabhog_transition_text)"
   ]
  },
  {
   "cell_type": "markdown",
   "metadata": {},
   "source": [
    "#### Aabhog Conversion"
   ]
  },
  {
   "cell_type": "code",
   "execution_count": 41,
   "metadata": {},
   "outputs": [],
   "source": [
    "from generators import generate_kern\n",
    "from save_and_load import load_categorized_flatten_predictions\n",
    "\n",
    "if aabhog_sam_beat is not None:\n",
    "\n",
    "    aabhog_predictions = load_categorized_flatten_predictions(\"aabhog\")\n",
    "    aabhog_kann_swar = aabhog_predictions[\"kann_swar\"]\n",
    "    aabhog_swar = aabhog_predictions[\"swar\"]\n",
    "\n",
    "    aabhog_kern_text, aabhog_kern = generate_kern(aabhog_kann_swar, aabhog_swar, aabhog_division, beat_count)\n",
    "\n",
    "    aabhog_header = \"!! Aabhog\"\n",
    "    # print(aabhog_kern_text)"
   ]
  },
  {
   "cell_type": "markdown",
   "metadata": {},
   "source": [
    "#### Print full kern code"
   ]
  },
  {
   "cell_type": "code",
   "execution_count": null,
   "metadata": {},
   "outputs": [
    {
     "name": "stdout",
     "output_type": "stream",
     "text": [
      "!!!raag: Bilawal\n",
      "!!!taal: Dhamaar\n",
      "!!!lay: Vilambit\n",
      "!!!source: hindustani-sangeet-paddhati-kramik-pustak-malika-part-2\n",
      "!!!page: 120\n",
      "**kern\n",
      "*M14/8\n",
      "*MM60\n",
      "*Isitar\n",
      "*clefG2\n",
      "*c:\n",
      "!! Sthayee\n",
      "==1\n",
      "4ryy\n",
      "4ryy\n",
      "4ryy\n",
      "4ryy\n",
      "=\n",
      "4ryy\n",
      "4ryy\n",
      "4ryy\n",
      "4ryy\n",
      "4ryy\n",
      "=\n",
      "4ryy\n",
      "4ryy\n",
      "=\n",
      "gq\n",
      "4a\n",
      "aq\n",
      "2e\n",
      "==2\n",
      "2g\n",
      "ccq\n",
      "4b\n",
      "aq\n",
      "4b\n",
      "=\n",
      "2.cc\n",
      "4b\n",
      "aq\n",
      "4b\n",
      "=\n",
      "2cc\n",
      "=\n",
      "ccq\n",
      "4dd\n",
      "2cc\n",
      "==3\n",
      "ccq\n",
      "4a\n",
      "8A\n",
      "8b-\n",
      "2g\n",
      "=\n",
      "gq\n",
      "4e\n",
      "gq\n",
      "4e\n",
      "8f#\n",
      "8d\n",
      "fq\n",
      "4e\n",
      "4f\n",
      "=\n",
      "4g\n",
      "8c\n",
      "8c\n",
      "=\n",
      "4e\n",
      "2d\n",
      "==4\n",
      "2.c\n",
      "4c\n",
      "=\n",
      "bq\n",
      "4cc\n",
      "2cc\n",
      "ccq\n",
      "2a\n",
      "=\n",
      "4b-\n",
      "4g\n",
      "=\n",
      "gq\n",
      "4a\n",
      "aq\n",
      "2e\n",
      "!! Sthayee to Antara Transition\n",
      "gq\n",
      "4a\n",
      "aq\n",
      "2e\n",
      "=\n",
      "2g\n",
      "ccq\n",
      "4b\n",
      "aq\n",
      "4b\n",
      "=\n",
      "!! Antara\n",
      "==1\n",
      "bq\n",
      "2.cc\n",
      "ccq\n",
      "4b\n",
      "aq\n",
      "4b\n",
      "=\n",
      "2cc\n",
      "=\n",
      "2cc\n",
      "4cc\n",
      "=\n",
      "bq\n",
      "4cc\n",
      "4dd\n",
      "2cc\n",
      "==2\n",
      "bq\n",
      "4cc\n",
      "2ee\n",
      "4dd\n",
      "2.ee\n",
      "=\n",
      "=\n",
      "4ff\n",
      "ff#q\n",
      "2.dd\n",
      "=\n",
      "bq\n",
      "4cc\n",
      "4dd\n",
      "4cc\n",
      "==3\n",
      "4cc\n",
      "cq\n",
      "4a\n",
      "8cc\n",
      "8b\n",
      "4dd\n",
      "4cc\n",
      "=\n",
      "4cc\n",
      "cq\n",
      "4a\n",
      "=\n",
      "8b-\n",
      "8gg\n",
      "gq\n",
      "4a\n",
      "aq\n",
      "2e\n",
      "=\n"
     ]
    }
   ],
   "source": [
    "print(metadata_header_text)\n",
    "\n",
    "if sthayee_sam_beat:\n",
    "    print(sthayee_header)\n",
    "    print(sthayee_kern_text)\n",
    "\n",
    "if antara_sam_beat:\n",
    "    print(sthayee_antara_transition_header)\n",
    "    print(sthayee_antara_transition_text)\n",
    "\n",
    "    print(antara_header)\n",
    "    print(antara_kern_text)\n",
    "\n",
    "if sanchari_sam_beat:\n",
    "\n",
    "    print(antara_sanchari_transition_header)\n",
    "    print(antara_sanchari_transition_text)\n",
    "\n",
    "    print(sanchari_header)\n",
    "    print(sanchari_kern_text)\n",
    "\n",
    "if aabhog_sam_beat:\n",
    "\n",
    "    print(sanchari_aabhog_transition_header)\n",
    "    print(sanchari_aabhog_transition_text)\n",
    "\n",
    "    print(aabhog_header)\n",
    "    print(aabhog_kern_text)"
   ]
  }
 ],
 "metadata": {
  "kernelspec": {
   "display_name": "Python 3",
   "language": "python",
   "name": "python3"
  },
  "language_info": {
   "codemirror_mode": {
    "name": "ipython",
    "version": 3
   },
   "file_extension": ".py",
   "mimetype": "text/x-python",
   "name": "python",
   "nbconvert_exporter": "python",
   "pygments_lexer": "ipython3",
   "version": "3.12.3"
  }
 },
 "nbformat": 4,
 "nbformat_minor": 2
}
