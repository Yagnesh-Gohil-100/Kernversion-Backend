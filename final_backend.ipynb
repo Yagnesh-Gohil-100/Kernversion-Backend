{
 "cells": [
  {
   "cell_type": "markdown",
   "metadata": {},
   "source": [
    "#### Initial Segmentation and Mapping\n",
    "- Segments images, enlarges them, and enhances their quality.\n",
    "- Generates a **row mapping list** and **coordinates list** for all segmented images.\n",
    "- Assigns a **row number** to each segmented image based on its position on the page for further processing."
   ]
  },
  {
   "cell_type": "code",
   "execution_count": 58,
   "metadata": {},
   "outputs": [
    {
     "data": {
      "text/plain": [
       "<module 'config' from 'c:\\\\Users\\\\Admin\\\\Desktop\\\\Kernversion Backend\\\\config.py'>"
      ]
     },
     "execution_count": 58,
     "metadata": {},
     "output_type": "execute_result"
    }
   ],
   "source": [
    "import importlib as lib\n",
    "\n",
    "import segmentation, save_and_load, mapping, identifications, modifications, generators, config\n",
    "\n",
    "lib.reload(segmentation)\n",
    "lib.reload(save_and_load)\n",
    "lib.reload(mapping)\n",
    "lib.reload(identifications)\n",
    "lib.reload(modifications)\n",
    "lib.reload(generators)\n",
    "lib.reload(config)"
   ]
  },
  {
   "cell_type": "code",
   "execution_count": 4,
   "metadata": {},
   "outputs": [
    {
     "name": "stdout",
     "output_type": "stream",
     "text": [
      "Page 0 Row Mapping: [(1, 71, 78), (2, 105, 116), (3, 121, 136), (4, 144, 147), (5, 154, 170), (6, 174, 177), (7, 182, 188), (8, 221, 223), (9, 255, 261), (10, 288, 320), (11, 325, 328), (12, 337, 349), (13, 356, 359), (14, 363, 369), (15, 377, 386), (16, 392, 405), (17, 416, 419), (18, 426, 441), (19, 443, 445), (20, 446, 448), (21, 449, 452), (22, 453, 459), (23, 501, 504), (24, 541, 553), (25, 581, 590), (26, 596, 598), (27, 621, 629), (28, 635, 649), (29, 655, 658), (30, 665, 680), (31, 685, 689), (32, 693, 699), (33, 706, 715), (34, 721, 737), (35, 742, 745), (36, 752, 767), (37, 774, 776), (38, 779, 786)]\n",
      "Page 0 Coordinates: [(472, 783, 7, 6), (318, 782, 7, 7), (166, 782, 6, 7), (394, 781, 6, 7), (243, 780, 11, 10), (90, 779, 6, 12), (493, 774, 17, 5), (504, 759, 7, 11), (431, 759, 8, 12), (391, 759, 15, 13), (354, 759, 14, 12), (319, 759, 12, 16), (240, 758, 13, 12), (127, 758, 17, 13), (88, 758, 8, 12), (164, 757, 18, 20), (468, 754, 16, 19), (281, 754, 14, 18), (492, 753, 9, 15), (209, 752, 10, 20), (493, 742, 20, 6), (425, 729, 22, 16), (391, 729, 16, 12), (417, 728, 6, 17), (319, 728, 11, 13), (238, 728, 17, 12), (202, 728, 17, 13), (85, 728, 9, 13), (467, 725, 15, 23), (492, 723, 24, 18), (286, 722, 9, 19), (162, 722, 21, 25), (135, 722, 8, 17), (359, 721, 9, 20), (122, 710, 11, 10), (236, 706, 14, 17), (470, 696, 7, 7), (394, 695, 6, 9), (317, 695, 7, 7), (245, 695, 8, 7), (163, 694, 10, 9), (88, 693, 7, 11), (123, 687, 13, 4), (200, 686, 15, 5), (90, 685, 18, 6), (437, 674, 11, 13), (502, 673, 8, 12), (391, 673, 9, 14), (359, 672, 9, 13), (286, 672, 9, 12), (162, 672, 12, 13), (94, 671, 17, 11), (318, 668, 15, 17), (466, 667, 18, 19), (86, 667, 6, 14), (239, 666, 16, 19), (120, 666, 22, 16), (198, 665, 21, 18), (202, 655, 16, 6), (90, 655, 18, 6), (467, 643, 11, 13), (393, 642, 11, 14), (358, 642, 11, 13), (283, 642, 11, 13), (161, 642, 11, 13), (318, 641, 11, 14), (200, 641, 18, 9), (120, 638, 25, 23), (117, 638, 13, 14), (499, 637, 11, 18), (439, 637, 8, 18), (82, 637, 28, 15), (237, 635, 8, 19), (226, 626, 5, 161), (455, 625, 5, 168), (236, 625, 10, 9), (197, 624, 7, 9), (159, 624, 7, 9), (94, 624, 9, 9), (80, 624, 8, 9), (149, 623, 6, 167), (379, 622, 5, 168), (465, 621, 10, 13), (302, 621, 6, 166), (112, 621, 10, 11), (318, 596, 5, 5), (276, 581, 40, 19), (205, 546, 86, 14), (367, 544, 10, 15), (298, 544, 5, 15), (311, 541, 49, 16), (261, 501, 68, 6), (417, 455, 7, 7), (195, 455, 9, 8), (304, 454, 6, 10), (89, 453, 5, 9), (339, 449, 41, 6), (460, 446, 14, 5), (167, 443, 3, 5), (303, 433, 10, 16), (270, 433, 13, 12), (512, 432, 4, 13), (492, 432, 10, 13), (436, 432, 8, 12), (415, 432, 8, 12), (388, 432, 8, 12), (322, 432, 8, 12), (245, 432, 12, 13), (215, 432, 8, 13), (190, 432, 8, 12), (159, 432, 11, 9), (134, 432, 12, 13), (112, 432, 8, 12), (473, 431, 7, 11), (457, 431, 12, 10), (357, 431, 22, 12), (86, 428, 16, 17), (340, 426, 14, 15), (339, 416, 41, 6), (112, 404, 10, 3), (212, 403, 12, 4), (415, 399, 10, 13), (386, 399, 9, 13), (302, 399, 11, 13), (272, 399, 10, 13), (161, 399, 9, 13), (86, 399, 9, 12), (491, 398, 17, 13), (135, 398, 9, 13), (243, 396, 11, 16), (190, 395, 10, 17), (337, 394, 43, 13), (458, 393, 20, 24), (437, 392, 8, 17), (321, 392, 9, 17), (188, 381, 9, 10), (84, 378, 11, 13), (413, 377, 6, 14), (155, 377, 10, 14), (417, 366, 7, 6), (195, 365, 9, 9), (304, 364, 7, 9), (90, 363, 5, 9), (441, 357, 15, 5), (329, 356, 16, 6), (156, 356, 13, 4), (501, 343, 8, 12), (471, 343, 15, 12), (388, 343, 8, 12), (362, 343, 17, 12), (439, 342, 15, 11), (415, 342, 11, 13), (329, 342, 15, 11), (268, 342, 10, 13), (245, 342, 8, 12), (220, 342, 8, 13), (189, 342, 17, 13), (110, 342, 9, 15), (87, 342, 10, 13), (153, 341, 15, 12), (304, 337, 14, 21), (132, 337, 10, 18), (156, 326, 11, 4), (438, 325, 20, 6), (330, 325, 17, 5), (503, 317, 9, 4), (220, 316, 9, 4), (489, 312, 5, 15), (471, 312, 15, 16), (131, 312, 10, 13), (108, 312, 11, 12), (86, 312, 9, 13), (152, 311, 17, 10), (413, 308, 16, 16), (301, 308, 17, 16), (266, 308, 16, 16), (240, 308, 16, 16), (190, 308, 17, 16), (385, 307, 11, 17), (364, 306, 8, 16), (326, 306, 24, 14), (403, 299, 5, 164), (289, 299, 5, 167), (87, 297, 32, 7), (433, 294, 31, 27), (177, 290, 5, 169), (411, 289, 14, 15), (299, 288, 14, 15), (275, 255, 48, 13), (264, 221, 70, 5), (418, 184, 8, 7), (205, 184, 9, 9), (91, 183, 6, 11), (305, 182, 6, 10), (461, 174, 19, 6), (352, 174, 17, 6), (274, 162, 11, 12), (252, 162, 9, 12), (232, 162, 8, 12), (168, 162, 10, 12), (147, 162, 8, 11), (122, 162, 8, 12), (92, 162, 13, 16), (514, 161, 5, 13), (497, 161, 10, 12), (418, 161, 9, 12), (323, 161, 12, 13), (303, 161, 12, 12), (205, 161, 15, 14), (459, 160, 14, 9), (388, 160, 8, 12), (477, 159, 6, 12), (348, 156, 27, 13), (438, 154, 9, 18), (208, 154, 6, 5), (341, 144, 40, 6), (118, 134, 10, 4), (228, 133, 11, 5), (275, 129, 11, 12), (169, 129, 9, 12), (93, 129, 9, 12), (417, 128, 10, 13), (303, 128, 11, 13), (146, 128, 9, 13), (495, 127, 16, 12), (388, 127, 8, 13), (205, 125, 10, 16), (252, 123, 11, 18), (338, 122, 43, 14), (460, 121, 21, 25), (439, 121, 8, 18), (324, 121, 7, 18), (199, 111, 9, 10), (291, 108, 5, 77), (87, 108, 10, 13), (458, 106, 5, 11), (405, 106, 4, 84), (189, 106, 5, 83), (415, 105, 7, 15), (333, 71, 6, 14), (297, 71, 16, 12), (265, 71, 5, 14)]\n",
      "Page 1 Row Mapping: [(39, 54, 62), (40, 95, 102), (41, 107, 124), (42, 130, 132), (43, 139, 154), (44, 166, 174), (45, 209, 211), (46, 247, 254), (47, 275, 287), (48, 294, 308), (49, 314, 316), (50, 325, 341), (51, 346, 348), (52, 352, 360), (53, 366, 374), (54, 384, 396), (55, 402, 406), (56, 413, 430), (57, 433, 435), (58, 441, 448), (59, 456, 464), (60, 471, 486), (61, 491, 494), (62, 503, 517), (63, 522, 522), (64, 523, 525), (65, 531, 537), (66, 544, 555), (67, 561, 576), (68, 582, 584), (69, 593, 606), (70, 612, 615), (71, 620, 626), (72, 694, 697)]\n",
      "Page 1 Coordinates: [(262, 694, 73, 6), (469, 623, 7, 6), (318, 623, 8, 7), (244, 622, 10, 8), (164, 622, 7, 8), (396, 621, 6, 7), (87, 620, 6, 12), (204, 612, 17, 6), (512, 599, 5, 14), (494, 599, 11, 13), (365, 599, 8, 13), (317, 599, 8, 12), (289, 599, 8, 13), (238, 599, 18, 13), (85, 599, 8, 12), (469, 598, 7, 13), (439, 598, 8, 13), (394, 598, 8, 13), (201, 598, 11, 9), (216, 597, 6, 11), (161, 594, 16, 19), (129, 593, 13, 19), (202, 582, 16, 5), (85, 573, 11, 4), (287, 572, 11, 4), (239, 568, 10, 13), (180, 568, 6, 16), (162, 568, 16, 16), (498, 567, 17, 13), (363, 567, 11, 14), (305, 567, 5, 64), (201, 566, 18, 10), (437, 563, 15, 25), (127, 563, 15, 18), (317, 562, 8, 19), (469, 561, 7, 20), (393, 561, 8, 17), (290, 551, 33, 8), (434, 544, 7, 14), (165, 534, 6, 7), (469, 533, 7, 7), (318, 533, 7, 6), (246, 533, 8, 7), (396, 531, 6, 8), (89, 531, 6, 10), (435, 523, 16, 5), (324, 522, 2, 1), (133, 511, 10, 13), (212, 510, 9, 12), (85, 510, 8, 13), (502, 509, 8, 13), (469, 509, 7, 12), (394, 509, 19, 12), (367, 509, 8, 13), (283, 509, 11, 13), (240, 509, 9, 13), (437, 508, 15, 11), (163, 505, 10, 23), (317, 503, 15, 18), (432, 491, 19, 6), (86, 484, 10, 4), (469, 483, 10, 4), (210, 483, 11, 4), (363, 482, 11, 4), (164, 479, 11, 13), (133, 479, 10, 13), (394, 478, 10, 13), (281, 478, 12, 14), (317, 477, 9, 13), (499, 474, 17, 16), (240, 474, 17, 17), (429, 471, 24, 16), (497, 459, 9, 10), (393, 456, 10, 13), (160, 456, 13, 14), (470, 444, 6, 6), (246, 444, 9, 9), (165, 444, 8, 8), (319, 443, 7, 7), (89, 442, 5, 10), (397, 441, 6, 10), (247, 435, 1, 1), (435, 433, 16, 5), (133, 422, 10, 12), (289, 421, 8, 12), (240, 421, 15, 13), (162, 421, 10, 13), (86, 421, 8, 12), (394, 420, 9, 12), (364, 420, 11, 12), (198, 420, 18, 20), (469, 419, 8, 13), (319, 419, 8, 13), (446, 418, 6, 11), (435, 418, 7, 11), (505, 413, 12, 20), (198, 403, 19, 6), (435, 402, 16, 5), (471, 394, 8, 4), (287, 394, 10, 4), (394, 389, 9, 13), (506, 388, 9, 13), (366, 388, 9, 14), (317, 388, 12, 14), (211, 388, 8, 10), (433, 387, 18, 9), (162, 386, 17, 17), (135, 385, 8, 18), (84, 385, 8, 18), (240, 384, 15, 18), (193, 384, 15, 15), (393, 368, 9, 12), (81, 367, 14, 15), (495, 366, 9, 14), (320, 356, 7, 6), (163, 356, 8, 8), (469, 355, 7, 6), (247, 355, 8, 7), (87, 354, 6, 11), (396, 352, 7, 11), (202, 346, 17, 4), (85, 333, 11, 16), (240, 332, 13, 13), (161, 332, 14, 13), (133, 332, 9, 13), (359, 331, 15, 13), (317, 331, 12, 13), (290, 331, 7, 13), (468, 330, 9, 13), (437, 330, 10, 16), (396, 330, 8, 13), (205, 330, 15, 12), (499, 325, 15, 18), (203, 314, 16, 5), (286, 305, 10, 4), (394, 304, 9, 4), (84, 302, 10, 13), (164, 301, 10, 13), (130, 301, 11, 13), (201, 299, 18, 10), (317, 296, 17, 16), (239, 296, 17, 16), (468, 295, 16, 17), (433, 295, 17, 16), (359, 295, 16, 16), (499, 294, 17, 18), (458, 284, 6, 347), (83, 281, 9, 12), (227, 280, 5, 345), (158, 280, 10, 13), (148, 280, 7, 346), (305, 279, 5, 260), (381, 278, 6, 348), (491, 275, 14, 16), (467, 275, 14, 15), (270, 247, 50, 14), (263, 209, 72, 5), (319, 170, 6, 6), (245, 170, 9, 7), (166, 170, 6, 8), (470, 169, 6, 6), (88, 169, 5, 9), (395, 166, 7, 12), (133, 147, 9, 12), (85, 147, 14, 14), (207, 146, 8, 13), (320, 145, 9, 13), (288, 145, 9, 12), (243, 145, 18, 13), (503, 144, 11, 13), (469, 144, 8, 12), (441, 144, 9, 12), (393, 144, 8, 13), (365, 144, 8, 13), (164, 139, 8, 18), (170, 130, 5, 4), (94, 130, 6, 5), (205, 120, 11, 4), (286, 118, 10, 5), (164, 115, 10, 11), (131, 115, 11, 19), (243, 114, 9, 13), (364, 113, 9, 14), (320, 113, 11, 14), (498, 112, 17, 13), (83, 111, 17, 17), (434, 108, 16, 24), (92, 108, 1, 2), (468, 107, 7, 16), (392, 107, 8, 16), (149, 102, 5, 77), (459, 99, 5, 80), (226, 98, 5, 85), (83, 97, 10, 10), (304, 96, 5, 82), (391, 95, 10, 8), (381, 95, 4, 85), (314, 95, 8, 10), (297, 57, 7, 10), (260, 55, 5, 14), (288, 54, 5, 11)]\n"
     ]
    }
   ],
   "source": [
    "from segmentation import extract_alphabets\n",
    "from config import PATHS\n",
    "\n",
    "pdf_path = \"Analysis/multiple_page.pdf\"\n",
    "initial_segmentation_folder = PATHS['initial_segmentation']\n",
    "all_coordinates, all_row_mappings = extract_alphabets(pdf_path, initial_segmentation_folder)"
   ]
  },
  {
   "cell_type": "markdown",
   "metadata": {},
   "source": [
    "#### User Input: Select Range of Row Numbers\n",
    "- Accepts user input to specify the range of row numbers containing the **full composition**.\n",
    "- Processes only the selected rows for further analysis and conversion."
   ]
  },
  {
   "cell_type": "code",
   "execution_count": 5,
   "metadata": {},
   "outputs": [],
   "source": [
    "first_row = 24\n",
    "last_row = 72"
   ]
  },
  {
   "cell_type": "code",
   "execution_count": 6,
   "metadata": {},
   "outputs": [],
   "source": [
    "from generators import copy_images_in_row_range\n",
    "\n",
    "working_composition_folder = PATHS['working_composition']\n",
    "\n",
    "copy_images_in_row_range(initial_segmentation_folder, working_composition_folder, first_row, last_row)"
   ]
  },
  {
   "cell_type": "markdown",
   "metadata": {},
   "source": [
    "#### Select the metadata (Raag, Taal, Lay etc.)"
   ]
  },
  {
   "cell_type": "code",
   "execution_count": 7,
   "metadata": {},
   "outputs": [],
   "source": [
    "raag_name = \"Yaman\"\n",
    "taal_name = \"Ektaal\"\n",
    "lay = \"Vilambit\"\n",
    "source_name = \"hindustani-sangeet-paddhati-kramik-pustak-malika-part-2\""
   ]
  },
  {
   "cell_type": "markdown",
   "metadata": {},
   "source": [
    "#### Show valid positions for the sam beat and take the input from user for sam beat"
   ]
  },
  {
   "cell_type": "code",
   "execution_count": 8,
   "metadata": {},
   "outputs": [
    {
     "name": "stdout",
     "output_type": "stream",
     "text": [
      "Valid Sam positions for Ektaal: [1, 3, 5, 7, 9, 11]\n"
     ]
    }
   ],
   "source": [
    "from identifications import calculate_valid_sam_positions\n",
    "\n",
    "valid_positions = calculate_valid_sam_positions(taal_name)\n",
    "print(f\"Valid Sam positions for {taal_name}: {valid_positions}\")"
   ]
  },
  {
   "cell_type": "code",
   "execution_count": 9,
   "metadata": {},
   "outputs": [],
   "source": [
    "sthayee_sam = 5\n",
    "antara_sam = 5"
   ]
  },
  {
   "cell_type": "code",
   "execution_count": 10,
   "metadata": {},
   "outputs": [],
   "source": [
    "from save_and_load import save_composition_metadata\n",
    "\n",
    "save_composition_metadata(raag_name, taal_name, lay, sthayee_sam, antara_sam, source_name=source_name)"
   ]
  },
  {
   "cell_type": "code",
   "execution_count": 11,
   "metadata": {},
   "outputs": [
    {
     "name": "stdout",
     "output_type": "stream",
     "text": [
      "Taal name: Ektaal\n",
      "First sam beat in Sthayee: 5\n"
     ]
    }
   ],
   "source": [
    "from save_and_load import get_metadata_field\n",
    "\n",
    "taal = get_metadata_field(field=\"taal_name\")\n",
    "sthayee_sam_beat = get_metadata_field(field=\"sthayee.sam_beat\")\n",
    "\n",
    "print(f\"Taal name: {taal}\")\n",
    "print(f\"First sam beat in Sthayee: {sthayee_sam_beat}\")"
   ]
  },
  {
   "cell_type": "code",
   "execution_count": 12,
   "metadata": {},
   "outputs": [
    {
     "name": "stdout",
     "output_type": "stream",
     "text": [
      "Beat Count: 12\n",
      "{'beat_count': 12, 'divisions': [2, 2, 2, 2, 2, 2], 'vibhaag': ['X', '0', '2', '0', '3', '4'], 'time_signature': '12/8'}\n"
     ]
    }
   ],
   "source": [
    "from save_and_load import get_taal_data, get_taal_field\n",
    "\n",
    "taal_data = get_taal_data(taal)\n",
    "beat = get_taal_field(taal_name=taal, field_name=\"beat_count\")\n",
    "\n",
    "print(f\"Beat Count: {beat}\")\n",
    "print(taal_data)"
   ]
  },
  {
   "cell_type": "code",
   "execution_count": 13,
   "metadata": {},
   "outputs": [
    {
     "name": "stdout",
     "output_type": "stream",
     "text": [
      "\n",
      "Taal: Ektaal\n",
      "Total number of beats: 12\n",
      "Sam (X) at beat: 5\n",
      "New Divisions: [2, 2, 2, 2, 2, 2]\n",
      "New Vibhaag: ['3', '4', 'X', '0', '2', '0']\n"
     ]
    }
   ],
   "source": [
    "from identifications import calculate_divisions_and_vibhaag\n",
    "\n",
    "# Calculate divisions and vibhaag\n",
    "new_divisions, new_vibhaag = calculate_divisions_and_vibhaag(taal, sthayee_sam_beat)\n",
    "\n",
    "# Define the beat count (size of the lists) from taal information\n",
    "beat_count = get_taal_field(taal_name=taal, field_name=\"beat_count\")\n",
    "\n",
    "# Print the results\n",
    "print(f\"\\nTaal: {taal}\")\n",
    "print(f\"Total number of beats: {beat_count}\")\n",
    "print(f\"Sam (X) at beat: {sthayee_sam_beat}\")\n",
    "print(f\"New Divisions: {new_divisions}\")\n",
    "print(f\"New Vibhaag: {new_vibhaag}\")"
   ]
  },
  {
   "cell_type": "markdown",
   "metadata": {},
   "source": [
    "#### Calculate Image Count for Each Row\n",
    "- Counts the number of images in each row by processing the segmented image files."
   ]
  },
  {
   "cell_type": "code",
   "execution_count": 14,
   "metadata": {},
   "outputs": [],
   "source": [
    "from mapping import get_row_image_counts\n",
    "\n",
    "# Get image counts for all rows\n",
    "row_image_count = get_row_image_counts(working_composition_folder)"
   ]
  },
  {
   "cell_type": "markdown",
   "metadata": {},
   "source": [
    "#### Identify Rows with Sam, Taalis, and Khali\n",
    "- Creates a list of rows that could represent Sam, Taalis, and Khali based on the number of images in each row.\n",
    "- Uses the given taal information to determine the expected number of images for these rows."
   ]
  },
  {
   "cell_type": "code",
   "execution_count": 15,
   "metadata": {},
   "outputs": [
    {
     "name": "stdout",
     "output_type": "stream",
     "text": [
      "Rows with sam and taalis:  [32, 38, 44, 52, 58, 65, 71]\n"
     ]
    }
   ],
   "source": [
    "from identifications import get_sam_and_taalis_rows\n",
    "\n",
    "sam_and_taalis_rows = get_sam_and_taalis_rows(row_image_count, taal_name=taal)\n",
    "print(f\"Rows with sam and taalis: \",sam_and_taalis_rows)"
   ]
  },
  {
   "cell_type": "markdown",
   "metadata": {},
   "source": [
    "#### User Correction: Update Identified Rows\n",
    "- Allows the user to review and correct the automatically identified rows for Sam, Taalis, and Khali.\n",
    "- Users can:\n",
    "  - Add missing rows.\n",
    "  - Remove incorrectly identified rows.\n",
    "  - Update the list to ensure accuracy.\n",
    "- Uses the corrected row numbers to create **subgroups**, where each subgroup includes:\n",
    "  - A **swar row**.\n",
    "  - Optional **kann swar**, **lyrics**, and **articulation rows**."
   ]
  },
  {
   "cell_type": "code",
   "execution_count": 16,
   "metadata": {},
   "outputs": [],
   "source": [
    "sam_and_taalis_rows = [32, 38, 44, 52, 58, 65, 71] # multiple pages full composition - yaman-ektaal-vilambit"
   ]
  },
  {
   "cell_type": "markdown",
   "metadata": {},
   "source": [
    "#### Initial Subgroup Creation and Assigning Column Numbers\n",
    "- Finds the first valid row in each subgroup.\n",
    "- Assigns `extra` for images that are not part of the composition (noise and metadata).\n",
    "- Assigns `column numbers` for valid images that are part of the composition."
   ]
  },
  {
   "cell_type": "code",
   "execution_count": 17,
   "metadata": {},
   "outputs": [
    {
     "name": "stdout",
     "output_type": "stream",
     "text": [
      "Subgroup range: [24, 32]\n",
      "First valid row in subgroup:  26\n",
      "Subgroup range: [33, 38]\n",
      "First valid row in subgroup:  33\n",
      "Subgroup range: [39, 44]\n",
      "First valid row in subgroup:  39\n",
      "Subgroup range: [45, 52]\n",
      "First valid row in subgroup:  47\n",
      "Subgroup range: [53, 58]\n",
      "First valid row in subgroup:  53\n",
      "Subgroup range: [59, 65]\n",
      "First valid row in subgroup:  59\n",
      "Subgroup range: [66, 71]\n",
      "First valid row in subgroup:  66\n",
      "Subgroup Ranges: [(26, 31), (33, 37), (39, 43), (47, 51), (53, 57), (59, 64), (66, 70)]\n"
     ]
    }
   ],
   "source": [
    "from mapping import assign_column_numbers\n",
    "\n",
    "subgroup_ranges = assign_column_numbers(all_row_mappings, first_row, sam_and_taalis_rows)\n",
    "print(\"Subgroup Ranges:\", subgroup_ranges)"
   ]
  },
  {
   "cell_type": "markdown",
   "metadata": {},
   "source": [
    "#### Update the subgroup if required\n",
    "- When there is subgroup not having corresponding sam and taalis row (1st subgroup in most of the case)"
   ]
  },
  {
   "cell_type": "code",
   "execution_count": 18,
   "metadata": {},
   "outputs": [
    {
     "name": "stdout",
     "output_type": "stream",
     "text": [
      "Updated Subgroup range: [26, 31]\n",
      "Updated Subgroup range: [33, 37]\n",
      "Updated Subgroup range: [39, 43]\n",
      "Updated Subgroup range: [47, 51]\n",
      "Updated Subgroup range: [53, 57]\n",
      "Updated Subgroup range: [59, 64]\n",
      "Updated Subgroup range: [66, 70]\n"
     ]
    }
   ],
   "source": [
    "from modifications import update_subgroups\n",
    "\n",
    "updated_subgroups = update_subgroups(subgroup_ranges)\n",
    "\n",
    "for start, end in updated_subgroups:\n",
    "    print(f\"Updated Subgroup range: [{start}, {end}]\")"
   ]
  },
  {
   "cell_type": "code",
   "execution_count": 19,
   "metadata": {},
   "outputs": [
    {
     "name": "stdout",
     "output_type": "stream",
     "text": [
      "Updated Subgroup range: [26, 31]\n",
      "Updated Subgroup range: [33, 37]\n",
      "Updated Subgroup range: [39, 43]\n",
      "Updated Subgroup range: [47, 51]\n",
      "Updated Subgroup range: [53, 57]\n",
      "Updated Subgroup range: [59, 64]\n",
      "Updated Subgroup range: [66, 70]\n"
     ]
    }
   ],
   "source": [
    "# Assign back the updated subgroups\n",
    "subgroup_ranges = updated_subgroups\n",
    "\n",
    "for start, end in subgroup_ranges:\n",
    "    print(f\"Updated Subgroup range: [{start}, {end}]\")"
   ]
  },
  {
   "cell_type": "markdown",
   "metadata": {},
   "source": [
    "#### Section Identification\n",
    "- Identifies row numbers belonging to specific sections:\n",
    "  - **Kann Swar**\n",
    "  - **Swar**\n",
    "  - **Lyrics**\n",
    "  - **Articulation**\n",
    "- Organizes rows into their respective sections for further processing."
   ]
  },
  {
   "cell_type": "code",
   "execution_count": 20,
   "metadata": {},
   "outputs": [
    {
     "name": "stdout",
     "output_type": "stream",
     "text": [
      "Articulation Rows:  [29, 35, 37, 49, 55, 57, 61, 64, 68, 70]\n",
      "Kann Swar Rows:  [33, 53, 59, 66]\n",
      "Swar Rows:  [34, 54, 60, 67]\n",
      "Lyrics Rows:  [36, 56, 62, 69]\n"
     ]
    }
   ],
   "source": [
    "from identifications import classify_rows_in_subgroups\n",
    "from save_and_load import save_row_categories\n",
    "\n",
    "row_categories = classify_rows_in_subgroups(subgroup_ranges)\n",
    "\n",
    "# save the row numbers category wise\n",
    "save_row_categories(row_categories)"
   ]
  },
  {
   "cell_type": "markdown",
   "metadata": {},
   "source": [
    "#### User Correction and Selection\n",
    "- Allows user to **correct** identified sections (**Kann Swar**, **Swar**, **Lyrics**, **Articulation**).\n",
    "- Enables selection of **Sthayee** and **Antara** rows.\n",
    "- Ensures accurate grouping and processing of rows based on user input."
   ]
  },
  {
   "cell_type": "code",
   "execution_count": null,
   "metadata": {},
   "outputs": [],
   "source": [
    "row_categories = {\n",
    "    \"articulation\": [29, 31, 35, 37, 49, 51, 55, 57, 61, 64, 68, 70],\n",
    "    \"kann_swar\": [27, 33, 40, 47, 53, 59, 66],\n",
    "    \"swar\": [28, 34, 41, 48, 54, 60, 67],\n",
    "    \"lyrics\": [30, 36, 43, 50, 56, 62, 69],\n",
    "    \"sthayee\": 25,\n",
    "    \"antara\": 46\n",
    "}"
   ]
  },
  {
   "cell_type": "code",
   "execution_count": 22,
   "metadata": {},
   "outputs": [],
   "source": [
    "save_row_categories(row_categories)"
   ]
  },
  {
   "cell_type": "code",
   "execution_count": 23,
   "metadata": {},
   "outputs": [
    {
     "name": "stdout",
     "output_type": "stream",
     "text": [
      "Articulation Rows:  [29, 31, 35, 37, 49, 51, 55, 57, 61, 64, 68, 70]\n",
      "Kann Swar Rows:  [27, 33, 40, 47, 53, 59, 66]\n",
      "Swar Rows:  [28, 34, 41, 48, 54, 60, 67]\n",
      "Lyrics Rows:  [30, 36, 43, 50, 56, 62, 69]\n",
      "Sthayee  25\n",
      "Antara:  46\n"
     ]
    }
   ],
   "source": [
    "from save_and_load import load_row_categories\n",
    "\n",
    "row_categories = load_row_categories()\n",
    "\n",
    "# Extract specific row categories\n",
    "articulation_rows = row_categories.get(\"articulation\", [])\n",
    "kann_swar_rows = row_categories.get(\"kann_swar\", [])\n",
    "swar_rows = row_categories.get(\"swar\", [])\n",
    "lyrics_rows = row_categories.get(\"lyrics\", [])\n",
    "sthyaee = row_categories.get(\"sthayee\")\n",
    "antara = row_categories.get(\"antara\")\n",
    "\n",
    "# Print the results\n",
    "print(\"Articulation Rows: \", articulation_rows)\n",
    "print(\"Kann Swar Rows: \", kann_swar_rows)\n",
    "print(\"Swar Rows: \", swar_rows)\n",
    "print(\"Lyrics Rows: \", lyrics_rows)\n",
    "print(\"Sthayee \", sthyaee)\n",
    "print(\"Antara: \", antara)"
   ]
  },
  {
   "cell_type": "code",
   "execution_count": 24,
   "metadata": {},
   "outputs": [
    {
     "name": "stdout",
     "output_type": "stream",
     "text": [
      "\n",
      "Taal: Ektaal\n",
      "Total number of beats: 12\n"
     ]
    }
   ],
   "source": [
    "# Print the taal and beat count to ensure \n",
    "print(f\"\\nTaal: {taal}\")\n",
    "print(f\"Total number of beats: {beat_count}\")"
   ]
  },
  {
   "cell_type": "markdown",
   "metadata": {},
   "source": [
    "#### Initial List Creation and Mapping\n",
    "- Creates lists for each subgroup:\n",
    "  - **Kann Swar**\n",
    "  - **Swar**\n",
    "  - **Swar Articulation Checks**\n",
    "  - **Lyrics**\n",
    "  - **Lyrics Articulation Checks**\n",
    "- Stores image file paths in the respective lists.\n",
    "\n",
    "#### Kann Swar and Swar Mapping\n",
    "- **Case 1: Explicit Kann Swar Row**  \n",
    "  - Maps **Kann Swar** to its corresponding **Swar** directly.\n",
    "- **Case 2: Hidden Kann Swar in Swar Row**  \n",
    "  - Identifies **Kann Swar** images present in the **Swar** row and moves them to the **Kann Swar** list.\n",
    "  - Detects and segments composite images containing both **Kann Swar** and **Swar**.\n",
    "  - Stores the segmented **Kann Swar** image path in the **Kann Swar** list.\n",
    "  - Stores the segmented **Swar** image path in the **Swar** list.\n",
    "\n",
    "#### Articulation Mapping\n",
    "- Maps **Swar Articulation** rows to their corresponding **Swar**.\n",
    "- Maps **Lyrics Articulation** rows to their corresponding **Lyrics**."
   ]
  },
  {
   "cell_type": "code",
   "execution_count": 35,
   "metadata": {},
   "outputs": [],
   "source": [
    "from generators import generate_lists_in_subgroups\n",
    "import os\n",
    "from filename_utils import get_image_details_with_path\n",
    "from collections import defaultdict\n",
    "\n",
    "# Load all image filenames and extract their information\n",
    "image_files = os.listdir(working_composition_folder)\n",
    "image_info = [get_image_details_with_path(f, working_composition_folder) for f in image_files]\n",
    "image_info = [info for info in image_info if info is not None]\n",
    "\n",
    "# Organize images by row and column\n",
    "row_col_images = defaultdict(lambda: defaultdict(list))\n",
    "for info in image_info:\n",
    "    page_num, row_num, col_num, x, y, width, height, image_path = info\n",
    "    row_col_images[row_num][col_num].append((x, y, width, height, image_path))\n",
    "\n",
    "# Function to generate list of lists for all sections in each subgroup\n",
    "subgroups = generate_lists_in_subgroups(subgroup_ranges, row_col_images, beat_count)"
   ]
  },
  {
   "cell_type": "code",
   "execution_count": 36,
   "metadata": {},
   "outputs": [],
   "source": [
    "from save_and_load import save_lists_in_subgroups\n",
    "\n",
    "save_lists_in_subgroups(subgroups)"
   ]
  },
  {
   "cell_type": "code",
   "execution_count": 37,
   "metadata": {},
   "outputs": [
    {
     "name": "stdout",
     "output_type": "stream",
     "text": [
      "Subgroup Range: (26, 31)\n",
      "Kann Swar List: [['Analysis\\\\multiple_page\\\\working_composition\\\\0_row27_col1_x80_y624_w8_h9.png', 'Analysis\\\\multiple_page\\\\working_composition\\\\0_row27_col1_x94_y624_w9_h9.png'], ['Analysis\\\\multiple_page\\\\working_composition\\\\0_row27_col2_x112_y621_w10_h11.png'], ['Analysis\\\\multiple_page\\\\working_composition\\\\0_row27_col3_x159_y624_w7_h9.png'], ['Analysis\\\\multiple_page\\\\working_composition\\\\0_row27_col4_x197_y624_w7_h9.png'], ['Analysis\\\\multiple_page\\\\working_composition\\\\0_row27_col5_x236_y625_w10_h9.png'], [], [], [], [], [], ['Analysis\\\\multiple_page\\\\working_composition\\\\0_row27_col11_x465_y621_w10_h13.png'], []]\n",
      "Swar List: [['Analysis\\\\multiple_page\\\\working_composition\\\\0_row28_col1_x82_y637_w28_h15.png'], ['Analysis\\\\multiple_page\\\\working_composition\\\\0_row28_col2_x117_y638_w13_h14.png', 'Analysis\\\\multiple_page\\\\working_composition\\\\0_row28_col2_x120_y638_w25_h23.png'], ['Analysis\\\\multiple_page\\\\working_composition\\\\0_row28_col3_x161_y642_w11_h13.png'], ['Analysis\\\\multiple_page\\\\working_composition\\\\0_row28_col4_x200_y641_w18_h9.png'], ['Analysis\\\\multiple_page\\\\working_composition\\\\0_row28_col5_x237_y635_w8_h19.png'], ['Analysis\\\\multiple_page\\\\working_composition\\\\0_row28_col6_x283_y642_w11_h13.png'], ['Analysis\\\\multiple_page\\\\working_composition\\\\0_row28_col7_x318_y641_w11_h14.png'], ['Analysis\\\\multiple_page\\\\working_composition\\\\0_row28_col8_x358_y642_w11_h13.png'], ['Analysis\\\\multiple_page\\\\working_composition\\\\0_row28_col9_x393_y642_w11_h14.png'], ['Analysis\\\\multiple_page\\\\working_composition\\\\0_row28_col10_x439_y637_w8_h18.png'], ['Analysis\\\\multiple_page\\\\working_composition\\\\0_row28_col11_x467_y643_w11_h13.png'], ['Analysis\\\\multiple_page\\\\working_composition\\\\0_row28_col12_x499_y637_w11_h18.png']]\n",
      "Swar Articulation Checks: [True, False, False, True, False, False, False, False, False, False, False, False]\n",
      "Lyrics List: [['Analysis\\\\multiple_page\\\\working_composition\\\\0_row30_col1_x86_y667_w6_h14.png', 'Analysis\\\\multiple_page\\\\working_composition\\\\0_row30_col1_x94_y671_w17_h11.png'], ['Analysis\\\\multiple_page\\\\working_composition\\\\0_row30_col2_x120_y666_w22_h16.png'], ['Analysis\\\\multiple_page\\\\working_composition\\\\0_row30_col3_x162_y672_w12_h13.png'], ['Analysis\\\\multiple_page\\\\working_composition\\\\0_row30_col4_x198_y665_w21_h18.png'], ['Analysis\\\\multiple_page\\\\working_composition\\\\0_row30_col5_x239_y666_w16_h19.png'], ['Analysis\\\\multiple_page\\\\working_composition\\\\0_row30_col6_x286_y672_w9_h12.png'], ['Analysis\\\\multiple_page\\\\working_composition\\\\0_row30_col7_x318_y668_w15_h17.png'], ['Analysis\\\\multiple_page\\\\working_composition\\\\0_row30_col8_x359_y672_w9_h13.png'], ['Analysis\\\\multiple_page\\\\working_composition\\\\0_row30_col9_x391_y673_w9_h14.png'], ['Analysis\\\\multiple_page\\\\working_composition\\\\0_row30_col10_x437_y674_w11_h13.png'], ['Analysis\\\\multiple_page\\\\working_composition\\\\0_row30_col11_x466_y667_w18_h19.png'], ['Analysis\\\\multiple_page\\\\working_composition\\\\0_row30_col12_x502_y673_w8_h12.png']]\n",
      "Lyrics Articulation Checks: [True, True, False, True, False, False, False, False, False, False, False, False]\n",
      "--------------------------------------------------------------------------------\n",
      "Subgroup Range: (33, 37)\n",
      "Kann Swar List: [[], ['Analysis\\\\multiple_page\\\\working_composition\\\\0_row33_col2_x122_y710_w11_h10.png'], [], [], ['Analysis\\\\multiple_page\\\\working_composition\\\\0_row33_col5_x236_y706_w14_h17.png'], [], [], [], [], [], [], [], []]\n",
      "Swar List: [['Analysis\\\\multiple_page\\\\working_composition\\\\0_row34_col1_x85_y728_w9_h13.png'], ['Analysis\\\\multiple_page\\\\working_composition\\\\0_row34_col2_x135_y722_w8_h17.png'], ['Analysis\\\\multiple_page\\\\working_composition\\\\0_row34_col3_x162_y722_w21_h25.png'], ['Analysis\\\\multiple_page\\\\working_composition\\\\0_row34_col4_x202_y728_w17_h13.png'], ['Analysis\\\\multiple_page\\\\working_composition\\\\0_row34_col5_x238_y728_w17_h12.png'], ['Analysis\\\\multiple_page\\\\working_composition\\\\0_row34_col6_x286_y722_w9_h19.png'], ['Analysis\\\\multiple_page\\\\working_composition\\\\0_row34_col7_x319_y728_w11_h13.png'], ['Analysis\\\\multiple_page\\\\working_composition\\\\0_row34_col8_x359_y721_w9_h20.png'], ['Analysis\\\\multiple_page\\\\working_composition\\\\0_row34_col9_x391_y729_w16_h12.png'], ['Analysis\\\\multiple_page\\\\working_composition\\\\0_row34_col10_x417_y728_w6_h17.png'], ['Analysis\\\\multiple_page\\\\working_composition\\\\0_row34_col11_x425_y729_w22_h16.png'], ['Analysis\\\\multiple_page\\\\working_composition\\\\0_row34_col12_x467_y725_w15_h23.png'], ['Analysis\\\\multiple_page\\\\working_composition\\\\0_row34_col13_x492_y723_w24_h18.png']]\n",
      "Swar Articulation Checks: [False, False, False, False, False, False, False, False, False, False, False, False, True]\n",
      "Lyrics List: [['Analysis\\\\multiple_page\\\\working_composition\\\\0_row36_col1_x88_y758_w8_h12.png'], ['Analysis\\\\multiple_page\\\\working_composition\\\\0_row36_col2_x127_y758_w17_h13.png'], ['Analysis\\\\multiple_page\\\\working_composition\\\\0_row36_col3_x164_y757_w18_h20.png'], ['Analysis\\\\multiple_page\\\\working_composition\\\\0_row36_col4_x209_y752_w10_h20.png'], ['Analysis\\\\multiple_page\\\\working_composition\\\\0_row36_col5_x240_y758_w13_h12.png'], ['Analysis\\\\multiple_page\\\\working_composition\\\\0_row36_col6_x281_y754_w14_h18.png'], ['Analysis\\\\multiple_page\\\\working_composition\\\\0_row36_col7_x319_y759_w12_h16.png'], ['Analysis\\\\multiple_page\\\\working_composition\\\\0_row36_col8_x354_y759_w14_h12.png'], ['Analysis\\\\multiple_page\\\\working_composition\\\\0_row36_col9_x391_y759_w15_h13.png'], ['Analysis\\\\multiple_page\\\\working_composition\\\\0_row36_col11_x431_y759_w8_h12.png'], ['Analysis\\\\multiple_page\\\\working_composition\\\\0_row36_col12_x468_y754_w16_h19.png'], ['Analysis\\\\multiple_page\\\\working_composition\\\\0_row36_col13_x492_y753_w9_h15.png', 'Analysis\\\\multiple_page\\\\working_composition\\\\0_row36_col13_x504_y759_w7_h11.png']]\n",
      "Lyrics Articulation Checks: [False, False, False, False, False, False, False, False, False, False, False, True]\n",
      "--------------------------------------------------------------------------------\n",
      "Subgroup Range: (39, 43)\n",
      "Kann Swar List: [['Analysis\\\\multiple_page\\\\working_composition\\\\1_row40_col1_x83_y97_w10_h10.png'], [], [], [], [], [], ['Analysis\\\\multiple_page\\\\working_composition\\\\1_row40_col10_x314_y95_w8_h10.png'], [], ['Analysis\\\\multiple_page\\\\working_composition\\\\1_row40_col13_x391_y95_w10_h8.png'], [], [], []]\n",
      "Swar List: [['Analysis\\\\multiple_page\\\\working_composition\\\\1_row41_col1_x83_y111_w17_h17.png'], ['Analysis\\\\multiple_page\\\\working_composition\\\\1_row41_col3_x131_y115_w11_h19.png'], ['Analysis\\\\multiple_page\\\\working_composition\\\\1_row41_col4_x164_y115_w10_h11.png'], ['Analysis\\\\multiple_page\\\\working_composition\\\\1_row41_col5_x205_y120_w11_h4.png'], ['Analysis\\\\multiple_page\\\\working_composition\\\\1_row41_col6_x243_y114_w9_h13.png'], ['Analysis\\\\multiple_page\\\\working_composition\\\\1_row41_col8_x286_y118_w10_h5.png'], ['Analysis\\\\multiple_page\\\\working_composition\\\\1_row41_col11_x320_y113_w11_h14.png'], ['Analysis\\\\multiple_page\\\\working_composition\\\\1_row41_col12_x364_y113_w9_h14.png'], ['Analysis\\\\multiple_page\\\\working_composition\\\\1_row41_col13_x392_y107_w8_h16.png'], ['Analysis\\\\multiple_page\\\\working_composition\\\\1_row41_col14_x434_y108_w16_h24.png'], ['Analysis\\\\multiple_page\\\\working_composition\\\\1_row41_col15_x468_y107_w7_h16.png'], ['Analysis\\\\multiple_page\\\\working_composition\\\\1_row41_col16_x498_y112_w17_h13.png']]\n",
      "Swar Articulation Checks: [False, False, False, False, False, False, False, False, False, False, False, False]\n",
      "Lyrics List: [['Analysis\\\\multiple_page\\\\working_composition\\\\1_row43_col1_x85_y147_w14_h14.png'], ['Analysis\\\\multiple_page\\\\working_composition\\\\1_row43_col3_x133_y147_w9_h12.png'], ['Analysis\\\\multiple_page\\\\working_composition\\\\1_row43_col4_x164_y139_w8_h18.png'], ['Analysis\\\\multiple_page\\\\working_composition\\\\1_row43_col5_x207_y146_w8_h13.png'], ['Analysis\\\\multiple_page\\\\working_composition\\\\1_row43_col6_x243_y145_w18_h13.png'], ['Analysis\\\\multiple_page\\\\working_composition\\\\1_row43_col8_x288_y145_w9_h12.png'], ['Analysis\\\\multiple_page\\\\working_composition\\\\1_row43_col11_x320_y145_w9_h13.png'], ['Analysis\\\\multiple_page\\\\working_composition\\\\1_row43_col12_x365_y144_w8_h13.png'], ['Analysis\\\\multiple_page\\\\working_composition\\\\1_row43_col13_x393_y144_w8_h13.png'], ['Analysis\\\\multiple_page\\\\working_composition\\\\1_row43_col14_x441_y144_w9_h12.png'], ['Analysis\\\\multiple_page\\\\working_composition\\\\1_row43_col15_x469_y144_w8_h12.png'], ['Analysis\\\\multiple_page\\\\working_composition\\\\1_row43_col16_x503_y144_w11_h13.png']]\n",
      "Lyrics Articulation Checks: [False, False, False, False, False, False, False, False, False, False, False, False]\n",
      "--------------------------------------------------------------------------------\n",
      "Subgroup Range: (47, 51)\n",
      "Kann Swar List: [['Analysis\\\\multiple_page\\\\working_composition\\\\1_row47_col1_x83_y281_w9_h12.png'], [], ['Analysis\\\\multiple_page\\\\working_composition\\\\1_row47_col3_x158_y280_w10_h13.png'], [], [], [], [], [], [], [], ['Analysis\\\\multiple_page\\\\working_composition\\\\1_row47_col11_x467_y275_w14_h15.png'], ['Analysis\\\\multiple_page\\\\working_composition\\\\1_row47_col12_x491_y275_w14_h16.png']]\n",
      "Swar List: [['Analysis\\\\multiple_page\\\\working_composition\\\\1_row48_col1_x84_y302_w10_h13.png'], ['Analysis\\\\multiple_page\\\\working_composition\\\\1_row48_col2_x130_y301_w11_h13.png'], ['Analysis\\\\multiple_page\\\\working_composition\\\\1_row48_col3_x164_y301_w10_h13.png'], ['Analysis\\\\multiple_page\\\\working_composition\\\\1_row48_col4_x201_y299_w18_h10.png'], ['Analysis\\\\multiple_page\\\\working_composition\\\\1_row48_col5_x239_y296_w17_h16.png'], ['Analysis\\\\multiple_page\\\\working_composition\\\\1_row48_col6_x286_y305_w10_h4.png'], ['Analysis\\\\multiple_page\\\\working_composition\\\\1_row48_col7_x317_y296_w17_h16.png'], ['Analysis\\\\multiple_page\\\\working_composition\\\\1_row48_col8_x359_y295_w16_h16.png'], ['Analysis\\\\multiple_page\\\\working_composition\\\\1_row48_col9_x394_y304_w9_h4.png'], ['Analysis\\\\multiple_page\\\\working_composition\\\\1_row48_col10_x433_y295_w17_h16.png'], ['Analysis\\\\multiple_page\\\\working_composition\\\\1_row48_col11_x468_y295_w16_h17.png'], ['Analysis\\\\multiple_page\\\\working_composition\\\\1_row48_col13_x499_y294_w17_h18.png']]\n",
      "Swar Articulation Checks: [False, False, False, True, False, False, False, False, False, False, False, False]\n",
      "Lyrics List: [['Analysis\\\\multiple_page\\\\working_composition\\\\1_row50_col1_x85_y333_w11_h16.png'], ['Analysis\\\\multiple_page\\\\working_composition\\\\1_row50_col2_x133_y332_w9_h13.png'], ['Analysis\\\\multiple_page\\\\working_composition\\\\1_row50_col3_x161_y332_w14_h13.png'], ['Analysis\\\\multiple_page\\\\working_composition\\\\1_row50_col4_x205_y330_w15_h12.png'], ['Analysis\\\\multiple_page\\\\working_composition\\\\1_row50_col5_x240_y332_w13_h13.png'], ['Analysis\\\\multiple_page\\\\working_composition\\\\1_row50_col6_x290_y331_w7_h13.png'], ['Analysis\\\\multiple_page\\\\working_composition\\\\1_row50_col7_x317_y331_w12_h13.png'], ['Analysis\\\\multiple_page\\\\working_composition\\\\1_row50_col8_x359_y331_w15_h13.png'], ['Analysis\\\\multiple_page\\\\working_composition\\\\1_row50_col9_x396_y330_w8_h13.png'], ['Analysis\\\\multiple_page\\\\working_composition\\\\1_row50_col10_x437_y330_w10_h16.png'], ['Analysis\\\\multiple_page\\\\working_composition\\\\1_row50_col11_x468_y330_w9_h13.png'], ['Analysis\\\\multiple_page\\\\working_composition\\\\1_row50_col13_x499_y325_w15_h18.png']]\n",
      "Lyrics Articulation Checks: [False, False, False, True, False, False, False, False, False, False, False, False]\n",
      "--------------------------------------------------------------------------------\n",
      "Subgroup Range: (53, 57)\n",
      "Kann Swar List: [['Analysis\\\\multiple_page\\\\working_composition\\\\1_row53_col1_x81_y367_w14_h15.png'], [], [], [], [], [], [], [], [], ['Analysis\\\\multiple_page\\\\working_composition\\\\1_row53_col10_x393_y368_w9_h12.png'], [], [], ['Analysis\\\\multiple_page\\\\working_composition\\\\1_row53_col14_x495_y366_w9_h14.png']]\n",
      "Swar List: [['Analysis\\\\multiple_page\\\\working_composition\\\\1_row54_col1_x84_y385_w8_h18.png'], ['Analysis\\\\multiple_page\\\\working_composition\\\\1_row54_col2_x135_y385_w8_h18.png'], ['Analysis\\\\multiple_page\\\\working_composition\\\\1_row54_col3_x162_y386_w17_h17.png'], ['Analysis\\\\multiple_page\\\\working_composition\\\\1_row54_col4_x193_y384_w15_h15.png'], ['Analysis\\\\multiple_page\\\\working_composition\\\\1_row54_col5_x211_y388_w8_h10.png'], ['Analysis\\\\multiple_page\\\\working_composition\\\\1_row54_col6_x240_y384_w15_h18.png'], ['Analysis\\\\multiple_page\\\\working_composition\\\\1_row54_col7_x287_y394_w10_h4.png'], ['Analysis\\\\multiple_page\\\\working_composition\\\\1_row54_col8_x317_y388_w12_h14.png'], ['Analysis\\\\multiple_page\\\\working_composition\\\\1_row54_col9_x366_y388_w9_h14.png'], ['Analysis\\\\multiple_page\\\\working_composition\\\\1_row54_col10_x394_y389_w9_h13.png'], ['Analysis\\\\multiple_page\\\\working_composition\\\\1_row54_col11_x433_y387_w18_h9.png'], ['Analysis\\\\multiple_page\\\\working_composition\\\\1_row54_col13_x471_y394_w8_h4.png'], ['Analysis\\\\multiple_page\\\\working_composition\\\\1_row54_col15_x506_y388_w9_h13.png']]\n",
      "Swar Articulation Checks: [False, False, False, True, False, False, False, False, False, False, True, False, False]\n",
      "Lyrics List: [['Analysis\\\\multiple_page\\\\working_composition\\\\1_row56_col1_x86_y421_w8_h12.png'], ['Analysis\\\\multiple_page\\\\working_composition\\\\1_row56_col2_x133_y422_w10_h12.png'], ['Analysis\\\\multiple_page\\\\working_composition\\\\1_row56_col3_x162_y421_w10_h13.png'], ['Analysis\\\\multiple_page\\\\working_composition\\\\1_row56_col4_x198_y420_w18_h20.png'], ['Analysis\\\\multiple_page\\\\working_composition\\\\1_row56_col6_x240_y421_w15_h13.png'], ['Analysis\\\\multiple_page\\\\working_composition\\\\1_row56_col7_x289_y421_w8_h12.png'], ['Analysis\\\\multiple_page\\\\working_composition\\\\1_row56_col8_x319_y419_w8_h13.png'], ['Analysis\\\\multiple_page\\\\working_composition\\\\1_row56_col9_x364_y420_w11_h12.png'], ['Analysis\\\\multiple_page\\\\working_composition\\\\1_row56_col10_x394_y420_w9_h12.png'], ['Analysis\\\\multiple_page\\\\working_composition\\\\1_row56_col11_x435_y418_w7_h11.png'], ['Analysis\\\\multiple_page\\\\working_composition\\\\1_row56_col12_x446_y418_w6_h11.png'], ['Analysis\\\\multiple_page\\\\working_composition\\\\1_row56_col13_x469_y419_w8_h13.png'], ['Analysis\\\\multiple_page\\\\working_composition\\\\1_row56_col15_x505_y413_w12_h20.png']]\n",
      "Lyrics Articulation Checks: [False, False, False, False, False, False, False, False, False, True, False, False, False]\n",
      "--------------------------------------------------------------------------------\n",
      "Subgroup Range: (59, 64)\n",
      "Kann Swar List: [[], [], ['Analysis\\\\multiple_page\\\\working_composition\\\\1_row59_col3_x160_y456_w13_h14.png'], [], [], [], [], [], ['Analysis\\\\multiple_page\\\\working_composition\\\\1_row59_col9_x393_y456_w10_h13.png'], [], [], ['Analysis\\\\multiple_page\\\\working_composition\\\\1_row59_col12_x497_y459_w9_h10.png']]\n",
      "Swar List: [['Analysis\\\\multiple_page\\\\working_composition\\\\1_row60_col1_x86_y484_w10_h4.png'], ['Analysis\\\\multiple_page\\\\working_composition\\\\1_row60_col2_x133_y479_w10_h13.png'], ['Analysis\\\\multiple_page\\\\working_composition\\\\1_row60_col3_x164_y479_w11_h13.png'], ['Analysis\\\\multiple_page\\\\working_composition\\\\1_row60_col4_x210_y483_w11_h4.png'], ['Analysis\\\\multiple_page\\\\working_composition\\\\1_row60_col5_x240_y474_w17_h17.png'], ['Analysis\\\\multiple_page\\\\working_composition\\\\1_row60_col6_x281_y478_w12_h14.png'], ['Analysis\\\\multiple_page\\\\working_composition\\\\1_row60_col7_x317_y477_w9_h13.png'], ['Analysis\\\\multiple_page\\\\working_composition\\\\1_row60_col8_x363_y482_w11_h4.png'], ['Analysis\\\\multiple_page\\\\working_composition\\\\1_row60_col9_x394_y478_w10_h13.png'], ['Analysis\\\\multiple_page\\\\working_composition\\\\1_row60_col10_x429_y471_w24_h16.png'], ['Analysis\\\\multiple_page\\\\working_composition\\\\1_row60_col11_x469_y483_w10_h4.png'], ['Analysis\\\\multiple_page\\\\working_composition\\\\1_row60_col12_x499_y474_w17_h16.png']]\n",
      "Swar Articulation Checks: [False, False, False, False, False, False, False, False, False, True, False, False]\n",
      "Lyrics List: [['Analysis\\\\multiple_page\\\\working_composition\\\\1_row62_col1_x85_y510_w8_h13.png'], ['Analysis\\\\multiple_page\\\\working_composition\\\\1_row62_col2_x133_y511_w10_h13.png'], ['Analysis\\\\multiple_page\\\\working_composition\\\\1_row62_col3_x163_y505_w10_h23.png'], ['Analysis\\\\multiple_page\\\\working_composition\\\\1_row62_col4_x212_y510_w9_h12.png'], ['Analysis\\\\multiple_page\\\\working_composition\\\\1_row62_col5_x240_y509_w9_h13.png'], ['Analysis\\\\multiple_page\\\\working_composition\\\\1_row62_col6_x283_y509_w11_h13.png'], ['Analysis\\\\multiple_page\\\\working_composition\\\\1_row62_col7_x317_y503_w15_h18.png'], ['Analysis\\\\multiple_page\\\\working_composition\\\\1_row62_col8_x367_y509_w8_h13.png'], ['Analysis\\\\multiple_page\\\\working_composition\\\\1_row62_col9_x394_y509_w19_h12.png'], ['Analysis\\\\multiple_page\\\\working_composition\\\\1_row62_col10_x437_y508_w15_h11.png'], ['Analysis\\\\multiple_page\\\\working_composition\\\\1_row62_col11_x469_y509_w7_h12.png'], ['Analysis\\\\multiple_page\\\\working_composition\\\\1_row62_col12_x502_y509_w8_h13.png']]\n",
      "Lyrics Articulation Checks: [False, False, False, False, False, False, False, False, False, False, False, False]\n",
      "--------------------------------------------------------------------------------\n",
      "Subgroup Range: (66, 70)\n",
      "Kann Swar List: [[], [], [], [], [], [], ['Analysis\\\\multiple_page\\\\working_composition\\\\1_row66_col8_x290_y551_w33_h8.png'], [], [], [], ['Analysis\\\\multiple_page\\\\working_composition\\\\1_row66_col12_x434_y544_w7_h14.png'], [], []]\n",
      "Swar List: [['Analysis\\\\multiple_page\\\\working_composition\\\\1_row67_col1_x85_y573_w11_h4.png'], ['Analysis\\\\multiple_page\\\\working_composition\\\\1_row67_col2_x127_y563_w15_h18.png'], ['Analysis\\\\multiple_page\\\\working_composition\\\\1_row67_col3_x162_y568_w16_h16.png'], ['Analysis\\\\multiple_page\\\\working_composition\\\\1_row67_col4_x180_y568_w6_h16.png'], ['Analysis\\\\multiple_page\\\\working_composition\\\\1_row67_col5_x201_y566_w18_h10.png'], ['Analysis\\\\multiple_page\\\\working_composition\\\\1_row67_col7_x239_y568_w10_h13.png'], ['Analysis\\\\multiple_page\\\\working_composition\\\\1_row67_col8_x287_y572_w11_h4.png'], ['Analysis\\\\multiple_page\\\\working_composition\\\\1_row67_col9_x317_y562_w8_h19.png'], ['Analysis\\\\multiple_page\\\\working_composition\\\\1_row67_col10_x363_y567_w11_h14.png'], ['Analysis\\\\multiple_page\\\\working_composition\\\\1_row67_col11_x393_y561_w8_h17.png'], ['Analysis\\\\multiple_page\\\\working_composition\\\\1_row67_col12_x437_y563_w15_h25.png'], ['Analysis\\\\multiple_page\\\\working_composition\\\\1_row67_col13_x469_y561_w7_h20.png'], ['Analysis\\\\multiple_page\\\\working_composition\\\\1_row67_col14_x498_y567_w17_h13.png']]\n",
      "Swar Articulation Checks: [False, False, False, False, True, False, False, False, False, False, False, False, False]\n",
      "Lyrics List: [['Analysis\\\\multiple_page\\\\working_composition\\\\1_row69_col1_x85_y599_w8_h12.png'], ['Analysis\\\\multiple_page\\\\working_composition\\\\1_row69_col2_x129_y593_w13_h19.png'], ['Analysis\\\\multiple_page\\\\working_composition\\\\1_row69_col3_x161_y594_w16_h19.png'], ['Analysis\\\\multiple_page\\\\working_composition\\\\1_row69_col5_x201_y598_w11_h9.png'], ['Analysis\\\\multiple_page\\\\working_composition\\\\1_row69_col6_x216_y597_w6_h11.png'], ['Analysis\\\\multiple_page\\\\working_composition\\\\1_row69_col7_x238_y599_w18_h13.png'], ['Analysis\\\\multiple_page\\\\working_composition\\\\1_row69_col8_x289_y599_w8_h13.png'], ['Analysis\\\\multiple_page\\\\working_composition\\\\1_row69_col9_x317_y599_w8_h12.png'], ['Analysis\\\\multiple_page\\\\working_composition\\\\1_row69_col10_x365_y599_w8_h13.png'], ['Analysis\\\\multiple_page\\\\working_composition\\\\1_row69_col11_x394_y598_w8_h13.png'], ['Analysis\\\\multiple_page\\\\working_composition\\\\1_row69_col12_x439_y598_w8_h13.png'], ['Analysis\\\\multiple_page\\\\working_composition\\\\1_row69_col13_x469_y598_w7_h13.png'], ['Analysis\\\\multiple_page\\\\working_composition\\\\1_row69_col14_x494_y599_w11_h13.png'], ['Analysis\\\\multiple_page\\\\working_composition\\\\1_row69_col15_x512_y599_w5_h14.png']]\n",
      "Lyrics Articulation Checks: [False, False, False, True, False, False, False, False, False, False, False, False, False, False]\n",
      "--------------------------------------------------------------------------------\n"
     ]
    }
   ],
   "source": [
    "from save_and_load import load_lists_in_subgroups\n",
    "\n",
    "subgroups = load_lists_in_subgroups()\n",
    "\n",
    "# Print the results for each subgroup\n",
    "for subgroup_range, results in subgroups.items():\n",
    "    print(f\"Subgroup Range: {subgroup_range}\")\n",
    "    print(f\"Kann Swar List: {results['kann_swar_list']}\")\n",
    "    print(f\"Swar List: {results['swar_list']}\")\n",
    "    print(f\"Swar Articulation Checks: {results['swar_articulation_checks']}\")\n",
    "    print(f\"Lyrics List: {results['lyrics_list']}\")\n",
    "    print(f\"Lyrics Articulation Checks: {results['lyrics_articulation_checks']}\")\n",
    "    print(\"-\" * 80)"
   ]
  },
  {
   "cell_type": "markdown",
   "metadata": {},
   "source": [
    "#### Meend Segmentation and List Creation\n",
    "- Segments composite **Meend** and **Kann Swar** images.\n",
    "- Stores the **Kann Swar** image in its correct position in the **Kann Swar List** based on coordinates.\n",
    "- Creates a separate **Meend List** to store:\n",
    "  - **Start** and **end positions** of each **Meend** corresponding to the **Swar** row.\n",
    "- Detects **Meend** in the **Kann Swar** row.\n",
    "- If **Meend** is present:\n",
    "    - Update the **Meend List**\n",
    "    - Remove the image path from **Kann Swar List**"
   ]
  },
  {
   "cell_type": "code",
   "execution_count": 38,
   "metadata": {},
   "outputs": [],
   "source": [
    "from generators import update_kann_swar_and_generate_meend_lists\n",
    "\n",
    "update_kann_swar_and_generate_meend_lists()"
   ]
  },
  {
   "cell_type": "code",
   "execution_count": 39,
   "metadata": {},
   "outputs": [
    {
     "name": "stdout",
     "output_type": "stream",
     "text": [
      "Subgroup Range: (26, 31)\n",
      "Kann Swar List: [['Analysis\\\\multiple_page\\\\working_composition\\\\0_row27_col1_x80_y624_w8_h9.png', 'Analysis\\\\multiple_page\\\\working_composition\\\\0_row27_col1_x94_y624_w9_h9.png'], ['Analysis\\\\multiple_page\\\\working_composition\\\\0_row27_col2_x112_y621_w10_h11.png'], ['Analysis\\\\multiple_page\\\\working_composition\\\\0_row27_col3_x159_y624_w7_h9.png'], ['Analysis\\\\multiple_page\\\\working_composition\\\\0_row27_col4_x197_y624_w7_h9.png'], ['Analysis\\\\multiple_page\\\\working_composition\\\\0_row27_col5_x236_y625_w10_h9.png'], [], [], [], [], [], ['Analysis\\\\multiple_page\\\\working_composition\\\\0_row27_col11_x465_y621_w10_h13.png'], []]\n",
      "Meend List: ['', '', '', '', '', '', '', '', '', '', '', '']\n",
      "Swar List: [['Analysis\\\\multiple_page\\\\working_composition\\\\0_row28_col1_x82_y637_w28_h15.png'], ['Analysis\\\\multiple_page\\\\working_composition\\\\0_row28_col2_x117_y638_w13_h14.png', 'Analysis\\\\multiple_page\\\\working_composition\\\\0_row28_col2_x120_y638_w25_h23.png'], ['Analysis\\\\multiple_page\\\\working_composition\\\\0_row28_col3_x161_y642_w11_h13.png'], ['Analysis\\\\multiple_page\\\\working_composition\\\\0_row28_col4_x200_y641_w18_h9.png'], ['Analysis\\\\multiple_page\\\\working_composition\\\\0_row28_col5_x237_y635_w8_h19.png'], ['Analysis\\\\multiple_page\\\\working_composition\\\\0_row28_col6_x283_y642_w11_h13.png'], ['Analysis\\\\multiple_page\\\\working_composition\\\\0_row28_col7_x318_y641_w11_h14.png'], ['Analysis\\\\multiple_page\\\\working_composition\\\\0_row28_col8_x358_y642_w11_h13.png'], ['Analysis\\\\multiple_page\\\\working_composition\\\\0_row28_col9_x393_y642_w11_h14.png'], ['Analysis\\\\multiple_page\\\\working_composition\\\\0_row28_col10_x439_y637_w8_h18.png'], ['Analysis\\\\multiple_page\\\\working_composition\\\\0_row28_col11_x467_y643_w11_h13.png'], ['Analysis\\\\multiple_page\\\\working_composition\\\\0_row28_col12_x499_y637_w11_h18.png']]\n",
      "Lyrics List: [['Analysis\\\\multiple_page\\\\working_composition\\\\0_row30_col1_x86_y667_w6_h14.png', 'Analysis\\\\multiple_page\\\\working_composition\\\\0_row30_col1_x94_y671_w17_h11.png'], ['Analysis\\\\multiple_page\\\\working_composition\\\\0_row30_col2_x120_y666_w22_h16.png'], ['Analysis\\\\multiple_page\\\\working_composition\\\\0_row30_col3_x162_y672_w12_h13.png'], ['Analysis\\\\multiple_page\\\\working_composition\\\\0_row30_col4_x198_y665_w21_h18.png'], ['Analysis\\\\multiple_page\\\\working_composition\\\\0_row30_col5_x239_y666_w16_h19.png'], ['Analysis\\\\multiple_page\\\\working_composition\\\\0_row30_col6_x286_y672_w9_h12.png'], ['Analysis\\\\multiple_page\\\\working_composition\\\\0_row30_col7_x318_y668_w15_h17.png'], ['Analysis\\\\multiple_page\\\\working_composition\\\\0_row30_col8_x359_y672_w9_h13.png'], ['Analysis\\\\multiple_page\\\\working_composition\\\\0_row30_col9_x391_y673_w9_h14.png'], ['Analysis\\\\multiple_page\\\\working_composition\\\\0_row30_col10_x437_y674_w11_h13.png'], ['Analysis\\\\multiple_page\\\\working_composition\\\\0_row30_col11_x466_y667_w18_h19.png'], ['Analysis\\\\multiple_page\\\\working_composition\\\\0_row30_col12_x502_y673_w8_h12.png']]\n",
      "Swar Articulation Checks: [True, False, False, True, False, False, False, False, False, False, False, False]\n",
      "Lyrics Articulation Checks: [True, True, False, True, False, False, False, False, False, False, False, False]\n",
      "--------------------------------------------------------------------------------\n",
      "Subgroup Range: (33, 37)\n",
      "Kann Swar List: [[], ['Analysis\\\\multiple_page\\\\working_composition\\\\0_row33_col2_x122_y710_w11_h10.png'], [], [], ['Analysis\\\\multiple_page\\\\working_composition\\\\0_row33_col5_x236_y706_w14_h17.png'], [], [], [], [], [], [], [], []]\n",
      "Meend List: ['', '', '', '', '', '', '', '', '', '', '', '', '']\n",
      "Swar List: [['Analysis\\\\multiple_page\\\\working_composition\\\\0_row34_col1_x85_y728_w9_h13.png'], ['Analysis\\\\multiple_page\\\\working_composition\\\\0_row34_col2_x135_y722_w8_h17.png'], ['Analysis\\\\multiple_page\\\\working_composition\\\\0_row34_col3_x162_y722_w21_h25.png'], ['Analysis\\\\multiple_page\\\\working_composition\\\\0_row34_col4_x202_y728_w17_h13.png'], ['Analysis\\\\multiple_page\\\\working_composition\\\\0_row34_col5_x238_y728_w17_h12.png'], ['Analysis\\\\multiple_page\\\\working_composition\\\\0_row34_col6_x286_y722_w9_h19.png'], ['Analysis\\\\multiple_page\\\\working_composition\\\\0_row34_col7_x319_y728_w11_h13.png'], ['Analysis\\\\multiple_page\\\\working_composition\\\\0_row34_col8_x359_y721_w9_h20.png'], ['Analysis\\\\multiple_page\\\\working_composition\\\\0_row34_col9_x391_y729_w16_h12.png'], ['Analysis\\\\multiple_page\\\\working_composition\\\\0_row34_col10_x417_y728_w6_h17.png'], ['Analysis\\\\multiple_page\\\\working_composition\\\\0_row34_col11_x425_y729_w22_h16.png'], ['Analysis\\\\multiple_page\\\\working_composition\\\\0_row34_col12_x467_y725_w15_h23.png'], ['Analysis\\\\multiple_page\\\\working_composition\\\\0_row34_col13_x492_y723_w24_h18.png']]\n",
      "Lyrics List: [['Analysis\\\\multiple_page\\\\working_composition\\\\0_row36_col1_x88_y758_w8_h12.png'], ['Analysis\\\\multiple_page\\\\working_composition\\\\0_row36_col2_x127_y758_w17_h13.png'], ['Analysis\\\\multiple_page\\\\working_composition\\\\0_row36_col3_x164_y757_w18_h20.png'], ['Analysis\\\\multiple_page\\\\working_composition\\\\0_row36_col4_x209_y752_w10_h20.png'], ['Analysis\\\\multiple_page\\\\working_composition\\\\0_row36_col5_x240_y758_w13_h12.png'], ['Analysis\\\\multiple_page\\\\working_composition\\\\0_row36_col6_x281_y754_w14_h18.png'], ['Analysis\\\\multiple_page\\\\working_composition\\\\0_row36_col7_x319_y759_w12_h16.png'], ['Analysis\\\\multiple_page\\\\working_composition\\\\0_row36_col8_x354_y759_w14_h12.png'], ['Analysis\\\\multiple_page\\\\working_composition\\\\0_row36_col9_x391_y759_w15_h13.png'], ['Analysis\\\\multiple_page\\\\working_composition\\\\0_row36_col11_x431_y759_w8_h12.png'], ['Analysis\\\\multiple_page\\\\working_composition\\\\0_row36_col12_x468_y754_w16_h19.png'], ['Analysis\\\\multiple_page\\\\working_composition\\\\0_row36_col13_x492_y753_w9_h15.png', 'Analysis\\\\multiple_page\\\\working_composition\\\\0_row36_col13_x504_y759_w7_h11.png']]\n",
      "Swar Articulation Checks: [False, False, False, False, False, False, False, False, False, False, False, False, True]\n",
      "Lyrics Articulation Checks: [False, False, False, False, False, False, False, False, False, False, False, True]\n",
      "--------------------------------------------------------------------------------\n",
      "Subgroup Range: (39, 43)\n",
      "Kann Swar List: [['Analysis\\\\multiple_page\\\\working_composition\\\\1_row40_col1_x83_y97_w10_h10.png'], [], [], [], [], [], ['Analysis\\\\multiple_page\\\\working_composition\\\\1_row40_col10_x314_y95_w8_h10.png'], [], ['Analysis\\\\multiple_page\\\\working_composition\\\\1_row40_col13_x391_y95_w10_h8.png'], [], [], []]\n",
      "Meend List: ['', '', '', '', '', '', '', '', '', '', '', '']\n",
      "Swar List: [['Analysis\\\\multiple_page\\\\working_composition\\\\1_row41_col1_x83_y111_w17_h17.png'], ['Analysis\\\\multiple_page\\\\working_composition\\\\1_row41_col3_x131_y115_w11_h19.png'], ['Analysis\\\\multiple_page\\\\working_composition\\\\1_row41_col4_x164_y115_w10_h11.png'], ['Analysis\\\\multiple_page\\\\working_composition\\\\1_row41_col5_x205_y120_w11_h4.png'], ['Analysis\\\\multiple_page\\\\working_composition\\\\1_row41_col6_x243_y114_w9_h13.png'], ['Analysis\\\\multiple_page\\\\working_composition\\\\1_row41_col8_x286_y118_w10_h5.png'], ['Analysis\\\\multiple_page\\\\working_composition\\\\1_row41_col11_x320_y113_w11_h14.png'], ['Analysis\\\\multiple_page\\\\working_composition\\\\1_row41_col12_x364_y113_w9_h14.png'], ['Analysis\\\\multiple_page\\\\working_composition\\\\1_row41_col13_x392_y107_w8_h16.png'], ['Analysis\\\\multiple_page\\\\working_composition\\\\1_row41_col14_x434_y108_w16_h24.png'], ['Analysis\\\\multiple_page\\\\working_composition\\\\1_row41_col15_x468_y107_w7_h16.png'], ['Analysis\\\\multiple_page\\\\working_composition\\\\1_row41_col16_x498_y112_w17_h13.png']]\n",
      "Lyrics List: [['Analysis\\\\multiple_page\\\\working_composition\\\\1_row43_col1_x85_y147_w14_h14.png'], ['Analysis\\\\multiple_page\\\\working_composition\\\\1_row43_col3_x133_y147_w9_h12.png'], ['Analysis\\\\multiple_page\\\\working_composition\\\\1_row43_col4_x164_y139_w8_h18.png'], ['Analysis\\\\multiple_page\\\\working_composition\\\\1_row43_col5_x207_y146_w8_h13.png'], ['Analysis\\\\multiple_page\\\\working_composition\\\\1_row43_col6_x243_y145_w18_h13.png'], ['Analysis\\\\multiple_page\\\\working_composition\\\\1_row43_col8_x288_y145_w9_h12.png'], ['Analysis\\\\multiple_page\\\\working_composition\\\\1_row43_col11_x320_y145_w9_h13.png'], ['Analysis\\\\multiple_page\\\\working_composition\\\\1_row43_col12_x365_y144_w8_h13.png'], ['Analysis\\\\multiple_page\\\\working_composition\\\\1_row43_col13_x393_y144_w8_h13.png'], ['Analysis\\\\multiple_page\\\\working_composition\\\\1_row43_col14_x441_y144_w9_h12.png'], ['Analysis\\\\multiple_page\\\\working_composition\\\\1_row43_col15_x469_y144_w8_h12.png'], ['Analysis\\\\multiple_page\\\\working_composition\\\\1_row43_col16_x503_y144_w11_h13.png']]\n",
      "Swar Articulation Checks: [False, False, False, False, False, False, False, False, False, False, False, False]\n",
      "Lyrics Articulation Checks: [False, False, False, False, False, False, False, False, False, False, False, False]\n",
      "--------------------------------------------------------------------------------\n",
      "Subgroup Range: (47, 51)\n",
      "Kann Swar List: [['Analysis\\\\multiple_page\\\\working_composition\\\\1_row47_col1_x83_y281_w9_h12.png'], [], ['Analysis\\\\multiple_page\\\\working_composition\\\\1_row47_col3_x158_y280_w10_h13.png'], [], [], [], [], [], [], [], ['Analysis\\\\multiple_page\\\\working_composition\\\\1_row47_col11_x467_y275_w14_h15.png'], ['Analysis\\\\multiple_page\\\\working_composition\\\\1_row47_col12_x491_y275_w14_h16.png']]\n",
      "Meend List: ['', '', '', '', '', '', '', '', '', '', '', '']\n",
      "Swar List: [['Analysis\\\\multiple_page\\\\working_composition\\\\1_row48_col1_x84_y302_w10_h13.png'], ['Analysis\\\\multiple_page\\\\working_composition\\\\1_row48_col2_x130_y301_w11_h13.png'], ['Analysis\\\\multiple_page\\\\working_composition\\\\1_row48_col3_x164_y301_w10_h13.png'], ['Analysis\\\\multiple_page\\\\working_composition\\\\1_row48_col4_x201_y299_w18_h10.png'], ['Analysis\\\\multiple_page\\\\working_composition\\\\1_row48_col5_x239_y296_w17_h16.png'], ['Analysis\\\\multiple_page\\\\working_composition\\\\1_row48_col6_x286_y305_w10_h4.png'], ['Analysis\\\\multiple_page\\\\working_composition\\\\1_row48_col7_x317_y296_w17_h16.png'], ['Analysis\\\\multiple_page\\\\working_composition\\\\1_row48_col8_x359_y295_w16_h16.png'], ['Analysis\\\\multiple_page\\\\working_composition\\\\1_row48_col9_x394_y304_w9_h4.png'], ['Analysis\\\\multiple_page\\\\working_composition\\\\1_row48_col10_x433_y295_w17_h16.png'], ['Analysis\\\\multiple_page\\\\working_composition\\\\1_row48_col11_x468_y295_w16_h17.png'], ['Analysis\\\\multiple_page\\\\working_composition\\\\1_row48_col13_x499_y294_w17_h18.png']]\n",
      "Lyrics List: [['Analysis\\\\multiple_page\\\\working_composition\\\\1_row50_col1_x85_y333_w11_h16.png'], ['Analysis\\\\multiple_page\\\\working_composition\\\\1_row50_col2_x133_y332_w9_h13.png'], ['Analysis\\\\multiple_page\\\\working_composition\\\\1_row50_col3_x161_y332_w14_h13.png'], ['Analysis\\\\multiple_page\\\\working_composition\\\\1_row50_col4_x205_y330_w15_h12.png'], ['Analysis\\\\multiple_page\\\\working_composition\\\\1_row50_col5_x240_y332_w13_h13.png'], ['Analysis\\\\multiple_page\\\\working_composition\\\\1_row50_col6_x290_y331_w7_h13.png'], ['Analysis\\\\multiple_page\\\\working_composition\\\\1_row50_col7_x317_y331_w12_h13.png'], ['Analysis\\\\multiple_page\\\\working_composition\\\\1_row50_col8_x359_y331_w15_h13.png'], ['Analysis\\\\multiple_page\\\\working_composition\\\\1_row50_col9_x396_y330_w8_h13.png'], ['Analysis\\\\multiple_page\\\\working_composition\\\\1_row50_col10_x437_y330_w10_h16.png'], ['Analysis\\\\multiple_page\\\\working_composition\\\\1_row50_col11_x468_y330_w9_h13.png'], ['Analysis\\\\multiple_page\\\\working_composition\\\\1_row50_col13_x499_y325_w15_h18.png']]\n",
      "Swar Articulation Checks: [False, False, False, True, False, False, False, False, False, False, False, False]\n",
      "Lyrics Articulation Checks: [False, False, False, True, False, False, False, False, False, False, False, False]\n",
      "--------------------------------------------------------------------------------\n",
      "Subgroup Range: (53, 57)\n",
      "Kann Swar List: [['Analysis\\\\multiple_page\\\\working_composition\\\\1_row53_col1_x81_y367_w14_h15.png'], [], [], [], [], [], [], [], [], ['Analysis\\\\multiple_page\\\\working_composition\\\\1_row53_col10_x393_y368_w9_h12.png'], [], [], ['Analysis\\\\multiple_page\\\\working_composition\\\\1_row53_col14_x495_y366_w9_h14.png']]\n",
      "Meend List: ['', '', '', '', '', '', '', '', '', '', '', '', '']\n",
      "Swar List: [['Analysis\\\\multiple_page\\\\working_composition\\\\1_row54_col1_x84_y385_w8_h18.png'], ['Analysis\\\\multiple_page\\\\working_composition\\\\1_row54_col2_x135_y385_w8_h18.png'], ['Analysis\\\\multiple_page\\\\working_composition\\\\1_row54_col3_x162_y386_w17_h17.png'], ['Analysis\\\\multiple_page\\\\working_composition\\\\1_row54_col4_x193_y384_w15_h15.png'], ['Analysis\\\\multiple_page\\\\working_composition\\\\1_row54_col5_x211_y388_w8_h10.png'], ['Analysis\\\\multiple_page\\\\working_composition\\\\1_row54_col6_x240_y384_w15_h18.png'], ['Analysis\\\\multiple_page\\\\working_composition\\\\1_row54_col7_x287_y394_w10_h4.png'], ['Analysis\\\\multiple_page\\\\working_composition\\\\1_row54_col8_x317_y388_w12_h14.png'], ['Analysis\\\\multiple_page\\\\working_composition\\\\1_row54_col9_x366_y388_w9_h14.png'], ['Analysis\\\\multiple_page\\\\working_composition\\\\1_row54_col10_x394_y389_w9_h13.png'], ['Analysis\\\\multiple_page\\\\working_composition\\\\1_row54_col11_x433_y387_w18_h9.png'], ['Analysis\\\\multiple_page\\\\working_composition\\\\1_row54_col13_x471_y394_w8_h4.png'], ['Analysis\\\\multiple_page\\\\working_composition\\\\1_row54_col15_x506_y388_w9_h13.png']]\n",
      "Lyrics List: [['Analysis\\\\multiple_page\\\\working_composition\\\\1_row56_col1_x86_y421_w8_h12.png'], ['Analysis\\\\multiple_page\\\\working_composition\\\\1_row56_col2_x133_y422_w10_h12.png'], ['Analysis\\\\multiple_page\\\\working_composition\\\\1_row56_col3_x162_y421_w10_h13.png'], ['Analysis\\\\multiple_page\\\\working_composition\\\\1_row56_col4_x198_y420_w18_h20.png'], ['Analysis\\\\multiple_page\\\\working_composition\\\\1_row56_col6_x240_y421_w15_h13.png'], ['Analysis\\\\multiple_page\\\\working_composition\\\\1_row56_col7_x289_y421_w8_h12.png'], ['Analysis\\\\multiple_page\\\\working_composition\\\\1_row56_col8_x319_y419_w8_h13.png'], ['Analysis\\\\multiple_page\\\\working_composition\\\\1_row56_col9_x364_y420_w11_h12.png'], ['Analysis\\\\multiple_page\\\\working_composition\\\\1_row56_col10_x394_y420_w9_h12.png'], ['Analysis\\\\multiple_page\\\\working_composition\\\\1_row56_col11_x435_y418_w7_h11.png'], ['Analysis\\\\multiple_page\\\\working_composition\\\\1_row56_col12_x446_y418_w6_h11.png'], ['Analysis\\\\multiple_page\\\\working_composition\\\\1_row56_col13_x469_y419_w8_h13.png'], ['Analysis\\\\multiple_page\\\\working_composition\\\\1_row56_col15_x505_y413_w12_h20.png']]\n",
      "Swar Articulation Checks: [False, False, False, True, False, False, False, False, False, False, True, False, False]\n",
      "Lyrics Articulation Checks: [False, False, False, False, False, False, False, False, False, True, False, False, False]\n",
      "--------------------------------------------------------------------------------\n",
      "Subgroup Range: (59, 64)\n",
      "Kann Swar List: [[], [], ['Analysis\\\\multiple_page\\\\working_composition\\\\1_row59_col3_x160_y456_w13_h14.png'], [], [], [], [], [], ['Analysis\\\\multiple_page\\\\working_composition\\\\1_row59_col9_x393_y456_w10_h13.png'], [], [], ['Analysis\\\\multiple_page\\\\working_composition\\\\1_row59_col12_x497_y459_w9_h10.png']]\n",
      "Meend List: ['', '', '', '', '', '', '', '', '', '', '', '']\n",
      "Swar List: [['Analysis\\\\multiple_page\\\\working_composition\\\\1_row60_col1_x86_y484_w10_h4.png'], ['Analysis\\\\multiple_page\\\\working_composition\\\\1_row60_col2_x133_y479_w10_h13.png'], ['Analysis\\\\multiple_page\\\\working_composition\\\\1_row60_col3_x164_y479_w11_h13.png'], ['Analysis\\\\multiple_page\\\\working_composition\\\\1_row60_col4_x210_y483_w11_h4.png'], ['Analysis\\\\multiple_page\\\\working_composition\\\\1_row60_col5_x240_y474_w17_h17.png'], ['Analysis\\\\multiple_page\\\\working_composition\\\\1_row60_col6_x281_y478_w12_h14.png'], ['Analysis\\\\multiple_page\\\\working_composition\\\\1_row60_col7_x317_y477_w9_h13.png'], ['Analysis\\\\multiple_page\\\\working_composition\\\\1_row60_col8_x363_y482_w11_h4.png'], ['Analysis\\\\multiple_page\\\\working_composition\\\\1_row60_col9_x394_y478_w10_h13.png'], ['Analysis\\\\multiple_page\\\\working_composition\\\\1_row60_col10_x429_y471_w24_h16.png'], ['Analysis\\\\multiple_page\\\\working_composition\\\\1_row60_col11_x469_y483_w10_h4.png'], ['Analysis\\\\multiple_page\\\\working_composition\\\\1_row60_col12_x499_y474_w17_h16.png']]\n",
      "Lyrics List: [['Analysis\\\\multiple_page\\\\working_composition\\\\1_row62_col1_x85_y510_w8_h13.png'], ['Analysis\\\\multiple_page\\\\working_composition\\\\1_row62_col2_x133_y511_w10_h13.png'], ['Analysis\\\\multiple_page\\\\working_composition\\\\1_row62_col3_x163_y505_w10_h23.png'], ['Analysis\\\\multiple_page\\\\working_composition\\\\1_row62_col4_x212_y510_w9_h12.png'], ['Analysis\\\\multiple_page\\\\working_composition\\\\1_row62_col5_x240_y509_w9_h13.png'], ['Analysis\\\\multiple_page\\\\working_composition\\\\1_row62_col6_x283_y509_w11_h13.png'], ['Analysis\\\\multiple_page\\\\working_composition\\\\1_row62_col7_x317_y503_w15_h18.png'], ['Analysis\\\\multiple_page\\\\working_composition\\\\1_row62_col8_x367_y509_w8_h13.png'], ['Analysis\\\\multiple_page\\\\working_composition\\\\1_row62_col9_x394_y509_w19_h12.png'], ['Analysis\\\\multiple_page\\\\working_composition\\\\1_row62_col10_x437_y508_w15_h11.png'], ['Analysis\\\\multiple_page\\\\working_composition\\\\1_row62_col11_x469_y509_w7_h12.png'], ['Analysis\\\\multiple_page\\\\working_composition\\\\1_row62_col12_x502_y509_w8_h13.png']]\n",
      "Swar Articulation Checks: [False, False, False, False, False, False, False, False, False, True, False, False]\n",
      "Lyrics Articulation Checks: [False, False, False, False, False, False, False, False, False, False, False, False]\n",
      "--------------------------------------------------------------------------------\n",
      "Subgroup Range: (66, 70)\n",
      "Kann Swar List: [[], [], [], [], [], [], [], [], [], [], ['Analysis\\\\multiple_page\\\\working_composition\\\\1_row66_col12_x434_y544_w7_h14.png'], [], []]\n",
      "Meend List: ['', '', '', '', '', '', 'S', 'E', '', '', '', '', '']\n",
      "Swar List: [['Analysis\\\\multiple_page\\\\working_composition\\\\1_row67_col1_x85_y573_w11_h4.png'], ['Analysis\\\\multiple_page\\\\working_composition\\\\1_row67_col2_x127_y563_w15_h18.png'], ['Analysis\\\\multiple_page\\\\working_composition\\\\1_row67_col3_x162_y568_w16_h16.png'], ['Analysis\\\\multiple_page\\\\working_composition\\\\1_row67_col4_x180_y568_w6_h16.png'], ['Analysis\\\\multiple_page\\\\working_composition\\\\1_row67_col5_x201_y566_w18_h10.png'], ['Analysis\\\\multiple_page\\\\working_composition\\\\1_row67_col7_x239_y568_w10_h13.png'], ['Analysis\\\\multiple_page\\\\working_composition\\\\1_row67_col8_x287_y572_w11_h4.png'], ['Analysis\\\\multiple_page\\\\working_composition\\\\1_row67_col9_x317_y562_w8_h19.png'], ['Analysis\\\\multiple_page\\\\working_composition\\\\1_row67_col10_x363_y567_w11_h14.png'], ['Analysis\\\\multiple_page\\\\working_composition\\\\1_row67_col11_x393_y561_w8_h17.png'], ['Analysis\\\\multiple_page\\\\working_composition\\\\1_row67_col12_x437_y563_w15_h25.png'], ['Analysis\\\\multiple_page\\\\working_composition\\\\1_row67_col13_x469_y561_w7_h20.png'], ['Analysis\\\\multiple_page\\\\working_composition\\\\1_row67_col14_x498_y567_w17_h13.png']]\n",
      "Lyrics List: [['Analysis\\\\multiple_page\\\\working_composition\\\\1_row69_col1_x85_y599_w8_h12.png'], ['Analysis\\\\multiple_page\\\\working_composition\\\\1_row69_col2_x129_y593_w13_h19.png'], ['Analysis\\\\multiple_page\\\\working_composition\\\\1_row69_col3_x161_y594_w16_h19.png'], ['Analysis\\\\multiple_page\\\\working_composition\\\\1_row69_col5_x201_y598_w11_h9.png'], ['Analysis\\\\multiple_page\\\\working_composition\\\\1_row69_col6_x216_y597_w6_h11.png'], ['Analysis\\\\multiple_page\\\\working_composition\\\\1_row69_col7_x238_y599_w18_h13.png'], ['Analysis\\\\multiple_page\\\\working_composition\\\\1_row69_col8_x289_y599_w8_h13.png'], ['Analysis\\\\multiple_page\\\\working_composition\\\\1_row69_col9_x317_y599_w8_h12.png'], ['Analysis\\\\multiple_page\\\\working_composition\\\\1_row69_col10_x365_y599_w8_h13.png'], ['Analysis\\\\multiple_page\\\\working_composition\\\\1_row69_col11_x394_y598_w8_h13.png'], ['Analysis\\\\multiple_page\\\\working_composition\\\\1_row69_col12_x439_y598_w8_h13.png'], ['Analysis\\\\multiple_page\\\\working_composition\\\\1_row69_col13_x469_y598_w7_h13.png'], ['Analysis\\\\multiple_page\\\\working_composition\\\\1_row69_col14_x494_y599_w11_h13.png'], ['Analysis\\\\multiple_page\\\\working_composition\\\\1_row69_col15_x512_y599_w5_h14.png']]\n",
      "Swar Articulation Checks: [False, False, False, False, True, False, False, False, False, False, False, False, False]\n",
      "Lyrics Articulation Checks: [False, False, False, True, False, False, False, False, False, False, False, False, False, False]\n",
      "--------------------------------------------------------------------------------\n"
     ]
    }
   ],
   "source": [
    "subgroups = load_lists_in_subgroups()\n",
    "\n",
    "# Print the updated results for each subgroup\n",
    "for subgroup_range, results in subgroups.items():\n",
    "    print(f\"Subgroup Range: {subgroup_range}\")\n",
    "    print(f\"Kann Swar List: {results['kann_swar_list']}\")\n",
    "    print(f\"Meend List: {results['meend_list']}\")\n",
    "    print(f\"Swar List: {results['swar_list']}\")\n",
    "    print(f\"Lyrics List: {results['lyrics_list']}\")\n",
    "    print(f\"Swar Articulation Checks: {results['swar_articulation_checks']}\")\n",
    "    print(f\"Lyrics Articulation Checks: {results['lyrics_articulation_checks']}\")\n",
    "    print(\"-\" * 80)"
   ]
  },
  {
   "cell_type": "markdown",
   "metadata": {},
   "source": [
    "#### Final Segmentation and List Finalization\n",
    "- Performs further segmentation to finalize lists for each subgroup.\n",
    "\n",
    "#### Articulation Detection and Segmentation\n",
    "- Detects and segments **articulation** from:\n",
    "  - **Swar Row**: Updates the **Swar Articulation Checks** list.\n",
    "  - **Lyrics Row**: Updates the **Lyrics Articulation Checks** list.\n",
    "\n",
    "#### Word Segmentation\n",
    "- Applies **word segmentation** to:\n",
    "  - **Swar Row**: For images corresponding to **Swar Articulation Checks**.\n",
    "  - **Lyrics Row**: For images corresponding to **Lyrics Articulation Checks**."
   ]
  },
  {
   "cell_type": "code",
   "execution_count": 40,
   "metadata": {},
   "outputs": [],
   "source": [
    "from modifications import finalize_segmentation_and_lists\n",
    "\n",
    "finalize_segmentation_and_lists()"
   ]
  },
  {
   "cell_type": "code",
   "execution_count": 41,
   "metadata": {},
   "outputs": [
    {
     "name": "stdout",
     "output_type": "stream",
     "text": [
      "Subgroup Range: (26, 31)\n",
      "Kann Swar List: [['Analysis\\\\multiple_page\\\\working_composition\\\\0_row27_col1_x80_y624_w8_h9.png', 'Analysis\\\\multiple_page\\\\working_composition\\\\0_row27_col1_x94_y624_w9_h9.png'], ['Analysis\\\\multiple_page\\\\working_composition\\\\0_row27_col2_x112_y621_w10_h11.png'], ['Analysis\\\\multiple_page\\\\working_composition\\\\0_row27_col3_x159_y624_w7_h9.png'], ['Analysis\\\\multiple_page\\\\working_composition\\\\0_row27_col4_x197_y624_w7_h9.png'], ['Analysis\\\\multiple_page\\\\working_composition\\\\0_row27_col5_x236_y625_w10_h9.png'], [], [], [], [], [], ['Analysis\\\\multiple_page\\\\working_composition\\\\0_row27_col11_x465_y621_w10_h13.png'], []]\n",
      "Meend List: ['', '', '', '', '', '', '', '', '', '', '', '']\n",
      "Swar List: [['Analysis\\\\multiple_page\\\\working_composition_segmented\\\\0_row28_col1_x82_y637_w28_h15_seg1.png', 'Analysis\\\\multiple_page\\\\working_composition_segmented\\\\0_row28_col1_x82_y637_w28_h15_seg2.png'], ['Analysis\\\\multiple_page\\\\working_composition\\\\0_row28_col2_x117_y638_w13_h14.png', 'Analysis\\\\multiple_page\\\\working_composition\\\\0_row28_col2_x120_y638_w25_h23.png'], ['Analysis\\\\multiple_page\\\\working_composition\\\\0_row28_col3_x161_y642_w11_h13.png'], ['Analysis\\\\multiple_page\\\\working_composition_segmented\\\\0_row28_col4_x200_y641_w18_h9_seg1.png', 'Analysis\\\\multiple_page\\\\working_composition_segmented\\\\0_row28_col4_x200_y641_w18_h9_seg2.png'], ['Analysis\\\\multiple_page\\\\working_composition\\\\0_row28_col5_x237_y635_w8_h19.png'], ['Analysis\\\\multiple_page\\\\working_composition\\\\0_row28_col6_x283_y642_w11_h13.png'], ['Analysis\\\\multiple_page\\\\working_composition\\\\0_row28_col7_x318_y641_w11_h14.png'], ['Analysis\\\\multiple_page\\\\working_composition\\\\0_row28_col8_x358_y642_w11_h13.png'], ['Analysis\\\\multiple_page\\\\working_composition\\\\0_row28_col9_x393_y642_w11_h14.png'], ['Analysis\\\\multiple_page\\\\working_composition\\\\0_row28_col10_x439_y637_w8_h18.png'], ['Analysis\\\\multiple_page\\\\working_composition\\\\0_row28_col11_x467_y643_w11_h13.png'], ['Analysis\\\\multiple_page\\\\working_composition\\\\0_row28_col12_x499_y637_w11_h18.png']]\n",
      "Lyrics List: [['Analysis\\\\multiple_page\\\\working_composition_segmented\\\\0_row30_col1_x86_y667_w6_h14_seg1.png'], ['Analysis\\\\multiple_page\\\\working_composition_segmented\\\\0_row30_col2_x120_y666_w22_h16_seg1.png', 'Analysis\\\\multiple_page\\\\working_composition_segmented\\\\0_row30_col2_x120_y666_w22_h16_seg2.png'], ['Analysis\\\\multiple_page\\\\working_composition\\\\0_row30_col3_x162_y672_w12_h13.png'], ['Analysis\\\\multiple_page\\\\working_composition_segmented\\\\0_row30_col4_x198_y665_w21_h18_seg1.png', 'Analysis\\\\multiple_page\\\\working_composition_segmented\\\\0_row30_col4_x198_y665_w21_h18_seg2.png'], ['Analysis\\\\multiple_page\\\\working_composition\\\\0_row30_col5_x239_y666_w16_h19.png'], ['Analysis\\\\multiple_page\\\\working_composition\\\\0_row30_col6_x286_y672_w9_h12.png'], ['Analysis\\\\multiple_page\\\\working_composition\\\\0_row30_col7_x318_y668_w15_h17.png'], ['Analysis\\\\multiple_page\\\\working_composition\\\\0_row30_col8_x359_y672_w9_h13.png'], ['Analysis\\\\multiple_page\\\\working_composition\\\\0_row30_col9_x391_y673_w9_h14.png'], ['Analysis\\\\multiple_page\\\\working_composition\\\\0_row30_col10_x437_y674_w11_h13.png'], ['Analysis\\\\multiple_page\\\\working_composition\\\\0_row30_col11_x466_y667_w18_h19.png'], ['Analysis\\\\multiple_page\\\\working_composition\\\\0_row30_col12_x502_y673_w8_h12.png']]\n",
      "Swar Articulation Checks: [True, False, False, True, False, False, False, False, False, False, False, False]\n",
      "Lyrics Articulation Checks: [True, True, False, True, False, False, False, False, False, False, False, False]\n",
      "--------------------------------------------------------------------------------\n",
      "Subgroup Range: (33, 37)\n",
      "Kann Swar List: [[], ['Analysis\\\\multiple_page\\\\working_composition\\\\0_row33_col2_x122_y710_w11_h10.png'], [], [], ['Analysis\\\\multiple_page\\\\working_composition\\\\0_row33_col5_x236_y706_w14_h17.png'], [], [], [], [], [], [], [], []]\n",
      "Meend List: ['', '', '', '', '', '', '', '', '', '', '', '', '']\n",
      "Swar List: [['Analysis\\\\multiple_page\\\\working_composition\\\\0_row34_col1_x85_y728_w9_h13.png'], ['Analysis\\\\multiple_page\\\\working_composition\\\\0_row34_col2_x135_y722_w8_h17.png'], ['Analysis\\\\multiple_page\\\\working_composition_segmented\\\\0_row34_col3_x162_y722_w21_h25_seg1.png', 'Analysis\\\\multiple_page\\\\working_composition_segmented\\\\0_row34_col3_x162_y722_w21_h25_seg2.png'], ['Analysis\\\\multiple_page\\\\working_composition\\\\0_row34_col4_x202_y728_w17_h13.png'], ['Analysis\\\\multiple_page\\\\working_composition\\\\0_row34_col5_x238_y728_w17_h12.png'], ['Analysis\\\\multiple_page\\\\working_composition\\\\0_row34_col6_x286_y722_w9_h19.png'], ['Analysis\\\\multiple_page\\\\working_composition\\\\0_row34_col7_x319_y728_w11_h13.png'], ['Analysis\\\\multiple_page\\\\working_composition\\\\0_row34_col8_x359_y721_w9_h20.png'], ['Analysis\\\\multiple_page\\\\working_composition\\\\0_row34_col9_x391_y729_w16_h12.png'], ['Analysis\\\\multiple_page\\\\working_composition\\\\0_row34_col10_x417_y728_w6_h17.png'], ['Analysis\\\\multiple_page\\\\working_composition\\\\0_row34_col11_x425_y729_w22_h16.png'], ['Analysis\\\\multiple_page\\\\working_composition\\\\0_row34_col12_x467_y725_w15_h23.png'], ['Analysis\\\\multiple_page\\\\working_composition_segmented\\\\0_row34_col13_x492_y723_w24_h18_seg1.png', 'Analysis\\\\multiple_page\\\\working_composition_segmented\\\\0_row34_col13_x492_y723_w24_h18_seg2.png']]\n",
      "Lyrics List: [['Analysis\\\\multiple_page\\\\working_composition\\\\0_row36_col1_x88_y758_w8_h12.png'], ['Analysis\\\\multiple_page\\\\working_composition\\\\0_row36_col2_x127_y758_w17_h13.png'], ['Analysis\\\\multiple_page\\\\working_composition_segmented\\\\0_row36_col3_x164_y757_w18_h20_seg1.png', 'Analysis\\\\multiple_page\\\\working_composition_segmented\\\\0_row36_col3_x164_y757_w18_h20_seg2.png'], ['Analysis\\\\multiple_page\\\\working_composition\\\\0_row36_col4_x209_y752_w10_h20.png'], ['Analysis\\\\multiple_page\\\\working_composition\\\\0_row36_col5_x240_y758_w13_h12.png'], ['Analysis\\\\multiple_page\\\\working_composition\\\\0_row36_col6_x281_y754_w14_h18.png'], ['Analysis\\\\multiple_page\\\\working_composition\\\\0_row36_col7_x319_y759_w12_h16.png'], ['Analysis\\\\multiple_page\\\\working_composition\\\\0_row36_col8_x354_y759_w14_h12.png'], ['Analysis\\\\multiple_page\\\\working_composition\\\\0_row36_col9_x391_y759_w15_h13.png'], ['Analysis\\\\multiple_page\\\\working_composition\\\\0_row36_col11_x431_y759_w8_h12.png'], ['Analysis\\\\multiple_page\\\\working_composition\\\\0_row36_col12_x468_y754_w16_h19.png'], ['Analysis\\\\multiple_page\\\\working_composition_segmented\\\\0_row36_col13_x492_y753_w9_h15_seg1.png']]\n",
      "Swar Articulation Checks: [False, False, True, False, False, False, False, False, False, False, False, False, True]\n",
      "Lyrics Articulation Checks: [False, False, True, False, False, False, False, False, False, False, False, True]\n",
      "--------------------------------------------------------------------------------\n",
      "Subgroup Range: (39, 43)\n",
      "Kann Swar List: [['Analysis\\\\multiple_page\\\\working_composition\\\\1_row40_col1_x83_y97_w10_h10.png'], [], [], [], [], [], ['Analysis\\\\multiple_page\\\\working_composition\\\\1_row40_col10_x314_y95_w8_h10.png'], [], ['Analysis\\\\multiple_page\\\\working_composition\\\\1_row40_col13_x391_y95_w10_h8.png'], [], [], []]\n",
      "Meend List: ['', '', '', '', '', '', '', '', '', '', '', '']\n",
      "Swar List: [['Analysis\\\\multiple_page\\\\working_composition\\\\1_row41_col1_x83_y111_w17_h17.png'], ['Analysis\\\\multiple_page\\\\working_composition\\\\1_row41_col3_x131_y115_w11_h19.png'], ['Analysis\\\\multiple_page\\\\working_composition\\\\1_row41_col4_x164_y115_w10_h11.png'], ['Analysis\\\\multiple_page\\\\working_composition\\\\1_row41_col5_x205_y120_w11_h4.png'], ['Analysis\\\\multiple_page\\\\working_composition\\\\1_row41_col6_x243_y114_w9_h13.png'], ['Analysis\\\\multiple_page\\\\working_composition\\\\1_row41_col8_x286_y118_w10_h5.png'], ['Analysis\\\\multiple_page\\\\working_composition\\\\1_row41_col11_x320_y113_w11_h14.png'], ['Analysis\\\\multiple_page\\\\working_composition\\\\1_row41_col12_x364_y113_w9_h14.png'], ['Analysis\\\\multiple_page\\\\working_composition\\\\1_row41_col13_x392_y107_w8_h16.png'], ['Analysis\\\\multiple_page\\\\working_composition\\\\1_row41_col14_x434_y108_w16_h24.png'], ['Analysis\\\\multiple_page\\\\working_composition\\\\1_row41_col15_x468_y107_w7_h16.png'], ['Analysis\\\\multiple_page\\\\working_composition\\\\1_row41_col16_x498_y112_w17_h13.png']]\n",
      "Lyrics List: [['Analysis\\\\multiple_page\\\\working_composition\\\\1_row43_col1_x85_y147_w14_h14.png'], ['Analysis\\\\multiple_page\\\\working_composition\\\\1_row43_col3_x133_y147_w9_h12.png'], ['Analysis\\\\multiple_page\\\\working_composition\\\\1_row43_col4_x164_y139_w8_h18.png'], ['Analysis\\\\multiple_page\\\\working_composition\\\\1_row43_col5_x207_y146_w8_h13.png'], ['Analysis\\\\multiple_page\\\\working_composition\\\\1_row43_col6_x243_y145_w18_h13.png'], ['Analysis\\\\multiple_page\\\\working_composition\\\\1_row43_col8_x288_y145_w9_h12.png'], ['Analysis\\\\multiple_page\\\\working_composition\\\\1_row43_col11_x320_y145_w9_h13.png'], ['Analysis\\\\multiple_page\\\\working_composition\\\\1_row43_col12_x365_y144_w8_h13.png'], ['Analysis\\\\multiple_page\\\\working_composition\\\\1_row43_col13_x393_y144_w8_h13.png'], ['Analysis\\\\multiple_page\\\\working_composition\\\\1_row43_col14_x441_y144_w9_h12.png'], ['Analysis\\\\multiple_page\\\\working_composition\\\\1_row43_col15_x469_y144_w8_h12.png'], ['Analysis\\\\multiple_page\\\\working_composition\\\\1_row43_col16_x503_y144_w11_h13.png']]\n",
      "Swar Articulation Checks: [False, False, False, False, False, False, False, False, False, False, False, False]\n",
      "Lyrics Articulation Checks: [False, False, False, False, False, False, False, False, False, False, False, False]\n",
      "--------------------------------------------------------------------------------\n",
      "Subgroup Range: (47, 51)\n",
      "Kann Swar List: [['Analysis\\\\multiple_page\\\\working_composition\\\\1_row47_col1_x83_y281_w9_h12.png'], [], ['Analysis\\\\multiple_page\\\\working_composition\\\\1_row47_col3_x158_y280_w10_h13.png'], [], [], [], [], [], [], [], ['Analysis\\\\multiple_page\\\\working_composition\\\\1_row47_col11_x467_y275_w14_h15.png'], ['Analysis\\\\multiple_page\\\\working_composition\\\\1_row47_col12_x491_y275_w14_h16.png']]\n",
      "Meend List: ['', '', '', '', '', '', '', '', '', '', '', '']\n",
      "Swar List: [['Analysis\\\\multiple_page\\\\working_composition\\\\1_row48_col1_x84_y302_w10_h13.png'], ['Analysis\\\\multiple_page\\\\working_composition\\\\1_row48_col2_x130_y301_w11_h13.png'], ['Analysis\\\\multiple_page\\\\working_composition\\\\1_row48_col3_x164_y301_w10_h13.png'], ['Analysis\\\\multiple_page\\\\working_composition_segmented\\\\1_row48_col4_x201_y299_w18_h10_seg1.png', 'Analysis\\\\multiple_page\\\\working_composition_segmented\\\\1_row48_col4_x201_y299_w18_h10_seg2.png'], ['Analysis\\\\multiple_page\\\\working_composition\\\\1_row48_col5_x239_y296_w17_h16.png'], ['Analysis\\\\multiple_page\\\\working_composition\\\\1_row48_col6_x286_y305_w10_h4.png'], ['Analysis\\\\multiple_page\\\\working_composition\\\\1_row48_col7_x317_y296_w17_h16.png'], ['Analysis\\\\multiple_page\\\\working_composition\\\\1_row48_col8_x359_y295_w16_h16.png'], ['Analysis\\\\multiple_page\\\\working_composition\\\\1_row48_col9_x394_y304_w9_h4.png'], ['Analysis\\\\multiple_page\\\\working_composition\\\\1_row48_col10_x433_y295_w17_h16.png'], ['Analysis\\\\multiple_page\\\\working_composition\\\\1_row48_col11_x468_y295_w16_h17.png'], ['Analysis\\\\multiple_page\\\\working_composition\\\\1_row48_col13_x499_y294_w17_h18.png']]\n",
      "Lyrics List: [['Analysis\\\\multiple_page\\\\working_composition\\\\1_row50_col1_x85_y333_w11_h16.png'], ['Analysis\\\\multiple_page\\\\working_composition\\\\1_row50_col2_x133_y332_w9_h13.png'], ['Analysis\\\\multiple_page\\\\working_composition\\\\1_row50_col3_x161_y332_w14_h13.png'], ['Analysis\\\\multiple_page\\\\working_composition_segmented\\\\1_row50_col4_x205_y330_w15_h12_seg1.png', 'Analysis\\\\multiple_page\\\\working_composition_segmented\\\\1_row50_col4_x205_y330_w15_h12_seg2.png'], ['Analysis\\\\multiple_page\\\\working_composition\\\\1_row50_col5_x240_y332_w13_h13.png'], ['Analysis\\\\multiple_page\\\\working_composition\\\\1_row50_col6_x290_y331_w7_h13.png'], ['Analysis\\\\multiple_page\\\\working_composition\\\\1_row50_col7_x317_y331_w12_h13.png'], ['Analysis\\\\multiple_page\\\\working_composition\\\\1_row50_col8_x359_y331_w15_h13.png'], ['Analysis\\\\multiple_page\\\\working_composition\\\\1_row50_col9_x396_y330_w8_h13.png'], ['Analysis\\\\multiple_page\\\\working_composition\\\\1_row50_col10_x437_y330_w10_h16.png'], ['Analysis\\\\multiple_page\\\\working_composition\\\\1_row50_col11_x468_y330_w9_h13.png'], ['Analysis\\\\multiple_page\\\\working_composition\\\\1_row50_col13_x499_y325_w15_h18.png']]\n",
      "Swar Articulation Checks: [False, False, False, True, False, False, False, False, False, False, False, False]\n",
      "Lyrics Articulation Checks: [False, False, False, True, False, False, False, False, False, False, False, False]\n",
      "--------------------------------------------------------------------------------\n",
      "Subgroup Range: (53, 57)\n",
      "Kann Swar List: [['Analysis\\\\multiple_page\\\\working_composition\\\\1_row53_col1_x81_y367_w14_h15.png'], [], [], [], [], [], [], [], [], ['Analysis\\\\multiple_page\\\\working_composition\\\\1_row53_col10_x393_y368_w9_h12.png'], [], [], ['Analysis\\\\multiple_page\\\\working_composition\\\\1_row53_col14_x495_y366_w9_h14.png']]\n",
      "Meend List: ['', '', '', '', '', '', '', '', '', '', '', '', '']\n",
      "Swar List: [['Analysis\\\\multiple_page\\\\working_composition\\\\1_row54_col1_x84_y385_w8_h18.png'], ['Analysis\\\\multiple_page\\\\working_composition\\\\1_row54_col2_x135_y385_w8_h18.png'], ['Analysis\\\\multiple_page\\\\working_composition\\\\1_row54_col3_x162_y386_w17_h17.png'], ['Analysis\\\\multiple_page\\\\working_composition_segmented\\\\1_row54_col4_x193_y384_w15_h15_seg1.png'], ['Analysis\\\\multiple_page\\\\working_composition\\\\1_row54_col5_x211_y388_w8_h10.png'], ['Analysis\\\\multiple_page\\\\working_composition\\\\1_row54_col6_x240_y384_w15_h18.png'], ['Analysis\\\\multiple_page\\\\working_composition\\\\1_row54_col7_x287_y394_w10_h4.png'], ['Analysis\\\\multiple_page\\\\working_composition\\\\1_row54_col8_x317_y388_w12_h14.png'], ['Analysis\\\\multiple_page\\\\working_composition\\\\1_row54_col9_x366_y388_w9_h14.png'], ['Analysis\\\\multiple_page\\\\working_composition\\\\1_row54_col10_x394_y389_w9_h13.png'], ['Analysis\\\\multiple_page\\\\working_composition_segmented\\\\1_row54_col11_x433_y387_w18_h9_seg1.png', 'Analysis\\\\multiple_page\\\\working_composition_segmented\\\\1_row54_col11_x433_y387_w18_h9_seg2.png'], ['Analysis\\\\multiple_page\\\\working_composition\\\\1_row54_col13_x471_y394_w8_h4.png'], ['Analysis\\\\multiple_page\\\\working_composition\\\\1_row54_col15_x506_y388_w9_h13.png']]\n",
      "Lyrics List: [['Analysis\\\\multiple_page\\\\working_composition\\\\1_row56_col1_x86_y421_w8_h12.png'], ['Analysis\\\\multiple_page\\\\working_composition\\\\1_row56_col2_x133_y422_w10_h12.png'], ['Analysis\\\\multiple_page\\\\working_composition\\\\1_row56_col3_x162_y421_w10_h13.png'], ['Analysis\\\\multiple_page\\\\working_composition_segmented\\\\1_row56_col4_x198_y420_w18_h20_seg1.png', 'Analysis\\\\multiple_page\\\\working_composition_segmented\\\\1_row56_col4_x198_y420_w18_h20_seg2.png'], ['Analysis\\\\multiple_page\\\\working_composition\\\\1_row56_col6_x240_y421_w15_h13.png'], ['Analysis\\\\multiple_page\\\\working_composition\\\\1_row56_col7_x289_y421_w8_h12.png'], ['Analysis\\\\multiple_page\\\\working_composition\\\\1_row56_col8_x319_y419_w8_h13.png'], ['Analysis\\\\multiple_page\\\\working_composition\\\\1_row56_col9_x364_y420_w11_h12.png'], ['Analysis\\\\multiple_page\\\\working_composition\\\\1_row56_col10_x394_y420_w9_h12.png'], ['Analysis\\\\multiple_page\\\\working_composition_segmented\\\\1_row56_col11_x435_y418_w7_h11_seg1.png'], ['Analysis\\\\multiple_page\\\\working_composition\\\\1_row56_col12_x446_y418_w6_h11.png'], ['Analysis\\\\multiple_page\\\\working_composition\\\\1_row56_col13_x469_y419_w8_h13.png'], ['Analysis\\\\multiple_page\\\\working_composition\\\\1_row56_col15_x505_y413_w12_h20.png']]\n",
      "Swar Articulation Checks: [False, False, False, True, False, False, False, False, False, False, True, False, False]\n",
      "Lyrics Articulation Checks: [False, False, False, True, False, False, False, False, False, True, False, False, False]\n",
      "--------------------------------------------------------------------------------\n",
      "Subgroup Range: (59, 64)\n",
      "Kann Swar List: [[], [], ['Analysis\\\\multiple_page\\\\working_composition\\\\1_row59_col3_x160_y456_w13_h14.png'], [], [], [], [], [], ['Analysis\\\\multiple_page\\\\working_composition\\\\1_row59_col9_x393_y456_w10_h13.png'], [], [], ['Analysis\\\\multiple_page\\\\working_composition\\\\1_row59_col12_x497_y459_w9_h10.png']]\n",
      "Meend List: ['', '', '', '', '', '', '', '', '', '', '', '']\n",
      "Swar List: [['Analysis\\\\multiple_page\\\\working_composition\\\\1_row60_col1_x86_y484_w10_h4.png'], ['Analysis\\\\multiple_page\\\\working_composition\\\\1_row60_col2_x133_y479_w10_h13.png'], ['Analysis\\\\multiple_page\\\\working_composition\\\\1_row60_col3_x164_y479_w11_h13.png'], ['Analysis\\\\multiple_page\\\\working_composition\\\\1_row60_col4_x210_y483_w11_h4.png'], ['Analysis\\\\multiple_page\\\\working_composition\\\\1_row60_col5_x240_y474_w17_h17.png'], ['Analysis\\\\multiple_page\\\\working_composition\\\\1_row60_col6_x281_y478_w12_h14.png'], ['Analysis\\\\multiple_page\\\\working_composition\\\\1_row60_col7_x317_y477_w9_h13.png'], ['Analysis\\\\multiple_page\\\\working_composition\\\\1_row60_col8_x363_y482_w11_h4.png'], ['Analysis\\\\multiple_page\\\\working_composition\\\\1_row60_col9_x394_y478_w10_h13.png'], ['Analysis\\\\multiple_page\\\\working_composition_segmented\\\\1_row60_col10_x429_y471_w24_h16_seg1.png', 'Analysis\\\\multiple_page\\\\working_composition_segmented\\\\1_row60_col10_x429_y471_w24_h16_seg2.png'], ['Analysis\\\\multiple_page\\\\working_composition\\\\1_row60_col11_x469_y483_w10_h4.png'], ['Analysis\\\\multiple_page\\\\working_composition\\\\1_row60_col12_x499_y474_w17_h16.png']]\n",
      "Lyrics List: [['Analysis\\\\multiple_page\\\\working_composition\\\\1_row62_col1_x85_y510_w8_h13.png'], ['Analysis\\\\multiple_page\\\\working_composition\\\\1_row62_col2_x133_y511_w10_h13.png'], ['Analysis\\\\multiple_page\\\\working_composition\\\\1_row62_col3_x163_y505_w10_h23.png'], ['Analysis\\\\multiple_page\\\\working_composition\\\\1_row62_col4_x212_y510_w9_h12.png'], ['Analysis\\\\multiple_page\\\\working_composition\\\\1_row62_col5_x240_y509_w9_h13.png'], ['Analysis\\\\multiple_page\\\\working_composition\\\\1_row62_col6_x283_y509_w11_h13.png'], ['Analysis\\\\multiple_page\\\\working_composition\\\\1_row62_col7_x317_y503_w15_h18.png'], ['Analysis\\\\multiple_page\\\\working_composition\\\\1_row62_col8_x367_y509_w8_h13.png'], ['Analysis\\\\multiple_page\\\\working_composition\\\\1_row62_col9_x394_y509_w19_h12.png'], ['Analysis\\\\multiple_page\\\\working_composition\\\\1_row62_col10_x437_y508_w15_h11.png'], ['Analysis\\\\multiple_page\\\\working_composition\\\\1_row62_col11_x469_y509_w7_h12.png'], ['Analysis\\\\multiple_page\\\\working_composition\\\\1_row62_col12_x502_y509_w8_h13.png']]\n",
      "Swar Articulation Checks: [False, False, False, False, False, False, False, False, False, True, False, False]\n",
      "Lyrics Articulation Checks: [False, False, False, False, False, False, False, False, False, False, False, False]\n",
      "--------------------------------------------------------------------------------\n",
      "Subgroup Range: (66, 70)\n",
      "Kann Swar List: [[], [], [], [], [], [], [], [], [], [], ['Analysis\\\\multiple_page\\\\working_composition\\\\1_row66_col12_x434_y544_w7_h14.png'], [], []]\n",
      "Meend List: ['', '', '', '', '', '', 'S', 'E', '', '', '', '', '']\n",
      "Swar List: [['Analysis\\\\multiple_page\\\\working_composition\\\\1_row67_col1_x85_y573_w11_h4.png'], ['Analysis\\\\multiple_page\\\\working_composition\\\\1_row67_col2_x127_y563_w15_h18.png'], ['Analysis\\\\multiple_page\\\\working_composition\\\\1_row67_col3_x162_y568_w16_h16.png'], ['Analysis\\\\multiple_page\\\\working_composition\\\\1_row67_col4_x180_y568_w6_h16.png'], ['Analysis\\\\multiple_page\\\\working_composition_segmented\\\\1_row67_col5_x201_y566_w18_h10_seg1.png'], ['Analysis\\\\multiple_page\\\\working_composition\\\\1_row67_col7_x239_y568_w10_h13.png'], ['Analysis\\\\multiple_page\\\\working_composition\\\\1_row67_col8_x287_y572_w11_h4.png'], ['Analysis\\\\multiple_page\\\\working_composition\\\\1_row67_col9_x317_y562_w8_h19.png'], ['Analysis\\\\multiple_page\\\\working_composition\\\\1_row67_col10_x363_y567_w11_h14.png'], ['Analysis\\\\multiple_page\\\\working_composition\\\\1_row67_col11_x393_y561_w8_h17.png'], ['Analysis\\\\multiple_page\\\\working_composition\\\\1_row67_col12_x437_y563_w15_h25.png'], ['Analysis\\\\multiple_page\\\\working_composition\\\\1_row67_col13_x469_y561_w7_h20.png'], ['Analysis\\\\multiple_page\\\\working_composition\\\\1_row67_col14_x498_y567_w17_h13.png']]\n",
      "Lyrics List: [['Analysis\\\\multiple_page\\\\working_composition\\\\1_row69_col1_x85_y599_w8_h12.png'], ['Analysis\\\\multiple_page\\\\working_composition\\\\1_row69_col2_x129_y593_w13_h19.png'], ['Analysis\\\\multiple_page\\\\working_composition\\\\1_row69_col3_x161_y594_w16_h19.png'], ['Analysis\\\\multiple_page\\\\working_composition_segmented\\\\1_row69_col5_x201_y598_w11_h9_seg1.png'], ['Analysis\\\\multiple_page\\\\working_composition\\\\1_row69_col6_x216_y597_w6_h11.png'], ['Analysis\\\\multiple_page\\\\working_composition\\\\1_row69_col7_x238_y599_w18_h13.png'], ['Analysis\\\\multiple_page\\\\working_composition\\\\1_row69_col8_x289_y599_w8_h13.png'], ['Analysis\\\\multiple_page\\\\working_composition\\\\1_row69_col9_x317_y599_w8_h12.png'], ['Analysis\\\\multiple_page\\\\working_composition\\\\1_row69_col10_x365_y599_w8_h13.png'], ['Analysis\\\\multiple_page\\\\working_composition\\\\1_row69_col11_x394_y598_w8_h13.png'], ['Analysis\\\\multiple_page\\\\working_composition\\\\1_row69_col12_x439_y598_w8_h13.png'], ['Analysis\\\\multiple_page\\\\working_composition\\\\1_row69_col13_x469_y598_w7_h13.png'], ['Analysis\\\\multiple_page\\\\working_composition\\\\1_row69_col14_x494_y599_w11_h13.png'], ['Analysis\\\\multiple_page\\\\working_composition\\\\1_row69_col15_x512_y599_w5_h14.png']]\n",
      "Swar Articulation Checks: [False, False, False, False, True, False, False, False, False, False, False, False, False]\n",
      "Lyrics Articulation Checks: [False, False, False, True, False, False, False, False, False, False, False, False, False, False]\n",
      "--------------------------------------------------------------------------------\n"
     ]
    }
   ],
   "source": [
    "subgroups = load_lists_in_subgroups()\n",
    "\n",
    "# Print the updated results for each subgroup\n",
    "for subgroup_range, results in subgroups.items():\n",
    "    print(f\"Subgroup Range: {subgroup_range}\")\n",
    "    print(f\"Kann Swar List: {results['kann_swar_list']}\")\n",
    "    print(f\"Meend List: {results['meend_list']}\")\n",
    "    print(f\"Swar List: {results['swar_list']}\")\n",
    "    print(f\"Lyrics List: {results['lyrics_list']}\")\n",
    "    print(f\"Swar Articulation Checks: {results['swar_articulation_checks']}\")\n",
    "    print(f\"Lyrics Articulation Checks: {results['lyrics_articulation_checks']}\")\n",
    "    print(\"-\" * 80)"
   ]
  },
  {
   "cell_type": "markdown",
   "metadata": {},
   "source": [
    "#### Prediction for Kann Swar and Swar Rows\n",
    "- Predicts results for:\n",
    "  - **Kann Swar Row Images**: Uses the **Kann Swar List** for predictions.\n",
    "  - **Swar Row Images**: Uses the **Swar List** for predictions.\n",
    "- Generates predictions for each subgroup based on the respective lists."
   ]
  },
  {
   "cell_type": "code",
   "execution_count": 46,
   "metadata": {},
   "outputs": [
    {
     "name": "stdout",
     "output_type": "stream",
     "text": [
      "saa\n"
     ]
    }
   ],
   "source": [
    "from save_and_load import load_classes\n",
    "\n",
    "classes = load_classes()\n",
    "\n",
    "print(classes[0])"
   ]
  },
  {
   "cell_type": "code",
   "execution_count": 52,
   "metadata": {},
   "outputs": [
    {
     "name": "stderr",
     "output_type": "stream",
     "text": [
      "WARNING:absl:Compiled the loaded model, but the compiled metrics have yet to be built. `model.compile_metrics` will be empty until you train or evaluate the model.\n"
     ]
    },
    {
     "name": "stdout",
     "output_type": "stream",
     "text": [
      "\u001b[1m1/1\u001b[0m \u001b[32m━━━━━━━━━━━━━━━━━━━━\u001b[0m\u001b[37m\u001b[0m \u001b[1m0s\u001b[0m 420ms/step\n"
     ]
    },
    {
     "name": "stderr",
     "output_type": "stream",
     "text": [
      "WARNING:absl:Compiled the loaded model, but the compiled metrics have yet to be built. `model.compile_metrics` will be empty until you train or evaluate the model.\n"
     ]
    },
    {
     "name": "stdout",
     "output_type": "stream",
     "text": [
      "\u001b[1m1/1\u001b[0m \u001b[32m━━━━━━━━━━━━━━━━━━━━\u001b[0m\u001b[37m\u001b[0m \u001b[1m0s\u001b[0m 127ms/step\n"
     ]
    },
    {
     "name": "stderr",
     "output_type": "stream",
     "text": [
      "WARNING:absl:Compiled the loaded model, but the compiled metrics have yet to be built. `model.compile_metrics` will be empty until you train or evaluate the model.\n"
     ]
    },
    {
     "name": "stdout",
     "output_type": "stream",
     "text": [
      "\u001b[1m1/1\u001b[0m \u001b[32m━━━━━━━━━━━━━━━━━━━━\u001b[0m\u001b[37m\u001b[0m \u001b[1m0s\u001b[0m 131ms/step\n"
     ]
    },
    {
     "name": "stderr",
     "output_type": "stream",
     "text": [
      "WARNING:absl:Compiled the loaded model, but the compiled metrics have yet to be built. `model.compile_metrics` will be empty until you train or evaluate the model.\n"
     ]
    },
    {
     "name": "stdout",
     "output_type": "stream",
     "text": [
      "\u001b[1m1/1\u001b[0m \u001b[32m━━━━━━━━━━━━━━━━━━━━\u001b[0m\u001b[37m\u001b[0m \u001b[1m0s\u001b[0m 122ms/step\n"
     ]
    },
    {
     "name": "stderr",
     "output_type": "stream",
     "text": [
      "WARNING:absl:Compiled the loaded model, but the compiled metrics have yet to be built. `model.compile_metrics` will be empty until you train or evaluate the model.\n"
     ]
    },
    {
     "name": "stdout",
     "output_type": "stream",
     "text": [
      "WARNING:tensorflow:5 out of the last 5 calls to <function TensorFlowTrainer.make_predict_function.<locals>.one_step_on_data_distributed at 0x00000223B8BAFA60> triggered tf.function retracing. Tracing is expensive and the excessive number of tracings could be due to (1) creating @tf.function repeatedly in a loop, (2) passing tensors with different shapes, (3) passing Python objects instead of tensors. For (1), please define your @tf.function outside of the loop. For (2), @tf.function has reduce_retracing=True option that can avoid unnecessary retracing. For (3), please refer to https://www.tensorflow.org/guide/function#controlling_retracing and https://www.tensorflow.org/api_docs/python/tf/function for  more details.\n"
     ]
    },
    {
     "name": "stderr",
     "output_type": "stream",
     "text": [
      "WARNING:tensorflow:5 out of the last 5 calls to <function TensorFlowTrainer.make_predict_function.<locals>.one_step_on_data_distributed at 0x00000223B8BAFA60> triggered tf.function retracing. Tracing is expensive and the excessive number of tracings could be due to (1) creating @tf.function repeatedly in a loop, (2) passing tensors with different shapes, (3) passing Python objects instead of tensors. For (1), please define your @tf.function outside of the loop. For (2), @tf.function has reduce_retracing=True option that can avoid unnecessary retracing. For (3), please refer to https://www.tensorflow.org/guide/function#controlling_retracing and https://www.tensorflow.org/api_docs/python/tf/function for  more details.\n"
     ]
    },
    {
     "name": "stdout",
     "output_type": "stream",
     "text": [
      "\u001b[1m1/1\u001b[0m \u001b[32m━━━━━━━━━━━━━━━━━━━━\u001b[0m\u001b[37m\u001b[0m \u001b[1m0s\u001b[0m 122ms/step\n"
     ]
    },
    {
     "name": "stderr",
     "output_type": "stream",
     "text": [
      "WARNING:absl:Compiled the loaded model, but the compiled metrics have yet to be built. `model.compile_metrics` will be empty until you train or evaluate the model.\n"
     ]
    },
    {
     "name": "stdout",
     "output_type": "stream",
     "text": [
      "WARNING:tensorflow:6 out of the last 6 calls to <function TensorFlowTrainer.make_predict_function.<locals>.one_step_on_data_distributed at 0x00000223B98A2CA0> triggered tf.function retracing. Tracing is expensive and the excessive number of tracings could be due to (1) creating @tf.function repeatedly in a loop, (2) passing tensors with different shapes, (3) passing Python objects instead of tensors. For (1), please define your @tf.function outside of the loop. For (2), @tf.function has reduce_retracing=True option that can avoid unnecessary retracing. For (3), please refer to https://www.tensorflow.org/guide/function#controlling_retracing and https://www.tensorflow.org/api_docs/python/tf/function for  more details.\n"
     ]
    },
    {
     "name": "stderr",
     "output_type": "stream",
     "text": [
      "WARNING:tensorflow:6 out of the last 6 calls to <function TensorFlowTrainer.make_predict_function.<locals>.one_step_on_data_distributed at 0x00000223B98A2CA0> triggered tf.function retracing. Tracing is expensive and the excessive number of tracings could be due to (1) creating @tf.function repeatedly in a loop, (2) passing tensors with different shapes, (3) passing Python objects instead of tensors. For (1), please define your @tf.function outside of the loop. For (2), @tf.function has reduce_retracing=True option that can avoid unnecessary retracing. For (3), please refer to https://www.tensorflow.org/guide/function#controlling_retracing and https://www.tensorflow.org/api_docs/python/tf/function for  more details.\n"
     ]
    },
    {
     "name": "stdout",
     "output_type": "stream",
     "text": [
      "\u001b[1m1/1\u001b[0m \u001b[32m━━━━━━━━━━━━━━━━━━━━\u001b[0m\u001b[37m\u001b[0m \u001b[1m0s\u001b[0m 126ms/step\n"
     ]
    },
    {
     "name": "stderr",
     "output_type": "stream",
     "text": [
      "WARNING:absl:Compiled the loaded model, but the compiled metrics have yet to be built. `model.compile_metrics` will be empty until you train or evaluate the model.\n"
     ]
    },
    {
     "name": "stdout",
     "output_type": "stream",
     "text": [
      "\u001b[1m1/1\u001b[0m \u001b[32m━━━━━━━━━━━━━━━━━━━━\u001b[0m\u001b[37m\u001b[0m \u001b[1m0s\u001b[0m 125ms/step\n"
     ]
    },
    {
     "name": "stderr",
     "output_type": "stream",
     "text": [
      "WARNING:absl:Compiled the loaded model, but the compiled metrics have yet to be built. `model.compile_metrics` will be empty until you train or evaluate the model.\n"
     ]
    },
    {
     "name": "stdout",
     "output_type": "stream",
     "text": [
      "\u001b[1m1/1\u001b[0m \u001b[32m━━━━━━━━━━━━━━━━━━━━\u001b[0m\u001b[37m\u001b[0m \u001b[1m0s\u001b[0m 122ms/step\n"
     ]
    },
    {
     "name": "stderr",
     "output_type": "stream",
     "text": [
      "WARNING:absl:Compiled the loaded model, but the compiled metrics have yet to be built. `model.compile_metrics` will be empty until you train or evaluate the model.\n"
     ]
    },
    {
     "name": "stdout",
     "output_type": "stream",
     "text": [
      "\u001b[1m1/1\u001b[0m \u001b[32m━━━━━━━━━━━━━━━━━━━━\u001b[0m\u001b[37m\u001b[0m \u001b[1m0s\u001b[0m 124ms/step\n"
     ]
    },
    {
     "name": "stderr",
     "output_type": "stream",
     "text": [
      "WARNING:absl:Compiled the loaded model, but the compiled metrics have yet to be built. `model.compile_metrics` will be empty until you train or evaluate the model.\n"
     ]
    },
    {
     "name": "stdout",
     "output_type": "stream",
     "text": [
      "\u001b[1m1/1\u001b[0m \u001b[32m━━━━━━━━━━━━━━━━━━━━\u001b[0m\u001b[37m\u001b[0m \u001b[1m0s\u001b[0m 126ms/step\n"
     ]
    },
    {
     "name": "stderr",
     "output_type": "stream",
     "text": [
      "WARNING:absl:Compiled the loaded model, but the compiled metrics have yet to be built. `model.compile_metrics` will be empty until you train or evaluate the model.\n"
     ]
    },
    {
     "name": "stdout",
     "output_type": "stream",
     "text": [
      "\u001b[1m1/1\u001b[0m \u001b[32m━━━━━━━━━━━━━━━━━━━━\u001b[0m\u001b[37m\u001b[0m \u001b[1m0s\u001b[0m 120ms/step\n"
     ]
    },
    {
     "name": "stderr",
     "output_type": "stream",
     "text": [
      "WARNING:absl:Compiled the loaded model, but the compiled metrics have yet to be built. `model.compile_metrics` will be empty until you train or evaluate the model.\n"
     ]
    },
    {
     "name": "stdout",
     "output_type": "stream",
     "text": [
      "\u001b[1m1/1\u001b[0m \u001b[32m━━━━━━━━━━━━━━━━━━━━\u001b[0m\u001b[37m\u001b[0m \u001b[1m0s\u001b[0m 121ms/step\n"
     ]
    },
    {
     "name": "stderr",
     "output_type": "stream",
     "text": [
      "WARNING:absl:Compiled the loaded model, but the compiled metrics have yet to be built. `model.compile_metrics` will be empty until you train or evaluate the model.\n"
     ]
    },
    {
     "name": "stdout",
     "output_type": "stream",
     "text": [
      "\u001b[1m1/1\u001b[0m \u001b[32m━━━━━━━━━━━━━━━━━━━━\u001b[0m\u001b[37m\u001b[0m \u001b[1m0s\u001b[0m 123ms/step\n"
     ]
    },
    {
     "name": "stderr",
     "output_type": "stream",
     "text": [
      "WARNING:absl:Compiled the loaded model, but the compiled metrics have yet to be built. `model.compile_metrics` will be empty until you train or evaluate the model.\n"
     ]
    },
    {
     "name": "stdout",
     "output_type": "stream",
     "text": [
      "\u001b[1m1/1\u001b[0m \u001b[32m━━━━━━━━━━━━━━━━━━━━\u001b[0m\u001b[37m\u001b[0m \u001b[1m0s\u001b[0m 127ms/step\n"
     ]
    },
    {
     "name": "stderr",
     "output_type": "stream",
     "text": [
      "WARNING:absl:Compiled the loaded model, but the compiled metrics have yet to be built. `model.compile_metrics` will be empty until you train or evaluate the model.\n"
     ]
    },
    {
     "name": "stdout",
     "output_type": "stream",
     "text": [
      "\u001b[1m1/1\u001b[0m \u001b[32m━━━━━━━━━━━━━━━━━━━━\u001b[0m\u001b[37m\u001b[0m \u001b[1m0s\u001b[0m 128ms/step\n"
     ]
    },
    {
     "name": "stderr",
     "output_type": "stream",
     "text": [
      "WARNING:absl:Compiled the loaded model, but the compiled metrics have yet to be built. `model.compile_metrics` will be empty until you train or evaluate the model.\n"
     ]
    },
    {
     "name": "stdout",
     "output_type": "stream",
     "text": [
      "\u001b[1m1/1\u001b[0m \u001b[32m━━━━━━━━━━━━━━━━━━━━\u001b[0m\u001b[37m\u001b[0m \u001b[1m0s\u001b[0m 126ms/step\n"
     ]
    },
    {
     "name": "stderr",
     "output_type": "stream",
     "text": [
      "WARNING:absl:Compiled the loaded model, but the compiled metrics have yet to be built. `model.compile_metrics` will be empty until you train or evaluate the model.\n"
     ]
    },
    {
     "name": "stdout",
     "output_type": "stream",
     "text": [
      "\u001b[1m1/1\u001b[0m \u001b[32m━━━━━━━━━━━━━━━━━━━━\u001b[0m\u001b[37m\u001b[0m \u001b[1m0s\u001b[0m 117ms/step\n"
     ]
    },
    {
     "name": "stderr",
     "output_type": "stream",
     "text": [
      "WARNING:absl:Compiled the loaded model, but the compiled metrics have yet to be built. `model.compile_metrics` will be empty until you train or evaluate the model.\n"
     ]
    },
    {
     "name": "stdout",
     "output_type": "stream",
     "text": [
      "\u001b[1m1/1\u001b[0m \u001b[32m━━━━━━━━━━━━━━━━━━━━\u001b[0m\u001b[37m\u001b[0m \u001b[1m0s\u001b[0m 284ms/step\n"
     ]
    },
    {
     "name": "stderr",
     "output_type": "stream",
     "text": [
      "WARNING:absl:Compiled the loaded model, but the compiled metrics have yet to be built. `model.compile_metrics` will be empty until you train or evaluate the model.\n"
     ]
    },
    {
     "name": "stdout",
     "output_type": "stream",
     "text": [
      "\u001b[1m1/1\u001b[0m \u001b[32m━━━━━━━━━━━━━━━━━━━━\u001b[0m\u001b[37m\u001b[0m \u001b[1m0s\u001b[0m 122ms/step\n"
     ]
    },
    {
     "name": "stderr",
     "output_type": "stream",
     "text": [
      "WARNING:absl:Compiled the loaded model, but the compiled metrics have yet to be built. `model.compile_metrics` will be empty until you train or evaluate the model.\n"
     ]
    },
    {
     "name": "stdout",
     "output_type": "stream",
     "text": [
      "\u001b[1m1/1\u001b[0m \u001b[32m━━━━━━━━━━━━━━━━━━━━\u001b[0m\u001b[37m\u001b[0m \u001b[1m0s\u001b[0m 123ms/step\n"
     ]
    },
    {
     "name": "stderr",
     "output_type": "stream",
     "text": [
      "WARNING:absl:Compiled the loaded model, but the compiled metrics have yet to be built. `model.compile_metrics` will be empty until you train or evaluate the model.\n"
     ]
    },
    {
     "name": "stdout",
     "output_type": "stream",
     "text": [
      "\u001b[1m1/1\u001b[0m \u001b[32m━━━━━━━━━━━━━━━━━━━━\u001b[0m\u001b[37m\u001b[0m \u001b[1m0s\u001b[0m 124ms/step\n"
     ]
    },
    {
     "name": "stderr",
     "output_type": "stream",
     "text": [
      "WARNING:absl:Compiled the loaded model, but the compiled metrics have yet to be built. `model.compile_metrics` will be empty until you train or evaluate the model.\n"
     ]
    },
    {
     "name": "stdout",
     "output_type": "stream",
     "text": [
      "\u001b[1m1/1\u001b[0m \u001b[32m━━━━━━━━━━━━━━━━━━━━\u001b[0m\u001b[37m\u001b[0m \u001b[1m0s\u001b[0m 125ms/step\n"
     ]
    },
    {
     "name": "stderr",
     "output_type": "stream",
     "text": [
      "WARNING:absl:Compiled the loaded model, but the compiled metrics have yet to be built. `model.compile_metrics` will be empty until you train or evaluate the model.\n"
     ]
    },
    {
     "name": "stdout",
     "output_type": "stream",
     "text": [
      "\u001b[1m1/1\u001b[0m \u001b[32m━━━━━━━━━━━━━━━━━━━━\u001b[0m\u001b[37m\u001b[0m \u001b[1m0s\u001b[0m 128ms/step\n"
     ]
    },
    {
     "name": "stderr",
     "output_type": "stream",
     "text": [
      "WARNING:absl:Compiled the loaded model, but the compiled metrics have yet to be built. `model.compile_metrics` will be empty until you train or evaluate the model.\n"
     ]
    },
    {
     "name": "stdout",
     "output_type": "stream",
     "text": [
      "\u001b[1m1/1\u001b[0m \u001b[32m━━━━━━━━━━━━━━━━━━━━\u001b[0m\u001b[37m\u001b[0m \u001b[1m0s\u001b[0m 119ms/step\n"
     ]
    },
    {
     "name": "stderr",
     "output_type": "stream",
     "text": [
      "WARNING:absl:Compiled the loaded model, but the compiled metrics have yet to be built. `model.compile_metrics` will be empty until you train or evaluate the model.\n"
     ]
    },
    {
     "name": "stdout",
     "output_type": "stream",
     "text": [
      "\u001b[1m1/1\u001b[0m \u001b[32m━━━━━━━━━━━━━━━━━━━━\u001b[0m\u001b[37m\u001b[0m \u001b[1m0s\u001b[0m 125ms/step\n"
     ]
    },
    {
     "name": "stderr",
     "output_type": "stream",
     "text": [
      "WARNING:absl:Compiled the loaded model, but the compiled metrics have yet to be built. `model.compile_metrics` will be empty until you train or evaluate the model.\n"
     ]
    },
    {
     "name": "stdout",
     "output_type": "stream",
     "text": [
      "\u001b[1m1/1\u001b[0m \u001b[32m━━━━━━━━━━━━━━━━━━━━\u001b[0m\u001b[37m\u001b[0m \u001b[1m0s\u001b[0m 129ms/step\n"
     ]
    },
    {
     "name": "stderr",
     "output_type": "stream",
     "text": [
      "WARNING:absl:Compiled the loaded model, but the compiled metrics have yet to be built. `model.compile_metrics` will be empty until you train or evaluate the model.\n"
     ]
    },
    {
     "name": "stdout",
     "output_type": "stream",
     "text": [
      "\u001b[1m1/1\u001b[0m \u001b[32m━━━━━━━━━━━━━━━━━━━━\u001b[0m\u001b[37m\u001b[0m \u001b[1m0s\u001b[0m 126ms/step\n"
     ]
    },
    {
     "name": "stderr",
     "output_type": "stream",
     "text": [
      "WARNING:absl:Compiled the loaded model, but the compiled metrics have yet to be built. `model.compile_metrics` will be empty until you train or evaluate the model.\n"
     ]
    },
    {
     "name": "stdout",
     "output_type": "stream",
     "text": [
      "\u001b[1m1/1\u001b[0m \u001b[32m━━━━━━━━━━━━━━━━━━━━\u001b[0m\u001b[37m\u001b[0m \u001b[1m0s\u001b[0m 128ms/step\n"
     ]
    },
    {
     "name": "stderr",
     "output_type": "stream",
     "text": [
      "WARNING:absl:Compiled the loaded model, but the compiled metrics have yet to be built. `model.compile_metrics` will be empty until you train or evaluate the model.\n"
     ]
    },
    {
     "name": "stdout",
     "output_type": "stream",
     "text": [
      "\u001b[1m1/1\u001b[0m \u001b[32m━━━━━━━━━━━━━━━━━━━━\u001b[0m\u001b[37m\u001b[0m \u001b[1m0s\u001b[0m 128ms/step\n"
     ]
    },
    {
     "name": "stderr",
     "output_type": "stream",
     "text": [
      "WARNING:absl:Compiled the loaded model, but the compiled metrics have yet to be built. `model.compile_metrics` will be empty until you train or evaluate the model.\n"
     ]
    },
    {
     "name": "stdout",
     "output_type": "stream",
     "text": [
      "\u001b[1m1/1\u001b[0m \u001b[32m━━━━━━━━━━━━━━━━━━━━\u001b[0m\u001b[37m\u001b[0m \u001b[1m0s\u001b[0m 128ms/step\n"
     ]
    },
    {
     "name": "stderr",
     "output_type": "stream",
     "text": [
      "WARNING:absl:Compiled the loaded model, but the compiled metrics have yet to be built. `model.compile_metrics` will be empty until you train or evaluate the model.\n"
     ]
    },
    {
     "name": "stdout",
     "output_type": "stream",
     "text": [
      "\u001b[1m1/1\u001b[0m \u001b[32m━━━━━━━━━━━━━━━━━━━━\u001b[0m\u001b[37m\u001b[0m \u001b[1m0s\u001b[0m 128ms/step\n"
     ]
    },
    {
     "name": "stderr",
     "output_type": "stream",
     "text": [
      "WARNING:absl:Compiled the loaded model, but the compiled metrics have yet to be built. `model.compile_metrics` will be empty until you train or evaluate the model.\n"
     ]
    },
    {
     "name": "stdout",
     "output_type": "stream",
     "text": [
      "\u001b[1m1/1\u001b[0m \u001b[32m━━━━━━━━━━━━━━━━━━━━\u001b[0m\u001b[37m\u001b[0m \u001b[1m0s\u001b[0m 123ms/step\n"
     ]
    },
    {
     "name": "stderr",
     "output_type": "stream",
     "text": [
      "WARNING:absl:Compiled the loaded model, but the compiled metrics have yet to be built. `model.compile_metrics` will be empty until you train or evaluate the model.\n"
     ]
    },
    {
     "name": "stdout",
     "output_type": "stream",
     "text": [
      "\u001b[1m1/1\u001b[0m \u001b[32m━━━━━━━━━━━━━━━━━━━━\u001b[0m\u001b[37m\u001b[0m \u001b[1m0s\u001b[0m 128ms/step\n"
     ]
    },
    {
     "name": "stderr",
     "output_type": "stream",
     "text": [
      "WARNING:absl:Compiled the loaded model, but the compiled metrics have yet to be built. `model.compile_metrics` will be empty until you train or evaluate the model.\n"
     ]
    },
    {
     "name": "stdout",
     "output_type": "stream",
     "text": [
      "\u001b[1m1/1\u001b[0m \u001b[32m━━━━━━━━━━━━━━━━━━━━\u001b[0m\u001b[37m\u001b[0m \u001b[1m0s\u001b[0m 125ms/step\n"
     ]
    },
    {
     "name": "stderr",
     "output_type": "stream",
     "text": [
      "WARNING:absl:Compiled the loaded model, but the compiled metrics have yet to be built. `model.compile_metrics` will be empty until you train or evaluate the model.\n"
     ]
    },
    {
     "name": "stdout",
     "output_type": "stream",
     "text": [
      "\u001b[1m1/1\u001b[0m \u001b[32m━━━━━━━━━━━━━━━━━━━━\u001b[0m\u001b[37m\u001b[0m \u001b[1m0s\u001b[0m 286ms/step\n"
     ]
    },
    {
     "name": "stderr",
     "output_type": "stream",
     "text": [
      "WARNING:absl:Compiled the loaded model, but the compiled metrics have yet to be built. `model.compile_metrics` will be empty until you train or evaluate the model.\n"
     ]
    },
    {
     "name": "stdout",
     "output_type": "stream",
     "text": [
      "\u001b[1m1/1\u001b[0m \u001b[32m━━━━━━━━━━━━━━━━━━━━\u001b[0m\u001b[37m\u001b[0m \u001b[1m0s\u001b[0m 120ms/step\n"
     ]
    },
    {
     "name": "stderr",
     "output_type": "stream",
     "text": [
      "WARNING:absl:Compiled the loaded model, but the compiled metrics have yet to be built. `model.compile_metrics` will be empty until you train or evaluate the model.\n"
     ]
    },
    {
     "name": "stdout",
     "output_type": "stream",
     "text": [
      "\u001b[1m1/1\u001b[0m \u001b[32m━━━━━━━━━━━━━━━━━━━━\u001b[0m\u001b[37m\u001b[0m \u001b[1m0s\u001b[0m 127ms/step\n"
     ]
    },
    {
     "name": "stderr",
     "output_type": "stream",
     "text": [
      "WARNING:absl:Compiled the loaded model, but the compiled metrics have yet to be built. `model.compile_metrics` will be empty until you train or evaluate the model.\n"
     ]
    },
    {
     "name": "stdout",
     "output_type": "stream",
     "text": [
      "\u001b[1m1/1\u001b[0m \u001b[32m━━━━━━━━━━━━━━━━━━━━\u001b[0m\u001b[37m\u001b[0m \u001b[1m0s\u001b[0m 128ms/step\n"
     ]
    },
    {
     "name": "stderr",
     "output_type": "stream",
     "text": [
      "WARNING:absl:Compiled the loaded model, but the compiled metrics have yet to be built. `model.compile_metrics` will be empty until you train or evaluate the model.\n"
     ]
    },
    {
     "name": "stdout",
     "output_type": "stream",
     "text": [
      "\u001b[1m1/1\u001b[0m \u001b[32m━━━━━━━━━━━━━━━━━━━━\u001b[0m\u001b[37m\u001b[0m \u001b[1m0s\u001b[0m 128ms/step\n"
     ]
    },
    {
     "name": "stderr",
     "output_type": "stream",
     "text": [
      "WARNING:absl:Compiled the loaded model, but the compiled metrics have yet to be built. `model.compile_metrics` will be empty until you train or evaluate the model.\n"
     ]
    },
    {
     "name": "stdout",
     "output_type": "stream",
     "text": [
      "\u001b[1m1/1\u001b[0m \u001b[32m━━━━━━━━━━━━━━━━━━━━\u001b[0m\u001b[37m\u001b[0m \u001b[1m0s\u001b[0m 120ms/step\n"
     ]
    },
    {
     "name": "stderr",
     "output_type": "stream",
     "text": [
      "WARNING:absl:Compiled the loaded model, but the compiled metrics have yet to be built. `model.compile_metrics` will be empty until you train or evaluate the model.\n"
     ]
    },
    {
     "name": "stdout",
     "output_type": "stream",
     "text": [
      "\u001b[1m1/1\u001b[0m \u001b[32m━━━━━━━━━━━━━━━━━━━━\u001b[0m\u001b[37m\u001b[0m \u001b[1m0s\u001b[0m 126ms/step\n"
     ]
    },
    {
     "name": "stderr",
     "output_type": "stream",
     "text": [
      "WARNING:absl:Compiled the loaded model, but the compiled metrics have yet to be built. `model.compile_metrics` will be empty until you train or evaluate the model.\n"
     ]
    },
    {
     "name": "stdout",
     "output_type": "stream",
     "text": [
      "\u001b[1m1/1\u001b[0m \u001b[32m━━━━━━━━━━━━━━━━━━━━\u001b[0m\u001b[37m\u001b[0m \u001b[1m0s\u001b[0m 123ms/step\n"
     ]
    },
    {
     "name": "stderr",
     "output_type": "stream",
     "text": [
      "WARNING:absl:Compiled the loaded model, but the compiled metrics have yet to be built. `model.compile_metrics` will be empty until you train or evaluate the model.\n"
     ]
    },
    {
     "name": "stdout",
     "output_type": "stream",
     "text": [
      "\u001b[1m1/1\u001b[0m \u001b[32m━━━━━━━━━━━━━━━━━━━━\u001b[0m\u001b[37m\u001b[0m \u001b[1m0s\u001b[0m 279ms/step\n"
     ]
    },
    {
     "name": "stderr",
     "output_type": "stream",
     "text": [
      "WARNING:absl:Compiled the loaded model, but the compiled metrics have yet to be built. `model.compile_metrics` will be empty until you train or evaluate the model.\n"
     ]
    },
    {
     "name": "stdout",
     "output_type": "stream",
     "text": [
      "\u001b[1m1/1\u001b[0m \u001b[32m━━━━━━━━━━━━━━━━━━━━\u001b[0m\u001b[37m\u001b[0m \u001b[1m0s\u001b[0m 130ms/step\n"
     ]
    },
    {
     "name": "stderr",
     "output_type": "stream",
     "text": [
      "WARNING:absl:Compiled the loaded model, but the compiled metrics have yet to be built. `model.compile_metrics` will be empty until you train or evaluate the model.\n"
     ]
    },
    {
     "name": "stdout",
     "output_type": "stream",
     "text": [
      "\u001b[1m1/1\u001b[0m \u001b[32m━━━━━━━━━━━━━━━━━━━━\u001b[0m\u001b[37m\u001b[0m \u001b[1m0s\u001b[0m 124ms/step\n"
     ]
    },
    {
     "name": "stderr",
     "output_type": "stream",
     "text": [
      "WARNING:absl:Compiled the loaded model, but the compiled metrics have yet to be built. `model.compile_metrics` will be empty until you train or evaluate the model.\n"
     ]
    },
    {
     "name": "stdout",
     "output_type": "stream",
     "text": [
      "\u001b[1m1/1\u001b[0m \u001b[32m━━━━━━━━━━━━━━━━━━━━\u001b[0m\u001b[37m\u001b[0m \u001b[1m0s\u001b[0m 137ms/step\n"
     ]
    },
    {
     "name": "stderr",
     "output_type": "stream",
     "text": [
      "WARNING:absl:Compiled the loaded model, but the compiled metrics have yet to be built. `model.compile_metrics` will be empty until you train or evaluate the model.\n"
     ]
    },
    {
     "name": "stdout",
     "output_type": "stream",
     "text": [
      "\u001b[1m1/1\u001b[0m \u001b[32m━━━━━━━━━━━━━━━━━━━━\u001b[0m\u001b[37m\u001b[0m \u001b[1m0s\u001b[0m 128ms/step\n"
     ]
    },
    {
     "name": "stderr",
     "output_type": "stream",
     "text": [
      "WARNING:absl:Compiled the loaded model, but the compiled metrics have yet to be built. `model.compile_metrics` will be empty until you train or evaluate the model.\n"
     ]
    },
    {
     "name": "stdout",
     "output_type": "stream",
     "text": [
      "\u001b[1m1/1\u001b[0m \u001b[32m━━━━━━━━━━━━━━━━━━━━\u001b[0m\u001b[37m\u001b[0m \u001b[1m0s\u001b[0m 128ms/step\n"
     ]
    },
    {
     "name": "stderr",
     "output_type": "stream",
     "text": [
      "WARNING:absl:Compiled the loaded model, but the compiled metrics have yet to be built. `model.compile_metrics` will be empty until you train or evaluate the model.\n"
     ]
    },
    {
     "name": "stdout",
     "output_type": "stream",
     "text": [
      "\u001b[1m1/1\u001b[0m \u001b[32m━━━━━━━━━━━━━━━━━━━━\u001b[0m\u001b[37m\u001b[0m \u001b[1m0s\u001b[0m 123ms/step\n"
     ]
    },
    {
     "name": "stderr",
     "output_type": "stream",
     "text": [
      "WARNING:absl:Compiled the loaded model, but the compiled metrics have yet to be built. `model.compile_metrics` will be empty until you train or evaluate the model.\n"
     ]
    },
    {
     "name": "stdout",
     "output_type": "stream",
     "text": [
      "\u001b[1m1/1\u001b[0m \u001b[32m━━━━━━━━━━━━━━━━━━━━\u001b[0m\u001b[37m\u001b[0m \u001b[1m0s\u001b[0m 125ms/step\n"
     ]
    },
    {
     "name": "stderr",
     "output_type": "stream",
     "text": [
      "WARNING:absl:Compiled the loaded model, but the compiled metrics have yet to be built. `model.compile_metrics` will be empty until you train or evaluate the model.\n"
     ]
    },
    {
     "name": "stdout",
     "output_type": "stream",
     "text": [
      "\u001b[1m1/1\u001b[0m \u001b[32m━━━━━━━━━━━━━━━━━━━━\u001b[0m\u001b[37m\u001b[0m \u001b[1m0s\u001b[0m 140ms/step\n"
     ]
    },
    {
     "name": "stderr",
     "output_type": "stream",
     "text": [
      "WARNING:absl:Compiled the loaded model, but the compiled metrics have yet to be built. `model.compile_metrics` will be empty until you train or evaluate the model.\n"
     ]
    },
    {
     "name": "stdout",
     "output_type": "stream",
     "text": [
      "\u001b[1m1/1\u001b[0m \u001b[32m━━━━━━━━━━━━━━━━━━━━\u001b[0m\u001b[37m\u001b[0m \u001b[1m0s\u001b[0m 121ms/step\n"
     ]
    },
    {
     "name": "stderr",
     "output_type": "stream",
     "text": [
      "WARNING:absl:Compiled the loaded model, but the compiled metrics have yet to be built. `model.compile_metrics` will be empty until you train or evaluate the model.\n"
     ]
    },
    {
     "name": "stdout",
     "output_type": "stream",
     "text": [
      "\u001b[1m1/1\u001b[0m \u001b[32m━━━━━━━━━━━━━━━━━━━━\u001b[0m\u001b[37m\u001b[0m \u001b[1m0s\u001b[0m 120ms/step\n"
     ]
    },
    {
     "name": "stderr",
     "output_type": "stream",
     "text": [
      "WARNING:absl:Compiled the loaded model, but the compiled metrics have yet to be built. `model.compile_metrics` will be empty until you train or evaluate the model.\n"
     ]
    },
    {
     "name": "stdout",
     "output_type": "stream",
     "text": [
      "\u001b[1m1/1\u001b[0m \u001b[32m━━━━━━━━━━━━━━━━━━━━\u001b[0m\u001b[37m\u001b[0m \u001b[1m0s\u001b[0m 124ms/step\n"
     ]
    },
    {
     "name": "stderr",
     "output_type": "stream",
     "text": [
      "WARNING:absl:Compiled the loaded model, but the compiled metrics have yet to be built. `model.compile_metrics` will be empty until you train or evaluate the model.\n"
     ]
    },
    {
     "name": "stdout",
     "output_type": "stream",
     "text": [
      "\u001b[1m1/1\u001b[0m \u001b[32m━━━━━━━━━━━━━━━━━━━━\u001b[0m\u001b[37m\u001b[0m \u001b[1m0s\u001b[0m 129ms/step\n"
     ]
    },
    {
     "name": "stderr",
     "output_type": "stream",
     "text": [
      "WARNING:absl:Compiled the loaded model, but the compiled metrics have yet to be built. `model.compile_metrics` will be empty until you train or evaluate the model.\n"
     ]
    },
    {
     "name": "stdout",
     "output_type": "stream",
     "text": [
      "\u001b[1m1/1\u001b[0m \u001b[32m━━━━━━━━━━━━━━━━━━━━\u001b[0m\u001b[37m\u001b[0m \u001b[1m0s\u001b[0m 129ms/step\n"
     ]
    },
    {
     "name": "stderr",
     "output_type": "stream",
     "text": [
      "WARNING:absl:Compiled the loaded model, but the compiled metrics have yet to be built. `model.compile_metrics` will be empty until you train or evaluate the model.\n"
     ]
    },
    {
     "name": "stdout",
     "output_type": "stream",
     "text": [
      "\u001b[1m1/1\u001b[0m \u001b[32m━━━━━━━━━━━━━━━━━━━━\u001b[0m\u001b[37m\u001b[0m \u001b[1m0s\u001b[0m 129ms/step\n"
     ]
    },
    {
     "name": "stderr",
     "output_type": "stream",
     "text": [
      "WARNING:absl:Compiled the loaded model, but the compiled metrics have yet to be built. `model.compile_metrics` will be empty until you train or evaluate the model.\n"
     ]
    },
    {
     "name": "stdout",
     "output_type": "stream",
     "text": [
      "\u001b[1m1/1\u001b[0m \u001b[32m━━━━━━━━━━━━━━━━━━━━\u001b[0m\u001b[37m\u001b[0m \u001b[1m0s\u001b[0m 130ms/step\n"
     ]
    },
    {
     "name": "stderr",
     "output_type": "stream",
     "text": [
      "WARNING:absl:Compiled the loaded model, but the compiled metrics have yet to be built. `model.compile_metrics` will be empty until you train or evaluate the model.\n"
     ]
    },
    {
     "name": "stdout",
     "output_type": "stream",
     "text": [
      "\u001b[1m1/1\u001b[0m \u001b[32m━━━━━━━━━━━━━━━━━━━━\u001b[0m\u001b[37m\u001b[0m \u001b[1m0s\u001b[0m 122ms/step\n"
     ]
    },
    {
     "name": "stderr",
     "output_type": "stream",
     "text": [
      "WARNING:absl:Compiled the loaded model, but the compiled metrics have yet to be built. `model.compile_metrics` will be empty until you train or evaluate the model.\n"
     ]
    },
    {
     "name": "stdout",
     "output_type": "stream",
     "text": [
      "\u001b[1m1/1\u001b[0m \u001b[32m━━━━━━━━━━━━━━━━━━━━\u001b[0m\u001b[37m\u001b[0m \u001b[1m0s\u001b[0m 126ms/step\n"
     ]
    },
    {
     "name": "stderr",
     "output_type": "stream",
     "text": [
      "WARNING:absl:Compiled the loaded model, but the compiled metrics have yet to be built. `model.compile_metrics` will be empty until you train or evaluate the model.\n"
     ]
    },
    {
     "name": "stdout",
     "output_type": "stream",
     "text": [
      "\u001b[1m1/1\u001b[0m \u001b[32m━━━━━━━━━━━━━━━━━━━━\u001b[0m\u001b[37m\u001b[0m \u001b[1m0s\u001b[0m 125ms/step\n"
     ]
    },
    {
     "name": "stderr",
     "output_type": "stream",
     "text": [
      "WARNING:absl:Compiled the loaded model, but the compiled metrics have yet to be built. `model.compile_metrics` will be empty until you train or evaluate the model.\n"
     ]
    },
    {
     "name": "stdout",
     "output_type": "stream",
     "text": [
      "\u001b[1m1/1\u001b[0m \u001b[32m━━━━━━━━━━━━━━━━━━━━\u001b[0m\u001b[37m\u001b[0m \u001b[1m0s\u001b[0m 120ms/step\n"
     ]
    },
    {
     "name": "stderr",
     "output_type": "stream",
     "text": [
      "WARNING:absl:Compiled the loaded model, but the compiled metrics have yet to be built. `model.compile_metrics` will be empty until you train or evaluate the model.\n"
     ]
    },
    {
     "name": "stdout",
     "output_type": "stream",
     "text": [
      "\u001b[1m1/1\u001b[0m \u001b[32m━━━━━━━━━━━━━━━━━━━━\u001b[0m\u001b[37m\u001b[0m \u001b[1m0s\u001b[0m 131ms/step\n"
     ]
    },
    {
     "name": "stderr",
     "output_type": "stream",
     "text": [
      "WARNING:absl:Compiled the loaded model, but the compiled metrics have yet to be built. `model.compile_metrics` will be empty until you train or evaluate the model.\n"
     ]
    },
    {
     "name": "stdout",
     "output_type": "stream",
     "text": [
      "\u001b[1m1/1\u001b[0m \u001b[32m━━━━━━━━━━━━━━━━━━━━\u001b[0m\u001b[37m\u001b[0m \u001b[1m0s\u001b[0m 122ms/step\n"
     ]
    },
    {
     "name": "stderr",
     "output_type": "stream",
     "text": [
      "WARNING:absl:Compiled the loaded model, but the compiled metrics have yet to be built. `model.compile_metrics` will be empty until you train or evaluate the model.\n"
     ]
    },
    {
     "name": "stdout",
     "output_type": "stream",
     "text": [
      "\u001b[1m1/1\u001b[0m \u001b[32m━━━━━━━━━━━━━━━━━━━━\u001b[0m\u001b[37m\u001b[0m \u001b[1m0s\u001b[0m 127ms/step\n"
     ]
    },
    {
     "name": "stderr",
     "output_type": "stream",
     "text": [
      "WARNING:absl:Compiled the loaded model, but the compiled metrics have yet to be built. `model.compile_metrics` will be empty until you train or evaluate the model.\n"
     ]
    },
    {
     "name": "stdout",
     "output_type": "stream",
     "text": [
      "\u001b[1m1/1\u001b[0m \u001b[32m━━━━━━━━━━━━━━━━━━━━\u001b[0m\u001b[37m\u001b[0m \u001b[1m0s\u001b[0m 126ms/step\n"
     ]
    },
    {
     "name": "stderr",
     "output_type": "stream",
     "text": [
      "WARNING:absl:Compiled the loaded model, but the compiled metrics have yet to be built. `model.compile_metrics` will be empty until you train or evaluate the model.\n"
     ]
    },
    {
     "name": "stdout",
     "output_type": "stream",
     "text": [
      "\u001b[1m1/1\u001b[0m \u001b[32m━━━━━━━━━━━━━━━━━━━━\u001b[0m\u001b[37m\u001b[0m \u001b[1m0s\u001b[0m 135ms/step\n"
     ]
    },
    {
     "name": "stderr",
     "output_type": "stream",
     "text": [
      "WARNING:absl:Compiled the loaded model, but the compiled metrics have yet to be built. `model.compile_metrics` will be empty until you train or evaluate the model.\n"
     ]
    },
    {
     "name": "stdout",
     "output_type": "stream",
     "text": [
      "\u001b[1m1/1\u001b[0m \u001b[32m━━━━━━━━━━━━━━━━━━━━\u001b[0m\u001b[37m\u001b[0m \u001b[1m0s\u001b[0m 288ms/step\n"
     ]
    },
    {
     "name": "stderr",
     "output_type": "stream",
     "text": [
      "WARNING:absl:Compiled the loaded model, but the compiled metrics have yet to be built. `model.compile_metrics` will be empty until you train or evaluate the model.\n"
     ]
    },
    {
     "name": "stdout",
     "output_type": "stream",
     "text": [
      "\u001b[1m1/1\u001b[0m \u001b[32m━━━━━━━━━━━━━━━━━━━━\u001b[0m\u001b[37m\u001b[0m \u001b[1m0s\u001b[0m 127ms/step\n"
     ]
    },
    {
     "name": "stderr",
     "output_type": "stream",
     "text": [
      "WARNING:absl:Compiled the loaded model, but the compiled metrics have yet to be built. `model.compile_metrics` will be empty until you train or evaluate the model.\n"
     ]
    },
    {
     "name": "stdout",
     "output_type": "stream",
     "text": [
      "\u001b[1m1/1\u001b[0m \u001b[32m━━━━━━━━━━━━━━━━━━━━\u001b[0m\u001b[37m\u001b[0m \u001b[1m0s\u001b[0m 122ms/step\n"
     ]
    },
    {
     "name": "stderr",
     "output_type": "stream",
     "text": [
      "WARNING:absl:Compiled the loaded model, but the compiled metrics have yet to be built. `model.compile_metrics` will be empty until you train or evaluate the model.\n"
     ]
    },
    {
     "name": "stdout",
     "output_type": "stream",
     "text": [
      "\u001b[1m1/1\u001b[0m \u001b[32m━━━━━━━━━━━━━━━━━━━━\u001b[0m\u001b[37m\u001b[0m \u001b[1m0s\u001b[0m 124ms/step\n"
     ]
    },
    {
     "name": "stderr",
     "output_type": "stream",
     "text": [
      "WARNING:absl:Compiled the loaded model, but the compiled metrics have yet to be built. `model.compile_metrics` will be empty until you train or evaluate the model.\n"
     ]
    },
    {
     "name": "stdout",
     "output_type": "stream",
     "text": [
      "\u001b[1m1/1\u001b[0m \u001b[32m━━━━━━━━━━━━━━━━━━━━\u001b[0m\u001b[37m\u001b[0m \u001b[1m0s\u001b[0m 129ms/step\n"
     ]
    },
    {
     "name": "stderr",
     "output_type": "stream",
     "text": [
      "WARNING:absl:Compiled the loaded model, but the compiled metrics have yet to be built. `model.compile_metrics` will be empty until you train or evaluate the model.\n"
     ]
    },
    {
     "name": "stdout",
     "output_type": "stream",
     "text": [
      "\u001b[1m1/1\u001b[0m \u001b[32m━━━━━━━━━━━━━━━━━━━━\u001b[0m\u001b[37m\u001b[0m \u001b[1m0s\u001b[0m 127ms/step\n"
     ]
    },
    {
     "name": "stderr",
     "output_type": "stream",
     "text": [
      "WARNING:absl:Compiled the loaded model, but the compiled metrics have yet to be built. `model.compile_metrics` will be empty until you train or evaluate the model.\n"
     ]
    },
    {
     "name": "stdout",
     "output_type": "stream",
     "text": [
      "\u001b[1m1/1\u001b[0m \u001b[32m━━━━━━━━━━━━━━━━━━━━\u001b[0m\u001b[37m\u001b[0m \u001b[1m0s\u001b[0m 125ms/step\n"
     ]
    },
    {
     "name": "stderr",
     "output_type": "stream",
     "text": [
      "WARNING:absl:Compiled the loaded model, but the compiled metrics have yet to be built. `model.compile_metrics` will be empty until you train or evaluate the model.\n"
     ]
    },
    {
     "name": "stdout",
     "output_type": "stream",
     "text": [
      "\u001b[1m1/1\u001b[0m \u001b[32m━━━━━━━━━━━━━━━━━━━━\u001b[0m\u001b[37m\u001b[0m \u001b[1m0s\u001b[0m 126ms/step\n"
     ]
    },
    {
     "name": "stderr",
     "output_type": "stream",
     "text": [
      "WARNING:absl:Compiled the loaded model, but the compiled metrics have yet to be built. `model.compile_metrics` will be empty until you train or evaluate the model.\n"
     ]
    },
    {
     "name": "stdout",
     "output_type": "stream",
     "text": [
      "\u001b[1m1/1\u001b[0m \u001b[32m━━━━━━━━━━━━━━━━━━━━\u001b[0m\u001b[37m\u001b[0m \u001b[1m0s\u001b[0m 295ms/step\n"
     ]
    },
    {
     "name": "stderr",
     "output_type": "stream",
     "text": [
      "WARNING:absl:Compiled the loaded model, but the compiled metrics have yet to be built. `model.compile_metrics` will be empty until you train or evaluate the model.\n"
     ]
    },
    {
     "name": "stdout",
     "output_type": "stream",
     "text": [
      "\u001b[1m1/1\u001b[0m \u001b[32m━━━━━━━━━━━━━━━━━━━━\u001b[0m\u001b[37m\u001b[0m \u001b[1m0s\u001b[0m 126ms/step\n"
     ]
    },
    {
     "name": "stderr",
     "output_type": "stream",
     "text": [
      "WARNING:absl:Compiled the loaded model, but the compiled metrics have yet to be built. `model.compile_metrics` will be empty until you train or evaluate the model.\n"
     ]
    },
    {
     "name": "stdout",
     "output_type": "stream",
     "text": [
      "\u001b[1m1/1\u001b[0m \u001b[32m━━━━━━━━━━━━━━━━━━━━\u001b[0m\u001b[37m\u001b[0m \u001b[1m0s\u001b[0m 131ms/step\n"
     ]
    },
    {
     "name": "stderr",
     "output_type": "stream",
     "text": [
      "WARNING:absl:Compiled the loaded model, but the compiled metrics have yet to be built. `model.compile_metrics` will be empty until you train or evaluate the model.\n"
     ]
    },
    {
     "name": "stdout",
     "output_type": "stream",
     "text": [
      "\u001b[1m1/1\u001b[0m \u001b[32m━━━━━━━━━━━━━━━━━━━━\u001b[0m\u001b[37m\u001b[0m \u001b[1m0s\u001b[0m 118ms/step\n"
     ]
    },
    {
     "name": "stderr",
     "output_type": "stream",
     "text": [
      "WARNING:absl:Compiled the loaded model, but the compiled metrics have yet to be built. `model.compile_metrics` will be empty until you train or evaluate the model.\n"
     ]
    },
    {
     "name": "stdout",
     "output_type": "stream",
     "text": [
      "\u001b[1m1/1\u001b[0m \u001b[32m━━━━━━━━━━━━━━━━━━━━\u001b[0m\u001b[37m\u001b[0m \u001b[1m0s\u001b[0m 130ms/step\n"
     ]
    },
    {
     "name": "stderr",
     "output_type": "stream",
     "text": [
      "WARNING:absl:Compiled the loaded model, but the compiled metrics have yet to be built. `model.compile_metrics` will be empty until you train or evaluate the model.\n"
     ]
    },
    {
     "name": "stdout",
     "output_type": "stream",
     "text": [
      "\u001b[1m1/1\u001b[0m \u001b[32m━━━━━━━━━━━━━━━━━━━━\u001b[0m\u001b[37m\u001b[0m \u001b[1m0s\u001b[0m 128ms/step\n"
     ]
    },
    {
     "name": "stderr",
     "output_type": "stream",
     "text": [
      "WARNING:absl:Compiled the loaded model, but the compiled metrics have yet to be built. `model.compile_metrics` will be empty until you train or evaluate the model.\n"
     ]
    },
    {
     "name": "stdout",
     "output_type": "stream",
     "text": [
      "\u001b[1m1/1\u001b[0m \u001b[32m━━━━━━━━━━━━━━━━━━━━\u001b[0m\u001b[37m\u001b[0m \u001b[1m0s\u001b[0m 120ms/step\n"
     ]
    },
    {
     "name": "stderr",
     "output_type": "stream",
     "text": [
      "WARNING:absl:Compiled the loaded model, but the compiled metrics have yet to be built. `model.compile_metrics` will be empty until you train or evaluate the model.\n"
     ]
    },
    {
     "name": "stdout",
     "output_type": "stream",
     "text": [
      "\u001b[1m1/1\u001b[0m \u001b[32m━━━━━━━━━━━━━━━━━━━━\u001b[0m\u001b[37m\u001b[0m \u001b[1m0s\u001b[0m 128ms/step\n"
     ]
    },
    {
     "name": "stderr",
     "output_type": "stream",
     "text": [
      "WARNING:absl:Compiled the loaded model, but the compiled metrics have yet to be built. `model.compile_metrics` will be empty until you train or evaluate the model.\n"
     ]
    },
    {
     "name": "stdout",
     "output_type": "stream",
     "text": [
      "\u001b[1m1/1\u001b[0m \u001b[32m━━━━━━━━━━━━━━━━━━━━\u001b[0m\u001b[37m\u001b[0m \u001b[1m0s\u001b[0m 125ms/step\n"
     ]
    },
    {
     "name": "stderr",
     "output_type": "stream",
     "text": [
      "WARNING:absl:Compiled the loaded model, but the compiled metrics have yet to be built. `model.compile_metrics` will be empty until you train or evaluate the model.\n"
     ]
    },
    {
     "name": "stdout",
     "output_type": "stream",
     "text": [
      "\u001b[1m1/1\u001b[0m \u001b[32m━━━━━━━━━━━━━━━━━━━━\u001b[0m\u001b[37m\u001b[0m \u001b[1m0s\u001b[0m 125ms/step\n"
     ]
    },
    {
     "name": "stderr",
     "output_type": "stream",
     "text": [
      "WARNING:absl:Compiled the loaded model, but the compiled metrics have yet to be built. `model.compile_metrics` will be empty until you train or evaluate the model.\n"
     ]
    },
    {
     "name": "stdout",
     "output_type": "stream",
     "text": [
      "\u001b[1m1/1\u001b[0m \u001b[32m━━━━━━━━━━━━━━━━━━━━\u001b[0m\u001b[37m\u001b[0m \u001b[1m0s\u001b[0m 133ms/step\n"
     ]
    },
    {
     "name": "stderr",
     "output_type": "stream",
     "text": [
      "WARNING:absl:Compiled the loaded model, but the compiled metrics have yet to be built. `model.compile_metrics` will be empty until you train or evaluate the model.\n"
     ]
    },
    {
     "name": "stdout",
     "output_type": "stream",
     "text": [
      "\u001b[1m1/1\u001b[0m \u001b[32m━━━━━━━━━━━━━━━━━━━━\u001b[0m\u001b[37m\u001b[0m \u001b[1m0s\u001b[0m 125ms/step\n"
     ]
    },
    {
     "name": "stderr",
     "output_type": "stream",
     "text": [
      "WARNING:absl:Compiled the loaded model, but the compiled metrics have yet to be built. `model.compile_metrics` will be empty until you train or evaluate the model.\n"
     ]
    },
    {
     "name": "stdout",
     "output_type": "stream",
     "text": [
      "\u001b[1m1/1\u001b[0m \u001b[32m━━━━━━━━━━━━━━━━━━━━\u001b[0m\u001b[37m\u001b[0m \u001b[1m0s\u001b[0m 126ms/step\n"
     ]
    },
    {
     "name": "stderr",
     "output_type": "stream",
     "text": [
      "WARNING:absl:Compiled the loaded model, but the compiled metrics have yet to be built. `model.compile_metrics` will be empty until you train or evaluate the model.\n"
     ]
    },
    {
     "name": "stdout",
     "output_type": "stream",
     "text": [
      "\u001b[1m1/1\u001b[0m \u001b[32m━━━━━━━━━━━━━━━━━━━━\u001b[0m\u001b[37m\u001b[0m \u001b[1m0s\u001b[0m 126ms/step\n"
     ]
    },
    {
     "name": "stderr",
     "output_type": "stream",
     "text": [
      "WARNING:absl:Compiled the loaded model, but the compiled metrics have yet to be built. `model.compile_metrics` will be empty until you train or evaluate the model.\n"
     ]
    },
    {
     "name": "stdout",
     "output_type": "stream",
     "text": [
      "\u001b[1m1/1\u001b[0m \u001b[32m━━━━━━━━━━━━━━━━━━━━\u001b[0m\u001b[37m\u001b[0m \u001b[1m0s\u001b[0m 124ms/step\n"
     ]
    },
    {
     "name": "stderr",
     "output_type": "stream",
     "text": [
      "WARNING:absl:Compiled the loaded model, but the compiled metrics have yet to be built. `model.compile_metrics` will be empty until you train or evaluate the model.\n"
     ]
    },
    {
     "name": "stdout",
     "output_type": "stream",
     "text": [
      "\u001b[1m1/1\u001b[0m \u001b[32m━━━━━━━━━━━━━━━━━━━━\u001b[0m\u001b[37m\u001b[0m \u001b[1m0s\u001b[0m 132ms/step\n"
     ]
    },
    {
     "name": "stderr",
     "output_type": "stream",
     "text": [
      "WARNING:absl:Compiled the loaded model, but the compiled metrics have yet to be built. `model.compile_metrics` will be empty until you train or evaluate the model.\n"
     ]
    },
    {
     "name": "stdout",
     "output_type": "stream",
     "text": [
      "\u001b[1m1/1\u001b[0m \u001b[32m━━━━━━━━━━━━━━━━━━━━\u001b[0m\u001b[37m\u001b[0m \u001b[1m0s\u001b[0m 123ms/step\n"
     ]
    },
    {
     "name": "stderr",
     "output_type": "stream",
     "text": [
      "WARNING:absl:Compiled the loaded model, but the compiled metrics have yet to be built. `model.compile_metrics` will be empty until you train or evaluate the model.\n"
     ]
    },
    {
     "name": "stdout",
     "output_type": "stream",
     "text": [
      "\u001b[1m1/1\u001b[0m \u001b[32m━━━━━━━━━━━━━━━━━━━━\u001b[0m\u001b[37m\u001b[0m \u001b[1m0s\u001b[0m 127ms/step\n"
     ]
    },
    {
     "name": "stderr",
     "output_type": "stream",
     "text": [
      "WARNING:absl:Compiled the loaded model, but the compiled metrics have yet to be built. `model.compile_metrics` will be empty until you train or evaluate the model.\n"
     ]
    },
    {
     "name": "stdout",
     "output_type": "stream",
     "text": [
      "\u001b[1m1/1\u001b[0m \u001b[32m━━━━━━━━━━━━━━━━━━━━\u001b[0m\u001b[37m\u001b[0m \u001b[1m0s\u001b[0m 125ms/step\n"
     ]
    },
    {
     "name": "stderr",
     "output_type": "stream",
     "text": [
      "WARNING:absl:Compiled the loaded model, but the compiled metrics have yet to be built. `model.compile_metrics` will be empty until you train or evaluate the model.\n"
     ]
    },
    {
     "name": "stdout",
     "output_type": "stream",
     "text": [
      "\u001b[1m1/1\u001b[0m \u001b[32m━━━━━━━━━━━━━━━━━━━━\u001b[0m\u001b[37m\u001b[0m \u001b[1m0s\u001b[0m 124ms/step\n"
     ]
    },
    {
     "name": "stderr",
     "output_type": "stream",
     "text": [
      "WARNING:absl:Compiled the loaded model, but the compiled metrics have yet to be built. `model.compile_metrics` will be empty until you train or evaluate the model.\n"
     ]
    },
    {
     "name": "stdout",
     "output_type": "stream",
     "text": [
      "\u001b[1m1/1\u001b[0m \u001b[32m━━━━━━━━━━━━━━━━━━━━\u001b[0m\u001b[37m\u001b[0m \u001b[1m0s\u001b[0m 125ms/step\n"
     ]
    },
    {
     "name": "stderr",
     "output_type": "stream",
     "text": [
      "WARNING:absl:Compiled the loaded model, but the compiled metrics have yet to be built. `model.compile_metrics` will be empty until you train or evaluate the model.\n"
     ]
    },
    {
     "name": "stdout",
     "output_type": "stream",
     "text": [
      "\u001b[1m1/1\u001b[0m \u001b[32m━━━━━━━━━━━━━━━━━━━━\u001b[0m\u001b[37m\u001b[0m \u001b[1m0s\u001b[0m 123ms/step\n"
     ]
    },
    {
     "name": "stderr",
     "output_type": "stream",
     "text": [
      "WARNING:absl:Compiled the loaded model, but the compiled metrics have yet to be built. `model.compile_metrics` will be empty until you train or evaluate the model.\n"
     ]
    },
    {
     "name": "stdout",
     "output_type": "stream",
     "text": [
      "\u001b[1m1/1\u001b[0m \u001b[32m━━━━━━━━━━━━━━━━━━━━\u001b[0m\u001b[37m\u001b[0m \u001b[1m0s\u001b[0m 129ms/step\n"
     ]
    },
    {
     "name": "stderr",
     "output_type": "stream",
     "text": [
      "WARNING:absl:Compiled the loaded model, but the compiled metrics have yet to be built. `model.compile_metrics` will be empty until you train or evaluate the model.\n"
     ]
    },
    {
     "name": "stdout",
     "output_type": "stream",
     "text": [
      "\u001b[1m1/1\u001b[0m \u001b[32m━━━━━━━━━━━━━━━━━━━━\u001b[0m\u001b[37m\u001b[0m \u001b[1m0s\u001b[0m 122ms/step\n"
     ]
    },
    {
     "name": "stderr",
     "output_type": "stream",
     "text": [
      "WARNING:absl:Compiled the loaded model, but the compiled metrics have yet to be built. `model.compile_metrics` will be empty until you train or evaluate the model.\n"
     ]
    },
    {
     "name": "stdout",
     "output_type": "stream",
     "text": [
      "\u001b[1m1/1\u001b[0m \u001b[32m━━━━━━━━━━━━━━━━━━━━\u001b[0m\u001b[37m\u001b[0m \u001b[1m0s\u001b[0m 127ms/step\n"
     ]
    },
    {
     "name": "stderr",
     "output_type": "stream",
     "text": [
      "WARNING:absl:Compiled the loaded model, but the compiled metrics have yet to be built. `model.compile_metrics` will be empty until you train or evaluate the model.\n"
     ]
    },
    {
     "name": "stdout",
     "output_type": "stream",
     "text": [
      "\u001b[1m1/1\u001b[0m \u001b[32m━━━━━━━━━━━━━━━━━━━━\u001b[0m\u001b[37m\u001b[0m \u001b[1m0s\u001b[0m 296ms/step\n"
     ]
    },
    {
     "name": "stderr",
     "output_type": "stream",
     "text": [
      "WARNING:absl:Compiled the loaded model, but the compiled metrics have yet to be built. `model.compile_metrics` will be empty until you train or evaluate the model.\n"
     ]
    },
    {
     "name": "stdout",
     "output_type": "stream",
     "text": [
      "\u001b[1m1/1\u001b[0m \u001b[32m━━━━━━━━━━━━━━━━━━━━\u001b[0m\u001b[37m\u001b[0m \u001b[1m0s\u001b[0m 125ms/step\n"
     ]
    },
    {
     "name": "stderr",
     "output_type": "stream",
     "text": [
      "WARNING:absl:Compiled the loaded model, but the compiled metrics have yet to be built. `model.compile_metrics` will be empty until you train or evaluate the model.\n"
     ]
    },
    {
     "name": "stdout",
     "output_type": "stream",
     "text": [
      "\u001b[1m1/1\u001b[0m \u001b[32m━━━━━━━━━━━━━━━━━━━━\u001b[0m\u001b[37m\u001b[0m \u001b[1m0s\u001b[0m 120ms/step\n"
     ]
    },
    {
     "name": "stderr",
     "output_type": "stream",
     "text": [
      "WARNING:absl:Compiled the loaded model, but the compiled metrics have yet to be built. `model.compile_metrics` will be empty until you train or evaluate the model.\n"
     ]
    },
    {
     "name": "stdout",
     "output_type": "stream",
     "text": [
      "\u001b[1m1/1\u001b[0m \u001b[32m━━━━━━━━━━━━━━━━━━━━\u001b[0m\u001b[37m\u001b[0m \u001b[1m0s\u001b[0m 125ms/step\n"
     ]
    },
    {
     "name": "stderr",
     "output_type": "stream",
     "text": [
      "WARNING:absl:Compiled the loaded model, but the compiled metrics have yet to be built. `model.compile_metrics` will be empty until you train or evaluate the model.\n"
     ]
    },
    {
     "name": "stdout",
     "output_type": "stream",
     "text": [
      "\u001b[1m1/1\u001b[0m \u001b[32m━━━━━━━━━━━━━━━━━━━━\u001b[0m\u001b[37m\u001b[0m \u001b[1m0s\u001b[0m 125ms/step\n"
     ]
    },
    {
     "name": "stderr",
     "output_type": "stream",
     "text": [
      "WARNING:absl:Compiled the loaded model, but the compiled metrics have yet to be built. `model.compile_metrics` will be empty until you train or evaluate the model.\n"
     ]
    },
    {
     "name": "stdout",
     "output_type": "stream",
     "text": [
      "\u001b[1m1/1\u001b[0m \u001b[32m━━━━━━━━━━━━━━━━━━━━\u001b[0m\u001b[37m\u001b[0m \u001b[1m0s\u001b[0m 127ms/step\n"
     ]
    },
    {
     "name": "stderr",
     "output_type": "stream",
     "text": [
      "WARNING:absl:Compiled the loaded model, but the compiled metrics have yet to be built. `model.compile_metrics` will be empty until you train or evaluate the model.\n"
     ]
    },
    {
     "name": "stdout",
     "output_type": "stream",
     "text": [
      "\u001b[1m1/1\u001b[0m \u001b[32m━━━━━━━━━━━━━━━━━━━━\u001b[0m\u001b[37m\u001b[0m \u001b[1m0s\u001b[0m 123ms/step\n"
     ]
    },
    {
     "name": "stderr",
     "output_type": "stream",
     "text": [
      "WARNING:absl:Compiled the loaded model, but the compiled metrics have yet to be built. `model.compile_metrics` will be empty until you train or evaluate the model.\n"
     ]
    },
    {
     "name": "stdout",
     "output_type": "stream",
     "text": [
      "\u001b[1m1/1\u001b[0m \u001b[32m━━━━━━━━━━━━━━━━━━━━\u001b[0m\u001b[37m\u001b[0m \u001b[1m0s\u001b[0m 118ms/step\n"
     ]
    },
    {
     "name": "stderr",
     "output_type": "stream",
     "text": [
      "WARNING:absl:Compiled the loaded model, but the compiled metrics have yet to be built. `model.compile_metrics` will be empty until you train or evaluate the model.\n"
     ]
    },
    {
     "name": "stdout",
     "output_type": "stream",
     "text": [
      "\u001b[1m1/1\u001b[0m \u001b[32m━━━━━━━━━━━━━━━━━━━━\u001b[0m\u001b[37m\u001b[0m \u001b[1m0s\u001b[0m 306ms/step\n"
     ]
    },
    {
     "name": "stderr",
     "output_type": "stream",
     "text": [
      "WARNING:absl:Compiled the loaded model, but the compiled metrics have yet to be built. `model.compile_metrics` will be empty until you train or evaluate the model.\n"
     ]
    },
    {
     "name": "stdout",
     "output_type": "stream",
     "text": [
      "\u001b[1m1/1\u001b[0m \u001b[32m━━━━━━━━━━━━━━━━━━━━\u001b[0m\u001b[37m\u001b[0m \u001b[1m0s\u001b[0m 129ms/step\n"
     ]
    },
    {
     "name": "stderr",
     "output_type": "stream",
     "text": [
      "WARNING:absl:Compiled the loaded model, but the compiled metrics have yet to be built. `model.compile_metrics` will be empty until you train or evaluate the model.\n"
     ]
    },
    {
     "name": "stdout",
     "output_type": "stream",
     "text": [
      "\u001b[1m1/1\u001b[0m \u001b[32m━━━━━━━━━━━━━━━━━━━━\u001b[0m\u001b[37m\u001b[0m \u001b[1m0s\u001b[0m 138ms/step\n"
     ]
    },
    {
     "name": "stderr",
     "output_type": "stream",
     "text": [
      "WARNING:absl:Compiled the loaded model, but the compiled metrics have yet to be built. `model.compile_metrics` will be empty until you train or evaluate the model.\n"
     ]
    },
    {
     "name": "stdout",
     "output_type": "stream",
     "text": [
      "\u001b[1m1/1\u001b[0m \u001b[32m━━━━━━━━━━━━━━━━━━━━\u001b[0m\u001b[37m\u001b[0m \u001b[1m0s\u001b[0m 124ms/step\n"
     ]
    },
    {
     "name": "stderr",
     "output_type": "stream",
     "text": [
      "WARNING:absl:Compiled the loaded model, but the compiled metrics have yet to be built. `model.compile_metrics` will be empty until you train or evaluate the model.\n"
     ]
    },
    {
     "name": "stdout",
     "output_type": "stream",
     "text": [
      "\u001b[1m1/1\u001b[0m \u001b[32m━━━━━━━━━━━━━━━━━━━━\u001b[0m\u001b[37m\u001b[0m \u001b[1m0s\u001b[0m 134ms/step\n"
     ]
    },
    {
     "name": "stderr",
     "output_type": "stream",
     "text": [
      "WARNING:absl:Compiled the loaded model, but the compiled metrics have yet to be built. `model.compile_metrics` will be empty until you train or evaluate the model.\n"
     ]
    },
    {
     "name": "stdout",
     "output_type": "stream",
     "text": [
      "\u001b[1m1/1\u001b[0m \u001b[32m━━━━━━━━━━━━━━━━━━━━\u001b[0m\u001b[37m\u001b[0m \u001b[1m0s\u001b[0m 127ms/step\n"
     ]
    },
    {
     "name": "stderr",
     "output_type": "stream",
     "text": [
      "WARNING:absl:Compiled the loaded model, but the compiled metrics have yet to be built. `model.compile_metrics` will be empty until you train or evaluate the model.\n"
     ]
    },
    {
     "name": "stdout",
     "output_type": "stream",
     "text": [
      "\u001b[1m1/1\u001b[0m \u001b[32m━━━━━━━━━━━━━━━━━━━━\u001b[0m\u001b[37m\u001b[0m \u001b[1m0s\u001b[0m 126ms/step\n"
     ]
    },
    {
     "name": "stderr",
     "output_type": "stream",
     "text": [
      "WARNING:absl:Compiled the loaded model, but the compiled metrics have yet to be built. `model.compile_metrics` will be empty until you train or evaluate the model.\n"
     ]
    },
    {
     "name": "stdout",
     "output_type": "stream",
     "text": [
      "\u001b[1m1/1\u001b[0m \u001b[32m━━━━━━━━━━━━━━━━━━━━\u001b[0m\u001b[37m\u001b[0m \u001b[1m0s\u001b[0m 123ms/step\n"
     ]
    },
    {
     "name": "stderr",
     "output_type": "stream",
     "text": [
      "WARNING:absl:Compiled the loaded model, but the compiled metrics have yet to be built. `model.compile_metrics` will be empty until you train or evaluate the model.\n"
     ]
    },
    {
     "name": "stdout",
     "output_type": "stream",
     "text": [
      "\u001b[1m1/1\u001b[0m \u001b[32m━━━━━━━━━━━━━━━━━━━━\u001b[0m\u001b[37m\u001b[0m \u001b[1m0s\u001b[0m 125ms/step\n"
     ]
    },
    {
     "name": "stderr",
     "output_type": "stream",
     "text": [
      "WARNING:absl:Compiled the loaded model, but the compiled metrics have yet to be built. `model.compile_metrics` will be empty until you train or evaluate the model.\n"
     ]
    },
    {
     "name": "stdout",
     "output_type": "stream",
     "text": [
      "\u001b[1m1/1\u001b[0m \u001b[32m━━━━━━━━━━━━━━━━━━━━\u001b[0m\u001b[37m\u001b[0m \u001b[1m0s\u001b[0m 131ms/step\n"
     ]
    }
   ],
   "source": [
    "from generators import generate_predictions\n",
    "\n",
    "subgroups = load_lists_in_subgroups()\n",
    "predicted_results = generate_predictions(subgroups)"
   ]
  },
  {
   "cell_type": "code",
   "execution_count": null,
   "metadata": {},
   "outputs": [],
   "source": [
    "from save_and_load import save_predictions\n",
    "\n",
    "save_predictions(predicted_results)"
   ]
  },
  {
   "cell_type": "code",
   "execution_count": 67,
   "metadata": {},
   "outputs": [
    {
     "name": "stdout",
     "output_type": "stream",
     "text": [
      "\n",
      "Subgroup Range: (26, 31)\n",
      "Predicted Kann Swar List: [['pa', 'dha'], ['ma#'], ['pa'], ['saa'], ['ga'], [], [], [], [], [], ['ma#'], []]\n",
      "Predicted Swar List: [[\"saa'\", 'ma#,'], ['ga', 'pa,'], ['ga'], ['ga', 'pa'], ['re'], ['ga'], ['ga'], ['ga'], ['ga'], ['re'], ['ga'], ['ma#']]\n",
      "--------------------------------------------------------------------------------\n",
      "\n",
      "Subgroup Range: (33, 37)\n",
      "Predicted Kann Swar List: [[], ['ga'], [], [], ['ni,'], [], [], [], [], [], [], [], []]\n",
      "Predicted Swar List: [['pa'], ['re'], ['ni,', 're'], ['saa'], ['saa'], ['re'], ['ga'], ['re'], ['saa'], ['pa,'], ['saa'], ['ni,'], ['ni,', 'dha,']]\n",
      "--------------------------------------------------------------------------------\n",
      "\n",
      "Subgroup Range: (39, 43)\n",
      "Predicted Kann Swar List: [['dha'], [], [], [], [], [], ['pa'], [], ['ga'], [], [], []]\n",
      "Predicted Swar List: [['ni'], ['dha,'], ['pa'], ['-'], ['pa'], ['-'], ['ga'], ['pa'], ['re'], ['ni,'], ['re'], ['saa']]\n",
      "--------------------------------------------------------------------------------\n",
      "\n",
      "Subgroup Range: (47, 51)\n",
      "Predicted Kann Swar List: [['ma#'], [], [\"ma#'\"], [], [], [], [], [], [], [], ['ni'], ['ni']]\n",
      "Predicted Swar List: [['pa'], ['ga'], ['pa'], ['dha', 'pa'], [\"saa'\"], [','], [\"saa'\"], [\"saa'\"], ['-'], [\"saa'\"], [\"saa'\"], [\"saa'\"]]\n",
      "--------------------------------------------------------------------------------\n",
      "\n",
      "Subgroup Range: (53, 57)\n",
      "Predicted Kann Swar List: [['ni'], [], [], [], [], [], [], [], [], [\"saa'\"], [], [], ['ma#']]\n",
      "Predicted Swar List: [[\"re'\"], [\"re'\"], [\"saa'\"], ['ni'], ['pa'], ['ni'], ['-'], ['dha'], ['pa'], ['pa'], ['saa', 'pa'], ['-'], ['pa']]\n",
      "--------------------------------------------------------------------------------\n",
      "\n",
      "Subgroup Range: (59, 64)\n",
      "Predicted Kann Swar List: [[], [], ['ni'], [], [], [], [], [], [\"ma#'\"], [], [], ['dha']]\n",
      "Predicted Swar List: [['-'], ['pa'], ['dha'], ['-'], ['ni'], ['dha'], ['pa'], ['-'], ['pa'], ['ni', \"dha'\"], ['-'], [\"saa'\"]]\n",
      "--------------------------------------------------------------------------------\n",
      "\n",
      "Subgroup Range: (66, 70)\n",
      "Predicted Kann Swar List: [[], [], [], [], [], [], [], [], [], [], ['re'], [], []]\n",
      "Predicted Swar List: [['-'], ['ni'], ['pa'], [','], ['saa'], ['pa'], ['-'], ['re'], ['ga'], ['re'], ['ni,'], ['re'], ['saa']]\n",
      "--------------------------------------------------------------------------------\n"
     ]
    }
   ],
   "source": [
    "from save_and_load import load_predictions\n",
    "\n",
    "def print_predictions(predictions):\n",
    "    \"\"\"Prints results with original formatting\"\"\"\n",
    "    for subgroup_range, results in predictions.items():\n",
    "        print(f\"\\nSubgroup Range: {subgroup_range}\")\n",
    "        print(f\"Predicted Kann Swar List: {results['kann_swar']}\")\n",
    "        print(f\"Predicted Swar List: {results['swar']}\") \n",
    "        print(\"-\" * 80)\n",
    "\n",
    "predictions = load_predictions()\n",
    "\n",
    "if predictions:\n",
    "    print_predictions(predictions)"
   ]
  },
  {
   "cell_type": "code",
   "execution_count": 64,
   "metadata": {},
   "outputs": [
    {
     "name": "stdout",
     "output_type": "stream",
     "text": [
      "\n",
      "Taal: Ektaal\n",
      "Total number of beats: 12\n",
      "Sam (X) at beat: 9\n",
      "New Divisions: [2, 2, 2, 2, 2, 2]\n",
      "New Vibhaag: ['2', '0', '3', '4', 'X', '0']\n"
     ]
    }
   ],
   "source": [
    "from identifications import calculate_divisions_and_vibhaag\n",
    "from save_and_load import get_metadata_field, get_taal_field\n",
    "\n",
    "# taal = get_metadata_field(field='taal_name')\n",
    "# sthayee_sam = get_metadata_field(field='sthayee.sam_beat')\n",
    "\n",
    "taal = \"Ektaal\"\n",
    "sthayee_sam_beat = 9\n",
    "\n",
    "# Calculate divisions and vibhaag\n",
    "new_divisions, new_vibhaag = calculate_divisions_and_vibhaag(taal, sthayee_sam_beat)\n",
    "\n",
    "# Define the beat count (size of the lists) from taal information\n",
    "beat_count = get_taal_field(taal, field_name=\"beat_count\")\n",
    "\n",
    "# Print the results\n",
    "print(f\"\\nTaal: {taal}\")\n",
    "print(f\"Total number of beats: {beat_count}\")\n",
    "print(f\"Sam (X) at beat: {sthayee_sam_beat}\")\n",
    "print(f\"New Divisions: {new_divisions}\")\n",
    "print(f\"New Vibhaag: {new_vibhaag}\")"
   ]
  },
  {
   "cell_type": "markdown",
   "metadata": {},
   "source": [
    "#### Under construction!"
   ]
  },
  {
   "cell_type": "code",
   "execution_count": 71,
   "metadata": {},
   "outputs": [],
   "source": [
    "# Function to generate kern code based on user input\n",
    "def generate_kern_code(raag, taal, lay):\n",
    "    \n",
    "    time_signature = get_taal_field(taal_name=taal, field_name='time_signature')\n",
    "    \n",
    "    # Set tempo based on lay\n",
    "    # Tempo mapping\n",
    "    tempo_map = {\n",
    "        \"vilambit\": 60,\n",
    "        \"madhya\": 90,\n",
    "        \"drut\": 150\n",
    "    }\n",
    "\n",
    "    tempo = tempo_map.get(lay.lower(), 60)  # Default to vilambit\n",
    "\n",
    "    # Generate the kern code\n",
    "    return (\n",
    "        f\"!!!raag: {raag}\\n\"\n",
    "        f\"!!!taal: {taal}\\n\"\n",
    "        f\"!!!lay: {lay}\\n\"\n",
    "        f\"**kern\\n\"\n",
    "        f\"*M{time_signature}\\n\"\n",
    "        f\"*MM{tempo}\\n\"\n",
    "        f\"*Isitar\\n\"\n",
    "        f\"*c:\\n\"\n",
    "        f\"!! Sthayee\\n\"\n",
    "    )"
   ]
  },
  {
   "cell_type": "code",
   "execution_count": 72,
   "metadata": {},
   "outputs": [
    {
     "name": "stdout",
     "output_type": "stream",
     "text": [
      "!!!raag: Yaman\n",
      "!!!taal: Ektaal\n",
      "!!!lay: Vilambit\n",
      "**kern\n",
      "*M12/8\n",
      "*MM60\n",
      "*Isitar\n",
      "*c:\n",
      "!! Sthayee\n",
      "\n"
     ]
    }
   ],
   "source": [
    "raag = get_metadata_field(field='raag_name')\n",
    "lay = get_metadata_field(field='lay')\n",
    "\n",
    "kern_code = generate_kern_code(raag, taal, lay)\n",
    "\n",
    "print(kern_code)"
   ]
  },
  {
   "cell_type": "code",
   "execution_count": 2,
   "metadata": {},
   "outputs": [
    {
     "name": "stdout",
     "output_type": "stream",
     "text": [
      "[['pa', 'dha'], ['ma#'], ['pa'], ['saa'], ['ga'], [], [], [], [], [], ['ma#'], [], [], ['ga'], [], [], ['ni,'], [], [], [], [], [], [], [], [], ['dha'], [], [], [], [], [], ['pa'], [], ['ga'], [], [], [], ['ma#'], [], [\"ma#'\"], [], [], [], [], [], [], [], ['ni'], ['ni'], ['ni'], [], [], [], [], [], [], [], [], [\"saa'\"], [], [], ['ma#'], [], [], ['ni'], [], [], [], [], [], [\"ma#'\"], [], [], ['dha'], [], [], [], [], [], [], [], [], [], [], ['re'], [], []]\n",
      "[[\"saa'\", 'ma#,'], ['ga', 'pa,'], ['ga'], ['ga', 'pa'], ['re'], ['ga'], ['ga'], ['ga'], ['ga'], ['re'], ['ga'], ['ma#'], ['pa'], ['re'], ['ni,', 're'], ['saa'], ['saa'], ['re'], ['ga'], ['re'], ['saa'], ['pa,'], ['saa'], ['ni,'], ['ni,', 'dha,'], ['ni'], ['dha,'], ['pa'], ['-'], ['pa'], ['-'], ['ga'], ['pa'], ['re'], ['ni,'], ['re'], ['saa'], ['pa'], ['ga'], ['pa'], ['dha', 'pa'], [\"saa'\"], [','], [\"saa'\"], [\"saa'\"], ['-'], [\"saa'\"], [\"saa'\"], [\"saa'\"], [\"re'\"], [\"re'\"], [\"saa'\"], ['ni'], ['pa'], ['ni'], ['-'], ['dha'], ['pa'], ['pa'], ['saa', 'pa'], ['-'], ['pa'], ['-'], ['pa'], ['dha'], ['-'], ['ni'], ['dha'], ['pa'], ['-'], ['pa'], ['ni', \"dha'\"], ['-'], [\"saa'\"], ['-'], ['ni'], ['pa'], [','], ['saa'], ['pa'], ['-'], ['re'], ['ga'], ['re'], ['ni,'], ['re'], ['saa']]\n"
     ]
    }
   ],
   "source": [
    "from save_and_load import load_predictions\n",
    "\n",
    "def flatten_predictions(predictions):\n",
    "    \"\"\"Flattens all predictions into single lists of swar and kann swar\"\"\"\n",
    "    flat_swar = []\n",
    "    flat_kann = []\n",
    "    \n",
    "    for subgroup_data in predictions.values():\n",
    "        flat_swar.extend(subgroup_data[\"swar\"])\n",
    "        flat_kann.extend(subgroup_data[\"kann_swar\"])\n",
    "    \n",
    "    return flat_swar, flat_kann\n",
    "\n",
    "def print_flattened_predictions(flat_swar, flat_kann):\n",
    "    \"\"\"Prints the flattened lists\"\"\"\n",
    "    # print(\"\\nFlattened Swar List:\")\n",
    "    # for i, swar in enumerate(flat_swar):\n",
    "    #     print(f\"{i}: {swar}\")\n",
    "    \n",
    "    # print(\"\\nFlattened Kann Swar List:\")\n",
    "    # for i, kann in enumerate(flat_kann):\n",
    "    #     print(f\"{i}: {kann}\")\n",
    "\n",
    "    print(flat_kann)\n",
    "    print(flat_swar)\n",
    "\n",
    "# Load and process predictions\n",
    "predictions = load_predictions()\n",
    "\n",
    "if predictions:\n",
    "    flat_swar, flat_kann = flatten_predictions(predictions)\n",
    "    print_flattened_predictions(flat_swar, flat_kann)"
   ]
  },
  {
   "cell_type": "code",
   "execution_count": null,
   "metadata": {},
   "outputs": [
    {
     "name": "stdout",
     "output_type": "stream",
     "text": [
      "cumulative_divisions: [4, 9, 11, 14, 18, 23, 25, 28, 32, 37, 39, 42, 46, 51, 53]\n",
      "==1\n",
      "4ryy\n",
      "4ryy\n",
      "4ryy\n",
      "4ryy\n",
      "=\n",
      "4ryy\n",
      "4ryy\n",
      "4ryy\n",
      "4ryy\n",
      "4ryy\n",
      "=\n",
      "4ryy\n",
      "4ryy\n",
      "=\n",
      "4ryy\n",
      "gq\n",
      "12bS\n",
      "12b\n",
      "aq\n",
      "[12bS\n",
      "2bS]\n",
      "==2\n",
      "4e\n",
      "ccq\n",
      "4b\n",
      "aq\n",
      "4b\n",
      "=\n",
      "2.cc\n",
      "4b\n",
      "aq\n",
      "2.b\n",
      "=\n",
      "=\n",
      "ccq\n",
      "4dd\n",
      "2cc\n",
      "==3\n",
      "ccq\n",
      "4a\n",
      "8a\n",
      "8b-\n",
      "2g\n",
      "=\n",
      "gq\n",
      "4e\n",
      "gq\n",
      "4e\n",
      "8f\n",
      "8d\n",
      "fq\n",
      "4e\n",
      "4f\n",
      "=\n",
      "4g\n",
      "8f\n",
      "8e\n",
      "=\n",
      "4e\n",
      "2dS\n",
      "==4\n",
      "2.c\n",
      "4c\n",
      "=\n",
      "Bq\n",
      "4cc\n",
      "2cc\n",
      "ccq\n",
      "2a\n",
      "=\n",
      "4b-\n",
      "4g\n",
      "=\n"
     ]
    }
   ],
   "source": [
    "def convert_to_kern(flat_kann, flat_swar, divisions, beat_count):\n",
    "    swar_to_kern = {\n",
    "        \"saa\": \"c\", \"re\": \"d\", \"ga\": \"e\", \"ma\": \"f\", \"pa\": \"g\", \"dha\": \"a\", \"ni\": \"b\",\n",
    "        \"re-\": \"d-\", \"ga-\": \"e-\", \"dha-\": \"a-\", \"ni-\": \"b-\", \"ma#\": \"f#\",\n",
    "        \"saa'\": \"cc\", \"re'\": \"dd\", \"ga'\": \"ee\", \"ma'\": \"ff\", \"pa'\": \"gg\", \"dha'\": \"aa\", \"ni'\": \"bb\",\n",
    "        \"re-'\": \"dd-\", \"ga-'\": \"ee-\", \"ma#'\": \"ff#\",\n",
    "        \"ma,\": \"F\", \"ma#,\": \"F#\", \"pa,\": \"G\", \"dha-,\": \"A-\", \"dha,\": \"A\", \"ni-,\": \"B-\", \"ni,\": \"B\",\n",
    "        \",\": \",\", \"-\": \"-\"\n",
    "    }\n",
    "    \n",
    "    kern_output = []\n",
    "    total_beats = len(flat_kann)\n",
    "    cumulative_divisions = []\n",
    "    current_sum = 0\n",
    "    \n",
    "    while current_sum <= total_beats:\n",
    "        for d in divisions:\n",
    "            current_sum += d\n",
    "            if current_sum >= total_beats:\n",
    "                break\n",
    "            cumulative_divisions.append(current_sum)\n",
    "\n",
    "    print(f\"cumulative_divisions: {cumulative_divisions}\")\n",
    "    first_empty_flag = True\n",
    "    \n",
    "    for i in range(total_beats):\n",
    "        # Handle major divisions (beat_count)\n",
    "        if i % beat_count == 0:\n",
    "            kern_output.append(f\"\\n=={i // beat_count + 1}\\n\")\n",
    "        \n",
    "        # Handle subdivisions\n",
    "        if i in cumulative_divisions and i % beat_count != 0:\n",
    "            kern_output.append(\"\\n=\\n\")\n",
    "        \n",
    "        # Process current beat\n",
    "        kann = flat_kann[i]\n",
    "        swar = flat_swar[i]\n",
    "        \n",
    "        # Handle empty lists\n",
    "        if not kann and not swar and first_empty_flag:\n",
    "            kern_output.append(\"4ryy\\n\")\n",
    "            continue\n",
    "\n",
    "        # Do not need to add rests at the last\n",
    "        if not kann and not swar and not first_empty_flag:\n",
    "            # Join and clean up newlines\n",
    "            kern_str = ''.join(kern_output)\n",
    "            kern_str = kern_str.replace('\\n\\n', '\\n')  # Remove duplicate newlines\n",
    "            return kern_str.strip(), kern_output\n",
    "\n",
    "        # set flag to false to handle empty lists at the end of composition\n",
    "        first_empty_flag = False\n",
    "        \n",
    "        # Process non-empty lists\n",
    "        for idx in range(max(len(kann), len(swar))):\n",
    "            # Process kann if exists\n",
    "            if idx < len(kann):\n",
    "                k = kann[idx]\n",
    "                if k != '':\n",
    "                    kern_output.append(f\"{swar_to_kern[k]}q\\n\")\n",
    "            \n",
    "            # Process swar if exists\n",
    "            if idx < len(swar):\n",
    "                s = swar[idx]\n",
    "                if s == '-':\n",
    "                    handle_extension(kern_output)\n",
    "                else:\n",
    "                    # Handle parenthesized elements in swar\n",
    "                    is_parenthesized = s.startswith('(') and s.endswith(')')\n",
    "                    s_clean = s[1:-1] if is_parenthesized else s\n",
    "                    duration = 4 * len(swar)\n",
    "                    kern_code = f\"{duration}{swar_to_kern[s_clean]}\"\n",
    "                    if is_parenthesized:\n",
    "                        kern_code += 'S'\n",
    "                    kern_output.append(f\"{kern_code}\\n\")\n",
    "    \n",
    "    # Join and clean up newlines\n",
    "    kern_str = ''.join(kern_output)\n",
    "    kern_str = kern_str.replace('\\n\\n', '\\n')  # Remove duplicate newlines\n",
    "    return kern_str.strip(), kern_output\n",
    "\n",
    "def handle_extension(kern_output):\n",
    "    \"\"\"Handle extension cases for '-' in swar\"\"\"\n",
    "    if not kern_output:\n",
    "        return\n",
    "    \n",
    "    # Pop division markers if they exist\n",
    "    popped = []\n",
    "    while kern_output and (kern_output[-1].strip().startswith('==') or kern_output[-1].strip() == '='):\n",
    "        popped.append(kern_output.pop())\n",
    "    \n",
    "    if not kern_output:\n",
    "        kern_output.extend(popped)\n",
    "        return\n",
    "    \n",
    "    last = kern_output[-1].strip()\n",
    "    \n",
    "    # Check if the last element has 'S' suffix\n",
    "    has_S_suffix = last.endswith('S')\n",
    "    if has_S_suffix:\n",
    "        last = last[:-1]  # Remove 'S' temporarily\n",
    "    \n",
    "    # Case 3: Ends with ']'\n",
    "    if last.endswith(']'):\n",
    "        kern_code = last[:-1]\n",
    "        kern_output[-1] = kern_code\n",
    "        modified = modify_kern_code(kern_code)\n",
    "        if isinstance(modified, tuple):\n",
    "            kern_output[-1] = modified[0] + ('S' if has_S_suffix else '') + '\\n'\n",
    "            kern_output.append(modified[1] + ('S' if has_S_suffix else '') + '\\n')\n",
    "        else:\n",
    "            kern_output[-1] = modified + ('S' if has_S_suffix else '') + ']\\n'\n",
    "    \n",
    "    # Case 4,5,6: Regular kern codes\n",
    "    else:\n",
    "        modified = modify_kern_code(last)\n",
    "        if isinstance(modified, tuple):\n",
    "            kern_output[-1] = modified[0] + ('S' if has_S_suffix else '') + '\\n'\n",
    "            kern_output.append(modified[1] + ('S' if has_S_suffix else '') + '\\n')\n",
    "        else:\n",
    "            kern_output[-1] = modified + ('S' if has_S_suffix else '') + '\\n'\n",
    "    \n",
    "    # Push back any popped division markers\n",
    "    kern_output.extend(reversed(popped))\n",
    "\n",
    "def modify_kern_code(kern_code):\n",
    "    \"\"\"Modify kern code according to extension rules\"\"\"\n",
    "    # Split into number and code parts\n",
    "    num_part = ''\n",
    "    code_part = kern_code\n",
    "    for i, c in enumerate(kern_code):\n",
    "        if c.isdigit():\n",
    "            num_part += c\n",
    "        else:\n",
    "            code_part = kern_code[i:]\n",
    "            break\n",
    "    \n",
    "    if not num_part:\n",
    "        return '2' + code_part\n",
    "    \n",
    "    num = int(num_part)\n",
    "    \n",
    "    if num == 4:\n",
    "        return '2' + code_part\n",
    "    elif num < 4:\n",
    "        return f'{num}.' + code_part\n",
    "    else:  # num > 4\n",
    "        return (f'[{num}{code_part}', f'4{code_part}]')\n",
    "\n",
    "\n",
    "# Example usage:\n",
    "divisions = [4, 5, 2, 3]\n",
    "beat_count = 14\n",
    "flat_kann = [[], [], [], [], [], [], [], [], [], [], [], [], ['pa', '', 'dha'], [], [], [], [\"saa'\"], ['dha'], [], [], [], [], ['dha'], [], [], [\"saa'\"], [], [], [\"saa'\"], [], [], [], ['pa'], ['pa'], [], ['ma'], [], [], [], [], [], [], [], [], [], [], ['ni,'], [], [], [\"saa'\"], [], [], [], [], [], []]\n",
    "flat_swar = [[], [], [], [], [], [], [], [], [], [], [], [], ['(ni)', 'ni', '(ni)'], ['-'], ['-'], ['ga'], ['ni'], ['ni'], [\"saa'\"], ['-'], ['-'], ['ni'], ['ni'], [\"-\"], ['-'], [\"re'\"], [\"saa'\"], ['-'], ['dha'], ['dha', 'ni-'], ['pa'], ['-'], ['ga'], ['ga'], ['ma', 're'], ['ga'], ['ma'], ['pa'], ['ma', 'ga'], ['ga'], ['(re)'], ['-'], ['saa'], ['-'], ['-'], ['saa'], [\"saa'\"], [\"saa'\"], ['-'], ['dha'], ['-'], ['ni-'], ['pa'], [], [], []]\n",
    "\n",
    "kern_output, kp = convert_to_kern(flat_kann, flat_swar, divisions, beat_count)\n",
    "print(kern_output)"
   ]
  },
  {
   "cell_type": "code",
   "execution_count": 74,
   "metadata": {},
   "outputs": [
    {
     "name": "stdout",
     "output_type": "stream",
     "text": [
      "['\\n==1\\n', '4ryy\\n', '4ryy\\n', '4ryy\\n', '4ryy\\n', '\\n=\\n', '4ryy\\n', '4ryy\\n', '4ryy\\n', '4ryy\\n', '4ryy\\n', '\\n=\\n', '4ryy\\n', '4ryy\\n', '\\n=\\n', '4ryy\\n', 'gq\\n', '12bS\\n', '12b\\n', 'aq\\n', '[12bS\\n', '2bS]\\n', '\\n==2\\n', '4e\\n', 'ccq\\n', '4b\\n', 'aq\\n', '4b\\n', '\\n=\\n', '2.cc\\n', '4b\\n', 'aq\\n', '2.b\\n', '\\n=\\n', '\\n=\\n', 'ccq\\n', '4dd\\n', '2cc\\n', '\\n==3\\n', 'ccq\\n', '4a\\n', '8a\\n', '8b-\\n', '2g\\n', '\\n=\\n', 'gq\\n', '4e\\n', 'gq\\n', '4e\\n', '8f\\n', '8d\\n', 'fq\\n', '4e\\n', '4f\\n', '\\n=\\n', '4g\\n', '8f\\n', '8e\\n', '\\n=\\n', '4e\\n', '2dS\\n', '\\n==4\\n', '2.c\\n', '4c\\n', '\\n=\\n', 'Bq\\n', '4cc\\n', '2cc\\n', 'ccq\\n', '2a\\n', '\\n=\\n', '4b-\\n', '4g\\n', '\\n=\\n']\n"
     ]
    }
   ],
   "source": [
    "print(kp)"
   ]
  },
  {
   "cell_type": "code",
   "execution_count": 78,
   "metadata": {},
   "outputs": [
    {
     "name": "stdout",
     "output_type": "stream",
     "text": [
      "4ryy\n",
      "gq\n",
      "12bS\n",
      "12b\n",
      "aq\n",
      "[12bS\n",
      "2bS]\n",
      "=\n",
      "4e\n",
      "ccq\n",
      "4b\n",
      "aq\n",
      "4b\n",
      "=\n"
     ]
    }
   ],
   "source": [
    "def generate_sthayee_to_antara(kern_output, sthayee_vibhaag, antara_vibhaag):\n",
    "    # count number of divisions passed in last beat cycle, next taali will be at this count index\n",
    "    count_division = 0\n",
    "\n",
    "    for i in reversed(range(len(kern_output))):\n",
    "        if kern_output[i].startswith('\\n=='):\n",
    "            break\n",
    "        elif kern_output[i] == '\\n=\\n':\n",
    "            count_division += 1\n",
    "\n",
    "    # get index of sam in vibhaag\n",
    "    sthayee_sam_index = -1\n",
    "    for i in range(len(sthayee_vibhaag)):\n",
    "        if sthayee_vibhaag[i] == 'X':\n",
    "            sthayee_sam_index = i\n",
    "            break\n",
    "\n",
    "    # get index of sam in antara\n",
    "    antara_sam_index = -1\n",
    "    for i in range(len(antara_vibhaag)):\n",
    "        if antara_vibhaag[i] == 'X':\n",
    "            antara_sam_index = i\n",
    "            break\n",
    "    \n",
    "    i = 0\n",
    "    while ((sthayee_sam_index + i) % len(sthayee_vibhaag)) != count_division:\n",
    "        i += 1\n",
    "\n",
    "    # find next taali index in antara\n",
    "    next_taali_index = ((antara_sam_index + i) % len(sthayee_vibhaag))\n",
    "\n",
    "    # starting from index as per count_division, number of divisions to repeat\n",
    "    count_repeat_division = len(sthayee_vibhaag) - next_taali_index\n",
    "\n",
    "    count = -1\n",
    "    i = 0\n",
    "    while count < count_division:\n",
    "        item = kern_output[i]\n",
    "        if item.startswith('\\n==') or item == ('\\n=\\n'):\n",
    "            count += 1\n",
    "        i += 1\n",
    "\n",
    "    \n",
    "    # transition output starts from index i\n",
    "    sthayee_to_antara_kern = []\n",
    "\n",
    "    count = 0\n",
    "    while count < count_repeat_division:\n",
    "        item = kern_output[i]\n",
    "        if item.startswith('\\n==') or item == ('\\n=\\n'):\n",
    "            count += 1\n",
    "            item = '\\n=\\n'\n",
    "\n",
    "        sthayee_to_antara_kern.append(item)\n",
    "        i += 1\n",
    "\n",
    "    # return sthayee_to_antara_kern\n",
    "\n",
    "    # Join and clean up newlines\n",
    "    kern_str = ''.join(sthayee_to_antara_kern)\n",
    "    kern_str = kern_str.replace('\\n\\n', '\\n')  # Remove duplicate newlines\n",
    "    return kern_str.strip(), sthayee_to_antara_kern\n",
    "\n",
    "\n",
    "# sthayee_vibhaag = [\"3\", \"X\", \"2\", \"0\"]\n",
    "# antara_vibhaag = [\"X\", \"2\", \"0\", \"3\"]\n",
    "\n",
    "sthayee_vibhaag = ['3', '4', 'X', '0', '2', '0']\n",
    "antara_vibhaag = ['0', '3', '4', 'X', '0', '2']\n",
    "\n",
    "sthayee_to_antara_kern, sthayee_antara_kern_output = generate_sthayee_to_antara(kp, sthayee_vibhaag, antara_vibhaag)\n",
    "\n",
    "print(sthayee_to_antara_kern)"
   ]
  }
 ],
 "metadata": {
  "kernelspec": {
   "display_name": "Python 3",
   "language": "python",
   "name": "python3"
  },
  "language_info": {
   "codemirror_mode": {
    "name": "ipython",
    "version": 3
   },
   "file_extension": ".py",
   "mimetype": "text/x-python",
   "name": "python",
   "nbconvert_exporter": "python",
   "pygments_lexer": "ipython3",
   "version": "3.12.3"
  }
 },
 "nbformat": 4,
 "nbformat_minor": 2
}
